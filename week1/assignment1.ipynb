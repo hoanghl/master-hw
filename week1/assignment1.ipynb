{
 "cells": [
  {
   "cell_type": "code",
   "execution_count": 1,
   "metadata": {},
   "outputs": [
    {
     "name": "stdout",
     "output_type": "stream",
     "text": [
      "/Users/macos/Uni/1st_year/period_2/RecSys/hw\n"
     ]
    }
   ],
   "source": [
    "%cd ../"
   ]
  },
  {
   "cell_type": "code",
   "execution_count": 2,
   "metadata": {},
   "outputs": [],
   "source": [
    "import random\n",
    "\n",
    "import matplotlib.pyplot as plt\n",
    "import numpy as np\n",
    "import pandas as pd\n",
    "import scipy\n",
    "import seaborn as sns\n",
    "from sklearn.metrics import ndcg_score"
   ]
  },
  {
   "cell_type": "code",
   "execution_count": 3,
   "metadata": {},
   "outputs": [],
   "source": [
    "plt.style.use('seaborn-v0_8')\n",
    "plt.rcParams.update({'font.size': 8})"
   ]
  },
  {
   "cell_type": "markdown",
   "metadata": {},
   "source": [
    "## Task 1: Data exploration"
   ]
  },
  {
   "cell_type": "code",
   "execution_count": 4,
   "metadata": {},
   "outputs": [],
   "source": [
    "path_rating = \"week1/dataset/ratings.csv\""
   ]
  },
  {
   "cell_type": "code",
   "execution_count": 5,
   "metadata": {},
   "outputs": [
    {
     "data": {
      "text/html": [
       "<div>\n",
       "<style scoped>\n",
       "    .dataframe tbody tr th:only-of-type {\n",
       "        vertical-align: middle;\n",
       "    }\n",
       "\n",
       "    .dataframe tbody tr th {\n",
       "        vertical-align: top;\n",
       "    }\n",
       "\n",
       "    .dataframe thead th {\n",
       "        text-align: right;\n",
       "    }\n",
       "</style>\n",
       "<table border=\"1\" class=\"dataframe\">\n",
       "  <thead>\n",
       "    <tr style=\"text-align: right;\">\n",
       "      <th></th>\n",
       "      <th>item_id</th>\n",
       "      <th>user_id</th>\n",
       "      <th>rating</th>\n",
       "    </tr>\n",
       "  </thead>\n",
       "  <tbody>\n",
       "    <tr>\n",
       "      <th>0</th>\n",
       "      <td>47</td>\n",
       "      <td>453034</td>\n",
       "      <td>3.0</td>\n",
       "    </tr>\n",
       "    <tr>\n",
       "      <th>1</th>\n",
       "      <td>110</td>\n",
       "      <td>453034</td>\n",
       "      <td>5.0</td>\n",
       "    </tr>\n",
       "    <tr>\n",
       "      <th>2</th>\n",
       "      <td>161</td>\n",
       "      <td>453034</td>\n",
       "      <td>4.0</td>\n",
       "    </tr>\n",
       "    <tr>\n",
       "      <th>3</th>\n",
       "      <td>260</td>\n",
       "      <td>453034</td>\n",
       "      <td>5.0</td>\n",
       "    </tr>\n",
       "    <tr>\n",
       "      <th>4</th>\n",
       "      <td>266</td>\n",
       "      <td>453034</td>\n",
       "      <td>4.0</td>\n",
       "    </tr>\n",
       "  </tbody>\n",
       "</table>\n",
       "</div>"
      ],
      "text/plain": [
       "   item_id  user_id  rating\n",
       "0       47   453034     3.0\n",
       "1      110   453034     5.0\n",
       "2      161   453034     4.0\n",
       "3      260   453034     5.0\n",
       "4      266   453034     4.0"
      ]
     },
     "execution_count": 5,
     "metadata": {},
     "output_type": "execute_result"
    }
   ],
   "source": [
    "df_rating = pd.read_csv(path_rating)\n",
    "\n",
    "df_rating.head()"
   ]
  },
  {
   "cell_type": "code",
   "execution_count": 21,
   "metadata": {},
   "outputs": [
    {
     "name": "stdout",
     "output_type": "stream",
     "text": [
      "No. ratings: 92687\n",
      "No. unique users: 449\n",
      "No. unique items: 9146\n",
      "Ave no. ratings per user: 206.430\n",
      "Ave no. ratings per item: 10.134\n"
     ]
    }
   ],
   "source": [
    "print(f\"No. ratings: {len(df_rating)}\")\n",
    "print(f\"No. unique users: {len(df_rating['user_id'].unique())}\")\n",
    "print(f\"No. unique items: {len(df_rating['item_id'].unique())}\")\n",
    "print(f\"Ave no. ratings per user: {df_rating.groupby('user_id')['rating'].count().mean():.3f}\")\n",
    "print(f\"Ave no. ratings per item: {df_rating.groupby('item_id')['rating'].count().mean():.3f}\")"
   ]
  },
  {
   "cell_type": "code",
   "execution_count": 19,
   "metadata": {},
   "outputs": [
    {
     "name": "stderr",
     "output_type": "stream",
     "text": [
      "/Users/macos/miniforge3/envs/introds/lib/python3.9/site-packages/seaborn/_oldcore.py:1498: FutureWarning: is_categorical_dtype is deprecated and will be removed in a future version. Use isinstance(dtype, CategoricalDtype) instead\n",
      "  if pd.api.types.is_categorical_dtype(vector):\n",
      "/Users/macos/miniforge3/envs/introds/lib/python3.9/site-packages/seaborn/_oldcore.py:1119: FutureWarning: use_inf_as_na option is deprecated and will be removed in a future version. Convert inf values to NaN before operating instead.\n",
      "  with pd.option_context('mode.use_inf_as_na', True):\n",
      "/Users/macos/miniforge3/envs/introds/lib/python3.9/site-packages/seaborn/_oldcore.py:1498: FutureWarning: is_categorical_dtype is deprecated and will be removed in a future version. Use isinstance(dtype, CategoricalDtype) instead\n",
      "  if pd.api.types.is_categorical_dtype(vector):\n",
      "/Users/macos/miniforge3/envs/introds/lib/python3.9/site-packages/seaborn/_oldcore.py:1119: FutureWarning: use_inf_as_na option is deprecated and will be removed in a future version. Convert inf values to NaN before operating instead.\n",
      "  with pd.option_context('mode.use_inf_as_na', True):\n",
      "/Users/macos/miniforge3/envs/introds/lib/python3.9/site-packages/seaborn/_oldcore.py:1498: FutureWarning: is_categorical_dtype is deprecated and will be removed in a future version. Use isinstance(dtype, CategoricalDtype) instead\n",
      "  if pd.api.types.is_categorical_dtype(vector):\n",
      "/Users/macos/miniforge3/envs/introds/lib/python3.9/site-packages/seaborn/_oldcore.py:1119: FutureWarning: use_inf_as_na option is deprecated and will be removed in a future version. Convert inf values to NaN before operating instead.\n",
      "  with pd.option_context('mode.use_inf_as_na', True):\n"
     ]
    },
    {
     "data": {
      "text/plain": [
       "Text(0, 0.5, 'Rating values')"
      ]
     },
     "execution_count": 19,
     "metadata": {},
     "output_type": "execute_result"
    },
    {
     "data": {
      "image/png": "[encoded data removed]",
      "text/plain": [
       "<Figure size 1000x800 with 3 Axes>"
      ]
     },
     "metadata": {},
     "output_type": "display_data"
    }
   ],
   "source": [
    "fig = plt.figure(figsize=(10, 8))\n",
    "fig.subplots_adjust(hspace=0.4)\n",
    "\n",
    "ax = fig.add_subplot(311)\n",
    "sns.histplot(df_rating.groupby('user_id').count()['rating'], ax=ax)\n",
    "ax.set_xlabel(\"No. ratings\")\n",
    "ax.set_ylabel(\"No. users\")\n",
    "\n",
    "ax = fig.add_subplot(312)\n",
    "sns.histplot(df_rating.groupby('item_id').count()['rating'], ax=ax)\n",
    "ax.set_xlabel(\"No. ratings\")\n",
    "ax.set_ylabel(\"No. items\")\n",
    "\n",
    "ax = fig.add_subplot(313)\n",
    "sns.histplot(df_rating.groupby('rating').count()['user_id'], bins=8)\n",
    "ax.set_xlabel(\"No. ratings\")\n",
    "ax.set_ylabel(\"Rating values\")"
   ]
  },
  {
   "cell_type": "markdown",
   "metadata": {},
   "source": [
    "## Task 2"
   ]
  },
  {
   "cell_type": "markdown",
   "metadata": {},
   "source": [
    "### Split train-test (80 - 20)"
   ]
  },
  {
   "cell_type": "code",
   "execution_count": 8,
   "metadata": {},
   "outputs": [],
   "source": [
    "trains, tests = [], []\n",
    "\n",
    "for user_id in df_rating['user_id'].unique():\n",
    "    df_uid = df_rating[df_rating['user_id'] == user_id]\n",
    "\n",
    "    msk = np.random.rand(len(df_uid)) < 0.8\n",
    "\n",
    "    df_train_, df_test_ = df_uid[msk], df_uid[~msk]\n",
    "\n",
    "    trains.append(df_train_)\n",
    "    tests.append(df_test_)\n"
   ]
  },
  {
   "cell_type": "code",
   "execution_count": 9,
   "metadata": {},
   "outputs": [],
   "source": [
    "df_train, df_test = pd.concat(trains), pd.concat(tests)"
   ]
  },
  {
   "cell_type": "markdown",
   "metadata": {},
   "source": [
    "### Form scores for random"
   ]
  },
  {
   "cell_type": "code",
   "execution_count": 10,
   "metadata": {},
   "outputs": [],
   "source": [
    "indices = df_train['item_id'].unique()\n",
    "np.random.shuffle(indices)\n",
    "\n",
    "scores_random = pd.Series(\n",
    "    np.arange(1, len(indices) + 1),\n",
    "    index=indices\n",
    ")"
   ]
  },
  {
   "cell_type": "markdown",
   "metadata": {},
   "source": [
    "### Form scores for popularity"
   ]
  },
  {
   "cell_type": "code",
   "execution_count": 11,
   "metadata": {},
   "outputs": [],
   "source": [
    "scores_popularity = df_train.groupby('item_id').count()['rating']"
   ]
  },
  {
   "cell_type": "code",
   "execution_count": 12,
   "metadata": {},
   "outputs": [],
   "source": [
    "def get_score_random(list_item_ids: list) -> list:\n",
    "    scores = [scores_random[i] if i in scores_random.index else 0 for i in list_item_ids]\n",
    "\n",
    "    return scores\n",
    "\n",
    "def get_score_popularity(list_item_ids: list) -> list:\n",
    "    scores = [scores_popularity[i] if i in scores_popularity.index else 0 for i in list_item_ids]\n",
    "\n",
    "    return scores\n"
   ]
  },
  {
   "cell_type": "markdown",
   "metadata": {},
   "source": [
    "## Task 3"
   ]
  },
  {
   "cell_type": "code",
   "execution_count": 13,
   "metadata": {},
   "outputs": [],
   "source": [
    "item_ids_total = set(df_rating['item_id'].unique())\n",
    "\n",
    "def get_uniform_negative_sample(user_id: int, n_samples: int = 100):\n",
    "    item_ids_rated = set(df_rating[df_rating['user_id'] == user_id]['item_id'].unique())\n",
    "    non_rated = item_ids_total.difference(item_ids_rated)\n",
    "\n",
    "    neg_samples = np.random.choice(list(non_rated), min(n_samples, len(non_rated)), replace=False)\n",
    "\n",
    "    return neg_samples"
   ]
  },
  {
   "cell_type": "code",
   "execution_count": 14,
   "metadata": {},
   "outputs": [],
   "source": [
    "def dcg_at_k(r, k):\n",
    "    r = np.asfarray(r)[:k]\n",
    "    if r.size:\n",
    "        return np.sum(r / np.log2(np.arange(1, r.size + 1) + 1))\n",
    "    return 0.\n",
    "def ndcg_at_k(r, k):\n",
    "    dcg_max = dcg_at_k(sorted(r, reverse=True), k)\n",
    "    if not dcg_max:\n",
    "        return 0.\n",
    "    return dcg_at_k(r, k) / dcg_max"
   ]
  },
  {
   "cell_type": "code",
   "execution_count": 15,
   "metadata": {},
   "outputs": [
    {
     "name": "stdout",
     "output_type": "stream",
     "text": [
      "Mean: NDCG@5 of Random    : 0.2009\n",
      "Mean: NDCG@5 of Popularity: 0.7535\n"
     ]
    }
   ],
   "source": [
    "K = 5\n",
    "N_NEG_SAMPELS = 100\n",
    "\n",
    "ndcg_random, ndcg_popularity = [], []\n",
    "\n",
    "for user_id in df_test['user_id'].unique():\n",
    "    # Get rows in test set\n",
    "    df_test_user = df_test[df_test['user_id'] == user_id].drop(columns=['user_id'])\n",
    "\n",
    "    items = df_test_user['item_id']\n",
    "    items_neg = get_uniform_negative_sample(user_id, n_samples=N_NEG_SAMPELS)\n",
    "    df_items_neg = pd.DataFrame({'item_id': items_neg, 'rating': np.zeros_like(items_neg)})\n",
    "\n",
    "    df_test_user = pd.concat([df_test_user, df_items_neg])\n",
    "\n",
    "    df_test_user['scores_random'] = get_score_random(df_test_user['item_id'])\n",
    "    df_test_user['scores_popularity'] = get_score_popularity(df_test_user['item_id'])\n",
    "\n",
    "    ndcg_random_user= ndcg_at_k(df_test_user.sort_values('scores_random', ascending=False)['rating'], K)\n",
    "    ndcg_popularity_user = ndcg_at_k(df_test_user.sort_values('scores_popularity', ascending=False)['rating'], K)\n",
    "    \n",
    "    ndcg_random.append(ndcg_random_user)\n",
    "    ndcg_popularity.append(ndcg_popularity_user)\n",
    "\n",
    "print(f\"Mean: NDCG@{K} of Random    : {np.mean(ndcg_random).item():.4f}\")\n",
    "print(f\"Mean: NDCG@{K} of Popularity: {np.mean(ndcg_popularity).item():.4f}\")"
   ]
  },
  {
   "cell_type": "markdown",
   "metadata": {},
   "source": [
    "## Task 4"
   ]
  },
  {
   "cell_type": "code",
   "execution_count": 16,
   "metadata": {},
   "outputs": [
    {
     "data": {
      "text/html": [
       "<div>\n",
       "<style scoped>\n",
       "    .dataframe tbody tr th:only-of-type {\n",
       "        vertical-align: middle;\n",
       "    }\n",
       "\n",
       "    .dataframe tbody tr th {\n",
       "        vertical-align: top;\n",
       "    }\n",
       "\n",
       "    .dataframe thead th {\n",
       "        text-align: right;\n",
       "    }\n",
       "</style>\n",
       "<table border=\"1\" class=\"dataframe\">\n",
       "  <thead>\n",
       "    <tr style=\"text-align: right;\">\n",
       "      <th></th>\n",
       "      <th>title</th>\n",
       "      <th>directedBy</th>\n",
       "      <th>starring</th>\n",
       "      <th>imdbId</th>\n",
       "      <th>item_id</th>\n",
       "    </tr>\n",
       "  </thead>\n",
       "  <tbody>\n",
       "    <tr>\n",
       "      <th>0</th>\n",
       "      <td>Jumanji (1995)</td>\n",
       "      <td>Joe Johnston</td>\n",
       "      <td>Jonathan Hyde, Bradley Pierce, Robin Williams,...</td>\n",
       "      <td>113497</td>\n",
       "      <td>2</td>\n",
       "    </tr>\n",
       "    <tr>\n",
       "      <th>1</th>\n",
       "      <td>Grumpier Old Men (1995)</td>\n",
       "      <td>Howard Deutch</td>\n",
       "      <td>Jack Lemmon, Walter Matthau, Ann-Margret , Sop...</td>\n",
       "      <td>113228</td>\n",
       "      <td>3</td>\n",
       "    </tr>\n",
       "    <tr>\n",
       "      <th>2</th>\n",
       "      <td>Waiting to Exhale (1995)</td>\n",
       "      <td>Forest Whitaker</td>\n",
       "      <td>Angela Bassett, Loretta Devine, Whitney Housto...</td>\n",
       "      <td>114885</td>\n",
       "      <td>4</td>\n",
       "    </tr>\n",
       "    <tr>\n",
       "      <th>3</th>\n",
       "      <td>Sabrina (1995)</td>\n",
       "      <td>Sydney Pollack</td>\n",
       "      <td>Harrison Ford, Greg Kinnear, Nancy Marchand, J...</td>\n",
       "      <td>114319</td>\n",
       "      <td>7</td>\n",
       "    </tr>\n",
       "    <tr>\n",
       "      <th>4</th>\n",
       "      <td>Sudden Death (1995)</td>\n",
       "      <td>Peter Hyams</td>\n",
       "      <td>Raymond J. Barry, Powers Boothe, Jean-Claude V...</td>\n",
       "      <td>114576</td>\n",
       "      <td>9</td>\n",
       "    </tr>\n",
       "  </tbody>\n",
       "</table>\n",
       "</div>"
      ],
      "text/plain": [
       "                      title       directedBy  \\\n",
       "0            Jumanji (1995)     Joe Johnston   \n",
       "1   Grumpier Old Men (1995)    Howard Deutch   \n",
       "2  Waiting to Exhale (1995)  Forest Whitaker   \n",
       "3            Sabrina (1995)   Sydney Pollack   \n",
       "4       Sudden Death (1995)      Peter Hyams   \n",
       "\n",
       "                                            starring  imdbId  item_id  \n",
       "0  Jonathan Hyde, Bradley Pierce, Robin Williams,...  113497        2  \n",
       "1  Jack Lemmon, Walter Matthau, Ann-Margret , Sop...  113228        3  \n",
       "2  Angela Bassett, Loretta Devine, Whitney Housto...  114885        4  \n",
       "3  Harrison Ford, Greg Kinnear, Nancy Marchand, J...  114319        7  \n",
       "4  Raymond J. Barry, Powers Boothe, Jean-Claude V...  114576        9  "
      ]
     },
     "execution_count": 16,
     "metadata": {},
     "output_type": "execute_result"
    }
   ],
   "source": [
    "path_meta = \"week1/dataset/metadata.csv\"\n",
    "\n",
    "df_meta = pd.read_csv(path_meta)\n",
    "\n",
    "df_meta.head()"
   ]
  },
  {
   "cell_type": "code",
   "execution_count": 17,
   "metadata": {},
   "outputs": [],
   "source": [
    "top10_items = scores_popularity.sort_values(ascending=False)[:10].index"
   ]
  },
  {
   "cell_type": "code",
   "execution_count": 18,
   "metadata": {},
   "outputs": [
    {
     "data": {
      "text/html": [
       "<div>\n",
       "<style scoped>\n",
       "    .dataframe tbody tr th:only-of-type {\n",
       "        vertical-align: middle;\n",
       "    }\n",
       "\n",
       "    .dataframe tbody tr th {\n",
       "        vertical-align: top;\n",
       "    }\n",
       "\n",
       "    .dataframe thead th {\n",
       "        text-align: right;\n",
       "    }\n",
       "</style>\n",
       "<table border=\"1\" class=\"dataframe\">\n",
       "  <thead>\n",
       "    <tr style=\"text-align: right;\">\n",
       "      <th></th>\n",
       "      <th>title</th>\n",
       "      <th>directedBy</th>\n",
       "      <th>starring</th>\n",
       "      <th>imdbId</th>\n",
       "      <th>item_id</th>\n",
       "    </tr>\n",
       "  </thead>\n",
       "  <tbody>\n",
       "    <tr>\n",
       "      <th>98</th>\n",
       "      <td>Star Wars: Episode IV - A New Hope (1977)</td>\n",
       "      <td>George Lucas</td>\n",
       "      <td>Mark Hamill, Harrison Ford, Carrie Fisher, Pet...</td>\n",
       "      <td>76759</td>\n",
       "      <td>260</td>\n",
       "    </tr>\n",
       "    <tr>\n",
       "      <th>113</th>\n",
       "      <td>Pulp Fiction (1994)</td>\n",
       "      <td>Quentin Tarantino</td>\n",
       "      <td>John Travolta, Samuel L. Jackson, Tim Roth, Am...</td>\n",
       "      <td>110912</td>\n",
       "      <td>296</td>\n",
       "    </tr>\n",
       "    <tr>\n",
       "      <th>121</th>\n",
       "      <td>Shawshank Redemption, The (1994)</td>\n",
       "      <td>Frank Darabont</td>\n",
       "      <td>Tim Robbins, Morgan Freeman, Bob Gunton, Willi...</td>\n",
       "      <td>111161</td>\n",
       "      <td>318</td>\n",
       "    </tr>\n",
       "    <tr>\n",
       "      <th>137</th>\n",
       "      <td>Forrest Gump (1994)</td>\n",
       "      <td>Robert Zemeckis</td>\n",
       "      <td>Tom Hanks, Gary Sinise, Mykelti Williamson, Ro...</td>\n",
       "      <td>109830</td>\n",
       "      <td>356</td>\n",
       "    </tr>\n",
       "    <tr>\n",
       "      <th>213</th>\n",
       "      <td>Blade Runner (1982)</td>\n",
       "      <td>Ridley Scott</td>\n",
       "      <td>Harrison Ford, Rutger Hauer, Sean Young, Edwar...</td>\n",
       "      <td>83658</td>\n",
       "      <td>541</td>\n",
       "    </tr>\n",
       "    <tr>\n",
       "      <th>229</th>\n",
       "      <td>Silence of the Lambs, The (1991)</td>\n",
       "      <td>Jonathan Demme</td>\n",
       "      <td>Jodie Foster, Anthony Hopkins, Scott Glenn, An...</td>\n",
       "      <td>102926</td>\n",
       "      <td>593</td>\n",
       "    </tr>\n",
       "    <tr>\n",
       "      <th>402</th>\n",
       "      <td>Star Wars: Episode V - The Empire Strikes Back...</td>\n",
       "      <td>Irvin Kershner</td>\n",
       "      <td>Mark Hamill, Harrison Ford, Carrie Fisher, Bil...</td>\n",
       "      <td>80684</td>\n",
       "      <td>1196</td>\n",
       "    </tr>\n",
       "    <tr>\n",
       "      <th>404</th>\n",
       "      <td>Raiders of the Lost Ark (Indiana Jones and the...</td>\n",
       "      <td>Steven Spielberg</td>\n",
       "      <td>Harrison Ford, Karen Allen, Paul Freeman, John...</td>\n",
       "      <td>82971</td>\n",
       "      <td>1198</td>\n",
       "    </tr>\n",
       "    <tr>\n",
       "      <th>2192</th>\n",
       "      <td>Lord of the Rings: The Return of the King, The...</td>\n",
       "      <td>Peter Jackson</td>\n",
       "      <td>Sean Astin, Ian McKellen, Viggo Mortensen, Eli...</td>\n",
       "      <td>167260</td>\n",
       "      <td>7153</td>\n",
       "    </tr>\n",
       "    <tr>\n",
       "      <th>3537</th>\n",
       "      <td>Dark Knight, The (2008)</td>\n",
       "      <td>Christopher Nolan</td>\n",
       "      <td>Christian Bale, Aaron Eckhart, Heath Ledger, M...</td>\n",
       "      <td>468569</td>\n",
       "      <td>58559</td>\n",
       "    </tr>\n",
       "  </tbody>\n",
       "</table>\n",
       "</div>"
      ],
      "text/plain": [
       "                                                  title         directedBy  \\\n",
       "98            Star Wars: Episode IV - A New Hope (1977)       George Lucas   \n",
       "113                                 Pulp Fiction (1994)  Quentin Tarantino   \n",
       "121                    Shawshank Redemption, The (1994)     Frank Darabont   \n",
       "137                                 Forrest Gump (1994)    Robert Zemeckis   \n",
       "213                                 Blade Runner (1982)       Ridley Scott   \n",
       "229                    Silence of the Lambs, The (1991)     Jonathan Demme   \n",
       "402   Star Wars: Episode V - The Empire Strikes Back...     Irvin Kershner   \n",
       "404   Raiders of the Lost Ark (Indiana Jones and the...   Steven Spielberg   \n",
       "2192  Lord of the Rings: The Return of the King, The...      Peter Jackson   \n",
       "3537                            Dark Knight, The (2008)  Christopher Nolan   \n",
       "\n",
       "                                               starring  imdbId  item_id  \n",
       "98    Mark Hamill, Harrison Ford, Carrie Fisher, Pet...   76759      260  \n",
       "113   John Travolta, Samuel L. Jackson, Tim Roth, Am...  110912      296  \n",
       "121   Tim Robbins, Morgan Freeman, Bob Gunton, Willi...  111161      318  \n",
       "137   Tom Hanks, Gary Sinise, Mykelti Williamson, Ro...  109830      356  \n",
       "213   Harrison Ford, Rutger Hauer, Sean Young, Edwar...   83658      541  \n",
       "229   Jodie Foster, Anthony Hopkins, Scott Glenn, An...  102926      593  \n",
       "402   Mark Hamill, Harrison Ford, Carrie Fisher, Bil...   80684     1196  \n",
       "404   Harrison Ford, Karen Allen, Paul Freeman, John...   82971     1198  \n",
       "2192  Sean Astin, Ian McKellen, Viggo Mortensen, Eli...  167260     7153  \n",
       "3537  Christian Bale, Aaron Eckhart, Heath Ledger, M...  468569    58559  "
      ]
     },
     "execution_count": 18,
     "metadata": {},
     "output_type": "execute_result"
    }
   ],
   "source": [
    "df_meta[df_meta['item_id'].isin(top10_items)]"
   ]
  }
 ],
 "metadata": {
  "kernelspec": {
   "display_name": "introds",
   "language": "python",
   "name": "python3"
  },
  "language_info": {
   "codemirror_mode": {
    "name": "ipython",
    "version": 3
   },
   "file_extension": ".py",
   "mimetype": "text/x-python",
   "name": "python",
   "nbconvert_exporter": "python",
   "pygments_lexer": "ipython3",
   "version": "3.9.18"
  }
 },
 "nbformat": 4,
 "nbformat_minor": 2
}
