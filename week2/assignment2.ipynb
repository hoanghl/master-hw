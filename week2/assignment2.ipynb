{
 "cells": [
  {
   "cell_type": "code",
   "execution_count": 1,
   "metadata": {},
   "outputs": [
    {
     "name": "stdout",
     "output_type": "stream",
     "text": [
      "/Users/macos/Uni/1st_year/period_2/RecSys/hw\n"
     ]
    }
   ],
   "source": [
    "%cd ../"
   ]
  },
  {
   "cell_type": "code",
   "execution_count": 2,
   "metadata": {},
   "outputs": [],
   "source": [
    "from typing import Literal\n",
    "from itertools import product\n",
    "\n",
    "import matplotlib.pyplot as plt\n",
    "import numpy as np\n",
    "import pandas as pd\n",
    "import scipy\n",
    "import seaborn as sns\n",
    "from tqdm.notebook import tqdm\n",
    "from sklearn.metrics import mean_squared_error"
   ]
  },
  {
   "cell_type": "code",
   "execution_count": 3,
   "metadata": {},
   "outputs": [],
   "source": [
    "plt.style.use('seaborn-v0_8')\n",
    "plt.rcParams.update({'font.size': 8})"
   ]
  },
  {
   "cell_type": "markdown",
   "metadata": {},
   "source": [
    "## Task 0: Load data"
   ]
  },
  {
   "cell_type": "code",
   "execution_count": 4,
   "metadata": {},
   "outputs": [],
   "source": [
    "path_train = \"week2/data_split/train.csv\"\n",
    "path_test = \"week2/data_split/test.csv\"\n",
    "path_val = \"week2/data_split/validation.csv\""
   ]
  },
  {
   "cell_type": "code",
   "execution_count": 5,
   "metadata": {},
   "outputs": [],
   "source": [
    "df_train = pd.read_csv(path_train)\n",
    "df_val = pd.read_csv(path_val)\n",
    "df_test = pd.read_csv(path_test)"
   ]
  },
  {
   "cell_type": "code",
   "execution_count": 6,
   "metadata": {},
   "outputs": [],
   "source": [
    "df_all = pd.concat([df_train, df_val, df_test])"
   ]
  },
  {
   "cell_type": "code",
   "execution_count": 7,
   "metadata": {},
   "outputs": [
    {
     "data": {
      "text/html": [
       "<div>\n",
       "<style scoped>\n",
       "    .dataframe tbody tr th:only-of-type {\n",
       "        vertical-align: middle;\n",
       "    }\n",
       "\n",
       "    .dataframe tbody tr th {\n",
       "        vertical-align: top;\n",
       "    }\n",
       "\n",
       "    .dataframe thead th {\n",
       "        text-align: right;\n",
       "    }\n",
       "</style>\n",
       "<table border=\"1\" class=\"dataframe\">\n",
       "  <thead>\n",
       "    <tr style=\"text-align: right;\">\n",
       "      <th></th>\n",
       "      <th>item_id</th>\n",
       "      <th>user_id</th>\n",
       "      <th>rating</th>\n",
       "    </tr>\n",
       "  </thead>\n",
       "  <tbody>\n",
       "    <tr>\n",
       "      <th>0</th>\n",
       "      <td>2804</td>\n",
       "      <td>655</td>\n",
       "      <td>4.5</td>\n",
       "    </tr>\n",
       "    <tr>\n",
       "      <th>1</th>\n",
       "      <td>5957</td>\n",
       "      <td>655</td>\n",
       "      <td>3.0</td>\n",
       "    </tr>\n",
       "    <tr>\n",
       "      <th>2</th>\n",
       "      <td>1213</td>\n",
       "      <td>655</td>\n",
       "      <td>4.5</td>\n",
       "    </tr>\n",
       "    <tr>\n",
       "      <th>3</th>\n",
       "      <td>134130</td>\n",
       "      <td>655</td>\n",
       "      <td>4.0</td>\n",
       "    </tr>\n",
       "    <tr>\n",
       "      <th>4</th>\n",
       "      <td>5065</td>\n",
       "      <td>655</td>\n",
       "      <td>3.0</td>\n",
       "    </tr>\n",
       "  </tbody>\n",
       "</table>\n",
       "</div>"
      ],
      "text/plain": [
       "   item_id  user_id  rating\n",
       "0     2804      655     4.5\n",
       "1     5957      655     3.0\n",
       "2     1213      655     4.5\n",
       "3   134130      655     4.0\n",
       "4     5065      655     3.0"
      ]
     },
     "execution_count": 7,
     "metadata": {},
     "output_type": "execute_result"
    }
   ],
   "source": [
    "df_all.head()"
   ]
  },
  {
   "cell_type": "code",
   "execution_count": 8,
   "metadata": {},
   "outputs": [
    {
     "data": {
      "text/plain": [
       "0.022570505586922758"
      ]
     },
     "execution_count": 8,
     "metadata": {},
     "output_type": "execute_result"
    }
   ],
   "source": [
    "len(df_all) / (len(df_all['item_id'].unique()) * len(df_all['user_id'].unique()))"
   ]
  },
  {
   "cell_type": "code",
   "execution_count": 9,
   "metadata": {},
   "outputs": [
    {
     "data": {
      "text/html": [
       "<div>\n",
       "<style scoped>\n",
       "    .dataframe tbody tr th:only-of-type {\n",
       "        vertical-align: middle;\n",
       "    }\n",
       "\n",
       "    .dataframe tbody tr th {\n",
       "        vertical-align: top;\n",
       "    }\n",
       "\n",
       "    .dataframe thead th {\n",
       "        text-align: right;\n",
       "    }\n",
       "</style>\n",
       "<table border=\"1\" class=\"dataframe\">\n",
       "  <thead>\n",
       "    <tr style=\"text-align: right;\">\n",
       "      <th>item_id</th>\n",
       "      <th>2</th>\n",
       "      <th>3</th>\n",
       "      <th>4</th>\n",
       "      <th>7</th>\n",
       "      <th>9</th>\n",
       "      <th>11</th>\n",
       "      <th>18</th>\n",
       "      <th>21</th>\n",
       "      <th>22</th>\n",
       "      <th>25</th>\n",
       "      <th>...</th>\n",
       "      <th>232017</th>\n",
       "      <th>233171</th>\n",
       "      <th>233579</th>\n",
       "      <th>233619</th>\n",
       "      <th>233907</th>\n",
       "      <th>233967</th>\n",
       "      <th>234567</th>\n",
       "      <th>234691</th>\n",
       "      <th>235105</th>\n",
       "      <th>235509</th>\n",
       "    </tr>\n",
       "    <tr>\n",
       "      <th>user_id</th>\n",
       "      <th></th>\n",
       "      <th></th>\n",
       "      <th></th>\n",
       "      <th></th>\n",
       "      <th></th>\n",
       "      <th></th>\n",
       "      <th></th>\n",
       "      <th></th>\n",
       "      <th></th>\n",
       "      <th></th>\n",
       "      <th></th>\n",
       "      <th></th>\n",
       "      <th></th>\n",
       "      <th></th>\n",
       "      <th></th>\n",
       "      <th></th>\n",
       "      <th></th>\n",
       "      <th></th>\n",
       "      <th></th>\n",
       "      <th></th>\n",
       "      <th></th>\n",
       "    </tr>\n",
       "  </thead>\n",
       "  <tbody>\n",
       "    <tr>\n",
       "      <th>655</th>\n",
       "      <td>1.000000e-09</td>\n",
       "      <td>1.000000e-09</td>\n",
       "      <td>1.000000e-09</td>\n",
       "      <td>1.000000e-09</td>\n",
       "      <td>1.000000e-09</td>\n",
       "      <td>1.000000e-09</td>\n",
       "      <td>1.000000e-09</td>\n",
       "      <td>1.000000e-09</td>\n",
       "      <td>1.000000e-09</td>\n",
       "      <td>1.000000e-09</td>\n",
       "      <td>...</td>\n",
       "      <td>1.000000e-09</td>\n",
       "      <td>1.000000e-09</td>\n",
       "      <td>1.000000e-09</td>\n",
       "      <td>1.000000e-09</td>\n",
       "      <td>1.000000e-09</td>\n",
       "      <td>1.000000e-09</td>\n",
       "      <td>1.000000e-09</td>\n",
       "      <td>1.000000e-09</td>\n",
       "      <td>1.000000e-09</td>\n",
       "      <td>1.000000e-09</td>\n",
       "    </tr>\n",
       "    <tr>\n",
       "      <th>2448</th>\n",
       "      <td>1.000000e-09</td>\n",
       "      <td>1.000000e-09</td>\n",
       "      <td>1.000000e-09</td>\n",
       "      <td>1.000000e-09</td>\n",
       "      <td>1.000000e-09</td>\n",
       "      <td>1.000000e-09</td>\n",
       "      <td>1.000000e-09</td>\n",
       "      <td>1.000000e-09</td>\n",
       "      <td>1.000000e-09</td>\n",
       "      <td>1.000000e-09</td>\n",
       "      <td>...</td>\n",
       "      <td>1.000000e-09</td>\n",
       "      <td>1.000000e-09</td>\n",
       "      <td>1.000000e-09</td>\n",
       "      <td>1.000000e-09</td>\n",
       "      <td>1.000000e-09</td>\n",
       "      <td>1.000000e-09</td>\n",
       "      <td>1.000000e-09</td>\n",
       "      <td>1.000000e-09</td>\n",
       "      <td>1.000000e-09</td>\n",
       "      <td>1.000000e-09</td>\n",
       "    </tr>\n",
       "    <tr>\n",
       "      <th>3426</th>\n",
       "      <td>1.000000e-09</td>\n",
       "      <td>1.000000e-09</td>\n",
       "      <td>1.000000e-09</td>\n",
       "      <td>1.000000e-09</td>\n",
       "      <td>1.000000e-09</td>\n",
       "      <td>1.000000e-09</td>\n",
       "      <td>1.000000e-09</td>\n",
       "      <td>1.000000e-09</td>\n",
       "      <td>1.000000e-09</td>\n",
       "      <td>1.000000e-09</td>\n",
       "      <td>...</td>\n",
       "      <td>1.000000e-09</td>\n",
       "      <td>1.000000e-09</td>\n",
       "      <td>1.000000e-09</td>\n",
       "      <td>1.000000e-09</td>\n",
       "      <td>1.000000e-09</td>\n",
       "      <td>1.000000e-09</td>\n",
       "      <td>1.000000e-09</td>\n",
       "      <td>1.000000e-09</td>\n",
       "      <td>1.000000e-09</td>\n",
       "      <td>1.000000e-09</td>\n",
       "    </tr>\n",
       "    <tr>\n",
       "      <th>15440</th>\n",
       "      <td>1.000000e-09</td>\n",
       "      <td>1.000000e-09</td>\n",
       "      <td>1.000000e-09</td>\n",
       "      <td>1.000000e-09</td>\n",
       "      <td>1.000000e-09</td>\n",
       "      <td>1.000000e-09</td>\n",
       "      <td>1.000000e-09</td>\n",
       "      <td>1.000000e-09</td>\n",
       "      <td>1.000000e-09</td>\n",
       "      <td>1.000000e-09</td>\n",
       "      <td>...</td>\n",
       "      <td>1.000000e-09</td>\n",
       "      <td>1.000000e-09</td>\n",
       "      <td>1.000000e-09</td>\n",
       "      <td>1.000000e-09</td>\n",
       "      <td>1.000000e-09</td>\n",
       "      <td>1.000000e-09</td>\n",
       "      <td>1.000000e-09</td>\n",
       "      <td>1.000000e-09</td>\n",
       "      <td>1.000000e-09</td>\n",
       "      <td>1.000000e-09</td>\n",
       "    </tr>\n",
       "    <tr>\n",
       "      <th>16095</th>\n",
       "      <td>1.000000e-09</td>\n",
       "      <td>1.000000e-09</td>\n",
       "      <td>1.000000e-09</td>\n",
       "      <td>1.000000e-09</td>\n",
       "      <td>1.000000e-09</td>\n",
       "      <td>1.000000e-09</td>\n",
       "      <td>1.000000e-09</td>\n",
       "      <td>1.000000e-09</td>\n",
       "      <td>1.000000e-09</td>\n",
       "      <td>1.000000e-09</td>\n",
       "      <td>...</td>\n",
       "      <td>1.000000e-09</td>\n",
       "      <td>1.000000e-09</td>\n",
       "      <td>1.000000e-09</td>\n",
       "      <td>1.000000e-09</td>\n",
       "      <td>1.000000e-09</td>\n",
       "      <td>1.000000e-09</td>\n",
       "      <td>1.000000e-09</td>\n",
       "      <td>1.000000e-09</td>\n",
       "      <td>1.000000e-09</td>\n",
       "      <td>1.000000e-09</td>\n",
       "    </tr>\n",
       "  </tbody>\n",
       "</table>\n",
       "<p>5 rows × 7240 columns</p>\n",
       "</div>"
      ],
      "text/plain": [
       "item_id        2             3             4             7             9       \\\n",
       "user_id                                                                         \n",
       "655      1.000000e-09  1.000000e-09  1.000000e-09  1.000000e-09  1.000000e-09   \n",
       "2448     1.000000e-09  1.000000e-09  1.000000e-09  1.000000e-09  1.000000e-09   \n",
       "3426     1.000000e-09  1.000000e-09  1.000000e-09  1.000000e-09  1.000000e-09   \n",
       "15440    1.000000e-09  1.000000e-09  1.000000e-09  1.000000e-09  1.000000e-09   \n",
       "16095    1.000000e-09  1.000000e-09  1.000000e-09  1.000000e-09  1.000000e-09   \n",
       "\n",
       "item_id        11            18            21            22            25      \\\n",
       "user_id                                                                         \n",
       "655      1.000000e-09  1.000000e-09  1.000000e-09  1.000000e-09  1.000000e-09   \n",
       "2448     1.000000e-09  1.000000e-09  1.000000e-09  1.000000e-09  1.000000e-09   \n",
       "3426     1.000000e-09  1.000000e-09  1.000000e-09  1.000000e-09  1.000000e-09   \n",
       "15440    1.000000e-09  1.000000e-09  1.000000e-09  1.000000e-09  1.000000e-09   \n",
       "16095    1.000000e-09  1.000000e-09  1.000000e-09  1.000000e-09  1.000000e-09   \n",
       "\n",
       "item_id  ...        232017        233171        233579        233619  \\\n",
       "user_id  ...                                                           \n",
       "655      ...  1.000000e-09  1.000000e-09  1.000000e-09  1.000000e-09   \n",
       "2448     ...  1.000000e-09  1.000000e-09  1.000000e-09  1.000000e-09   \n",
       "3426     ...  1.000000e-09  1.000000e-09  1.000000e-09  1.000000e-09   \n",
       "15440    ...  1.000000e-09  1.000000e-09  1.000000e-09  1.000000e-09   \n",
       "16095    ...  1.000000e-09  1.000000e-09  1.000000e-09  1.000000e-09   \n",
       "\n",
       "item_id        233907        233967        234567        234691        235105  \\\n",
       "user_id                                                                         \n",
       "655      1.000000e-09  1.000000e-09  1.000000e-09  1.000000e-09  1.000000e-09   \n",
       "2448     1.000000e-09  1.000000e-09  1.000000e-09  1.000000e-09  1.000000e-09   \n",
       "3426     1.000000e-09  1.000000e-09  1.000000e-09  1.000000e-09  1.000000e-09   \n",
       "15440    1.000000e-09  1.000000e-09  1.000000e-09  1.000000e-09  1.000000e-09   \n",
       "16095    1.000000e-09  1.000000e-09  1.000000e-09  1.000000e-09  1.000000e-09   \n",
       "\n",
       "item_id        235509  \n",
       "user_id                \n",
       "655      1.000000e-09  \n",
       "2448     1.000000e-09  \n",
       "3426     1.000000e-09  \n",
       "15440    1.000000e-09  \n",
       "16095    1.000000e-09  \n",
       "\n",
       "[5 rows x 7240 columns]"
      ]
     },
     "execution_count": 9,
     "metadata": {},
     "output_type": "execute_result"
    }
   ],
   "source": [
    "EPS = 1e-9\n",
    "\n",
    "rating_matrix_train = df_train.pivot(index='user_id', columns='item_id', values='rating').fillna(EPS)\n",
    "rating_matrix_val = df_test.pivot(index='user_id', columns='item_id', values='rating').fillna(EPS)\n",
    "rating_matrix_test = df_test.pivot(index='user_id', columns='item_id', values='rating').fillna(EPS)\n",
    "\n",
    "df_trainval = pd.concat([df_train, df_val])\n",
    "rating_matrix_trainval = df_trainval.pivot(index='user_id', columns='item_id', values='rating').fillna(EPS)\n",
    "\n",
    "rating_matrix_train.head()"
   ]
  },
  {
   "cell_type": "code",
   "execution_count": 42,
   "metadata": {},
   "outputs": [],
   "source": [
    "def _get_rating_sim(rating: pd.DataFrame):\n",
    "    rating = rating.subtract(rating.mean(axis=1), axis=0)\n",
    "    rating = rating.dropna(axis=1)\n",
    "\n",
    "    return rating\n",
    "\n",
    "rating_matrix_train_sim = _get_rating_sim(rating_matrix_train)\n",
    "rating_matrix_trainval_sim = _get_rating_sim(rating_matrix_trainval)"
   ]
  },
  {
   "cell_type": "markdown",
   "metadata": {},
   "source": [
    "## Task 1: Implement KNN, Random and Popularity"
   ]
  },
  {
   "cell_type": "code",
   "execution_count": null,
   "metadata": {},
   "outputs": [],
   "source": [
    "indices = df_train['item_id'].unique()\n",
    "np.random.shuffle(indices)\n",
    "\n",
    "scores_random = pd.Series(\n",
    "    np.arange(1, len(indices) + 1),\n",
    "    index=indices\n",
    ")\n",
    "\n",
    "scores_popularity = df_train.groupby('item_id').count()['rating']"
   ]
  },
  {
   "cell_type": "code",
   "execution_count": null,
   "metadata": {},
   "outputs": [],
   "source": [
    "def get_score_random(list_item_ids: list) -> list:\n",
    "    scores = [scores_random[i] if i in scores_random.index else 0 for i in list_item_ids]\n",
    "\n",
    "    return scores\n",
    "\n",
    "def get_score_popularity(list_item_ids: list) -> list:\n",
    "    scores = [scores_popularity[i] if i in scores_popularity.index else 0 for i in list_item_ids]\n",
    "\n",
    "    return scores\n"
   ]
  },
  {
   "cell_type": "code",
   "execution_count": 55,
   "metadata": {},
   "outputs": [],
   "source": [
    "def _assert(u: np.ndarray, v: np.ndarray):\n",
    "    assert len(u.shape) == 2, f\"Shape of 'u' must be 2, got {len(u.shape)}\"\n",
    "    assert len(v.shape) == 2, f\"Shape of 'v' must be 2, got {len(v.shape)}\"\n",
    "\n",
    "def _sim_cosine(user_id: np.ndarray, other_user_ids: np.ndarray, df_sim: pd.DataFrame) -> np.ndarray:\n",
    "    vec_user, vec_other_users = df_sim.loc[user_id].to_numpy()[None, :], df_sim.loc[other_user_ids].to_numpy()\n",
    "\n",
    "    vec_user = np.clip(vec_user / np.linalg.norm(vec_user, axis=-1), a_min=EPS, a_max=None)\n",
    "    vec_users = np.clip(vec_other_users / np.linalg.norm(vec_other_users, axis=-1)[:, None], a_min=EPS, a_max=None)\n",
    "    cosine = vec_user @ vec_users.T\n",
    "\n",
    "    return np.squeeze(cosine)\n",
    "\n",
    "def _sim_euclide(user_id: np.ndarray, other_user_ids: np.ndarray, df_sim: pd.DataFrame) -> np.ndarray:\n",
    "    vec_user, vec_other_users = df_sim.loc[user_id].to_numpy()[None, :], df_sim.loc[other_user_ids].to_numpy()\n",
    "\n",
    "    dist = np.sqrt(np.square(vec_user - vec_other_users).sum(axis=-1))\n",
    "\n",
    "    return np.squeeze(dist)\n",
    "\n",
    "def _sim_pearson(user_id: np.ndarray, other_user_ids: np.ndarray, df_sim: pd.DataFrame) -> np.ndarray:\n",
    "    vec_user, vec_other_users = df_sim.loc[user_id].to_numpy()[None, :], df_sim.loc[other_user_ids].to_numpy()\n",
    "\n",
    "    corr = np.corrcoef(vec_user, vec_other_users)[0, 1:]\n",
    "\n",
    "    return np.squeeze(corr)\n",
    "\n",
    "def get_score_knn(\n",
    "    user_id: int,\n",
    "    list_item_ids: pd.Series,\n",
    "    k: int = 10,\n",
    "    sim_method: Literal[\"cosine\", \"euclide\", \"pearson\"] = \"cosine\",\n",
    "    is_testing: bool = False\n",
    ") -> list:\n",
    "\n",
    "    if is_testing is True:\n",
    "        rating_matrix = rating_matrix_trainval\n",
    "        df = df_trainval\n",
    "        rating_sim = rating_matrix_trainval_sim\n",
    "    else:\n",
    "        rating_matrix = rating_matrix_train\n",
    "        df = df_train\n",
    "        rating_sim = rating_matrix_train_sim\n",
    "\n",
    "    predicted_rates = []\n",
    "\n",
    "    for movie in list_item_ids:\n",
    "        # Get users who rated 'movie'\n",
    "        valid_users = df[df['item_id'] == movie]['user_id']\n",
    "        if len(valid_users) == 0:\n",
    "            predicted_rates.append(0)\n",
    "            continue\n",
    "\n",
    "        # Calculate sim\n",
    "        if sim_method == \"cosine\":\n",
    "            sim = _sim_cosine(user_id, valid_users, rating_matrix_trainval_sim)\n",
    "        elif sim_method == \"euclide\":\n",
    "            sim = _sim_euclide(user_id, valid_users, rating_matrix_trainval_sim)\n",
    "        elif sim_method == \"pearson\":\n",
    "            sim = _sim_pearson(user_id, valid_users, rating_matrix_trainval_sim)\n",
    "        else:\n",
    "            raise NotImplementedError()\n",
    "        if sim.shape == ():\n",
    "            sim = np.array([sim])\n",
    "        \n",
    "        # Get top-k\n",
    "        k = min(len(sim), k)\n",
    "        topk = sim.argpartition(-k)[-k:]\n",
    "\n",
    "        vec_user = rating_matrix.loc[user_id].to_numpy()\n",
    "\n",
    "        idx_sim_users = valid_users.iloc[topk]\n",
    "        vec_sim_users = rating_matrix.loc[idx_sim_users]\n",
    "        cosine_sim_users = sim[topk]\n",
    "\n",
    "        # Predict rate\n",
    "        numerator = (\n",
    "            (vec_sim_users[movie] - vec_sim_users.mean(axis=1))\n",
    "            * cosine_sim_users\n",
    "        ).sum()\n",
    "        denominator = cosine_sim_users.sum()\n",
    "        pred_rate = np.nanmean(vec_user) + numerator / denominator\n",
    "\n",
    "        predicted_rates.append(pred_rate)\n",
    "\n",
    "    return predicted_rates"
   ]
  },
  {
   "cell_type": "markdown",
   "metadata": {},
   "source": [
    "## Task 2: Finetune"
   ]
  },
  {
   "cell_type": "code",
   "execution_count": 56,
   "metadata": {},
   "outputs": [],
   "source": [
    "item_ids_total = set(df_all['item_id'].unique())\n",
    "\n",
    "def get_uniform_negative_sample(user_id: int, n_samples: int = 100):\n",
    "    item_ids_rated = set(df_all[df_all['user_id'] == user_id]['item_id'].unique())\n",
    "    non_rated = item_ids_total.difference(item_ids_rated)\n",
    "\n",
    "    neg_samples = np.random.choice(list(non_rated), min(n_samples, len(non_rated)), replace=False)\n",
    "\n",
    "    return neg_samples"
   ]
  },
  {
   "cell_type": "code",
   "execution_count": 51,
   "metadata": {},
   "outputs": [],
   "source": [
    "def dcg_at_k(r, k):\n",
    "    r = np.asfarray(r)[:k]\n",
    "    if r.size:\n",
    "        return np.sum(r / np.log2(np.arange(1, r.size + 1) + 1))\n",
    "    return 0.\n",
    "def ndcg_at_k(r, k):\n",
    "    dcg_max = dcg_at_k(sorted(r, reverse=True), k)\n",
    "    if not dcg_max:\n",
    "        return 0.\n",
    "    return dcg_at_k(r, k) / dcg_max"
   ]
  },
  {
   "cell_type": "code",
   "execution_count": 52,
   "metadata": {},
   "outputs": [],
   "source": [
    "K = 5\n",
    "N_NEG_SAMPELS = 100"
   ]
  },
  {
   "cell_type": "code",
   "execution_count": 57,
   "metadata": {},
   "outputs": [
    {
     "data": {
      "application/vnd.jupyter.widget-view+json": {
       "model_id": "43b8688c040a40c6a6f88a86efea6d0a",
       "version_major": 2,
       "version_minor": 0
      },
      "text/plain": [
       "1-cosine:   0%|          | 0/447 [00:00<?, ?it/s]"
      ]
     },
     "metadata": {},
     "output_type": "display_data"
    },
    {
     "name": "stdout",
     "output_type": "stream",
     "text": [
      "Mean: NDCG@5 of KNN 1-cosine : 0.5014\n"
     ]
    },
    {
     "data": {
      "application/vnd.jupyter.widget-view+json": {
       "model_id": "218293ec1e45489fa9f37b1745add50e",
       "version_major": 2,
       "version_minor": 0
      },
      "text/plain": [
       "1-pearson:   0%|          | 0/447 [00:00<?, ?it/s]"
      ]
     },
     "metadata": {},
     "output_type": "display_data"
    },
    {
     "name": "stdout",
     "output_type": "stream",
     "text": [
      "Mean: NDCG@5 of KNN 1-pearson : 0.5098\n"
     ]
    },
    {
     "data": {
      "application/vnd.jupyter.widget-view+json": {
       "model_id": "565cc450cfba4008a945e99e14f2bde3",
       "version_major": 2,
       "version_minor": 0
      },
      "text/plain": [
       "1-euclide:   0%|          | 0/447 [00:00<?, ?it/s]"
      ]
     },
     "metadata": {},
     "output_type": "display_data"
    },
    {
     "name": "stdout",
     "output_type": "stream",
     "text": [
      "Mean: NDCG@5 of KNN 1-euclide : 0.1753\n"
     ]
    },
    {
     "data": {
      "application/vnd.jupyter.widget-view+json": {
       "model_id": "f7a040c6883f4215a707d986e6e5a439",
       "version_major": 2,
       "version_minor": 0
      },
      "text/plain": [
       "2-cosine:   0%|          | 0/447 [00:00<?, ?it/s]"
      ]
     },
     "metadata": {},
     "output_type": "display_data"
    },
    {
     "name": "stdout",
     "output_type": "stream",
     "text": [
      "Mean: NDCG@5 of KNN 2-cosine : 0.3262\n"
     ]
    },
    {
     "data": {
      "application/vnd.jupyter.widget-view+json": {
       "model_id": "2e2acf0807db4bf1b9d18bfe13c5ee24",
       "version_major": 2,
       "version_minor": 0
      },
      "text/plain": [
       "2-pearson:   0%|          | 0/447 [00:00<?, ?it/s]"
      ]
     },
     "metadata": {},
     "output_type": "display_data"
    },
    {
     "name": "stdout",
     "output_type": "stream",
     "text": [
      "Mean: NDCG@5 of KNN 2-pearson : 0.3194\n"
     ]
    },
    {
     "data": {
      "application/vnd.jupyter.widget-view+json": {
       "model_id": "4f281b0ca07c47e682daa6cbaad17603",
       "version_major": 2,
       "version_minor": 0
      },
      "text/plain": [
       "2-euclide:   0%|          | 0/447 [00:00<?, ?it/s]"
      ]
     },
     "metadata": {},
     "output_type": "display_data"
    },
    {
     "name": "stdout",
     "output_type": "stream",
     "text": [
      "Mean: NDCG@5 of KNN 2-euclide : 0.1070\n"
     ]
    },
    {
     "data": {
      "application/vnd.jupyter.widget-view+json": {
       "model_id": "0a96ffa6e0934fafa29787657df356c4",
       "version_major": 2,
       "version_minor": 0
      },
      "text/plain": [
       "3-cosine:   0%|          | 0/447 [00:00<?, ?it/s]"
      ]
     },
     "metadata": {},
     "output_type": "display_data"
    },
    {
     "name": "stdout",
     "output_type": "stream",
     "text": [
      "Mean: NDCG@5 of KNN 3-cosine : 0.2664\n"
     ]
    },
    {
     "data": {
      "application/vnd.jupyter.widget-view+json": {
       "model_id": "661c9530895e48958f42e67b47dd6874",
       "version_major": 2,
       "version_minor": 0
      },
      "text/plain": [
       "3-pearson:   0%|          | 0/447 [00:00<?, ?it/s]"
      ]
     },
     "metadata": {},
     "output_type": "display_data"
    },
    {
     "name": "stdout",
     "output_type": "stream",
     "text": [
      "Mean: NDCG@5 of KNN 3-pearson : 0.2635\n"
     ]
    },
    {
     "data": {
      "application/vnd.jupyter.widget-view+json": {
       "model_id": "bf260f6860804e58a64807d67e04e7a0",
       "version_major": 2,
       "version_minor": 0
      },
      "text/plain": [
       "3-euclide:   0%|          | 0/447 [00:00<?, ?it/s]"
      ]
     },
     "metadata": {},
     "output_type": "display_data"
    },
    {
     "name": "stdout",
     "output_type": "stream",
     "text": [
      "Mean: NDCG@5 of KNN 3-euclide : 0.0950\n"
     ]
    },
    {
     "data": {
      "application/vnd.jupyter.widget-view+json": {
       "model_id": "5200797bdd124b999aabeca96d7ef3a7",
       "version_major": 2,
       "version_minor": 0
      },
      "text/plain": [
       "5-cosine:   0%|          | 0/447 [00:00<?, ?it/s]"
      ]
     },
     "metadata": {},
     "output_type": "display_data"
    },
    {
     "name": "stdout",
     "output_type": "stream",
     "text": [
      "Mean: NDCG@5 of KNN 5-cosine : 0.2344\n"
     ]
    },
    {
     "data": {
      "application/vnd.jupyter.widget-view+json": {
       "model_id": "1dad33597b1e48aea19e65f491837e42",
       "version_major": 2,
       "version_minor": 0
      },
      "text/plain": [
       "5-pearson:   0%|          | 0/447 [00:00<?, ?it/s]"
      ]
     },
     "metadata": {},
     "output_type": "display_data"
    },
    {
     "name": "stdout",
     "output_type": "stream",
     "text": [
      "Mean: NDCG@5 of KNN 5-pearson : 0.2258\n"
     ]
    },
    {
     "data": {
      "application/vnd.jupyter.widget-view+json": {
       "model_id": "490de723e26c4a888fd010e038c02d2a",
       "version_major": 2,
       "version_minor": 0
      },
      "text/plain": [
       "5-euclide:   0%|          | 0/447 [00:00<?, ?it/s]"
      ]
     },
     "metadata": {},
     "output_type": "display_data"
    },
    {
     "name": "stdout",
     "output_type": "stream",
     "text": [
      "Mean: NDCG@5 of KNN 5-euclide : 0.0891\n"
     ]
    },
    {
     "data": {
      "application/vnd.jupyter.widget-view+json": {
       "model_id": "0e8ec03ab10640d38a0ad1b643d5aa20",
       "version_major": 2,
       "version_minor": 0
      },
      "text/plain": [
       "10-cosine:   0%|          | 0/447 [00:00<?, ?it/s]"
      ]
     },
     "metadata": {},
     "output_type": "display_data"
    },
    {
     "name": "stdout",
     "output_type": "stream",
     "text": [
      "Mean: NDCG@5 of KNN 10-cosine : 0.2101\n"
     ]
    },
    {
     "data": {
      "application/vnd.jupyter.widget-view+json": {
       "model_id": "c05419b670f34a0abb8d1ed886cb9c05",
       "version_major": 2,
       "version_minor": 0
      },
      "text/plain": [
       "10-pearson:   0%|          | 0/447 [00:00<?, ?it/s]"
      ]
     },
     "metadata": {},
     "output_type": "display_data"
    },
    {
     "name": "stdout",
     "output_type": "stream",
     "text": [
      "Mean: NDCG@5 of KNN 10-pearson : 0.1993\n"
     ]
    },
    {
     "data": {
      "application/vnd.jupyter.widget-view+json": {
       "model_id": "5790d5ed2189455c935991683ba463fe",
       "version_major": 2,
       "version_minor": 0
      },
      "text/plain": [
       "10-euclide:   0%|          | 0/447 [00:00<?, ?it/s]"
      ]
     },
     "metadata": {},
     "output_type": "display_data"
    },
    {
     "name": "stdout",
     "output_type": "stream",
     "text": [
      "Mean: NDCG@5 of KNN 10-euclide : 0.0887\n"
     ]
    },
    {
     "data": {
      "application/vnd.jupyter.widget-view+json": {
       "model_id": "c93948e03db846a7bb269ea5a4adbc41",
       "version_major": 2,
       "version_minor": 0
      },
      "text/plain": [
       "20-cosine:   0%|          | 0/447 [00:00<?, ?it/s]"
      ]
     },
     "metadata": {},
     "output_type": "display_data"
    },
    {
     "name": "stdout",
     "output_type": "stream",
     "text": [
      "Mean: NDCG@5 of KNN 20-cosine : 0.1894\n"
     ]
    },
    {
     "data": {
      "application/vnd.jupyter.widget-view+json": {
       "model_id": "615d35ca1a024ab39e7dccc923653086",
       "version_major": 2,
       "version_minor": 0
      },
      "text/plain": [
       "20-pearson:   0%|          | 0/447 [00:00<?, ?it/s]"
      ]
     },
     "metadata": {},
     "output_type": "display_data"
    },
    {
     "name": "stdout",
     "output_type": "stream",
     "text": [
      "Mean: NDCG@5 of KNN 20-pearson : 0.1821\n"
     ]
    },
    {
     "data": {
      "application/vnd.jupyter.widget-view+json": {
       "model_id": "1ecc3a0e68fd4613ad462f99784f3b30",
       "version_major": 2,
       "version_minor": 0
      },
      "text/plain": [
       "20-euclide:   0%|          | 0/447 [00:00<?, ?it/s]"
      ]
     },
     "metadata": {},
     "output_type": "display_data"
    },
    {
     "name": "stdout",
     "output_type": "stream",
     "text": [
      "Mean: NDCG@5 of KNN 20-euclide : 0.0878\n"
     ]
    }
   ],
   "source": [
    "list_topk = [1, 2, 3, 5, 10, 20]\n",
    "list_methods = [\"cosine\", \"pearson\", \"euclide\"]\n",
    "\n",
    "\n",
    "for topk, method in product(list_topk, list_methods):\n",
    "    ndcg_knn = []\n",
    "    for user_id in tqdm(df_val['user_id'].unique(), desc=f\"{topk}-{method}\"):\n",
    "        # Get rows in val set\n",
    "        df_val_user = df_val[df_val['user_id'] == user_id].drop(columns=['user_id'])\n",
    "\n",
    "        items = df_val_user['item_id']\n",
    "        items_neg = get_uniform_negative_sample(user_id, n_samples=N_NEG_SAMPELS)\n",
    "        df_items_neg = pd.DataFrame({'item_id': items_neg, 'rating': np.zeros_like(items_neg)})\n",
    "\n",
    "        df_val_user = pd.concat([df_val_user, df_items_neg])\n",
    "\n",
    "        df_val_user['scores_knn'] = get_score_knn(user_id, df_val_user['item_id'], k=topk, sim_method=method)\n",
    "\n",
    "        ndcg_random_knn = ndcg_at_k(df_val_user.sort_values('scores_knn', ascending=False)['rating'], K)\n",
    "\n",
    "        ndcg_knn.append(ndcg_random_knn)\n",
    "        \n",
    "\n",
    "    print(f\"Mean: NDCG@{K} of KNN {topk}-{method} : {np.mean(ndcg_knn).item():.4f}\")"
   ]
  },
  {
   "cell_type": "markdown",
   "metadata": {},
   "source": [
    "## Task 3: Evaluation"
   ]
  },
  {
   "cell_type": "code",
   "execution_count": 86,
   "metadata": {},
   "outputs": [
    {
     "data": {
      "application/vnd.jupyter.widget-view+json": {
       "model_id": "55371536545841d58f6f8c3d5a07441b",
       "version_major": 2,
       "version_minor": 0
      },
      "text/plain": [
       "1-pearson:   0%|          | 0/446 [00:00<?, ?it/s]"
      ]
     },
     "metadata": {},
     "output_type": "display_data"
    },
    {
     "name": "stdout",
     "output_type": "stream",
     "text": [
      "Mean: NDCG@5 of Random              : 0.1653\n",
      "Mean: NDCG@5 of Popularity          : 0.7438\n",
      "Mean: NDCG@5 of KNN 1-pearson : 0.4855\n"
     ]
    }
   ],
   "source": [
    "method = \"pearson\"\n",
    "topk = 1\n",
    "\n",
    "ndcg_random, ndcg_popularity, ndcg_knn = [], [], []\n",
    "\n",
    "for user_id in tqdm(df_test['user_id'].unique(), desc=f\"{topk}-{method}\"):\n",
    "    # Get rows in test set\n",
    "    df_test_user = df_test[df_test['user_id'] == user_id].drop(columns=['user_id'])\n",
    "\n",
    "    items = df_test_user['item_id']\n",
    "    items_neg = get_uniform_negative_sample(user_id, n_samples=N_NEG_SAMPELS)\n",
    "    df_items_neg = pd.DataFrame({'item_id': items_neg, 'rating': np.zeros_like(items_neg)})\n",
    "\n",
    "    df_test_user = pd.concat([df_test_user, df_items_neg])\n",
    "\n",
    "    df_test_user['scores_knn'] = get_score_knn(\n",
    "        user_id,\n",
    "        df_test_user['item_id'],\n",
    "        k=topk,\n",
    "        sim_method=method,\n",
    "        is_testing=True\n",
    "    )\n",
    "    df_test_user['scores_random'] = get_score_random(df_test_user['item_id'])\n",
    "    df_test_user['scores_popularity'] = get_score_popularity(df_test_user['item_id'])\n",
    "\n",
    "    ndcg_random_knn = ndcg_at_k(df_test_user.sort_values('scores_knn', ascending=False)['rating'], K)\n",
    "    ndcg_random_user= ndcg_at_k(df_test_user.sort_values('scores_random', ascending=False)['rating'], K)\n",
    "    ndcg_popularity_user = ndcg_at_k(df_test_user.sort_values('scores_popularity', ascending=False)['rating'], K)\n",
    "\n",
    "    ndcg_knn.append(ndcg_random_knn)\n",
    "    ndcg_random.append(ndcg_random_user)\n",
    "    ndcg_popularity.append(ndcg_popularity_user)\n",
    "\n",
    "print(f\"Mean: NDCG@{K} of Random              : {np.mean(ndcg_random).item():.4f}\")\n",
    "print(f\"Mean: NDCG@{K} of Popularity          : {np.mean(ndcg_popularity).item():.4f}\")\n",
    "print(f\"Mean: NDCG@{K} of KNN {topk}-{method} : {np.mean(ndcg_knn).item():.4f}\")"
   ]
  },
  {
   "cell_type": "markdown",
   "metadata": {},
   "source": [
    "## Task 4"
   ]
  },
  {
   "cell_type": "code",
   "execution_count": 87,
   "metadata": {},
   "outputs": [],
   "source": [
    "user_id = 655"
   ]
  },
  {
   "cell_type": "code",
   "execution_count": 88,
   "metadata": {},
   "outputs": [
    {
     "data": {
      "text/html": [
       "<div>\n",
       "<style scoped>\n",
       "    .dataframe tbody tr th:only-of-type {\n",
       "        vertical-align: middle;\n",
       "    }\n",
       "\n",
       "    .dataframe tbody tr th {\n",
       "        vertical-align: top;\n",
       "    }\n",
       "\n",
       "    .dataframe thead th {\n",
       "        text-align: right;\n",
       "    }\n",
       "</style>\n",
       "<table border=\"1\" class=\"dataframe\">\n",
       "  <thead>\n",
       "    <tr style=\"text-align: right;\">\n",
       "      <th></th>\n",
       "      <th>item_id</th>\n",
       "      <th>user_id</th>\n",
       "      <th>rating</th>\n",
       "    </tr>\n",
       "  </thead>\n",
       "  <tbody>\n",
       "    <tr>\n",
       "      <th>0</th>\n",
       "      <td>104841</td>\n",
       "      <td>655</td>\n",
       "      <td>4.0</td>\n",
       "    </tr>\n",
       "    <tr>\n",
       "      <th>1</th>\n",
       "      <td>152081</td>\n",
       "      <td>655</td>\n",
       "      <td>4.0</td>\n",
       "    </tr>\n",
       "    <tr>\n",
       "      <th>2</th>\n",
       "      <td>435</td>\n",
       "      <td>655</td>\n",
       "      <td>4.0</td>\n",
       "    </tr>\n",
       "    <tr>\n",
       "      <th>3</th>\n",
       "      <td>8464</td>\n",
       "      <td>655</td>\n",
       "      <td>3.0</td>\n",
       "    </tr>\n",
       "    <tr>\n",
       "      <th>4</th>\n",
       "      <td>105844</td>\n",
       "      <td>655</td>\n",
       "      <td>4.0</td>\n",
       "    </tr>\n",
       "  </tbody>\n",
       "</table>\n",
       "</div>"
      ],
      "text/plain": [
       "   item_id  user_id  rating\n",
       "0   104841      655     4.0\n",
       "1   152081      655     4.0\n",
       "2      435      655     4.0\n",
       "3     8464      655     3.0\n",
       "4   105844      655     4.0"
      ]
     },
     "execution_count": 88,
     "metadata": {},
     "output_type": "execute_result"
    }
   ],
   "source": [
    "df_user = df_test[df_test['user_id'] == user_id]\n",
    "\n",
    "df_user.head()"
   ]
  },
  {
   "cell_type": "code",
   "execution_count": 89,
   "metadata": {},
   "outputs": [
    {
     "name": "stderr",
     "output_type": "stream",
     "text": [
      "/var/folders/pr/8dv_cj95295bxt_hr8hzrmk40000gn/T/ipykernel_17826/1071641312.py:1: SettingWithCopyWarning: \n",
      "A value is trying to be set on a copy of a slice from a DataFrame.\n",
      "Try using .loc[row_indexer,col_indexer] = value instead\n",
      "\n",
      "See the caveats in the documentation: https://pandas.pydata.org/pandas-docs/stable/user_guide/indexing.html#returning-a-view-versus-a-copy\n",
      "  df_user.loc[:, 'scores_knn'] = get_score_knn(\n"
     ]
    }
   ],
   "source": [
    "df_user.loc[:, 'scores_knn'] = get_score_knn(\n",
    "    user_id,\n",
    "    df_user['item_id'],\n",
    "    k=5,\n",
    "    sim_method=\"cosine\",\n",
    "    is_testing=True\n",
    ")"
   ]
  },
  {
   "cell_type": "code",
   "execution_count": 90,
   "metadata": {},
   "outputs": [
    {
     "data": {
      "text/html": [
       "<div>\n",
       "<style scoped>\n",
       "    .dataframe tbody tr th:only-of-type {\n",
       "        vertical-align: middle;\n",
       "    }\n",
       "\n",
       "    .dataframe tbody tr th {\n",
       "        vertical-align: top;\n",
       "    }\n",
       "\n",
       "    .dataframe thead th {\n",
       "        text-align: right;\n",
       "    }\n",
       "</style>\n",
       "<table border=\"1\" class=\"dataframe\">\n",
       "  <thead>\n",
       "    <tr style=\"text-align: right;\">\n",
       "      <th></th>\n",
       "      <th>item_id</th>\n",
       "      <th>user_id</th>\n",
       "      <th>rating</th>\n",
       "      <th>scores_knn</th>\n",
       "    </tr>\n",
       "  </thead>\n",
       "  <tbody>\n",
       "    <tr>\n",
       "      <th>0</th>\n",
       "      <td>104841</td>\n",
       "      <td>655</td>\n",
       "      <td>4.0</td>\n",
       "      <td>4.216776</td>\n",
       "    </tr>\n",
       "    <tr>\n",
       "      <th>1</th>\n",
       "      <td>152081</td>\n",
       "      <td>655</td>\n",
       "      <td>4.0</td>\n",
       "      <td>3.107092</td>\n",
       "    </tr>\n",
       "    <tr>\n",
       "      <th>2</th>\n",
       "      <td>435</td>\n",
       "      <td>655</td>\n",
       "      <td>4.0</td>\n",
       "      <td>2.363636</td>\n",
       "    </tr>\n",
       "    <tr>\n",
       "      <th>3</th>\n",
       "      <td>8464</td>\n",
       "      <td>655</td>\n",
       "      <td>3.0</td>\n",
       "      <td>3.392965</td>\n",
       "    </tr>\n",
       "    <tr>\n",
       "      <th>4</th>\n",
       "      <td>105844</td>\n",
       "      <td>655</td>\n",
       "      <td>4.0</td>\n",
       "      <td>3.468998</td>\n",
       "    </tr>\n",
       "  </tbody>\n",
       "</table>\n",
       "</div>"
      ],
      "text/plain": [
       "   item_id  user_id  rating  scores_knn\n",
       "0   104841      655     4.0    4.216776\n",
       "1   152081      655     4.0    3.107092\n",
       "2      435      655     4.0    2.363636\n",
       "3     8464      655     3.0    3.392965\n",
       "4   105844      655     4.0    3.468998"
      ]
     },
     "execution_count": 90,
     "metadata": {},
     "output_type": "execute_result"
    }
   ],
   "source": [
    "df_user.head()"
   ]
  },
  {
   "cell_type": "code",
   "execution_count": 91,
   "metadata": {},
   "outputs": [
    {
     "name": "stdout",
     "output_type": "stream",
     "text": [
      "MSE: 0.4728722981434736\n"
     ]
    }
   ],
   "source": [
    "mse = mean_squared_error(df_user['rating'], df_user['scores_knn'])\n",
    "\n",
    "print(f\"MSE: {mse}\")"
   ]
  },
  {
   "cell_type": "code",
   "execution_count": 92,
   "metadata": {},
   "outputs": [
    {
     "data": {
      "text/html": [
       "<div>\n",
       "<style scoped>\n",
       "    .dataframe tbody tr th:only-of-type {\n",
       "        vertical-align: middle;\n",
       "    }\n",
       "\n",
       "    .dataframe tbody tr th {\n",
       "        vertical-align: top;\n",
       "    }\n",
       "\n",
       "    .dataframe thead th {\n",
       "        text-align: right;\n",
       "    }\n",
       "</style>\n",
       "<table border=\"1\" class=\"dataframe\">\n",
       "  <thead>\n",
       "    <tr style=\"text-align: right;\">\n",
       "      <th></th>\n",
       "      <th>item_id</th>\n",
       "      <th>user_id</th>\n",
       "      <th>rating</th>\n",
       "      <th>scores_knn</th>\n",
       "    </tr>\n",
       "  </thead>\n",
       "  <tbody>\n",
       "    <tr>\n",
       "      <th>59</th>\n",
       "      <td>7361</td>\n",
       "      <td>655</td>\n",
       "      <td>4.5</td>\n",
       "      <td>4.711514</td>\n",
       "    </tr>\n",
       "    <tr>\n",
       "      <th>44</th>\n",
       "      <td>555</td>\n",
       "      <td>655</td>\n",
       "      <td>4.0</td>\n",
       "      <td>4.501752</td>\n",
       "    </tr>\n",
       "    <tr>\n",
       "      <th>52</th>\n",
       "      <td>356</td>\n",
       "      <td>655</td>\n",
       "      <td>4.5</td>\n",
       "      <td>4.497583</td>\n",
       "    </tr>\n",
       "    <tr>\n",
       "      <th>27</th>\n",
       "      <td>1208</td>\n",
       "      <td>655</td>\n",
       "      <td>4.5</td>\n",
       "      <td>4.388801</td>\n",
       "    </tr>\n",
       "    <tr>\n",
       "      <th>6</th>\n",
       "      <td>4973</td>\n",
       "      <td>655</td>\n",
       "      <td>4.0</td>\n",
       "      <td>4.320186</td>\n",
       "    </tr>\n",
       "  </tbody>\n",
       "</table>\n",
       "</div>"
      ],
      "text/plain": [
       "    item_id  user_id  rating  scores_knn\n",
       "59     7361      655     4.5    4.711514\n",
       "44      555      655     4.0    4.501752\n",
       "52      356      655     4.5    4.497583\n",
       "27     1208      655     4.5    4.388801\n",
       "6      4973      655     4.0    4.320186"
      ]
     },
     "execution_count": 92,
     "metadata": {},
     "output_type": "execute_result"
    }
   ],
   "source": [
    "df_user.sort_values('scores_knn', ascending=False).iloc[:5]"
   ]
  },
  {
   "cell_type": "code",
   "execution_count": 93,
   "metadata": {},
   "outputs": [
    {
     "data": {
      "text/plain": [
       "array([  655,  2448,  3426, 15440, 16095])"
      ]
     },
     "execution_count": 93,
     "metadata": {},
     "output_type": "execute_result"
    }
   ],
   "source": [
    "examine_users = df_test['user_id'].unique()[:5]\n",
    "examine_users"
   ]
  },
  {
   "cell_type": "code",
   "execution_count": 99,
   "metadata": {},
   "outputs": [],
   "source": [
    "matrix_examine_user = rating_matrix_trainval_sim.loc[examine_users].to_numpy()\n",
    "\n",
    "cosine_examine_user = \\\n",
    "    (matrix_examine_user / np.linalg.norm(matrix_examine_user, axis=-1)[:, None]) \\\n",
    "    @ \\\n",
    "    (rating_matrix_trainval / np.linalg.norm(rating_matrix_trainval, axis=-1)[:, None]).to_numpy().T"
   ]
  },
  {
   "cell_type": "code",
   "execution_count": 108,
   "metadata": {},
   "outputs": [],
   "source": [
    "cosine_examine_user.sort(axis=1)"
   ]
  },
  {
   "cell_type": "code",
   "execution_count": 111,
   "metadata": {},
   "outputs": [
    {
     "data": {
      "text/html": [
       "<div>\n",
       "<style scoped>\n",
       "    .dataframe tbody tr th:only-of-type {\n",
       "        vertical-align: middle;\n",
       "    }\n",
       "\n",
       "    .dataframe tbody tr th {\n",
       "        vertical-align: top;\n",
       "    }\n",
       "\n",
       "    .dataframe thead th {\n",
       "        text-align: right;\n",
       "    }\n",
       "</style>\n",
       "<table border=\"1\" class=\"dataframe\">\n",
       "  <thead>\n",
       "    <tr style=\"text-align: right;\">\n",
       "      <th></th>\n",
       "      <th>user_id</th>\n",
       "      <th>top1_sim</th>\n",
       "      <th>top2_sim</th>\n",
       "      <th>top3_sim</th>\n",
       "      <th>top4_sim</th>\n",
       "      <th>top5_sim</th>\n",
       "    </tr>\n",
       "  </thead>\n",
       "  <tbody>\n",
       "    <tr>\n",
       "      <th>0</th>\n",
       "      <td>655</td>\n",
       "      <td>0.985485</td>\n",
       "      <td>0.428047</td>\n",
       "      <td>0.378858</td>\n",
       "      <td>0.377949</td>\n",
       "      <td>0.364885</td>\n",
       "    </tr>\n",
       "    <tr>\n",
       "      <th>1</th>\n",
       "      <td>2448</td>\n",
       "      <td>0.999050</td>\n",
       "      <td>0.197122</td>\n",
       "      <td>0.147465</td>\n",
       "      <td>0.134586</td>\n",
       "      <td>0.125742</td>\n",
       "    </tr>\n",
       "    <tr>\n",
       "      <th>2</th>\n",
       "      <td>3426</td>\n",
       "      <td>0.991063</td>\n",
       "      <td>0.330687</td>\n",
       "      <td>0.314056</td>\n",
       "      <td>0.313118</td>\n",
       "      <td>0.309631</td>\n",
       "    </tr>\n",
       "    <tr>\n",
       "      <th>3</th>\n",
       "      <td>15440</td>\n",
       "      <td>0.998672</td>\n",
       "      <td>0.336205</td>\n",
       "      <td>0.326017</td>\n",
       "      <td>0.324605</td>\n",
       "      <td>0.285360</td>\n",
       "    </tr>\n",
       "    <tr>\n",
       "      <th>4</th>\n",
       "      <td>16095</td>\n",
       "      <td>0.997134</td>\n",
       "      <td>0.402273</td>\n",
       "      <td>0.389271</td>\n",
       "      <td>0.375923</td>\n",
       "      <td>0.351592</td>\n",
       "    </tr>\n",
       "  </tbody>\n",
       "</table>\n",
       "</div>"
      ],
      "text/plain": [
       "   user_id  top1_sim  top2_sim  top3_sim  top4_sim  top5_sim\n",
       "0      655  0.985485  0.428047  0.378858  0.377949  0.364885\n",
       "1     2448  0.999050  0.197122  0.147465  0.134586  0.125742\n",
       "2     3426  0.991063  0.330687  0.314056  0.313118  0.309631\n",
       "3    15440  0.998672  0.336205  0.326017  0.324605  0.285360\n",
       "4    16095  0.997134  0.402273  0.389271  0.375923  0.351592"
      ]
     },
     "execution_count": 111,
     "metadata": {},
     "output_type": "execute_result"
    }
   ],
   "source": [
    "df_top5_sim = pd.DataFrame({\n",
    "    'user_id': examine_users,\n",
    "    'top1_sim': cosine_examine_user[:, -1],\n",
    "    'top2_sim': cosine_examine_user[:, -2],\n",
    "    'top3_sim': cosine_examine_user[:, -3],\n",
    "    'top4_sim': cosine_examine_user[:, -4],\n",
    "    'top5_sim': cosine_examine_user[:, -5]\n",
    "})\n",
    "\n",
    "df_top5_sim"
   ]
  }
 ],
 "metadata": {
  "kernelspec": {
   "display_name": "introds",
   "language": "python",
   "name": "python3"
  },
  "language_info": {
   "codemirror_mode": {
    "name": "ipython",
    "version": 3
   },
   "file_extension": ".py",
   "mimetype": "text/x-python",
   "name": "python",
   "nbconvert_exporter": "python",
   "pygments_lexer": "ipython3",
   "version": "3.9.18"
  }
 },
 "nbformat": 4,
 "nbformat_minor": 2
}
