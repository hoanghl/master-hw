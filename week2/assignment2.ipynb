{
 "cells": [
  {
   "cell_type": "code",
   "execution_count": 1,
   "metadata": {},
   "outputs": [
    {
     "name": "stdout",
     "output_type": "stream",
     "text": [
      "/Users/macos/Uni/1st_year/period_2/RecSys/hw\n"
     ]
    }
   ],
   "source": [
    "%cd ../"
   ]
  },
  {
   "cell_type": "code",
   "execution_count": 97,
   "metadata": {},
   "outputs": [],
   "source": [
    "from typing import Literal\n",
    "from itertools import product\n",
    "\n",
    "import matplotlib.pyplot as plt\n",
    "import numpy as np\n",
    "import pandas as pd\n",
    "import scipy\n",
    "import seaborn as sns\n",
    "from tqdm.notebook import tqdm\n",
    "from sklearn.metrics import mean_squared_error"
   ]
  },
  {
   "cell_type": "code",
   "execution_count": 3,
   "metadata": {},
   "outputs": [],
   "source": [
    "plt.style.use('seaborn-v0_8')\n",
    "plt.rcParams.update({'font.size': 8})"
   ]
  },
  {
   "cell_type": "markdown",
   "metadata": {},
   "source": [
    "## Task 0: Load data"
   ]
  },
  {
   "cell_type": "code",
   "execution_count": 4,
   "metadata": {},
   "outputs": [],
   "source": [
    "path_train = \"week2/data_split/train.csv\"\n",
    "path_test = \"week2/data_split/test.csv\"\n",
    "path_val = \"week2/data_split/validation.csv\""
   ]
  },
  {
   "cell_type": "code",
   "execution_count": 5,
   "metadata": {},
   "outputs": [],
   "source": [
    "df_train = pd.read_csv(path_train)\n",
    "df_val = pd.read_csv(path_val)\n",
    "df_test = pd.read_csv(path_test)"
   ]
  },
  {
   "cell_type": "code",
   "execution_count": 6,
   "metadata": {},
   "outputs": [],
   "source": [
    "df_all = pd.concat([df_train, df_val, df_test])"
   ]
  },
  {
   "cell_type": "code",
   "execution_count": 7,
   "metadata": {},
   "outputs": [
    {
     "data": {
      "text/html": [
       "<div>\n",
       "<style scoped>\n",
       "    .dataframe tbody tr th:only-of-type {\n",
       "        vertical-align: middle;\n",
       "    }\n",
       "\n",
       "    .dataframe tbody tr th {\n",
       "        vertical-align: top;\n",
       "    }\n",
       "\n",
       "    .dataframe thead th {\n",
       "        text-align: right;\n",
       "    }\n",
       "</style>\n",
       "<table border=\"1\" class=\"dataframe\">\n",
       "  <thead>\n",
       "    <tr style=\"text-align: right;\">\n",
       "      <th></th>\n",
       "      <th>item_id</th>\n",
       "      <th>user_id</th>\n",
       "      <th>rating</th>\n",
       "    </tr>\n",
       "  </thead>\n",
       "  <tbody>\n",
       "    <tr>\n",
       "      <th>0</th>\n",
       "      <td>2804</td>\n",
       "      <td>655</td>\n",
       "      <td>4.5</td>\n",
       "    </tr>\n",
       "    <tr>\n",
       "      <th>1</th>\n",
       "      <td>5957</td>\n",
       "      <td>655</td>\n",
       "      <td>3.0</td>\n",
       "    </tr>\n",
       "    <tr>\n",
       "      <th>2</th>\n",
       "      <td>1213</td>\n",
       "      <td>655</td>\n",
       "      <td>4.5</td>\n",
       "    </tr>\n",
       "    <tr>\n",
       "      <th>3</th>\n",
       "      <td>134130</td>\n",
       "      <td>655</td>\n",
       "      <td>4.0</td>\n",
       "    </tr>\n",
       "    <tr>\n",
       "      <th>4</th>\n",
       "      <td>5065</td>\n",
       "      <td>655</td>\n",
       "      <td>3.0</td>\n",
       "    </tr>\n",
       "  </tbody>\n",
       "</table>\n",
       "</div>"
      ],
      "text/plain": [
       "   item_id  user_id  rating\n",
       "0     2804      655     4.5\n",
       "1     5957      655     3.0\n",
       "2     1213      655     4.5\n",
       "3   134130      655     4.0\n",
       "4     5065      655     3.0"
      ]
     },
     "execution_count": 7,
     "metadata": {},
     "output_type": "execute_result"
    }
   ],
   "source": [
    "df_all.head()"
   ]
  },
  {
   "cell_type": "code",
   "execution_count": 9,
   "metadata": {},
   "outputs": [
    {
     "data": {
      "text/plain": [
       "0.022570505586922758"
      ]
     },
     "execution_count": 9,
     "metadata": {},
     "output_type": "execute_result"
    }
   ],
   "source": [
    "len(df_all) / (len(df_all['item_id'].unique()) * len(df_all['user_id'].unique()))"
   ]
  },
  {
   "cell_type": "code",
   "execution_count": 78,
   "metadata": {},
   "outputs": [
    {
     "data": {
      "text/html": [
       "<div>\n",
       "<style scoped>\n",
       "    .dataframe tbody tr th:only-of-type {\n",
       "        vertical-align: middle;\n",
       "    }\n",
       "\n",
       "    .dataframe tbody tr th {\n",
       "        vertical-align: top;\n",
       "    }\n",
       "\n",
       "    .dataframe thead th {\n",
       "        text-align: right;\n",
       "    }\n",
       "</style>\n",
       "<table border=\"1\" class=\"dataframe\">\n",
       "  <thead>\n",
       "    <tr style=\"text-align: right;\">\n",
       "      <th>item_id</th>\n",
       "      <th>2</th>\n",
       "      <th>3</th>\n",
       "      <th>4</th>\n",
       "      <th>7</th>\n",
       "      <th>9</th>\n",
       "      <th>11</th>\n",
       "      <th>18</th>\n",
       "      <th>21</th>\n",
       "      <th>22</th>\n",
       "      <th>25</th>\n",
       "      <th>...</th>\n",
       "      <th>232017</th>\n",
       "      <th>233171</th>\n",
       "      <th>233579</th>\n",
       "      <th>233619</th>\n",
       "      <th>233907</th>\n",
       "      <th>233967</th>\n",
       "      <th>234567</th>\n",
       "      <th>234691</th>\n",
       "      <th>235105</th>\n",
       "      <th>235509</th>\n",
       "    </tr>\n",
       "    <tr>\n",
       "      <th>user_id</th>\n",
       "      <th></th>\n",
       "      <th></th>\n",
       "      <th></th>\n",
       "      <th></th>\n",
       "      <th></th>\n",
       "      <th></th>\n",
       "      <th></th>\n",
       "      <th></th>\n",
       "      <th></th>\n",
       "      <th></th>\n",
       "      <th></th>\n",
       "      <th></th>\n",
       "      <th></th>\n",
       "      <th></th>\n",
       "      <th></th>\n",
       "      <th></th>\n",
       "      <th></th>\n",
       "      <th></th>\n",
       "      <th></th>\n",
       "      <th></th>\n",
       "      <th></th>\n",
       "    </tr>\n",
       "  </thead>\n",
       "  <tbody>\n",
       "    <tr>\n",
       "      <th>655</th>\n",
       "      <td>0.000001</td>\n",
       "      <td>0.000001</td>\n",
       "      <td>0.000001</td>\n",
       "      <td>0.000001</td>\n",
       "      <td>0.000001</td>\n",
       "      <td>0.000001</td>\n",
       "      <td>0.000001</td>\n",
       "      <td>0.000001</td>\n",
       "      <td>0.000001</td>\n",
       "      <td>0.000001</td>\n",
       "      <td>...</td>\n",
       "      <td>0.000001</td>\n",
       "      <td>0.000001</td>\n",
       "      <td>0.000001</td>\n",
       "      <td>0.000001</td>\n",
       "      <td>0.000001</td>\n",
       "      <td>0.000001</td>\n",
       "      <td>0.000001</td>\n",
       "      <td>0.000001</td>\n",
       "      <td>0.000001</td>\n",
       "      <td>0.000001</td>\n",
       "    </tr>\n",
       "    <tr>\n",
       "      <th>2448</th>\n",
       "      <td>0.000001</td>\n",
       "      <td>0.000001</td>\n",
       "      <td>0.000001</td>\n",
       "      <td>0.000001</td>\n",
       "      <td>0.000001</td>\n",
       "      <td>0.000001</td>\n",
       "      <td>0.000001</td>\n",
       "      <td>0.000001</td>\n",
       "      <td>0.000001</td>\n",
       "      <td>0.000001</td>\n",
       "      <td>...</td>\n",
       "      <td>0.000001</td>\n",
       "      <td>0.000001</td>\n",
       "      <td>0.000001</td>\n",
       "      <td>0.000001</td>\n",
       "      <td>0.000001</td>\n",
       "      <td>0.000001</td>\n",
       "      <td>0.000001</td>\n",
       "      <td>0.000001</td>\n",
       "      <td>0.000001</td>\n",
       "      <td>0.000001</td>\n",
       "    </tr>\n",
       "    <tr>\n",
       "      <th>3426</th>\n",
       "      <td>0.000001</td>\n",
       "      <td>0.000001</td>\n",
       "      <td>0.000001</td>\n",
       "      <td>0.000001</td>\n",
       "      <td>0.000001</td>\n",
       "      <td>0.000001</td>\n",
       "      <td>0.000001</td>\n",
       "      <td>0.000001</td>\n",
       "      <td>0.000001</td>\n",
       "      <td>0.000001</td>\n",
       "      <td>...</td>\n",
       "      <td>0.000001</td>\n",
       "      <td>0.000001</td>\n",
       "      <td>0.000001</td>\n",
       "      <td>0.000001</td>\n",
       "      <td>0.000001</td>\n",
       "      <td>0.000001</td>\n",
       "      <td>0.000001</td>\n",
       "      <td>0.000001</td>\n",
       "      <td>0.000001</td>\n",
       "      <td>0.000001</td>\n",
       "    </tr>\n",
       "    <tr>\n",
       "      <th>15440</th>\n",
       "      <td>0.000001</td>\n",
       "      <td>0.000001</td>\n",
       "      <td>0.000001</td>\n",
       "      <td>0.000001</td>\n",
       "      <td>0.000001</td>\n",
       "      <td>0.000001</td>\n",
       "      <td>0.000001</td>\n",
       "      <td>0.000001</td>\n",
       "      <td>0.000001</td>\n",
       "      <td>0.000001</td>\n",
       "      <td>...</td>\n",
       "      <td>0.000001</td>\n",
       "      <td>0.000001</td>\n",
       "      <td>0.000001</td>\n",
       "      <td>0.000001</td>\n",
       "      <td>0.000001</td>\n",
       "      <td>0.000001</td>\n",
       "      <td>0.000001</td>\n",
       "      <td>0.000001</td>\n",
       "      <td>0.000001</td>\n",
       "      <td>0.000001</td>\n",
       "    </tr>\n",
       "    <tr>\n",
       "      <th>16095</th>\n",
       "      <td>0.000001</td>\n",
       "      <td>0.000001</td>\n",
       "      <td>0.000001</td>\n",
       "      <td>0.000001</td>\n",
       "      <td>0.000001</td>\n",
       "      <td>0.000001</td>\n",
       "      <td>0.000001</td>\n",
       "      <td>0.000001</td>\n",
       "      <td>0.000001</td>\n",
       "      <td>0.000001</td>\n",
       "      <td>...</td>\n",
       "      <td>0.000001</td>\n",
       "      <td>0.000001</td>\n",
       "      <td>0.000001</td>\n",
       "      <td>0.000001</td>\n",
       "      <td>0.000001</td>\n",
       "      <td>0.000001</td>\n",
       "      <td>0.000001</td>\n",
       "      <td>0.000001</td>\n",
       "      <td>0.000001</td>\n",
       "      <td>0.000001</td>\n",
       "    </tr>\n",
       "  </tbody>\n",
       "</table>\n",
       "<p>5 rows × 7240 columns</p>\n",
       "</div>"
      ],
      "text/plain": [
       "item_id    2         3         4         7         9         11        18      \\\n",
       "user_id                                                                         \n",
       "655      0.000001  0.000001  0.000001  0.000001  0.000001  0.000001  0.000001   \n",
       "2448     0.000001  0.000001  0.000001  0.000001  0.000001  0.000001  0.000001   \n",
       "3426     0.000001  0.000001  0.000001  0.000001  0.000001  0.000001  0.000001   \n",
       "15440    0.000001  0.000001  0.000001  0.000001  0.000001  0.000001  0.000001   \n",
       "16095    0.000001  0.000001  0.000001  0.000001  0.000001  0.000001  0.000001   \n",
       "\n",
       "item_id    21        22        25      ...    232017    233171    233579  \\\n",
       "user_id                                ...                                 \n",
       "655      0.000001  0.000001  0.000001  ...  0.000001  0.000001  0.000001   \n",
       "2448     0.000001  0.000001  0.000001  ...  0.000001  0.000001  0.000001   \n",
       "3426     0.000001  0.000001  0.000001  ...  0.000001  0.000001  0.000001   \n",
       "15440    0.000001  0.000001  0.000001  ...  0.000001  0.000001  0.000001   \n",
       "16095    0.000001  0.000001  0.000001  ...  0.000001  0.000001  0.000001   \n",
       "\n",
       "item_id    233619    233907    233967    234567    234691    235105    235509  \n",
       "user_id                                                                        \n",
       "655      0.000001  0.000001  0.000001  0.000001  0.000001  0.000001  0.000001  \n",
       "2448     0.000001  0.000001  0.000001  0.000001  0.000001  0.000001  0.000001  \n",
       "3426     0.000001  0.000001  0.000001  0.000001  0.000001  0.000001  0.000001  \n",
       "15440    0.000001  0.000001  0.000001  0.000001  0.000001  0.000001  0.000001  \n",
       "16095    0.000001  0.000001  0.000001  0.000001  0.000001  0.000001  0.000001  \n",
       "\n",
       "[5 rows x 7240 columns]"
      ]
     },
     "execution_count": 78,
     "metadata": {},
     "output_type": "execute_result"
    }
   ],
   "source": [
    "EPS = 1e-9\n",
    "\n",
    "rating_matrix_train = df_train.pivot(index='user_id', columns='item_id', values='rating').fillna(EPS)\n",
    "rating_matrix_val = df_test.pivot(index='user_id', columns='item_id', values='rating').fillna(EPS)\n",
    "rating_matrix_test = df_test.pivot(index='user_id', columns='item_id', values='rating').fillna(EPS)\n",
    "\n",
    "df_trainval = pd.concat([df_train, df_val])\n",
    "rating_matrix_trainval = df_trainval.pivot(index='user_id', columns='item_id', values='rating').fillna(EPS)\n",
    "\n",
    "rating_matrix_train.head()"
   ]
  },
  {
   "cell_type": "markdown",
   "metadata": {},
   "source": [
    "## Task 1: Implement knn"
   ]
  },
  {
   "cell_type": "code",
   "execution_count": 80,
   "metadata": {},
   "outputs": [],
   "source": [
    "def _assert(u: np.ndarray, v: np.ndarray):\n",
    "    assert len(u.shape) == 2, f\"Shape of 'u' must be 2, got {len(u.shape)}\"\n",
    "    assert len(v.shape) == 2, f\"Shape of 'v' must be 2, got {len(v.shape)}\"\n",
    "\n",
    "def _sim_cosine(u: np.ndarray, v: np.ndarray) -> np.ndarray:\n",
    "    _assert(u, v)\n",
    "\n",
    "    vec_user = np.clip(u / np.linalg.norm(u, axis=-1), a_min=EPS, a_max=None)\n",
    "    vec_users = np.clip(v / np.linalg.norm(v, axis=-1)[:, None], a_min=EPS, a_max=None)\n",
    "    cosine = vec_user @ vec_users.T\n",
    "\n",
    "    return np.squeeze(cosine)\n",
    "\n",
    "def _sim_euclide(u: np.ndarray, v: np.ndarray) -> np.ndarray:\n",
    "    _assert(u, v)\n",
    "\n",
    "    dist = np.sqrt(np.square(u - v).sum(axis=-1))\n",
    "\n",
    "    return np.squeeze(dist)\n",
    "\n",
    "def _sim_pearson(u: np.ndarray, v: np.ndarray) -> np.ndarray:\n",
    "    _assert(u, v)\n",
    "\n",
    "    corr = np.corrcoef(u, v)[0, 1:]\n",
    "\n",
    "    return np.squeeze(corr)\n",
    "\n",
    "def get_score_knn(\n",
    "    user_id: int,\n",
    "    list_item_ids: pd.Series,\n",
    "    k: int = 10,\n",
    "    sim_method: Literal[\"cosine\", \"euclide\", \"pearson\"] = \"cosine\",\n",
    "    is_testing: bool = False\n",
    ") -> list:\n",
    "    rating_matrix = rating_matrix_train if not is_testing else rating_matrix_trainval\n",
    "\n",
    "    predicted_rates = []\n",
    "\n",
    "    for movie in list_item_ids:\n",
    "        # Get users who rated 'movie'\n",
    "        valid_users = df_train[df_train['item_id'] == movie]['user_id']\n",
    "        if len(valid_users) == 0:\n",
    "            predicted_rates.append(0)\n",
    "            continue\n",
    "\n",
    "        # Get vector of user 'user_id' and users who rated 'movie'\n",
    "        vec_user = rating_matrix.loc[user_id].to_numpy()\n",
    "        vec_users = rating_matrix.loc[valid_users].to_numpy()\n",
    "\n",
    "        # Calculate sim\n",
    "        vec_user = vec_user[None, :]\n",
    "\n",
    "        if sim_method == \"cosine\":\n",
    "            sim = _sim_cosine(vec_user, vec_users)\n",
    "        elif sim_method == \"euclide\":\n",
    "            sim = _sim_euclide(vec_user, vec_users)\n",
    "        elif sim_method == \"pearson\":\n",
    "            sim = _sim_pearson(vec_user, vec_users)\n",
    "        else:\n",
    "            raise NotImplementedError()\n",
    "        if sim.shape == ():\n",
    "            sim = np.array([sim])\n",
    "        \n",
    "        # Get top-k\n",
    "        k = min(len(sim), k)\n",
    "        topk = sim.argpartition(-k)[-k:]\n",
    "\n",
    "        idx_sim_users = valid_users.iloc[topk]\n",
    "        vec_sim_users = rating_matrix.loc[idx_sim_users]\n",
    "        cosine_sim_users = sim[topk]\n",
    "\n",
    "        # Predict rate\n",
    "        numerator = ((vec_sim_users[movie] - vec_sim_users.mean(axis=1)) * (cosine_sim_users)).sum()\n",
    "        denominator = cosine_sim_users.sum()\n",
    "        pred_rate = vec_user.mean() + numerator / denominator\n",
    "\n",
    "        predicted_rates.append(pred_rate)\n",
    "\n",
    "    return predicted_rates"
   ]
  },
  {
   "cell_type": "markdown",
   "metadata": {},
   "source": [
    "## Task 2: Finetune"
   ]
  },
  {
   "cell_type": "code",
   "execution_count": 65,
   "metadata": {},
   "outputs": [],
   "source": [
    "item_ids_total = set(df_all['item_id'].unique())\n",
    "\n",
    "def get_uniform_negative_sample(user_id: int, n_samples: int = 100):\n",
    "    item_ids_rated = set(df_all[df_all['user_id'] == user_id]['item_id'].unique())\n",
    "    non_rated = item_ids_total.difference(item_ids_rated)\n",
    "\n",
    "    neg_samples = np.random.choice(list(non_rated), min(n_samples, len(non_rated)), replace=False)\n",
    "\n",
    "    return neg_samples"
   ]
  },
  {
   "cell_type": "code",
   "execution_count": 66,
   "metadata": {},
   "outputs": [],
   "source": [
    "def dcg_at_k(r, k):\n",
    "    r = np.asfarray(r)[:k]\n",
    "    if r.size:\n",
    "        return np.sum(r / np.log2(np.arange(1, r.size + 1) + 1))\n",
    "    return 0.\n",
    "def ndcg_at_k(r, k):\n",
    "    dcg_max = dcg_at_k(sorted(r, reverse=True), k)\n",
    "    if not dcg_max:\n",
    "        return 0.\n",
    "    return dcg_at_k(r, k) / dcg_max"
   ]
  },
  {
   "cell_type": "code",
   "execution_count": 67,
   "metadata": {},
   "outputs": [],
   "source": [
    "K = 5\n",
    "N_NEG_SAMPELS = 100"
   ]
  },
  {
   "cell_type": "code",
   "execution_count": 76,
   "metadata": {},
   "outputs": [
    {
     "data": {
      "application/vnd.jupyter.widget-view+json": {
       "model_id": "149c6adeb2ab40b8a717aa8755ceb9be",
       "version_major": 2,
       "version_minor": 0
      },
      "text/plain": [
       "5-cosine:   0%|          | 0/447 [00:00<?, ?it/s]"
      ]
     },
     "metadata": {},
     "output_type": "display_data"
    },
    {
     "name": "stdout",
     "output_type": "stream",
     "text": [
      "Mean: NDCG@5 of KNN 5-cosine : 0.2115\n"
     ]
    },
    {
     "data": {
      "application/vnd.jupyter.widget-view+json": {
       "model_id": "c831f2e2e6f44a4fb6e9999a477cefe7",
       "version_major": 2,
       "version_minor": 0
      },
      "text/plain": [
       "5-euclide:   0%|          | 0/447 [00:00<?, ?it/s]"
      ]
     },
     "metadata": {},
     "output_type": "display_data"
    },
    {
     "name": "stdout",
     "output_type": "stream",
     "text": [
      "Mean: NDCG@5 of KNN 5-euclide : 0.0839\n"
     ]
    },
    {
     "data": {
      "application/vnd.jupyter.widget-view+json": {
       "model_id": "873f4284b7df44ef830fbab692906ed3",
       "version_major": 2,
       "version_minor": 0
      },
      "text/plain": [
       "5-pearson:   0%|          | 0/447 [00:00<?, ?it/s]"
      ]
     },
     "metadata": {},
     "output_type": "display_data"
    },
    {
     "name": "stdout",
     "output_type": "stream",
     "text": [
      "Mean: NDCG@5 of KNN 5-pearson : 0.2061\n"
     ]
    },
    {
     "data": {
      "application/vnd.jupyter.widget-view+json": {
       "model_id": "5b092de3bec44973b591ad769dbbefcf",
       "version_major": 2,
       "version_minor": 0
      },
      "text/plain": [
       "7-cosine:   0%|          | 0/447 [00:00<?, ?it/s]"
      ]
     },
     "metadata": {},
     "output_type": "display_data"
    },
    {
     "name": "stdout",
     "output_type": "stream",
     "text": [
      "Mean: NDCG@5 of KNN 7-cosine : 0.1953\n"
     ]
    },
    {
     "data": {
      "application/vnd.jupyter.widget-view+json": {
       "model_id": "f2e57baccee24eba9d2396317825fb84",
       "version_major": 2,
       "version_minor": 0
      },
      "text/plain": [
       "7-euclide:   0%|          | 0/447 [00:00<?, ?it/s]"
      ]
     },
     "metadata": {},
     "output_type": "display_data"
    },
    {
     "name": "stdout",
     "output_type": "stream",
     "text": [
      "Mean: NDCG@5 of KNN 7-euclide : 0.0868\n"
     ]
    },
    {
     "data": {
      "application/vnd.jupyter.widget-view+json": {
       "model_id": "92f34f783d1a4851a8740ddc2fe34a90",
       "version_major": 2,
       "version_minor": 0
      },
      "text/plain": [
       "7-pearson:   0%|          | 0/447 [00:00<?, ?it/s]"
      ]
     },
     "metadata": {},
     "output_type": "display_data"
    },
    {
     "name": "stdout",
     "output_type": "stream",
     "text": [
      "Mean: NDCG@5 of KNN 7-pearson : 0.1852\n"
     ]
    },
    {
     "data": {
      "application/vnd.jupyter.widget-view+json": {
       "model_id": "a2909220789643249b4dcb7118c580fd",
       "version_major": 2,
       "version_minor": 0
      },
      "text/plain": [
       "10-cosine:   0%|          | 0/447 [00:00<?, ?it/s]"
      ]
     },
     "metadata": {},
     "output_type": "display_data"
    },
    {
     "name": "stdout",
     "output_type": "stream",
     "text": [
      "Mean: NDCG@5 of KNN 10-cosine : 0.1850\n"
     ]
    },
    {
     "data": {
      "application/vnd.jupyter.widget-view+json": {
       "model_id": "1273ecafdf77443aaec7bee74f917b38",
       "version_major": 2,
       "version_minor": 0
      },
      "text/plain": [
       "10-euclide:   0%|          | 0/447 [00:00<?, ?it/s]"
      ]
     },
     "metadata": {},
     "output_type": "display_data"
    },
    {
     "name": "stdout",
     "output_type": "stream",
     "text": [
      "Mean: NDCG@5 of KNN 10-euclide : 0.0903\n"
     ]
    },
    {
     "data": {
      "application/vnd.jupyter.widget-view+json": {
       "model_id": "18bef033ce4b4ba8be88d9eaa84f3880",
       "version_major": 2,
       "version_minor": 0
      },
      "text/plain": [
       "10-pearson:   0%|          | 0/447 [00:00<?, ?it/s]"
      ]
     },
     "metadata": {},
     "output_type": "display_data"
    },
    {
     "name": "stdout",
     "output_type": "stream",
     "text": [
      "Mean: NDCG@5 of KNN 10-pearson : 0.1873\n"
     ]
    },
    {
     "data": {
      "application/vnd.jupyter.widget-view+json": {
       "model_id": "8b55ba0f15884d34bac0aa95a42220b4",
       "version_major": 2,
       "version_minor": 0
      },
      "text/plain": [
       "15-cosine:   0%|          | 0/447 [00:00<?, ?it/s]"
      ]
     },
     "metadata": {},
     "output_type": "display_data"
    },
    {
     "name": "stdout",
     "output_type": "stream",
     "text": [
      "Mean: NDCG@5 of KNN 15-cosine : 0.1838\n"
     ]
    },
    {
     "data": {
      "application/vnd.jupyter.widget-view+json": {
       "model_id": "e14b9ce7182a491c9e4433b0493ccf82",
       "version_major": 2,
       "version_minor": 0
      },
      "text/plain": [
       "15-euclide:   0%|          | 0/447 [00:00<?, ?it/s]"
      ]
     },
     "metadata": {},
     "output_type": "display_data"
    },
    {
     "name": "stdout",
     "output_type": "stream",
     "text": [
      "Mean: NDCG@5 of KNN 15-euclide : 0.0849\n"
     ]
    },
    {
     "data": {
      "application/vnd.jupyter.widget-view+json": {
       "model_id": "0631be1bd98f4570929fba48b9576fe6",
       "version_major": 2,
       "version_minor": 0
      },
      "text/plain": [
       "15-pearson:   0%|          | 0/447 [00:00<?, ?it/s]"
      ]
     },
     "metadata": {},
     "output_type": "display_data"
    },
    {
     "name": "stdout",
     "output_type": "stream",
     "text": [
      "Mean: NDCG@5 of KNN 15-pearson : 0.1792\n"
     ]
    }
   ],
   "source": [
    "\n",
    "list_topk = [5, 7, 10, 15]\n",
    "list_methods = [\"cosine\", \"euclide\", \"pearson\"]\n",
    "\n",
    "\n",
    "for topk, method in product(list_topk, list_methods):\n",
    "    ndcg_knn = []\n",
    "    for user_id in tqdm(df_test['user_id'].unique(), desc=f\"{topk}-{method}\"):\n",
    "        # Get rows in test set\n",
    "        df_val_user = df_val[df_val['user_id'] == user_id].drop(columns=['user_id'])\n",
    "\n",
    "        items = df_val_user['item_id']\n",
    "        items_neg = get_uniform_negative_sample(user_id, n_samples=N_NEG_SAMPELS)\n",
    "        df_items_neg = pd.DataFrame({'item_id': items_neg, 'rating': np.zeros_like(items_neg)})\n",
    "\n",
    "        df_val_user = pd.concat([df_val_user, df_items_neg])\n",
    "\n",
    "        df_val_user['scores_knn'] = get_score_knn(user_id, df_val_user['item_id'], k=topk, sim_method=method)\n",
    "\n",
    "        ndcg_random_knn = ndcg_at_k(df_val_user.sort_values('scores_knn', ascending=False)['rating'], K)\n",
    "\n",
    "        ndcg_knn.append(ndcg_random_knn)\n",
    "        \n",
    "\n",
    "    print(f\"Mean: NDCG@{K} of KNN {topk}-{method} : {np.mean(ndcg_knn).item():.4f}\")"
   ]
  },
  {
   "cell_type": "markdown",
   "metadata": {},
   "source": [
    "## Task 3: Evaluation"
   ]
  },
  {
   "cell_type": "code",
   "execution_count": 83,
   "metadata": {},
   "outputs": [],
   "source": [
    "indices = df_train['item_id'].unique()\n",
    "np.random.shuffle(indices)\n",
    "\n",
    "scores_random = pd.Series(\n",
    "    np.arange(1, len(indices) + 1),\n",
    "    index=indices\n",
    ")\n",
    "\n",
    "scores_popularity = df_train.groupby('item_id').count()['rating']"
   ]
  },
  {
   "cell_type": "code",
   "execution_count": 84,
   "metadata": {},
   "outputs": [],
   "source": [
    "def get_score_random(list_item_ids: list) -> list:\n",
    "    scores = [scores_random[i] if i in scores_random.index else 0 for i in list_item_ids]\n",
    "\n",
    "    return scores\n",
    "\n",
    "def get_score_popularity(list_item_ids: list) -> list:\n",
    "    scores = [scores_popularity[i] if i in scores_popularity.index else 0 for i in list_item_ids]\n",
    "\n",
    "    return scores\n"
   ]
  },
  {
   "cell_type": "code",
   "execution_count": 86,
   "metadata": {},
   "outputs": [
    {
     "data": {
      "application/vnd.jupyter.widget-view+json": {
       "model_id": "64eff69b406641dc953de361a5e729af",
       "version_major": 2,
       "version_minor": 0
      },
      "text/plain": [
       "5-cosine:   0%|          | 0/446 [00:00<?, ?it/s]"
      ]
     },
     "metadata": {},
     "output_type": "display_data"
    },
    {
     "name": "stdout",
     "output_type": "stream",
     "text": [
      "Mean: NDCG@5 of Random              : 0.2198\n",
      "Mean: NDCG@5 of Popularity          : 0.7492\n",
      "Mean: NDCG@5 of KNN 5-cosine : 0.2169\n"
     ]
    }
   ],
   "source": [
    "method = \"cosine\"\n",
    "topk = 5\n",
    "\n",
    "ndcg_random, ndcg_popularity, ndcg_knn = [], [], []\n",
    "\n",
    "for user_id in tqdm(df_test['user_id'].unique(), desc=f\"{topk}-{method}\"):\n",
    "    # Get rows in test set\n",
    "    df_test_user = df_test[df_test['user_id'] == user_id].drop(columns=['user_id'])\n",
    "\n",
    "    items = df_test_user['item_id']\n",
    "    items_neg = get_uniform_negative_sample(user_id, n_samples=N_NEG_SAMPELS)\n",
    "    df_items_neg = pd.DataFrame({'item_id': items_neg, 'rating': np.zeros_like(items_neg)})\n",
    "\n",
    "    df_test_user = pd.concat([df_test_user, df_items_neg])\n",
    "\n",
    "    df_test_user['scores_knn'] = get_score_knn(\n",
    "        user_id,\n",
    "        df_test_user['item_id'],\n",
    "        k=topk,\n",
    "        sim_method=method,\n",
    "        is_testing=True\n",
    "    )\n",
    "    df_test_user['scores_random'] = get_score_random(df_test_user['item_id'])\n",
    "    df_test_user['scores_popularity'] = get_score_popularity(df_test_user['item_id'])\n",
    "\n",
    "    ndcg_random_knn = ndcg_at_k(df_test_user.sort_values('scores_knn', ascending=False)['rating'], K)\n",
    "    ndcg_random_user= ndcg_at_k(df_test_user.sort_values('scores_random', ascending=False)['rating'], K)\n",
    "    ndcg_popularity_user = ndcg_at_k(df_test_user.sort_values('scores_popularity', ascending=False)['rating'], K)\n",
    "\n",
    "    ndcg_knn.append(ndcg_random_knn)\n",
    "    ndcg_random.append(ndcg_random_user)\n",
    "    ndcg_popularity.append(ndcg_popularity_user)\n",
    "\n",
    "print(f\"Mean: NDCG@{K} of Random              : {np.mean(ndcg_random).item():.4f}\")\n",
    "print(f\"Mean: NDCG@{K} of Popularity          : {np.mean(ndcg_popularity).item():.4f}\")\n",
    "print(f\"Mean: NDCG@{K} of KNN {topk}-{method} : {np.mean(ndcg_knn).item():.4f}\")"
   ]
  },
  {
   "cell_type": "markdown",
   "metadata": {},
   "source": [
    "## Task 4"
   ]
  },
  {
   "cell_type": "code",
   "execution_count": 88,
   "metadata": {},
   "outputs": [],
   "source": [
    "user_id = 655"
   ]
  },
  {
   "cell_type": "code",
   "execution_count": 94,
   "metadata": {},
   "outputs": [
    {
     "data": {
      "text/html": [
       "<div>\n",
       "<style scoped>\n",
       "    .dataframe tbody tr th:only-of-type {\n",
       "        vertical-align: middle;\n",
       "    }\n",
       "\n",
       "    .dataframe tbody tr th {\n",
       "        vertical-align: top;\n",
       "    }\n",
       "\n",
       "    .dataframe thead th {\n",
       "        text-align: right;\n",
       "    }\n",
       "</style>\n",
       "<table border=\"1\" class=\"dataframe\">\n",
       "  <thead>\n",
       "    <tr style=\"text-align: right;\">\n",
       "      <th></th>\n",
       "      <th>item_id</th>\n",
       "      <th>user_id</th>\n",
       "      <th>rating</th>\n",
       "    </tr>\n",
       "  </thead>\n",
       "  <tbody>\n",
       "    <tr>\n",
       "      <th>0</th>\n",
       "      <td>104841</td>\n",
       "      <td>655</td>\n",
       "      <td>4.0</td>\n",
       "    </tr>\n",
       "    <tr>\n",
       "      <th>1</th>\n",
       "      <td>152081</td>\n",
       "      <td>655</td>\n",
       "      <td>4.0</td>\n",
       "    </tr>\n",
       "    <tr>\n",
       "      <th>2</th>\n",
       "      <td>435</td>\n",
       "      <td>655</td>\n",
       "      <td>4.0</td>\n",
       "    </tr>\n",
       "    <tr>\n",
       "      <th>3</th>\n",
       "      <td>8464</td>\n",
       "      <td>655</td>\n",
       "      <td>3.0</td>\n",
       "    </tr>\n",
       "    <tr>\n",
       "      <th>4</th>\n",
       "      <td>105844</td>\n",
       "      <td>655</td>\n",
       "      <td>4.0</td>\n",
       "    </tr>\n",
       "  </tbody>\n",
       "</table>\n",
       "</div>"
      ],
      "text/plain": [
       "   item_id  user_id  rating\n",
       "0   104841      655     4.0\n",
       "1   152081      655     4.0\n",
       "2      435      655     4.0\n",
       "3     8464      655     3.0\n",
       "4   105844      655     4.0"
      ]
     },
     "execution_count": 94,
     "metadata": {},
     "output_type": "execute_result"
    }
   ],
   "source": [
    "df_user = df_test[df_test['user_id'] == user_id]\n",
    "\n",
    "df_user.head()"
   ]
  },
  {
   "cell_type": "code",
   "execution_count": 95,
   "metadata": {},
   "outputs": [
    {
     "name": "stderr",
     "output_type": "stream",
     "text": [
      "/var/folders/pr/8dv_cj95295bxt_hr8hzrmk40000gn/T/ipykernel_2888/1071641312.py:1: SettingWithCopyWarning: \n",
      "A value is trying to be set on a copy of a slice from a DataFrame.\n",
      "Try using .loc[row_indexer,col_indexer] = value instead\n",
      "\n",
      "See the caveats in the documentation: https://pandas.pydata.org/pandas-docs/stable/user_guide/indexing.html#returning-a-view-versus-a-copy\n",
      "  df_user.loc[:, 'scores_knn'] = get_score_knn(\n"
     ]
    }
   ],
   "source": [
    "df_user.loc[:, 'scores_knn'] = get_score_knn(\n",
    "    user_id,\n",
    "    df_user['item_id'],\n",
    "    k=5,\n",
    "    sim_method=\"cosine\",\n",
    "    is_testing=True\n",
    ")"
   ]
  },
  {
   "cell_type": "code",
   "execution_count": 96,
   "metadata": {},
   "outputs": [
    {
     "data": {
      "text/html": [
       "<div>\n",
       "<style scoped>\n",
       "    .dataframe tbody tr th:only-of-type {\n",
       "        vertical-align: middle;\n",
       "    }\n",
       "\n",
       "    .dataframe tbody tr th {\n",
       "        vertical-align: top;\n",
       "    }\n",
       "\n",
       "    .dataframe thead th {\n",
       "        text-align: right;\n",
       "    }\n",
       "</style>\n",
       "<table border=\"1\" class=\"dataframe\">\n",
       "  <thead>\n",
       "    <tr style=\"text-align: right;\">\n",
       "      <th></th>\n",
       "      <th>item_id</th>\n",
       "      <th>user_id</th>\n",
       "      <th>rating</th>\n",
       "      <th>scores_knn</th>\n",
       "    </tr>\n",
       "  </thead>\n",
       "  <tbody>\n",
       "    <tr>\n",
       "      <th>0</th>\n",
       "      <td>104841</td>\n",
       "      <td>655</td>\n",
       "      <td>4.0</td>\n",
       "      <td>4.192276</td>\n",
       "    </tr>\n",
       "    <tr>\n",
       "      <th>1</th>\n",
       "      <td>152081</td>\n",
       "      <td>655</td>\n",
       "      <td>4.0</td>\n",
       "      <td>3.466926</td>\n",
       "    </tr>\n",
       "    <tr>\n",
       "      <th>2</th>\n",
       "      <td>435</td>\n",
       "      <td>655</td>\n",
       "      <td>4.0</td>\n",
       "      <td>1.971452</td>\n",
       "    </tr>\n",
       "    <tr>\n",
       "      <th>3</th>\n",
       "      <td>8464</td>\n",
       "      <td>655</td>\n",
       "      <td>3.0</td>\n",
       "      <td>3.390833</td>\n",
       "    </tr>\n",
       "    <tr>\n",
       "      <th>4</th>\n",
       "      <td>105844</td>\n",
       "      <td>655</td>\n",
       "      <td>4.0</td>\n",
       "      <td>3.436210</td>\n",
       "    </tr>\n",
       "  </tbody>\n",
       "</table>\n",
       "</div>"
      ],
      "text/plain": [
       "   item_id  user_id  rating  scores_knn\n",
       "0   104841      655     4.0    4.192276\n",
       "1   152081      655     4.0    3.466926\n",
       "2      435      655     4.0    1.971452\n",
       "3     8464      655     3.0    3.390833\n",
       "4   105844      655     4.0    3.436210"
      ]
     },
     "execution_count": 96,
     "metadata": {},
     "output_type": "execute_result"
    }
   ],
   "source": [
    "df_user.head()"
   ]
  },
  {
   "cell_type": "code",
   "execution_count": 98,
   "metadata": {},
   "outputs": [
    {
     "name": "stdout",
     "output_type": "stream",
     "text": [
      "MSE: 0.45098672922213207\n"
     ]
    }
   ],
   "source": [
    "mse = mean_squared_error(df_user['rating'], df_user['scores_knn'])\n",
    "\n",
    "print(f\"MSE: {mse}\")"
   ]
  },
  {
   "cell_type": "code",
   "execution_count": 100,
   "metadata": {},
   "outputs": [
    {
     "data": {
      "text/html": [
       "<div>\n",
       "<style scoped>\n",
       "    .dataframe tbody tr th:only-of-type {\n",
       "        vertical-align: middle;\n",
       "    }\n",
       "\n",
       "    .dataframe tbody tr th {\n",
       "        vertical-align: top;\n",
       "    }\n",
       "\n",
       "    .dataframe thead th {\n",
       "        text-align: right;\n",
       "    }\n",
       "</style>\n",
       "<table border=\"1\" class=\"dataframe\">\n",
       "  <thead>\n",
       "    <tr style=\"text-align: right;\">\n",
       "      <th></th>\n",
       "      <th>item_id</th>\n",
       "      <th>user_id</th>\n",
       "      <th>rating</th>\n",
       "      <th>scores_knn</th>\n",
       "    </tr>\n",
       "  </thead>\n",
       "  <tbody>\n",
       "    <tr>\n",
       "      <th>52</th>\n",
       "      <td>356</td>\n",
       "      <td>655</td>\n",
       "      <td>4.5</td>\n",
       "      <td>4.808857</td>\n",
       "    </tr>\n",
       "    <tr>\n",
       "      <th>59</th>\n",
       "      <td>7361</td>\n",
       "      <td>655</td>\n",
       "      <td>4.5</td>\n",
       "      <td>4.711020</td>\n",
       "    </tr>\n",
       "    <tr>\n",
       "      <th>44</th>\n",
       "      <td>555</td>\n",
       "      <td>655</td>\n",
       "      <td>4.0</td>\n",
       "      <td>4.500576</td>\n",
       "    </tr>\n",
       "    <tr>\n",
       "      <th>26</th>\n",
       "      <td>1193</td>\n",
       "      <td>655</td>\n",
       "      <td>3.5</td>\n",
       "      <td>4.500294</td>\n",
       "    </tr>\n",
       "    <tr>\n",
       "      <th>42</th>\n",
       "      <td>1222</td>\n",
       "      <td>655</td>\n",
       "      <td>4.5</td>\n",
       "      <td>4.392084</td>\n",
       "    </tr>\n",
       "  </tbody>\n",
       "</table>\n",
       "</div>"
      ],
      "text/plain": [
       "    item_id  user_id  rating  scores_knn\n",
       "52      356      655     4.5    4.808857\n",
       "59     7361      655     4.5    4.711020\n",
       "44      555      655     4.0    4.500576\n",
       "26     1193      655     3.5    4.500294\n",
       "42     1222      655     4.5    4.392084"
      ]
     },
     "execution_count": 100,
     "metadata": {},
     "output_type": "execute_result"
    }
   ],
   "source": [
    "df_user.sort_values('scores_knn', ascending=False).iloc[:5]"
   ]
  },
  {
   "cell_type": "code",
   "execution_count": 102,
   "metadata": {},
   "outputs": [
    {
     "data": {
      "text/plain": [
       "array([  655,  2448,  3426, 15440, 16095])"
      ]
     },
     "execution_count": 102,
     "metadata": {},
     "output_type": "execute_result"
    }
   ],
   "source": [
    "examine_users = df_test['user_id'].unique()[:5]\n",
    "examine_users"
   ]
  },
  {
   "cell_type": "code",
   "execution_count": 105,
   "metadata": {},
   "outputs": [
    {
     "data": {
      "text/plain": [
       "array([[1.e-06, 1.e-06, 1.e-06, ..., 1.e-06, 1.e-06, 1.e-06],\n",
       "       [1.e-06, 1.e-06, 1.e-06, ..., 1.e-06, 1.e-06, 1.e-06],\n",
       "       [1.e-06, 1.e-06, 1.e-06, ..., 1.e-06, 1.e-06, 1.e-06],\n",
       "       [1.e-06, 1.e-06, 1.e-06, ..., 1.e-06, 1.e-06, 1.e-06],\n",
       "       [1.e-06, 1.e-06, 1.e-06, ..., 1.e-06, 1.e-06, 1.e-06]])"
      ]
     },
     "execution_count": 105,
     "metadata": {},
     "output_type": "execute_result"
    }
   ],
   "source": [
    "matrix_examine_user = rating_matrix_trainval.loc[examine_users].to_numpy()\n",
    "\n",
    "cosine_examine_user = \\\n",
    "    (matrix_examine_user / np.linalg.norm(matrix_examine_user, axis=-1)[:, None]) \\\n",
    "    @ \\\n",
    "    (rating_matrix_trainval / np.linalg.norm(rating_matrix_trainval, axis=-1)[:, None]).to_numpy().T"
   ]
  },
  {
   "cell_type": "code",
   "execution_count": 130,
   "metadata": {},
   "outputs": [
    {
     "data": {
      "text/html": [
       "<div>\n",
       "<style scoped>\n",
       "    .dataframe tbody tr th:only-of-type {\n",
       "        vertical-align: middle;\n",
       "    }\n",
       "\n",
       "    .dataframe tbody tr th {\n",
       "        vertical-align: top;\n",
       "    }\n",
       "\n",
       "    .dataframe thead th {\n",
       "        text-align: right;\n",
       "    }\n",
       "</style>\n",
       "<table border=\"1\" class=\"dataframe\">\n",
       "  <thead>\n",
       "    <tr style=\"text-align: right;\">\n",
       "      <th>item_id</th>\n",
       "      <th>2</th>\n",
       "      <th>3</th>\n",
       "      <th>4</th>\n",
       "      <th>7</th>\n",
       "      <th>9</th>\n",
       "      <th>11</th>\n",
       "      <th>18</th>\n",
       "      <th>21</th>\n",
       "      <th>22</th>\n",
       "      <th>25</th>\n",
       "      <th>...</th>\n",
       "      <th>233171</th>\n",
       "      <th>233579</th>\n",
       "      <th>233619</th>\n",
       "      <th>233907</th>\n",
       "      <th>233967</th>\n",
       "      <th>234410</th>\n",
       "      <th>234567</th>\n",
       "      <th>234691</th>\n",
       "      <th>235105</th>\n",
       "      <th>235509</th>\n",
       "    </tr>\n",
       "    <tr>\n",
       "      <th>user_id</th>\n",
       "      <th></th>\n",
       "      <th></th>\n",
       "      <th></th>\n",
       "      <th></th>\n",
       "      <th></th>\n",
       "      <th></th>\n",
       "      <th></th>\n",
       "      <th></th>\n",
       "      <th></th>\n",
       "      <th></th>\n",
       "      <th></th>\n",
       "      <th></th>\n",
       "      <th></th>\n",
       "      <th></th>\n",
       "      <th></th>\n",
       "      <th></th>\n",
       "      <th></th>\n",
       "      <th></th>\n",
       "      <th></th>\n",
       "      <th></th>\n",
       "      <th></th>\n",
       "    </tr>\n",
       "  </thead>\n",
       "  <tbody>\n",
       "    <tr>\n",
       "      <th>964852</th>\n",
       "      <td>4.000000</td>\n",
       "      <td>0.000001</td>\n",
       "      <td>0.000001</td>\n",
       "      <td>0.000001</td>\n",
       "      <td>0.000001</td>\n",
       "      <td>0.000001</td>\n",
       "      <td>0.000001</td>\n",
       "      <td>3.000000</td>\n",
       "      <td>0.000001</td>\n",
       "      <td>0.000001</td>\n",
       "      <td>...</td>\n",
       "      <td>0.000001</td>\n",
       "      <td>0.000001</td>\n",
       "      <td>0.000001</td>\n",
       "      <td>0.000001</td>\n",
       "      <td>0.000001</td>\n",
       "      <td>0.000001</td>\n",
       "      <td>0.000001</td>\n",
       "      <td>0.000001</td>\n",
       "      <td>0.000001</td>\n",
       "      <td>0.000001</td>\n",
       "    </tr>\n",
       "    <tr>\n",
       "      <th>627353</th>\n",
       "      <td>0.000001</td>\n",
       "      <td>0.000001</td>\n",
       "      <td>0.000001</td>\n",
       "      <td>0.000001</td>\n",
       "      <td>0.000001</td>\n",
       "      <td>0.000001</td>\n",
       "      <td>0.000001</td>\n",
       "      <td>0.000001</td>\n",
       "      <td>0.000001</td>\n",
       "      <td>0.000001</td>\n",
       "      <td>...</td>\n",
       "      <td>0.000001</td>\n",
       "      <td>0.000001</td>\n",
       "      <td>0.000001</td>\n",
       "      <td>0.000001</td>\n",
       "      <td>0.000001</td>\n",
       "      <td>0.000001</td>\n",
       "      <td>0.000001</td>\n",
       "      <td>0.000001</td>\n",
       "      <td>0.000001</td>\n",
       "      <td>0.000001</td>\n",
       "    </tr>\n",
       "    <tr>\n",
       "      <th>655</th>\n",
       "      <td>0.000001</td>\n",
       "      <td>0.000001</td>\n",
       "      <td>0.000001</td>\n",
       "      <td>0.000001</td>\n",
       "      <td>0.000001</td>\n",
       "      <td>0.000001</td>\n",
       "      <td>0.000001</td>\n",
       "      <td>0.000001</td>\n",
       "      <td>0.000001</td>\n",
       "      <td>0.000001</td>\n",
       "      <td>...</td>\n",
       "      <td>0.000001</td>\n",
       "      <td>0.000001</td>\n",
       "      <td>0.000001</td>\n",
       "      <td>0.000001</td>\n",
       "      <td>0.000001</td>\n",
       "      <td>0.000001</td>\n",
       "      <td>0.000001</td>\n",
       "      <td>0.000001</td>\n",
       "      <td>0.000001</td>\n",
       "      <td>0.000001</td>\n",
       "    </tr>\n",
       "  </tbody>\n",
       "</table>\n",
       "<p>3 rows × 8277 columns</p>\n",
       "</div>"
      ],
      "text/plain": [
       "item_id    2         3         4         7         9         11        18      \\\n",
       "user_id                                                                         \n",
       "964852   4.000000  0.000001  0.000001  0.000001  0.000001  0.000001  0.000001   \n",
       "627353   0.000001  0.000001  0.000001  0.000001  0.000001  0.000001  0.000001   \n",
       "655      0.000001  0.000001  0.000001  0.000001  0.000001  0.000001  0.000001   \n",
       "\n",
       "item_id    21        22        25      ...    233171    233579    233619  \\\n",
       "user_id                                ...                                 \n",
       "964852   3.000000  0.000001  0.000001  ...  0.000001  0.000001  0.000001   \n",
       "627353   0.000001  0.000001  0.000001  ...  0.000001  0.000001  0.000001   \n",
       "655      0.000001  0.000001  0.000001  ...  0.000001  0.000001  0.000001   \n",
       "\n",
       "item_id    233907    233967    234410    234567    234691    235105    235509  \n",
       "user_id                                                                        \n",
       "964852   0.000001  0.000001  0.000001  0.000001  0.000001  0.000001  0.000001  \n",
       "627353   0.000001  0.000001  0.000001  0.000001  0.000001  0.000001  0.000001  \n",
       "655      0.000001  0.000001  0.000001  0.000001  0.000001  0.000001  0.000001  \n",
       "\n",
       "[3 rows x 8277 columns]"
      ]
     },
     "execution_count": 130,
     "metadata": {},
     "output_type": "execute_result"
    }
   ],
   "source": [
    "top3 = cosine_examine_user[0].argpartition(-3)[-3:]\n",
    "rating_matrix_trainval.iloc[top3]"
   ]
  },
  {
   "cell_type": "code",
   "execution_count": 131,
   "metadata": {},
   "outputs": [
    {
     "data": {
      "text/plain": [
       "item_id\n",
       "2         0.000001\n",
       "3         0.000001\n",
       "4         0.000001\n",
       "7         0.000001\n",
       "9         0.000001\n",
       "            ...   \n",
       "234410    0.000001\n",
       "234567    0.000001\n",
       "234691    0.000001\n",
       "235105    0.000001\n",
       "235509    0.000001\n",
       "Name: 655, Length: 8277, dtype: float64"
      ]
     },
     "execution_count": 131,
     "metadata": {},
     "output_type": "execute_result"
    }
   ],
   "source": [
    "rating_matrix_trainval.loc[examine_users[0]]"
   ]
  },
  {
   "cell_type": "code",
   "execution_count": 140,
   "metadata": {},
   "outputs": [
    {
     "data": {
      "text/plain": [
       "array([424, 253,   0])"
      ]
     },
     "execution_count": 140,
     "metadata": {},
     "output_type": "execute_result"
    }
   ],
   "source": [
    "top3"
   ]
  },
  {
   "cell_type": "code",
   "execution_count": 142,
   "metadata": {},
   "outputs": [
    {
     "data": {
      "text/plain": [
       "array([0.41320641, 0.44787606, 1.        ])"
      ]
     },
     "execution_count": 142,
     "metadata": {},
     "output_type": "execute_result"
    }
   ],
   "source": [
    "cosine_examine_user[0, top3]"
   ]
  }
 ],
 "metadata": {
  "kernelspec": {
   "display_name": "introds",
   "language": "python",
   "name": "python3"
  },
  "language_info": {
   "codemirror_mode": {
    "name": "ipython",
    "version": 3
   },
   "file_extension": ".py",
   "mimetype": "text/x-python",
   "name": "python",
   "nbconvert_exporter": "python",
   "pygments_lexer": "ipython3",
   "version": "3.9.18"
  }
 },
 "nbformat": 4,
 "nbformat_minor": 2
}
