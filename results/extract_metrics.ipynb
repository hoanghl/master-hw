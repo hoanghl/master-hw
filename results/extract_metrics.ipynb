{
 "cells": [
  {
   "cell_type": "code",
   "execution_count": 1,
   "metadata": {},
   "outputs": [
    {
     "name": "stdout",
     "output_type": "stream",
     "text": [
      "/scratch/project_2010450/thesis\n"
     ]
    }
   ],
   "source": [
    "%cd ../"
   ]
  },
  {
   "cell_type": "code",
   "execution_count": 2,
   "metadata": {},
   "outputs": [],
   "source": [
    "import json\n",
    "\n",
    "import pandas as pd"
   ]
  },
  {
   "cell_type": "code",
   "execution_count": 6,
   "metadata": {},
   "outputs": [
    {
     "data": {
      "text/html": [
       "<div>\n",
       "<style scoped>\n",
       "    .dataframe tbody tr th:only-of-type {\n",
       "        vertical-align: middle;\n",
       "    }\n",
       "\n",
       "    .dataframe tbody tr th {\n",
       "        vertical-align: top;\n",
       "    }\n",
       "\n",
       "    .dataframe thead th {\n",
       "        text-align: right;\n",
       "    }\n",
       "</style>\n",
       "<table border=\"1\" class=\"dataframe\">\n",
       "  <thead>\n",
       "    <tr style=\"text-align: right;\">\n",
       "      <th></th>\n",
       "      <th>val_ndcg@10</th>\n",
       "      <th>val_precision@10</th>\n",
       "      <th>val_recall@10</th>\n",
       "      <th>val_mrr@10</th>\n",
       "      <th>val_hit@10</th>\n",
       "      <th>val_map@10</th>\n",
       "      <th>test_ndcg@10</th>\n",
       "      <th>test_precision@10</th>\n",
       "      <th>test_recall@10</th>\n",
       "      <th>test_mrr@10</th>\n",
       "      <th>test_hit@10</th>\n",
       "      <th>test_map@10</th>\n",
       "    </tr>\n",
       "  </thead>\n",
       "  <tbody>\n",
       "    <tr>\n",
       "      <th>0</th>\n",
       "      <td>0.0223</td>\n",
       "      <td>0.005</td>\n",
       "      <td>0.0497</td>\n",
       "      <td>0.014</td>\n",
       "      <td>0.0497</td>\n",
       "      <td>0.014</td>\n",
       "      <td>0.0019</td>\n",
       "      <td>0.0004</td>\n",
       "      <td>0.0037</td>\n",
       "      <td>0.0014</td>\n",
       "      <td>0.0037</td>\n",
       "      <td>0.0014</td>\n",
       "    </tr>\n",
       "  </tbody>\n",
       "</table>\n",
       "</div>"
      ],
      "text/plain": [
       "   val_ndcg@10  val_precision@10  val_recall@10  val_mrr@10  val_hit@10  \\\n",
       "0       0.0223             0.005         0.0497       0.014      0.0497   \n",
       "\n",
       "   val_map@10  test_ndcg@10  test_precision@10  test_recall@10  test_mrr@10  \\\n",
       "0       0.014        0.0019             0.0004          0.0037       0.0014   \n",
       "\n",
       "   test_hit@10  test_map@10  \n",
       "0       0.0037       0.0014  "
      ]
     },
     "execution_count": 6,
     "metadata": {},
     "output_type": "execute_result"
    }
   ],
   "source": [
    "path = \"logs/Jul25_150407_NPE_amazon-digital-music_usecutoff_True/tune_result.json\"\n",
    "\n",
    "with open(path) as f:\n",
    "    raw = json.load(f)\n",
    "\n",
    "d = {}\n",
    "\n",
    "tag = 'val'\n",
    "for metric, val in raw['best_result']['best_valid_result'].items():\n",
    "    d[f\"{tag}_{metric}\"] = [val]\n",
    "\n",
    "tag = 'test'\n",
    "for metric, val in raw['best_result']['test_result'].items():\n",
    "    d[f\"{tag}_{metric}\"] = [val]\n",
    "\n",
    "pd.DataFrame(d)"
   ]
  }
 ],
 "metadata": {
  "kernelspec": {
   "display_name": "thesis_venv",
   "language": "python",
   "name": "python3"
  },
  "language_info": {
   "codemirror_mode": {
    "name": "ipython",
    "version": 3
   },
   "file_extension": ".py",
   "mimetype": "text/x-python",
   "name": "python",
   "nbconvert_exporter": "python",
   "pygments_lexer": "ipython3",
   "version": "3.10.14"
  }
 },
 "nbformat": 4,
 "nbformat_minor": 2
}
