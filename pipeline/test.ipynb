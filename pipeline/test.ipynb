{
 "cells": [
  {
   "cell_type": "code",
   "execution_count": 2,
   "metadata": {},
   "outputs": [],
   "source": [
    "from collections import defaultdict\n",
    "\n",
    "from recbole.quick_start import run_recbole\n",
    "\n",
    "from recbole.config import Config\n",
    "from recbole.data import (\n",
    "    create_dataset,\n",
    "    data_preparation,\n",
    ")\n",
    "from recbole.data.transform import construct_transform\n",
    "from recbole.utils import (\n",
    "    init_logger,\n",
    "    get_model,\n",
    "    get_trainer,\n",
    "    init_seed,\n",
    "    set_color,\n",
    "    get_flops,\n",
    "    get_environment,\n",
    ")\n",
    "import matplotlib.pyplot as plt\n",
    "import numpy as np\n",
    "import pandas as pd\n",
    "import seaborn as sns\n",
    "\n",
    "plt.style.use('seaborn-v0_8')\n",
    "plt.rcParams.update({'font.size': 8})"
   ]
  },
  {
   "cell_type": "code",
   "execution_count": 2,
   "metadata": {},
   "outputs": [
    {
     "data": {
      "text/plain": [
       "0        881250949.0\n",
       "1        891717742.0\n",
       "2        878887116.0\n",
       "3        880606923.0\n",
       "4        886397596.0\n",
       "            ...     \n",
       "99995    880175444.0\n",
       "99996    879795543.0\n",
       "99997    874795795.0\n",
       "99998    882399156.0\n",
       "99999    879959583.0\n",
       "Name: timestamp, Length: 100000, dtype: float64"
      ]
     },
     "execution_count": 2,
     "metadata": {},
     "output_type": "execute_result"
    }
   ],
   "source": [
    "model = 'BPR'\n",
    "dataset = 'ml-100k'\n",
    "\n",
    "config_dict = {\n",
    "    # 'normalize_field': None,\n",
    "    'normalize_all': False,\n",
    "    'train_batch_size': 1024,\n",
    "    'eval_batch_size': 1024,\n",
    "    'load_col': {\"inter\": ['user_id', 'item_id', 'timestamp']},\n",
    "    'train_neg_sample_args': {\n",
    "        'distribution': 'uniform',\n",
    "        'sample_num': 30,\n",
    "        'dynamic': False,\n",
    "        'candidate_num': 0,\n",
    "    },\n",
    "    'eval_args': {\n",
    "        \"order\": \"TO\",\n",
    "        \"split\": { \"LS\": \"valid_and_test\" },\n",
    "        \"group_by\": None,\n",
    "        'mode': \"full\"\n",
    "    },\n",
    "    # 'train_neg_sample_args': None\n",
    "}\n",
    "\n",
    "config = Config(\n",
    "    model=model,\n",
    "    dataset=dataset,\n",
    "\n",
    "    config_dict=config_dict,\n",
    ")\n",
    "\n",
    "dataset = create_dataset(config)\n",
    "\n",
    "run_recbole(model=model, dataset=dataset, config_dict=config_dict)\n",
    "\n",
    "dataset.inter_feat['timestamp']"
   ]
  },
  {
   "cell_type": "code",
   "execution_count": 9,
   "metadata": {},
   "outputs": [
    {
     "data": {
      "text/plain": [
       "(976324045.0, 1190)"
      ]
     },
     "execution_count": 9,
     "metadata": {},
     "output_type": "execute_result"
    }
   ],
   "source": [
    "def get_suitable_cutoff(ds_name: str) -> tuple:\n",
    "    \"\"\"Get suitable cutoff timestamp: at which there are the most active users\n",
    "\n",
    "    Args:\n",
    "        ds_name (str): dataset name\n",
    "\n",
    "    Returns:\n",
    "        tuple: suitable timestamp and the number of active users\n",
    "    \"\"\"\n",
    "\n",
    "    # Get dataset without normalizing the timestamp\n",
    "    config_dict = {\n",
    "        'normalize_all': False,\n",
    "\n",
    "        'load_col': {\"inter\": ['user_id', 'item_id', 'timestamp']},\n",
    "        'train_neg_sample_args': None,\n",
    "\n",
    "        'eval_args': {\n",
    "            \"order\": \"TO\",\n",
    "            \"split\": { \"LS\": \"valid_and_test\" },\n",
    "            \"group_by\": None,\n",
    "            'mode': 'full'\n",
    "        },\n",
    "    }\n",
    "    config = Config(\n",
    "        model='NPE',\n",
    "        dataset=ds_name,\n",
    "        config_dict=config_dict,\n",
    "    )\n",
    "    init_seed(config[\"seed\"], config[\"reproducibility\"])\n",
    "    df = create_dataset(config).inter_feat.copy()\n",
    "\n",
    "    # Create dataframe of users and corresponding first/last timestamp\n",
    "    user_max_ts = df.groupby('user_id')['timestamp'].max()\n",
    "    user_min_ts = df.groupby('user_id')['timestamp'].min()\n",
    "    df_user = pd.DataFrame(\n",
    "        {\n",
    "            'max': user_max_ts,\n",
    "            'min': user_min_ts,\n",
    "        },\n",
    "        index=user_max_ts.index\n",
    "    )\n",
    "\n",
    "    counts = defaultdict(int) \n",
    "    for ts in df_user['min']:\n",
    "        counts[ts] += 1\n",
    "    for ts in df_user['max']:\n",
    "        counts[ts] -= 1\n",
    "\n",
    "    timestamps = sorted(counts.keys())\n",
    "    accum = {}\n",
    "\n",
    "    s = 0\n",
    "    for ts in timestamps:\n",
    "        s += counts[ts]\n",
    "        accum[ts] = s\n",
    "    series = pd.Series(accum)\n",
    "\n",
    "    suitable_ts = series.idxmax()\n",
    "    max_active_user = series[suitable_ts]\n",
    "\n",
    "    return suitable_ts, max_active_user\n",
    "\n",
    "get_suitable_cutoff('ml-1M')"
   ]
  },
  {
   "cell_type": "code",
   "execution_count": 10,
   "metadata": {},
   "outputs": [
    {
     "data": {
      "text/plain": [
       "(1373846400.0, 64126)"
      ]
     },
     "execution_count": 10,
     "metadata": {},
     "output_type": "execute_result"
    }
   ],
   "source": [
    "get_suitable_cutoff('amazon-automotive')"
   ]
  }
 ],
 "metadata": {
  "kernelspec": {
   "display_name": "py",
   "language": "python",
   "name": "python3"
  },
  "language_info": {
   "codemirror_mode": {
    "name": "ipython",
    "version": 3
   },
   "file_extension": ".py",
   "mimetype": "text/x-python",
   "name": "python",
   "nbconvert_exporter": "python",
   "pygments_lexer": "ipython3",
   "version": "3.10.13"
  }
 },
 "nbformat": 4,
 "nbformat_minor": 2
}
