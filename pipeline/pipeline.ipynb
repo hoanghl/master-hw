{
 "cells": [
  {
   "cell_type": "code",
   "execution_count": 5,
   "metadata": {},
   "outputs": [
    {
     "name": "stdout",
     "output_type": "stream",
     "text": [
      "The autoreload extension is already loaded. To reload it, use:\n",
      "  %reload_ext autoreload\n"
     ]
    }
   ],
   "source": [
    "%load_ext autoreload\n",
    "%autoreload 2"
   ]
  },
  {
   "cell_type": "code",
   "execution_count": 6,
   "metadata": {},
   "outputs": [],
   "source": [
    "import json\n",
    "import yaml\n",
    "from collections import defaultdict\n",
    "\n",
    "import pandas as pd\n",
    "from recbole.config import Config\n",
    "from recbole.data import data_preparation, create_dataset\n",
    "from recbole.trainer import HyperTuning\n",
    "from recbole.utils import (\n",
    "    get_model,\n",
    "    get_trainer,\n",
    "    init_seed\n",
    ")\n",
    "\n",
    "import utils\n",
    "from real_temporal import TimeCutoffDataset"
   ]
  },
  {
   "cell_type": "markdown",
   "metadata": {},
   "source": [
    "# 1. Declarations & Definitions"
   ]
  },
  {
   "cell_type": "markdown",
   "metadata": {},
   "source": [
    "## 1.1. Define flags and global variables"
   ]
  },
  {
   "cell_type": "code",
   "execution_count": 7,
   "metadata": {},
   "outputs": [],
   "source": [
    "use_TimeCutoff = True\n",
    "reproducible = True\n",
    "seed = 42"
   ]
  },
  {
   "cell_type": "markdown",
   "metadata": {},
   "source": [
    "## 1.2. Define configurations\n",
    "\n",
    "Configuration for data, model, training and evaluation"
   ]
  },
  {
   "cell_type": "code",
   "execution_count": 8,
   "metadata": {},
   "outputs": [
    {
     "data": {
      "text/plain": [
       "(976324045.0, 1190)"
      ]
     },
     "execution_count": 8,
     "metadata": {},
     "output_type": "execute_result"
    }
   ],
   "source": [
    "def get_suitable_cutoff(ds_name: str) -> tuple:\n",
    "    \"\"\"Get suitable cutoff timestamp: at which there are the most active users\n",
    "\n",
    "    Args:\n",
    "        ds_name (str): dataset name\n",
    "\n",
    "    Returns:\n",
    "        tuple: suitable timestamp and the number of active users\n",
    "    \"\"\"\n",
    "\n",
    "    # Get dataset without normalizing the timestamp\n",
    "    config_dict = {\n",
    "        'normalize_all': False,\n",
    "\n",
    "        'load_col': {\"inter\": ['user_id', 'item_id', 'timestamp']},\n",
    "        'train_neg_sample_args': None,\n",
    "\n",
    "        'eval_args': {\n",
    "            \"order\": \"TO\",\n",
    "            \"split\": { \"LS\": \"valid_and_test\" },\n",
    "            \"group_by\": None,\n",
    "            'mode': 'full'\n",
    "        },\n",
    "    }\n",
    "    config = Config(\n",
    "        model='NPE',\n",
    "        dataset=ds_name,\n",
    "        config_dict=config_dict,\n",
    "    )\n",
    "    init_seed(config[\"seed\"], config[\"reproducibility\"])\n",
    "    df = create_dataset(config).inter_feat.copy()\n",
    "\n",
    "    # Create dataframe of users and corresponding first/last timestamp\n",
    "    user_max_ts = df.groupby('user_id')['timestamp'].max()\n",
    "    user_min_ts = df.groupby('user_id')['timestamp'].min()\n",
    "    df_user = pd.DataFrame(\n",
    "        {\n",
    "            'max': user_max_ts,\n",
    "            'min': user_min_ts,\n",
    "        },\n",
    "        index=user_max_ts.index\n",
    "    )\n",
    "\n",
    "    counts = defaultdict(int) \n",
    "    for ts in df_user['min']:\n",
    "        counts[ts] += 1\n",
    "    for ts in df_user['max']:\n",
    "        counts[ts] -= 1\n",
    "\n",
    "    timestamps = sorted(counts.keys())\n",
    "    accum = {}\n",
    "\n",
    "    s = 0\n",
    "    for ts in timestamps:\n",
    "        s += counts[ts]\n",
    "        accum[ts] = s\n",
    "    series = pd.Series(accum)\n",
    "\n",
    "    suitable_ts = series.idxmax()\n",
    "    max_active_user = series[suitable_ts]\n",
    "\n",
    "    return suitable_ts, max_active_user\n",
    "\n",
    "get_suitable_cutoff('ml-1M')"
   ]
  },
  {
   "cell_type": "code",
   "execution_count": 11,
   "metadata": {},
   "outputs": [],
   "source": [
    "config_dict = {\n",
    "    # For model\n",
    "    'model': \"Caser\",\n",
    "    'embedding_size': 64,\n",
    "    'n_v': 4,\n",
    "    'n_h': 8,\n",
    "    'reg_weight': 1e-4,\n",
    "    'dropout_prob': .4,\n",
    "    'loss_type': \"CE\",\n",
    "\n",
    "    # For data\n",
    "    'dataset': 'ml-1M',\n",
    "    'load_col': {\"inter\": ['user_id', 'item_id', 'timestamp']},\n",
    "    'use_TimeCutoff': use_TimeCutoff,\n",
    "\n",
    "    # For training\n",
    "    'epochs': 500,\n",
    "    'train_batch_size': 4096,\n",
    "    'eval_step': 5,\n",
    "    'stopping_step': 5,\n",
    "    'learning_rate': 1e-3,\n",
    "    'train_neg_sample_args': None,\n",
    "    # 'train_neg_sample_args': {\n",
    "    #     'distribution': 'uniform',\n",
    "    #     'sample_num': 1,\n",
    "    #     'dynamic':  True,\n",
    "    #     'candidate_num': 0\n",
    "    # },\n",
    "    \n",
    "    # For evaluation\n",
    "    'eval_batch_size': 4096,\n",
    "    'metrics': [\"NDCG\", \"Precision\", \"Recall\", \"MRR\", \"Hit\", \"MAP\"],\n",
    "    'topk': 10,\n",
    "    'valid_metric': 'NDCG@10',   # evaluation metric for earlystopping\n",
    "\n",
    "    # Environment\n",
    "    'checkpoint_dir': utils.get_path_dir_ckpt(),\n",
    "    'device': 'mps',\n",
    "    'show_progress': True,\n",
    "    'reproducibility': reproducible,\n",
    "    'seed': seed,\n",
    "}\n",
    "\n",
    "if use_TimeCutoff is True:\n",
    "    config_dict = {\n",
    "        **config_dict,\n",
    "        'eval_args': {\n",
    "            \"order\": \"TO\",\n",
    "             \"split\": {\"CO\": '976324045'},\n",
    "            \"group_by\": 'user_id',\n",
    "            'mode': 'full'\n",
    "        },\n",
    "    }\n",
    "else:\n",
    "    config_dict = {\n",
    "        **config_dict,\n",
    "        'eval_args': {\n",
    "            \"order\": \"TO\",\n",
    "            \"split\": { \"LS\": \"valid_and_test\" },\n",
    "            \"group_by\": None,\n",
    "            'mode': 'full'\n",
    "        },\n",
    "    }"
   ]
  },
  {
   "cell_type": "markdown",
   "metadata": {},
   "source": [
    "# 2. Train"
   ]
  },
  {
   "cell_type": "markdown",
   "metadata": {},
   "source": [
    "## 2.1. Declare necessary components for training"
   ]
  },
  {
   "cell_type": "code",
   "execution_count": 12,
   "metadata": {},
   "outputs": [],
   "source": [
    "config = Config(config_dict=config_dict)\n",
    "\n",
    "init_seed(config[\"seed\"], config[\"reproducibility\"])\n",
    "\n",
    "# Define data related things\n",
    "if use_TimeCutoff:\n",
    "    dataset = TimeCutoffDataset(config)\n",
    "else:\n",
    "    dataset = create_dataset(config)\n",
    "train_data, valid_data, test_data = data_preparation(config, dataset)\n",
    "\n",
    "# Define model\n",
    "model_name = config['model']\n",
    "model = get_model(model_name)(config, train_data._dataset).to(config['device'])\n",
    "\n",
    "# Define trainer\n",
    "trainer = get_trainer(config['MODEL_TYPE'], config['model'])(config, model)"
   ]
  },
  {
   "cell_type": "code",
   "execution_count": 13,
   "metadata": {},
   "outputs": [
    {
     "name": "stderr",
     "output_type": "stream",
     "text": [
      "\u001b[32m2024-07-03 21:00:29.767\u001b[0m | \u001b[1mINFO    \u001b[0m | \u001b[36m__main__\u001b[0m:\u001b[36m<module>\u001b[0m:\u001b[36m4\u001b[0m - \u001b[1m\n",
      "\u001b[1;35mGeneral Hyper Parameters:\n",
      "\u001b[0m\u001b[1;36mgpu_id\u001b[0m =\u001b[1;33m 0\u001b[0m\n",
      "\u001b[1;36muse_gpu\u001b[0m =\u001b[1;33m True\u001b[0m\n",
      "\u001b[1;36mseed\u001b[0m =\u001b[1;33m 42\u001b[0m\n",
      "\u001b[1;36mstate\u001b[0m =\u001b[1;33m INFO\u001b[0m\n",
      "\u001b[1;36mreproducibility\u001b[0m =\u001b[1;33m True\u001b[0m\n",
      "\u001b[1;36mdata_path\u001b[0m =\u001b[1;33m dataset/ml-1M\u001b[0m\n",
      "\u001b[1;36mcheckpoint_dir\u001b[0m =\u001b[1;33m logs/Jul03_205409/ckpts\u001b[0m\n",
      "\u001b[1;36mshow_progress\u001b[0m =\u001b[1;33m True\u001b[0m\n",
      "\u001b[1;36msave_dataset\u001b[0m =\u001b[1;33m False\u001b[0m\n",
      "\u001b[1;36mdataset_save_path\u001b[0m =\u001b[1;33m None\u001b[0m\n",
      "\u001b[1;36msave_dataloaders\u001b[0m =\u001b[1;33m False\u001b[0m\n",
      "\u001b[1;36mdataloaders_save_path\u001b[0m =\u001b[1;33m None\u001b[0m\n",
      "\u001b[1;36mlog_wandb\u001b[0m =\u001b[1;33m False\u001b[0m\n",
      "\n",
      "\u001b[1;35mTraining Hyper Parameters:\n",
      "\u001b[0m\u001b[1;36mepochs\u001b[0m =\u001b[1;33m 500\u001b[0m\n",
      "\u001b[1;36mtrain_batch_size\u001b[0m =\u001b[1;33m 4096\u001b[0m\n",
      "\u001b[1;36mlearner\u001b[0m =\u001b[1;33m adam\u001b[0m\n",
      "\u001b[1;36mlearning_rate\u001b[0m =\u001b[1;33m 0.001\u001b[0m\n",
      "\u001b[1;36mtrain_neg_sample_args\u001b[0m =\u001b[1;33m {'distribution': 'none', 'sample_num': 'none', 'alpha': 'none', 'dynamic': False, 'candidate_num': 0}\u001b[0m\n",
      "\u001b[1;36meval_step\u001b[0m =\u001b[1;33m 5\u001b[0m\n",
      "\u001b[1;36mstopping_step\u001b[0m =\u001b[1;33m 5\u001b[0m\n",
      "\u001b[1;36mclip_grad_norm\u001b[0m =\u001b[1;33m None\u001b[0m\n",
      "\u001b[1;36mweight_decay\u001b[0m =\u001b[1;33m 0.0\u001b[0m\n",
      "\u001b[1;36mloss_decimal_place\u001b[0m =\u001b[1;33m 4\u001b[0m\n",
      "\n",
      "\u001b[1;35mEvaluation Hyper Parameters:\n",
      "\u001b[0m\u001b[1;36meval_args\u001b[0m =\u001b[1;33m {'split': {'CO': '976324045'}, 'order': 'TO', 'group_by': 'user_id', 'mode': {'valid': 'full', 'test': 'full'}}\u001b[0m\n",
      "\u001b[1;36mrepeatable\u001b[0m =\u001b[1;33m True\u001b[0m\n",
      "\u001b[1;36mmetrics\u001b[0m =\u001b[1;33m ['NDCG', 'Precision', 'Recall', 'MRR', 'Hit', 'MAP']\u001b[0m\n",
      "\u001b[1;36mtopk\u001b[0m =\u001b[1;33m [10]\u001b[0m\n",
      "\u001b[1;36mvalid_metric\u001b[0m =\u001b[1;33m NDCG@10\u001b[0m\n",
      "\u001b[1;36mvalid_metric_bigger\u001b[0m =\u001b[1;33m True\u001b[0m\n",
      "\u001b[1;36meval_batch_size\u001b[0m =\u001b[1;33m 4096\u001b[0m\n",
      "\u001b[1;36mmetric_decimal_place\u001b[0m =\u001b[1;33m 4\u001b[0m\n",
      "\n",
      "\u001b[1;35mDataset Hyper Parameters:\n",
      "\u001b[0m\u001b[1;36mfield_separator\u001b[0m =\u001b[1;33m \t\u001b[0m\n",
      "\u001b[1;36mseq_separator\u001b[0m =\u001b[1;33m  \u001b[0m\n",
      "\u001b[1;36mUSER_ID_FIELD\u001b[0m =\u001b[1;33m user_id\u001b[0m\n",
      "\u001b[1;36mITEM_ID_FIELD\u001b[0m =\u001b[1;33m item_id\u001b[0m\n",
      "\u001b[1;36mRATING_FIELD\u001b[0m =\u001b[1;33m rating\u001b[0m\n",
      "\u001b[1;36mTIME_FIELD\u001b[0m =\u001b[1;33m timestamp\u001b[0m\n",
      "\u001b[1;36mseq_len\u001b[0m =\u001b[1;33m None\u001b[0m\n",
      "\u001b[1;36mLABEL_FIELD\u001b[0m =\u001b[1;33m label\u001b[0m\n",
      "\u001b[1;36mthreshold\u001b[0m =\u001b[1;33m None\u001b[0m\n",
      "\u001b[1;36mNEG_PREFIX\u001b[0m =\u001b[1;33m neg_\u001b[0m\n",
      "\u001b[1;36mload_col\u001b[0m =\u001b[1;33m {'inter': ['user_id', 'item_id', 'timestamp']}\u001b[0m\n",
      "\u001b[1;36munload_col\u001b[0m =\u001b[1;33m None\u001b[0m\n",
      "\u001b[1;36munused_col\u001b[0m =\u001b[1;33m None\u001b[0m\n",
      "\u001b[1;36madditional_feat_suffix\u001b[0m =\u001b[1;33m None\u001b[0m\n",
      "\u001b[1;36mrm_dup_inter\u001b[0m =\u001b[1;33m None\u001b[0m\n",
      "\u001b[1;36mval_interval\u001b[0m =\u001b[1;33m None\u001b[0m\n",
      "\u001b[1;36mfilter_inter_by_user_or_item\u001b[0m =\u001b[1;33m True\u001b[0m\n",
      "\u001b[1;36muser_inter_num_interval\u001b[0m =\u001b[1;33m [0,inf)\u001b[0m\n",
      "\u001b[1;36mitem_inter_num_interval\u001b[0m =\u001b[1;33m [0,inf)\u001b[0m\n",
      "\u001b[1;36malias_of_user_id\u001b[0m =\u001b[1;33m None\u001b[0m\n",
      "\u001b[1;36malias_of_item_id\u001b[0m =\u001b[1;33m None\u001b[0m\n",
      "\u001b[1;36malias_of_entity_id\u001b[0m =\u001b[1;33m None\u001b[0m\n",
      "\u001b[1;36malias_of_relation_id\u001b[0m =\u001b[1;33m None\u001b[0m\n",
      "\u001b[1;36mpreload_weight\u001b[0m =\u001b[1;33m None\u001b[0m\n",
      "\u001b[1;36mnormalize_field\u001b[0m =\u001b[1;33m None\u001b[0m\n",
      "\u001b[1;36mnormalize_all\u001b[0m =\u001b[1;33m None\u001b[0m\n",
      "\u001b[1;36mITEM_LIST_LENGTH_FIELD\u001b[0m =\u001b[1;33m item_length\u001b[0m\n",
      "\u001b[1;36mLIST_SUFFIX\u001b[0m =\u001b[1;33m _list\u001b[0m\n",
      "\u001b[1;36mMAX_ITEM_LIST_LENGTH\u001b[0m =\u001b[1;33m 50\u001b[0m\n",
      "\u001b[1;36mPOSITION_FIELD\u001b[0m =\u001b[1;33m position_id\u001b[0m\n",
      "\u001b[1;36mHEAD_ENTITY_ID_FIELD\u001b[0m =\u001b[1;33m head_id\u001b[0m\n",
      "\u001b[1;36mTAIL_ENTITY_ID_FIELD\u001b[0m =\u001b[1;33m tail_id\u001b[0m\n",
      "\u001b[1;36mRELATION_ID_FIELD\u001b[0m =\u001b[1;33m relation_id\u001b[0m\n",
      "\u001b[1;36mENTITY_ID_FIELD\u001b[0m =\u001b[1;33m entity_id\u001b[0m\n",
      "\u001b[1;36mbenchmark_filename\u001b[0m =\u001b[1;33m None\u001b[0m\n",
      "\n",
      "\u001b[1;35mOther Hyper Parameters: \n",
      "\u001b[0m\u001b[1;36mworker\u001b[0m = \u001b[1;33m0\u001b[0m\n",
      "\u001b[1;36mwandb_project\u001b[0m = \u001b[1;33mrecbole\u001b[0m\n",
      "\u001b[1;36mshuffle\u001b[0m = \u001b[1;33mTrue\u001b[0m\n",
      "\u001b[1;36mrequire_pow\u001b[0m = \u001b[1;33mFalse\u001b[0m\n",
      "\u001b[1;36menable_amp\u001b[0m = \u001b[1;33mFalse\u001b[0m\n",
      "\u001b[1;36menable_scaler\u001b[0m = \u001b[1;33mFalse\u001b[0m\n",
      "\u001b[1;36mtransform\u001b[0m = \u001b[1;33mNone\u001b[0m\n",
      "\u001b[1;36membedding_size\u001b[0m = \u001b[1;33m64\u001b[0m\n",
      "\u001b[1;36mdropout_prob\u001b[0m = \u001b[1;33m0.4\u001b[0m\n",
      "\u001b[1;36mreg_weight\u001b[0m = \u001b[1;33m0.0001\u001b[0m\n",
      "\u001b[1;36mnv\u001b[0m = \u001b[1;33m4\u001b[0m\n",
      "\u001b[1;36mnh\u001b[0m = \u001b[1;33m8\u001b[0m\n",
      "\u001b[1;36mloss_type\u001b[0m = \u001b[1;33mCE\u001b[0m\n",
      "\u001b[1;36mnumerical_features\u001b[0m = \u001b[1;33m[]\u001b[0m\n",
      "\u001b[1;36mdiscretization\u001b[0m = \u001b[1;33mNone\u001b[0m\n",
      "\u001b[1;36mkg_reverse_r\u001b[0m = \u001b[1;33mFalse\u001b[0m\n",
      "\u001b[1;36mentity_kg_num_interval\u001b[0m = \u001b[1;33m[0,inf)\u001b[0m\n",
      "\u001b[1;36mrelation_kg_num_interval\u001b[0m = \u001b[1;33m[0,inf)\u001b[0m\n",
      "\u001b[1;36mMODEL_TYPE\u001b[0m = \u001b[1;33mModelType.SEQUENTIAL\u001b[0m\n",
      "\u001b[1;36mn_v\u001b[0m = \u001b[1;33m4\u001b[0m\n",
      "\u001b[1;36mn_h\u001b[0m = \u001b[1;33m8\u001b[0m\n",
      "\u001b[1;36muse_TimeCutoff\u001b[0m = \u001b[1;33mTrue\u001b[0m\n",
      "\u001b[1;36mdevice\u001b[0m = \u001b[1;33mcpu\u001b[0m\n",
      "\u001b[1;36mMODEL_INPUT_TYPE\u001b[0m = \u001b[1;33mInputType.POINTWISE\u001b[0m\n",
      "\u001b[1;36meval_type\u001b[0m = \u001b[1;33mEvaluatorType.RANKING\u001b[0m\n",
      "\u001b[1;36msingle_spec\u001b[0m = \u001b[1;33mTrue\u001b[0m\n",
      "\u001b[1;36mlocal_rank\u001b[0m = \u001b[1;33m0\u001b[0m\n",
      "\u001b[1;36mvalid_neg_sample_args\u001b[0m = \u001b[1;33m{'distribution': 'uniform', 'sample_num': 'none'}\u001b[0m\n",
      "\u001b[1;36mtest_neg_sample_args\u001b[0m = \u001b[1;33m{'distribution': 'uniform', 'sample_num': 'none'}\u001b[0m\n",
      "\n",
      "\u001b[0m\n",
      "\u001b[32m2024-07-03 21:00:29.769\u001b[0m | \u001b[1mINFO    \u001b[0m | \u001b[36m__main__\u001b[0m:\u001b[36m<module>\u001b[0m:\u001b[36m7\u001b[0m - \u001b[1m\u001b[1;35mml-1M\u001b[0m\n",
      "\u001b[1;34mThe number of users\u001b[0m: 6041\n",
      "\u001b[1;34mAverage actions of users\u001b[0m: 164.5975165562914\n",
      "\u001b[1;34mThe number of items\u001b[0m: 3707\n",
      "\u001b[1;34mAverage actions of items\u001b[0m: 268.5491626148028\n",
      "\u001b[1;34mThe number of inters\u001b[0m: 994169\n",
      "\u001b[1;34mThe sparsity of the dataset\u001b[0m: 95.56055382188084%\n",
      "\u001b[1;34mRemain Fields\u001b[0m: ['user_id', 'item_id', 'timestamp', 'item_id_list', 'timestamp_list', 'item_length']\u001b[0m\n",
      "\u001b[32m2024-07-03 21:00:29.910\u001b[0m | \u001b[1mINFO    \u001b[0m | \u001b[36m__main__\u001b[0m:\u001b[36m<module>\u001b[0m:\u001b[36m10\u001b[0m - \u001b[1mCaser(\n",
      "  (user_embedding): Embedding(6041, 64, padding_idx=0)\n",
      "  (item_embedding): Embedding(3707, 64, padding_idx=0)\n",
      "  (conv_v): Conv2d(1, 4, kernel_size=(50, 1), stride=(1, 1))\n",
      "  (conv_h): ModuleList(\n",
      "    (0): Conv2d(1, 8, kernel_size=(1, 64), stride=(1, 1))\n",
      "    (1): Conv2d(1, 8, kernel_size=(2, 64), stride=(1, 1))\n",
      "    (2): Conv2d(1, 8, kernel_size=(3, 64), stride=(1, 1))\n",
      "    (3): Conv2d(1, 8, kernel_size=(4, 64), stride=(1, 1))\n",
      "    (4): Conv2d(1, 8, kernel_size=(5, 64), stride=(1, 1))\n",
      "    (5): Conv2d(1, 8, kernel_size=(6, 64), stride=(1, 1))\n",
      "    (6): Conv2d(1, 8, kernel_size=(7, 64), stride=(1, 1))\n",
      "    (7): Conv2d(1, 8, kernel_size=(8, 64), stride=(1, 1))\n",
      "    (8): Conv2d(1, 8, kernel_size=(9, 64), stride=(1, 1))\n",
      "    (9): Conv2d(1, 8, kernel_size=(10, 64), stride=(1, 1))\n",
      "    (10): Conv2d(1, 8, kernel_size=(11, 64), stride=(1, 1))\n",
      "    (11): Conv2d(1, 8, kernel_size=(12, 64), stride=(1, 1))\n",
      "    (12): Conv2d(1, 8, kernel_size=(13, 64), stride=(1, 1))\n",
      "    (13): Conv2d(1, 8, kernel_size=(14, 64), stride=(1, 1))\n",
      "    (14): Conv2d(1, 8, kernel_size=(15, 64), stride=(1, 1))\n",
      "    (15): Conv2d(1, 8, kernel_size=(16, 64), stride=(1, 1))\n",
      "    (16): Conv2d(1, 8, kernel_size=(17, 64), stride=(1, 1))\n",
      "    (17): Conv2d(1, 8, kernel_size=(18, 64), stride=(1, 1))\n",
      "    (18): Conv2d(1, 8, kernel_size=(19, 64), stride=(1, 1))\n",
      "    (19): Conv2d(1, 8, kernel_size=(20, 64), stride=(1, 1))\n",
      "    (20): Conv2d(1, 8, kernel_size=(21, 64), stride=(1, 1))\n",
      "    (21): Conv2d(1, 8, kernel_size=(22, 64), stride=(1, 1))\n",
      "    (22): Conv2d(1, 8, kernel_size=(23, 64), stride=(1, 1))\n",
      "    (23): Conv2d(1, 8, kernel_size=(24, 64), stride=(1, 1))\n",
      "    (24): Conv2d(1, 8, kernel_size=(25, 64), stride=(1, 1))\n",
      "    (25): Conv2d(1, 8, kernel_size=(26, 64), stride=(1, 1))\n",
      "    (26): Conv2d(1, 8, kernel_size=(27, 64), stride=(1, 1))\n",
      "    (27): Conv2d(1, 8, kernel_size=(28, 64), stride=(1, 1))\n",
      "    (28): Conv2d(1, 8, kernel_size=(29, 64), stride=(1, 1))\n",
      "    (29): Conv2d(1, 8, kernel_size=(30, 64), stride=(1, 1))\n",
      "    (30): Conv2d(1, 8, kernel_size=(31, 64), stride=(1, 1))\n",
      "    (31): Conv2d(1, 8, kernel_size=(32, 64), stride=(1, 1))\n",
      "    (32): Conv2d(1, 8, kernel_size=(33, 64), stride=(1, 1))\n",
      "    (33): Conv2d(1, 8, kernel_size=(34, 64), stride=(1, 1))\n",
      "    (34): Conv2d(1, 8, kernel_size=(35, 64), stride=(1, 1))\n",
      "    (35): Conv2d(1, 8, kernel_size=(36, 64), stride=(1, 1))\n",
      "    (36): Conv2d(1, 8, kernel_size=(37, 64), stride=(1, 1))\n",
      "    (37): Conv2d(1, 8, kernel_size=(38, 64), stride=(1, 1))\n",
      "    (38): Conv2d(1, 8, kernel_size=(39, 64), stride=(1, 1))\n",
      "    (39): Conv2d(1, 8, kernel_size=(40, 64), stride=(1, 1))\n",
      "    (40): Conv2d(1, 8, kernel_size=(41, 64), stride=(1, 1))\n",
      "    (41): Conv2d(1, 8, kernel_size=(42, 64), stride=(1, 1))\n",
      "    (42): Conv2d(1, 8, kernel_size=(43, 64), stride=(1, 1))\n",
      "    (43): Conv2d(1, 8, kernel_size=(44, 64), stride=(1, 1))\n",
      "    (44): Conv2d(1, 8, kernel_size=(45, 64), stride=(1, 1))\n",
      "    (45): Conv2d(1, 8, kernel_size=(46, 64), stride=(1, 1))\n",
      "    (46): Conv2d(1, 8, kernel_size=(47, 64), stride=(1, 1))\n",
      "    (47): Conv2d(1, 8, kernel_size=(48, 64), stride=(1, 1))\n",
      "    (48): Conv2d(1, 8, kernel_size=(49, 64), stride=(1, 1))\n",
      "    (49): Conv2d(1, 8, kernel_size=(50, 64), stride=(1, 1))\n",
      "  )\n",
      "  (fc1): Linear(in_features=656, out_features=64, bias=True)\n",
      "  (fc2): Linear(in_features=128, out_features=64, bias=True)\n",
      "  (dropout): Dropout(p=0.4, inplace=False)\n",
      "  (ac_conv): ReLU()\n",
      "  (ac_fc): ReLU()\n",
      "  (reg_loss): RegLoss()\n",
      "  (loss_fct): CrossEntropyLoss()\n",
      ")\u001b[1;34m\n",
      "Trainable parameters\u001b[0m: 1327580\u001b[0m\n"
     ]
    },
    {
     "name": "stdout",
     "output_type": "stream",
     "text": [
      " === Config === \n",
      " === Dataset === \n",
      " === Model === \n"
     ]
    }
   ],
   "source": [
    "logger = utils.get_logger()\n",
    "\n",
    "print(\" === Config === \")\n",
    "logger.info(config)\n",
    "\n",
    "print(\" === Dataset === \")\n",
    "logger.info(dataset)\n",
    "\n",
    "print(\" === Model === \")\n",
    "logger.info(model)"
   ]
  },
  {
   "cell_type": "markdown",
   "metadata": {},
   "source": [
    "## 2.2. Start training"
   ]
  },
  {
   "cell_type": "code",
   "execution_count": 14,
   "metadata": {},
   "outputs": [
    {
     "name": "stderr",
     "output_type": "stream",
     "text": [
      "\u001b[1;35mTrain     0\u001b[0m:   7%|███▍                                           | 15/204 [04:48<1:00:34, 19.23s/it]\u001b[0m\n"
     ]
    },
    {
     "ename": "KeyboardInterrupt",
     "evalue": "",
     "output_type": "error",
     "traceback": [
      "\u001b[0;31m---------------------------------------------------------------------------\u001b[0m",
      "\u001b[0;31mKeyboardInterrupt\u001b[0m                         Traceback (most recent call last)",
      "Cell \u001b[0;32mIn[14], line 1\u001b[0m\n\u001b[0;32m----> 1\u001b[0m best_valid_score, best_valid_result \u001b[38;5;241m=\u001b[39m \u001b[43mtrainer\u001b[49m\u001b[38;5;241;43m.\u001b[39;49m\u001b[43mfit\u001b[49m\u001b[43m(\u001b[49m\n\u001b[1;32m      2\u001b[0m \u001b[43m    \u001b[49m\u001b[43mtrain_data\u001b[49m\u001b[43m,\u001b[49m\u001b[43m \u001b[49m\n\u001b[1;32m      3\u001b[0m \u001b[43m    \u001b[49m\u001b[43mvalid_data\u001b[49m\u001b[43m,\u001b[49m\n\u001b[1;32m      4\u001b[0m \u001b[43m    \u001b[49m\u001b[43mverbose\u001b[49m\u001b[38;5;241;43m=\u001b[39;49m\u001b[38;5;28;43;01mTrue\u001b[39;49;00m\u001b[43m,\u001b[49m\n\u001b[1;32m      5\u001b[0m \u001b[43m    \u001b[49m\u001b[43mshow_progress\u001b[49m\u001b[38;5;241;43m=\u001b[39;49m\u001b[43mconfig\u001b[49m\u001b[43m[\u001b[49m\u001b[38;5;124;43m\"\u001b[39;49m\u001b[38;5;124;43mshow_progress\u001b[39;49m\u001b[38;5;124;43m\"\u001b[39;49m\u001b[43m]\u001b[49m\n\u001b[1;32m      6\u001b[0m \u001b[43m)\u001b[49m\n\u001b[1;32m      8\u001b[0m \u001b[38;5;28mprint\u001b[39m(\u001b[38;5;124m\"\u001b[39m\u001b[38;5;124m** Validation result\u001b[39m\u001b[38;5;124m\"\u001b[39m)\n\u001b[1;32m      9\u001b[0m \u001b[38;5;28mprint\u001b[39m(\u001b[38;5;124mf\u001b[39m\u001b[38;5;124m\"\u001b[39m\u001b[38;5;124mbest_valid_score: \u001b[39m\u001b[38;5;132;01m{\u001b[39;00mbest_valid_score\u001b[38;5;132;01m:\u001b[39;00m\u001b[38;5;124m.4f\u001b[39m\u001b[38;5;132;01m}\u001b[39;00m\u001b[38;5;124m\"\u001b[39m)\n",
      "File \u001b[0;32m~/miniforge3/envs/py/lib/python3.10/site-packages/recbole/trainer/trainer.py:439\u001b[0m, in \u001b[0;36mTrainer.fit\u001b[0;34m(self, train_data, valid_data, verbose, saved, show_progress, callback_fn)\u001b[0m\n\u001b[1;32m    436\u001b[0m \u001b[38;5;28;01mfor\u001b[39;00m epoch_idx \u001b[38;5;129;01min\u001b[39;00m \u001b[38;5;28mrange\u001b[39m(\u001b[38;5;28mself\u001b[39m\u001b[38;5;241m.\u001b[39mstart_epoch, \u001b[38;5;28mself\u001b[39m\u001b[38;5;241m.\u001b[39mepochs):\n\u001b[1;32m    437\u001b[0m     \u001b[38;5;66;03m# train\u001b[39;00m\n\u001b[1;32m    438\u001b[0m     training_start_time \u001b[38;5;241m=\u001b[39m time()\n\u001b[0;32m--> 439\u001b[0m     train_loss \u001b[38;5;241m=\u001b[39m \u001b[38;5;28;43mself\u001b[39;49m\u001b[38;5;241;43m.\u001b[39;49m\u001b[43m_train_epoch\u001b[49m\u001b[43m(\u001b[49m\n\u001b[1;32m    440\u001b[0m \u001b[43m        \u001b[49m\u001b[43mtrain_data\u001b[49m\u001b[43m,\u001b[49m\u001b[43m \u001b[49m\u001b[43mepoch_idx\u001b[49m\u001b[43m,\u001b[49m\u001b[43m \u001b[49m\u001b[43mshow_progress\u001b[49m\u001b[38;5;241;43m=\u001b[39;49m\u001b[43mshow_progress\u001b[49m\n\u001b[1;32m    441\u001b[0m \u001b[43m    \u001b[49m\u001b[43m)\u001b[49m\n\u001b[1;32m    442\u001b[0m     \u001b[38;5;28mself\u001b[39m\u001b[38;5;241m.\u001b[39mtrain_loss_dict[epoch_idx] \u001b[38;5;241m=\u001b[39m (\n\u001b[1;32m    443\u001b[0m         \u001b[38;5;28msum\u001b[39m(train_loss) \u001b[38;5;28;01mif\u001b[39;00m \u001b[38;5;28misinstance\u001b[39m(train_loss, \u001b[38;5;28mtuple\u001b[39m) \u001b[38;5;28;01melse\u001b[39;00m train_loss\n\u001b[1;32m    444\u001b[0m     )\n\u001b[1;32m    445\u001b[0m     training_end_time \u001b[38;5;241m=\u001b[39m time()\n",
      "File \u001b[0;32m~/miniforge3/envs/py/lib/python3.10/site-packages/recbole/trainer/trainer.py:245\u001b[0m, in \u001b[0;36mTrainer._train_epoch\u001b[0;34m(self, train_data, epoch_idx, loss_func, show_progress)\u001b[0m\n\u001b[1;32m    242\u001b[0m     sync_loss \u001b[38;5;241m=\u001b[39m \u001b[38;5;28mself\u001b[39m\u001b[38;5;241m.\u001b[39msync_grad_loss()\n\u001b[1;32m    244\u001b[0m \u001b[38;5;28;01mwith\u001b[39;00m torch\u001b[38;5;241m.\u001b[39mautocast(device_type\u001b[38;5;241m=\u001b[39m\u001b[38;5;28mself\u001b[39m\u001b[38;5;241m.\u001b[39mdevice\u001b[38;5;241m.\u001b[39mtype, enabled\u001b[38;5;241m=\u001b[39m\u001b[38;5;28mself\u001b[39m\u001b[38;5;241m.\u001b[39menable_amp):\n\u001b[0;32m--> 245\u001b[0m     losses \u001b[38;5;241m=\u001b[39m \u001b[43mloss_func\u001b[49m\u001b[43m(\u001b[49m\u001b[43minteraction\u001b[49m\u001b[43m)\u001b[49m\n\u001b[1;32m    247\u001b[0m \u001b[38;5;28;01mif\u001b[39;00m \u001b[38;5;28misinstance\u001b[39m(losses, \u001b[38;5;28mtuple\u001b[39m):\n\u001b[1;32m    248\u001b[0m     loss \u001b[38;5;241m=\u001b[39m \u001b[38;5;28msum\u001b[39m(losses)\n",
      "File \u001b[0;32m~/miniforge3/envs/py/lib/python3.10/site-packages/recbole/model/sequential_recommender/caser.py:160\u001b[0m, in \u001b[0;36mCaser.calculate_loss\u001b[0;34m(self, interaction)\u001b[0m\n\u001b[1;32m    158\u001b[0m item_seq \u001b[38;5;241m=\u001b[39m interaction[\u001b[38;5;28mself\u001b[39m\u001b[38;5;241m.\u001b[39mITEM_SEQ]\n\u001b[1;32m    159\u001b[0m user \u001b[38;5;241m=\u001b[39m interaction[\u001b[38;5;28mself\u001b[39m\u001b[38;5;241m.\u001b[39mUSER_ID]\n\u001b[0;32m--> 160\u001b[0m seq_output \u001b[38;5;241m=\u001b[39m \u001b[38;5;28;43mself\u001b[39;49m\u001b[38;5;241;43m.\u001b[39;49m\u001b[43mforward\u001b[49m\u001b[43m(\u001b[49m\u001b[43muser\u001b[49m\u001b[43m,\u001b[49m\u001b[43m \u001b[49m\u001b[43mitem_seq\u001b[49m\u001b[43m)\u001b[49m\n\u001b[1;32m    161\u001b[0m pos_items \u001b[38;5;241m=\u001b[39m interaction[\u001b[38;5;28mself\u001b[39m\u001b[38;5;241m.\u001b[39mPOS_ITEM_ID]\n\u001b[1;32m    162\u001b[0m \u001b[38;5;28;01mif\u001b[39;00m \u001b[38;5;28mself\u001b[39m\u001b[38;5;241m.\u001b[39mloss_type \u001b[38;5;241m==\u001b[39m \u001b[38;5;124m\"\u001b[39m\u001b[38;5;124mBPR\u001b[39m\u001b[38;5;124m\"\u001b[39m:\n",
      "File \u001b[0;32m~/miniforge3/envs/py/lib/python3.10/site-packages/recbole/model/sequential_recommender/caser.py:131\u001b[0m, in \u001b[0;36mCaser.forward\u001b[0;34m(self, user, item_seq)\u001b[0m\n\u001b[1;32m    129\u001b[0m \u001b[38;5;28;01mif\u001b[39;00m \u001b[38;5;28mself\u001b[39m\u001b[38;5;241m.\u001b[39mn_h:\n\u001b[1;32m    130\u001b[0m     \u001b[38;5;28;01mfor\u001b[39;00m conv \u001b[38;5;129;01min\u001b[39;00m \u001b[38;5;28mself\u001b[39m\u001b[38;5;241m.\u001b[39mconv_h:\n\u001b[0;32m--> 131\u001b[0m         conv_out \u001b[38;5;241m=\u001b[39m \u001b[38;5;28mself\u001b[39m\u001b[38;5;241m.\u001b[39mac_conv(\u001b[43mconv\u001b[49m\u001b[43m(\u001b[49m\u001b[43mitem_seq_emb\u001b[49m\u001b[43m)\u001b[49m\u001b[38;5;241m.\u001b[39msqueeze(\u001b[38;5;241m3\u001b[39m))\n\u001b[1;32m    132\u001b[0m         pool_out \u001b[38;5;241m=\u001b[39m F\u001b[38;5;241m.\u001b[39mmax_pool1d(conv_out, conv_out\u001b[38;5;241m.\u001b[39msize(\u001b[38;5;241m2\u001b[39m))\u001b[38;5;241m.\u001b[39msqueeze(\u001b[38;5;241m2\u001b[39m)\n\u001b[1;32m    133\u001b[0m         out_hs\u001b[38;5;241m.\u001b[39mappend(pool_out)\n",
      "File \u001b[0;32m~/miniforge3/envs/py/lib/python3.10/site-packages/torch/nn/modules/module.py:1511\u001b[0m, in \u001b[0;36mModule._wrapped_call_impl\u001b[0;34m(self, *args, **kwargs)\u001b[0m\n\u001b[1;32m   1509\u001b[0m     \u001b[38;5;28;01mreturn\u001b[39;00m \u001b[38;5;28mself\u001b[39m\u001b[38;5;241m.\u001b[39m_compiled_call_impl(\u001b[38;5;241m*\u001b[39margs, \u001b[38;5;241m*\u001b[39m\u001b[38;5;241m*\u001b[39mkwargs)  \u001b[38;5;66;03m# type: ignore[misc]\u001b[39;00m\n\u001b[1;32m   1510\u001b[0m \u001b[38;5;28;01melse\u001b[39;00m:\n\u001b[0;32m-> 1511\u001b[0m     \u001b[38;5;28;01mreturn\u001b[39;00m \u001b[38;5;28;43mself\u001b[39;49m\u001b[38;5;241;43m.\u001b[39;49m\u001b[43m_call_impl\u001b[49m\u001b[43m(\u001b[49m\u001b[38;5;241;43m*\u001b[39;49m\u001b[43margs\u001b[49m\u001b[43m,\u001b[49m\u001b[43m \u001b[49m\u001b[38;5;241;43m*\u001b[39;49m\u001b[38;5;241;43m*\u001b[39;49m\u001b[43mkwargs\u001b[49m\u001b[43m)\u001b[49m\n",
      "File \u001b[0;32m~/miniforge3/envs/py/lib/python3.10/site-packages/torch/nn/modules/module.py:1520\u001b[0m, in \u001b[0;36mModule._call_impl\u001b[0;34m(self, *args, **kwargs)\u001b[0m\n\u001b[1;32m   1515\u001b[0m \u001b[38;5;66;03m# If we don't have any hooks, we want to skip the rest of the logic in\u001b[39;00m\n\u001b[1;32m   1516\u001b[0m \u001b[38;5;66;03m# this function, and just call forward.\u001b[39;00m\n\u001b[1;32m   1517\u001b[0m \u001b[38;5;28;01mif\u001b[39;00m \u001b[38;5;129;01mnot\u001b[39;00m (\u001b[38;5;28mself\u001b[39m\u001b[38;5;241m.\u001b[39m_backward_hooks \u001b[38;5;129;01mor\u001b[39;00m \u001b[38;5;28mself\u001b[39m\u001b[38;5;241m.\u001b[39m_backward_pre_hooks \u001b[38;5;129;01mor\u001b[39;00m \u001b[38;5;28mself\u001b[39m\u001b[38;5;241m.\u001b[39m_forward_hooks \u001b[38;5;129;01mor\u001b[39;00m \u001b[38;5;28mself\u001b[39m\u001b[38;5;241m.\u001b[39m_forward_pre_hooks\n\u001b[1;32m   1518\u001b[0m         \u001b[38;5;129;01mor\u001b[39;00m _global_backward_pre_hooks \u001b[38;5;129;01mor\u001b[39;00m _global_backward_hooks\n\u001b[1;32m   1519\u001b[0m         \u001b[38;5;129;01mor\u001b[39;00m _global_forward_hooks \u001b[38;5;129;01mor\u001b[39;00m _global_forward_pre_hooks):\n\u001b[0;32m-> 1520\u001b[0m     \u001b[38;5;28;01mreturn\u001b[39;00m \u001b[43mforward_call\u001b[49m\u001b[43m(\u001b[49m\u001b[38;5;241;43m*\u001b[39;49m\u001b[43margs\u001b[49m\u001b[43m,\u001b[49m\u001b[43m \u001b[49m\u001b[38;5;241;43m*\u001b[39;49m\u001b[38;5;241;43m*\u001b[39;49m\u001b[43mkwargs\u001b[49m\u001b[43m)\u001b[49m\n\u001b[1;32m   1522\u001b[0m \u001b[38;5;28;01mtry\u001b[39;00m:\n\u001b[1;32m   1523\u001b[0m     result \u001b[38;5;241m=\u001b[39m \u001b[38;5;28;01mNone\u001b[39;00m\n",
      "File \u001b[0;32m~/miniforge3/envs/py/lib/python3.10/site-packages/torch/nn/modules/conv.py:460\u001b[0m, in \u001b[0;36mConv2d.forward\u001b[0;34m(self, input)\u001b[0m\n\u001b[1;32m    459\u001b[0m \u001b[38;5;28;01mdef\u001b[39;00m \u001b[38;5;21mforward\u001b[39m(\u001b[38;5;28mself\u001b[39m, \u001b[38;5;28minput\u001b[39m: Tensor) \u001b[38;5;241m-\u001b[39m\u001b[38;5;241m>\u001b[39m Tensor:\n\u001b[0;32m--> 460\u001b[0m     \u001b[38;5;28;01mreturn\u001b[39;00m \u001b[38;5;28;43mself\u001b[39;49m\u001b[38;5;241;43m.\u001b[39;49m\u001b[43m_conv_forward\u001b[49m\u001b[43m(\u001b[49m\u001b[38;5;28;43minput\u001b[39;49m\u001b[43m,\u001b[49m\u001b[43m \u001b[49m\u001b[38;5;28;43mself\u001b[39;49m\u001b[38;5;241;43m.\u001b[39;49m\u001b[43mweight\u001b[49m\u001b[43m,\u001b[49m\u001b[43m \u001b[49m\u001b[38;5;28;43mself\u001b[39;49m\u001b[38;5;241;43m.\u001b[39;49m\u001b[43mbias\u001b[49m\u001b[43m)\u001b[49m\n",
      "File \u001b[0;32m~/miniforge3/envs/py/lib/python3.10/site-packages/torch/nn/modules/conv.py:456\u001b[0m, in \u001b[0;36mConv2d._conv_forward\u001b[0;34m(self, input, weight, bias)\u001b[0m\n\u001b[1;32m    452\u001b[0m \u001b[38;5;28;01mif\u001b[39;00m \u001b[38;5;28mself\u001b[39m\u001b[38;5;241m.\u001b[39mpadding_mode \u001b[38;5;241m!=\u001b[39m \u001b[38;5;124m'\u001b[39m\u001b[38;5;124mzeros\u001b[39m\u001b[38;5;124m'\u001b[39m:\n\u001b[1;32m    453\u001b[0m     \u001b[38;5;28;01mreturn\u001b[39;00m F\u001b[38;5;241m.\u001b[39mconv2d(F\u001b[38;5;241m.\u001b[39mpad(\u001b[38;5;28minput\u001b[39m, \u001b[38;5;28mself\u001b[39m\u001b[38;5;241m.\u001b[39m_reversed_padding_repeated_twice, mode\u001b[38;5;241m=\u001b[39m\u001b[38;5;28mself\u001b[39m\u001b[38;5;241m.\u001b[39mpadding_mode),\n\u001b[1;32m    454\u001b[0m                     weight, bias, \u001b[38;5;28mself\u001b[39m\u001b[38;5;241m.\u001b[39mstride,\n\u001b[1;32m    455\u001b[0m                     _pair(\u001b[38;5;241m0\u001b[39m), \u001b[38;5;28mself\u001b[39m\u001b[38;5;241m.\u001b[39mdilation, \u001b[38;5;28mself\u001b[39m\u001b[38;5;241m.\u001b[39mgroups)\n\u001b[0;32m--> 456\u001b[0m \u001b[38;5;28;01mreturn\u001b[39;00m \u001b[43mF\u001b[49m\u001b[38;5;241;43m.\u001b[39;49m\u001b[43mconv2d\u001b[49m\u001b[43m(\u001b[49m\u001b[38;5;28;43minput\u001b[39;49m\u001b[43m,\u001b[49m\u001b[43m \u001b[49m\u001b[43mweight\u001b[49m\u001b[43m,\u001b[49m\u001b[43m \u001b[49m\u001b[43mbias\u001b[49m\u001b[43m,\u001b[49m\u001b[43m \u001b[49m\u001b[38;5;28;43mself\u001b[39;49m\u001b[38;5;241;43m.\u001b[39;49m\u001b[43mstride\u001b[49m\u001b[43m,\u001b[49m\n\u001b[1;32m    457\u001b[0m \u001b[43m                \u001b[49m\u001b[38;5;28;43mself\u001b[39;49m\u001b[38;5;241;43m.\u001b[39;49m\u001b[43mpadding\u001b[49m\u001b[43m,\u001b[49m\u001b[43m \u001b[49m\u001b[38;5;28;43mself\u001b[39;49m\u001b[38;5;241;43m.\u001b[39;49m\u001b[43mdilation\u001b[49m\u001b[43m,\u001b[49m\u001b[43m \u001b[49m\u001b[38;5;28;43mself\u001b[39;49m\u001b[38;5;241;43m.\u001b[39;49m\u001b[43mgroups\u001b[49m\u001b[43m)\u001b[49m\n",
      "\u001b[0;31mKeyboardInterrupt\u001b[0m: "
     ]
    }
   ],
   "source": [
    "best_valid_score, best_valid_result = trainer.fit(\n",
    "    train_data, \n",
    "    valid_data,\n",
    "    verbose=True,\n",
    "    show_progress=config[\"show_progress\"]\n",
    ")\n",
    "\n",
    "print(\"** Validation result\")\n",
    "print(f\"best_valid_score: {best_valid_score:.4f}\")\n",
    "for metric, val in best_valid_result.items():\n",
    "    print(f\"{metric:<15}: {val:.4f}\")"
   ]
  },
  {
   "cell_type": "markdown",
   "metadata": {},
   "source": [
    "## 3.3. Start testing"
   ]
  },
  {
   "cell_type": "code",
   "execution_count": null,
   "metadata": {},
   "outputs": [
    {
     "name": "stdout",
     "output_type": "stream",
     "text": [
      "** Test result\n",
      "ndcg@10        : 0.0642\n",
      "precision@10   : 0.0120\n",
      "recall@10      : 0.1198\n",
      "mrr@10         : 0.0473\n",
      "hit@10         : 0.1198\n",
      "map@10         : 0.0473\n"
     ]
    }
   ],
   "source": [
    "test_result = trainer.evaluate(test_data)\n",
    "\n",
    "print(\"** Test result\")\n",
    "for metric, val in test_result.items():\n",
    "    print(f\"{metric:<15}: {val:.4f}\")"
   ]
  },
  {
   "cell_type": "markdown",
   "metadata": {},
   "source": [
    "# 4. Tune hyper params"
   ]
  },
  {
   "cell_type": "markdown",
   "metadata": {},
   "source": [
    "## 4.1. Define hyper params and object function"
   ]
  },
  {
   "cell_type": "code",
   "execution_count": null,
   "metadata": {},
   "outputs": [],
   "source": [
    "hyper_params = {\n",
    "    # 'loguniform': {\n",
    "    #     'learning_rate': [-8, 0]\n",
    "    # },\n",
    "    'choice': {\n",
    "        # 'embedding_size': [64],\n",
    "        # 'dropout_prob': [0.2, 0.3, .5]\n",
    "        'learning_rate' : [0.01,0.005,0.001,0.0005,0.0001],\n",
    "        # 'reg_weight' : [0,1e-4,1e-5],\n",
    "        # 'dropout_prob' : [0.0,0.1,0.2,0.3,0.4,0.5]\n",
    "    }\n",
    "}"
   ]
  },
  {
   "cell_type": "code",
   "execution_count": null,
   "metadata": {},
   "outputs": [],
   "source": [
    "def objective_function(config_dict=None, config_file_list=None):\n",
    "    config = Config(\n",
    "        config_dict=config_dict,\n",
    "        config_file_list=config_file_list,\n",
    "    )\n",
    "\n",
    "    init_seed(config[\"seed\"], config[\"reproducibility\"])\n",
    "\n",
    "    # Define data related things\n",
    "    if use_TimeCutoff:\n",
    "        dataset = TimeCutoffDataset(config)\n",
    "    else:\n",
    "        dataset = create_dataset(config)\n",
    "    train_data, valid_data, test_data = data_preparation(config, dataset)\n",
    "\n",
    "    # Define model\n",
    "    model_name = config['model']\n",
    "    model = get_model(model_name)(config, train_data._dataset).to(config['device'])\n",
    "\n",
    "    # Define trainer\n",
    "    trainer = get_trainer(config['MODEL_TYPE'], config['model'])(config, model)\n",
    "\n",
    "    # Start training\n",
    "    best_valid_score, best_valid_result = trainer.fit(train_data, valid_data, verbose=False)\n",
    "\n",
    "    # Start evaluating\n",
    "    test_result = trainer.evaluate(test_data)\n",
    "\n",
    "    return {\n",
    "        'model': model_name,\n",
    "        'best_valid_score': best_valid_score,\n",
    "        'valid_score_bigger': config['valid_metric_bigger'],\n",
    "        'best_valid_result': best_valid_result,\n",
    "        'test_result': test_result\n",
    "    }"
   ]
  },
  {
   "cell_type": "markdown",
   "metadata": {},
   "source": [
    "## 4.2. Save config as yaml file"
   ]
  },
  {
   "cell_type": "code",
   "execution_count": null,
   "metadata": {},
   "outputs": [],
   "source": [
    "with open(utils.get_path_conf(), 'w+') as f:\n",
    "    yaml.dump(config_dict, f, allow_unicode=True)"
   ]
  },
  {
   "cell_type": "markdown",
   "metadata": {},
   "source": [
    "## 4.2. Start tuning"
   ]
  },
  {
   "cell_type": "code",
   "execution_count": null,
   "metadata": {},
   "outputs": [
    {
     "name": "stdout",
     "output_type": "stream",
     "text": [
      "running parameters:                                   \n",
      "{'learning_rate': 0.0001}                             \n",
      "current best valid score: 0.0476                      \n",
      "current best valid result:                            \n",
      "OrderedDict([('ndcg@10', 0.0476), ('precision@10', 0.01), ('recall@10', 0.0997), ('mrr@10', 0.0322), ('hit@10', 0.0997), ('map@10', 0.0322)])\n",
      "current test result:                                  \n",
      "OrderedDict([('ndcg@10', 0.0452), ('precision@10', 0.0087), ('recall@10', 0.087), ('mrr@10', 0.0324), ('hit@10', 0.087), ('map@10', 0.0324)])\n",
      "running parameters:                                                  \n",
      "{'learning_rate': 0.0001}                                            \n",
      "running parameters:                                                  \n",
      "{'learning_rate': 0.0005}                                            \n",
      " 20%|██        | 2/10 [04:02<16:10, 121.35s/trial, best loss: -0.0476]\n"
     ]
    },
    {
     "ename": "KeyboardInterrupt",
     "evalue": "",
     "output_type": "error",
     "traceback": [
      "\u001b[0;31m---------------------------------------------------------------------------\u001b[0m",
      "\u001b[0;31mNotImplementedError\u001b[0m                       Traceback (most recent call last)",
      "File \u001b[0;32m~/miniforge3/envs/py/lib/python3.10/site-packages/recbole/trainer/trainer.py:525\u001b[0m, in \u001b[0;36mTrainer._full_sort_batch_eval\u001b[0;34m(self, batched_data)\u001b[0m\n\u001b[1;32m    523\u001b[0m \u001b[38;5;28;01mtry\u001b[39;00m:\n\u001b[1;32m    524\u001b[0m     \u001b[38;5;66;03m# Note: interaction without item ids\u001b[39;00m\n\u001b[0;32m--> 525\u001b[0m     scores \u001b[38;5;241m=\u001b[39m \u001b[38;5;28;43mself\u001b[39;49m\u001b[38;5;241;43m.\u001b[39;49m\u001b[43mmodel\u001b[49m\u001b[38;5;241;43m.\u001b[39;49m\u001b[43mfull_sort_predict\u001b[49m\u001b[43m(\u001b[49m\u001b[43minteraction\u001b[49m\u001b[38;5;241;43m.\u001b[39;49m\u001b[43mto\u001b[49m\u001b[43m(\u001b[49m\u001b[38;5;28;43mself\u001b[39;49m\u001b[38;5;241;43m.\u001b[39;49m\u001b[43mdevice\u001b[49m\u001b[43m)\u001b[49m\u001b[43m)\u001b[49m\n\u001b[1;32m    526\u001b[0m \u001b[38;5;28;01mexcept\u001b[39;00m \u001b[38;5;167;01mNotImplementedError\u001b[39;00m:\n",
      "File \u001b[0;32m~/miniforge3/envs/py/lib/python3.10/site-packages/recbole/model/abstract_recommender.py:65\u001b[0m, in \u001b[0;36mAbstractRecommender.full_sort_predict\u001b[0;34m(self, interaction)\u001b[0m\n\u001b[1;32m     55\u001b[0m \u001b[38;5;250m\u001b[39m\u001b[38;5;124mr\u001b[39m\u001b[38;5;124;03m\"\"\"full sort prediction function.\u001b[39;00m\n\u001b[1;32m     56\u001b[0m \u001b[38;5;124;03mGiven users, calculate the scores between users and all candidate items.\u001b[39;00m\n\u001b[1;32m     57\u001b[0m \n\u001b[0;32m   (...)\u001b[0m\n\u001b[1;32m     63\u001b[0m \u001b[38;5;124;03m    shape: [n_batch_users * n_candidate_items]\u001b[39;00m\n\u001b[1;32m     64\u001b[0m \u001b[38;5;124;03m\"\"\"\u001b[39;00m\n\u001b[0;32m---> 65\u001b[0m \u001b[38;5;28;01mraise\u001b[39;00m \u001b[38;5;167;01mNotImplementedError\u001b[39;00m\n",
      "\u001b[0;31mNotImplementedError\u001b[0m: ",
      "\nDuring handling of the above exception, another exception occurred:\n",
      "\u001b[0;31mKeyboardInterrupt\u001b[0m                         Traceback (most recent call last)",
      "Cell \u001b[0;32mIn[14], line 15\u001b[0m\n\u001b[1;32m      3\u001b[0m max_evals \u001b[38;5;241m=\u001b[39m \u001b[38;5;241m10\u001b[39m\n\u001b[1;32m      5\u001b[0m hp \u001b[38;5;241m=\u001b[39m HyperTuning(\n\u001b[1;32m      6\u001b[0m     objective_function\u001b[38;5;241m=\u001b[39mobjective_function,\n\u001b[1;32m      7\u001b[0m     algo\u001b[38;5;241m=\u001b[39mtuning_algo,\n\u001b[0;32m   (...)\u001b[0m\n\u001b[1;32m     11\u001b[0m     fixed_config_file_list\u001b[38;5;241m=\u001b[39m[utils\u001b[38;5;241m.\u001b[39mget_path_conf()]\n\u001b[1;32m     12\u001b[0m )\n\u001b[0;32m---> 15\u001b[0m \u001b[43mhp\u001b[49m\u001b[38;5;241;43m.\u001b[39;49m\u001b[43mrun\u001b[49m\u001b[43m(\u001b[49m\u001b[43m)\u001b[49m\n",
      "File \u001b[0;32m~/miniforge3/envs/py/lib/python3.10/site-packages/recbole/trainer/hyper_tuning.py:412\u001b[0m, in \u001b[0;36mHyperTuning.run\u001b[0;34m(self)\u001b[0m\n\u001b[1;32m    409\u001b[0m \u001b[38;5;250m\u001b[39m\u001b[38;5;124mr\u001b[39m\u001b[38;5;124;03m\"\"\"begin to search the best parameters\"\"\"\u001b[39;00m\n\u001b[1;32m    410\u001b[0m \u001b[38;5;28;01mfrom\u001b[39;00m \u001b[38;5;21;01mhyperopt\u001b[39;00m \u001b[38;5;28;01mimport\u001b[39;00m fmin\n\u001b[0;32m--> 412\u001b[0m \u001b[43mfmin\u001b[49m\u001b[43m(\u001b[49m\n\u001b[1;32m    413\u001b[0m \u001b[43m    \u001b[49m\u001b[38;5;28;43mself\u001b[39;49m\u001b[38;5;241;43m.\u001b[39;49m\u001b[43mtrial\u001b[49m\u001b[43m,\u001b[49m\n\u001b[1;32m    414\u001b[0m \u001b[43m    \u001b[49m\u001b[38;5;28;43mself\u001b[39;49m\u001b[38;5;241;43m.\u001b[39;49m\u001b[43mspace\u001b[49m\u001b[43m,\u001b[49m\n\u001b[1;32m    415\u001b[0m \u001b[43m    \u001b[49m\u001b[43malgo\u001b[49m\u001b[38;5;241;43m=\u001b[39;49m\u001b[38;5;28;43mself\u001b[39;49m\u001b[38;5;241;43m.\u001b[39;49m\u001b[43malgo\u001b[49m\u001b[43m,\u001b[49m\n\u001b[1;32m    416\u001b[0m \u001b[43m    \u001b[49m\u001b[43mmax_evals\u001b[49m\u001b[38;5;241;43m=\u001b[39;49m\u001b[38;5;28;43mself\u001b[39;49m\u001b[38;5;241;43m.\u001b[39;49m\u001b[43mmax_evals\u001b[49m\u001b[43m,\u001b[49m\n\u001b[1;32m    417\u001b[0m \u001b[43m    \u001b[49m\u001b[43mearly_stop_fn\u001b[49m\u001b[38;5;241;43m=\u001b[39;49m\u001b[38;5;28;43mself\u001b[39;49m\u001b[38;5;241;43m.\u001b[39;49m\u001b[43mearly_stop_fn\u001b[49m\u001b[43m,\u001b[49m\n\u001b[1;32m    418\u001b[0m \u001b[43m\u001b[49m\u001b[43m)\u001b[49m\n\u001b[1;32m    419\u001b[0m \u001b[38;5;28;01mif\u001b[39;00m \u001b[38;5;28mself\u001b[39m\u001b[38;5;241m.\u001b[39mdisplay_file \u001b[38;5;129;01mis\u001b[39;00m \u001b[38;5;129;01mnot\u001b[39;00m \u001b[38;5;28;01mNone\u001b[39;00m:\n\u001b[1;32m    420\u001b[0m     \u001b[38;5;28mself\u001b[39m\u001b[38;5;241m.\u001b[39mplot_hyper()\n",
      "File \u001b[0;32m~/miniforge3/envs/py/lib/python3.10/site-packages/hyperopt/fmin.py:586\u001b[0m, in \u001b[0;36mfmin\u001b[0;34m(fn, space, algo, max_evals, timeout, loss_threshold, trials, rstate, allow_trials_fmin, pass_expr_memo_ctrl, catch_eval_exceptions, verbose, return_argmin, points_to_evaluate, max_queue_len, show_progressbar, early_stop_fn, trials_save_file)\u001b[0m\n\u001b[1;32m    583\u001b[0m rval\u001b[38;5;241m.\u001b[39mcatch_eval_exceptions \u001b[38;5;241m=\u001b[39m catch_eval_exceptions\n\u001b[1;32m    585\u001b[0m \u001b[38;5;66;03m# next line is where the fmin is actually executed\u001b[39;00m\n\u001b[0;32m--> 586\u001b[0m \u001b[43mrval\u001b[49m\u001b[38;5;241;43m.\u001b[39;49m\u001b[43mexhaust\u001b[49m\u001b[43m(\u001b[49m\u001b[43m)\u001b[49m\n\u001b[1;32m    588\u001b[0m \u001b[38;5;28;01mif\u001b[39;00m return_argmin:\n\u001b[1;32m    589\u001b[0m     \u001b[38;5;28;01mif\u001b[39;00m \u001b[38;5;28mlen\u001b[39m(trials\u001b[38;5;241m.\u001b[39mtrials) \u001b[38;5;241m==\u001b[39m \u001b[38;5;241m0\u001b[39m:\n",
      "File \u001b[0;32m~/miniforge3/envs/py/lib/python3.10/site-packages/hyperopt/fmin.py:364\u001b[0m, in \u001b[0;36mFMinIter.exhaust\u001b[0;34m(self)\u001b[0m\n\u001b[1;32m    362\u001b[0m \u001b[38;5;28;01mdef\u001b[39;00m \u001b[38;5;21mexhaust\u001b[39m(\u001b[38;5;28mself\u001b[39m):\n\u001b[1;32m    363\u001b[0m     n_done \u001b[38;5;241m=\u001b[39m \u001b[38;5;28mlen\u001b[39m(\u001b[38;5;28mself\u001b[39m\u001b[38;5;241m.\u001b[39mtrials)\n\u001b[0;32m--> 364\u001b[0m     \u001b[38;5;28;43mself\u001b[39;49m\u001b[38;5;241;43m.\u001b[39;49m\u001b[43mrun\u001b[49m\u001b[43m(\u001b[49m\u001b[38;5;28;43mself\u001b[39;49m\u001b[38;5;241;43m.\u001b[39;49m\u001b[43mmax_evals\u001b[49m\u001b[43m \u001b[49m\u001b[38;5;241;43m-\u001b[39;49m\u001b[43m \u001b[49m\u001b[43mn_done\u001b[49m\u001b[43m,\u001b[49m\u001b[43m \u001b[49m\u001b[43mblock_until_done\u001b[49m\u001b[38;5;241;43m=\u001b[39;49m\u001b[38;5;28;43mself\u001b[39;49m\u001b[38;5;241;43m.\u001b[39;49m\u001b[43masynchronous\u001b[49m\u001b[43m)\u001b[49m\n\u001b[1;32m    365\u001b[0m     \u001b[38;5;28mself\u001b[39m\u001b[38;5;241m.\u001b[39mtrials\u001b[38;5;241m.\u001b[39mrefresh()\n\u001b[1;32m    366\u001b[0m     \u001b[38;5;28;01mreturn\u001b[39;00m \u001b[38;5;28mself\u001b[39m\n",
      "File \u001b[0;32m~/miniforge3/envs/py/lib/python3.10/site-packages/hyperopt/fmin.py:300\u001b[0m, in \u001b[0;36mFMinIter.run\u001b[0;34m(self, N, block_until_done)\u001b[0m\n\u001b[1;32m    297\u001b[0m     time\u001b[38;5;241m.\u001b[39msleep(\u001b[38;5;28mself\u001b[39m\u001b[38;5;241m.\u001b[39mpoll_interval_secs)\n\u001b[1;32m    298\u001b[0m \u001b[38;5;28;01melse\u001b[39;00m:\n\u001b[1;32m    299\u001b[0m     \u001b[38;5;66;03m# -- loop over trials and do the jobs directly\u001b[39;00m\n\u001b[0;32m--> 300\u001b[0m     \u001b[38;5;28;43mself\u001b[39;49m\u001b[38;5;241;43m.\u001b[39;49m\u001b[43mserial_evaluate\u001b[49m\u001b[43m(\u001b[49m\u001b[43m)\u001b[49m\n\u001b[1;32m    302\u001b[0m \u001b[38;5;28mself\u001b[39m\u001b[38;5;241m.\u001b[39mtrials\u001b[38;5;241m.\u001b[39mrefresh()\n\u001b[1;32m    303\u001b[0m \u001b[38;5;28;01mif\u001b[39;00m \u001b[38;5;28mself\u001b[39m\u001b[38;5;241m.\u001b[39mtrials_save_file \u001b[38;5;241m!=\u001b[39m \u001b[38;5;124m\"\u001b[39m\u001b[38;5;124m\"\u001b[39m:\n",
      "File \u001b[0;32m~/miniforge3/envs/py/lib/python3.10/site-packages/hyperopt/fmin.py:178\u001b[0m, in \u001b[0;36mFMinIter.serial_evaluate\u001b[0;34m(self, N)\u001b[0m\n\u001b[1;32m    176\u001b[0m ctrl \u001b[38;5;241m=\u001b[39m base\u001b[38;5;241m.\u001b[39mCtrl(\u001b[38;5;28mself\u001b[39m\u001b[38;5;241m.\u001b[39mtrials, current_trial\u001b[38;5;241m=\u001b[39mtrial)\n\u001b[1;32m    177\u001b[0m \u001b[38;5;28;01mtry\u001b[39;00m:\n\u001b[0;32m--> 178\u001b[0m     result \u001b[38;5;241m=\u001b[39m \u001b[38;5;28;43mself\u001b[39;49m\u001b[38;5;241;43m.\u001b[39;49m\u001b[43mdomain\u001b[49m\u001b[38;5;241;43m.\u001b[39;49m\u001b[43mevaluate\u001b[49m\u001b[43m(\u001b[49m\u001b[43mspec\u001b[49m\u001b[43m,\u001b[49m\u001b[43m \u001b[49m\u001b[43mctrl\u001b[49m\u001b[43m)\u001b[49m\n\u001b[1;32m    179\u001b[0m \u001b[38;5;28;01mexcept\u001b[39;00m \u001b[38;5;167;01mException\u001b[39;00m \u001b[38;5;28;01mas\u001b[39;00m e:\n\u001b[1;32m    180\u001b[0m     logger\u001b[38;5;241m.\u001b[39merror(\u001b[38;5;124m\"\u001b[39m\u001b[38;5;124mjob exception: \u001b[39m\u001b[38;5;132;01m%s\u001b[39;00m\u001b[38;5;124m\"\u001b[39m \u001b[38;5;241m%\u001b[39m \u001b[38;5;28mstr\u001b[39m(e))\n",
      "File \u001b[0;32m~/miniforge3/envs/py/lib/python3.10/site-packages/hyperopt/base.py:892\u001b[0m, in \u001b[0;36mDomain.evaluate\u001b[0;34m(self, config, ctrl, attach_attachments)\u001b[0m\n\u001b[1;32m    883\u001b[0m \u001b[38;5;28;01melse\u001b[39;00m:\n\u001b[1;32m    884\u001b[0m     \u001b[38;5;66;03m# -- the \"work\" of evaluating `config` can be written\u001b[39;00m\n\u001b[1;32m    885\u001b[0m     \u001b[38;5;66;03m#    either into the pyll part (self.expr)\u001b[39;00m\n\u001b[1;32m    886\u001b[0m     \u001b[38;5;66;03m#    or the normal Python part (self.fn)\u001b[39;00m\n\u001b[1;32m    887\u001b[0m     pyll_rval \u001b[38;5;241m=\u001b[39m pyll\u001b[38;5;241m.\u001b[39mrec_eval(\n\u001b[1;32m    888\u001b[0m         \u001b[38;5;28mself\u001b[39m\u001b[38;5;241m.\u001b[39mexpr,\n\u001b[1;32m    889\u001b[0m         memo\u001b[38;5;241m=\u001b[39mmemo,\n\u001b[1;32m    890\u001b[0m         print_node_on_error\u001b[38;5;241m=\u001b[39m\u001b[38;5;28mself\u001b[39m\u001b[38;5;241m.\u001b[39mrec_eval_print_node_on_error,\n\u001b[1;32m    891\u001b[0m     )\n\u001b[0;32m--> 892\u001b[0m     rval \u001b[38;5;241m=\u001b[39m \u001b[38;5;28;43mself\u001b[39;49m\u001b[38;5;241;43m.\u001b[39;49m\u001b[43mfn\u001b[49m\u001b[43m(\u001b[49m\u001b[43mpyll_rval\u001b[49m\u001b[43m)\u001b[49m\n\u001b[1;32m    894\u001b[0m \u001b[38;5;28;01mif\u001b[39;00m \u001b[38;5;28misinstance\u001b[39m(rval, (\u001b[38;5;28mfloat\u001b[39m, \u001b[38;5;28mint\u001b[39m, np\u001b[38;5;241m.\u001b[39mnumber)):\n\u001b[1;32m    895\u001b[0m     dict_rval \u001b[38;5;241m=\u001b[39m {\u001b[38;5;124m\"\u001b[39m\u001b[38;5;124mloss\u001b[39m\u001b[38;5;124m\"\u001b[39m: \u001b[38;5;28mfloat\u001b[39m(rval), \u001b[38;5;124m\"\u001b[39m\u001b[38;5;124mstatus\u001b[39m\u001b[38;5;124m\"\u001b[39m: STATUS_OK}\n",
      "File \u001b[0;32m~/miniforge3/envs/py/lib/python3.10/site-packages/recbole/trainer/hyper_tuning.py:347\u001b[0m, in \u001b[0;36mHyperTuning.trial\u001b[0;34m(self, params)\u001b[0m\n\u001b[1;32m    345\u001b[0m \u001b[38;5;28mself\u001b[39m\u001b[38;5;241m.\u001b[39mparams_list\u001b[38;5;241m.\u001b[39mappend(params_str)\n\u001b[1;32m    346\u001b[0m \u001b[38;5;28mprint\u001b[39m(\u001b[38;5;124m\"\u001b[39m\u001b[38;5;124mrunning parameters:\u001b[39m\u001b[38;5;124m\"\u001b[39m, config_dict)\n\u001b[0;32m--> 347\u001b[0m result_dict \u001b[38;5;241m=\u001b[39m \u001b[38;5;28;43mself\u001b[39;49m\u001b[38;5;241;43m.\u001b[39;49m\u001b[43mobjective_function\u001b[49m\u001b[43m(\u001b[49m\u001b[43mconfig_dict\u001b[49m\u001b[43m,\u001b[49m\u001b[43m \u001b[49m\u001b[38;5;28;43mself\u001b[39;49m\u001b[38;5;241;43m.\u001b[39;49m\u001b[43mfixed_config_file_list\u001b[49m\u001b[43m)\u001b[49m\n\u001b[1;32m    348\u001b[0m \u001b[38;5;28mself\u001b[39m\u001b[38;5;241m.\u001b[39mparams2result[params_str] \u001b[38;5;241m=\u001b[39m result_dict\n\u001b[1;32m    349\u001b[0m model, score, bigger \u001b[38;5;241m=\u001b[39m (\n\u001b[1;32m    350\u001b[0m     result_dict[\u001b[38;5;124m\"\u001b[39m\u001b[38;5;124mmodel\u001b[39m\u001b[38;5;124m\"\u001b[39m],\n\u001b[1;32m    351\u001b[0m     result_dict[\u001b[38;5;124m\"\u001b[39m\u001b[38;5;124mbest_valid_score\u001b[39m\u001b[38;5;124m\"\u001b[39m],\n\u001b[1;32m    352\u001b[0m     result_dict[\u001b[38;5;124m\"\u001b[39m\u001b[38;5;124mvalid_score_bigger\u001b[39m\u001b[38;5;124m\"\u001b[39m],\n\u001b[1;32m    353\u001b[0m )\n",
      "Cell \u001b[0;32mIn[12], line 24\u001b[0m, in \u001b[0;36mobjective_function\u001b[0;34m(config_dict, config_file_list)\u001b[0m\n\u001b[1;32m     21\u001b[0m trainer \u001b[38;5;241m=\u001b[39m get_trainer(config[\u001b[38;5;124m'\u001b[39m\u001b[38;5;124mMODEL_TYPE\u001b[39m\u001b[38;5;124m'\u001b[39m], config[\u001b[38;5;124m'\u001b[39m\u001b[38;5;124mmodel\u001b[39m\u001b[38;5;124m'\u001b[39m])(config, model)\n\u001b[1;32m     23\u001b[0m \u001b[38;5;66;03m# Start training\u001b[39;00m\n\u001b[0;32m---> 24\u001b[0m best_valid_score, best_valid_result \u001b[38;5;241m=\u001b[39m \u001b[43mtrainer\u001b[49m\u001b[38;5;241;43m.\u001b[39;49m\u001b[43mfit\u001b[49m\u001b[43m(\u001b[49m\u001b[43mtrain_data\u001b[49m\u001b[43m,\u001b[49m\u001b[43m \u001b[49m\u001b[43mvalid_data\u001b[49m\u001b[43m,\u001b[49m\u001b[43m \u001b[49m\u001b[43mverbose\u001b[49m\u001b[38;5;241;43m=\u001b[39;49m\u001b[38;5;28;43;01mFalse\u001b[39;49;00m\u001b[43m)\u001b[49m\n\u001b[1;32m     26\u001b[0m \u001b[38;5;66;03m# Start evaluating\u001b[39;00m\n\u001b[1;32m     27\u001b[0m test_result \u001b[38;5;241m=\u001b[39m trainer\u001b[38;5;241m.\u001b[39mevaluate(test_data)\n",
      "File \u001b[0;32m~/miniforge3/envs/py/lib/python3.10/site-packages/recbole/trainer/trainer.py:464\u001b[0m, in \u001b[0;36mTrainer.fit\u001b[0;34m(self, train_data, valid_data, verbose, saved, show_progress, callback_fn)\u001b[0m\n\u001b[1;32m    462\u001b[0m \u001b[38;5;28;01mif\u001b[39;00m (epoch_idx \u001b[38;5;241m+\u001b[39m \u001b[38;5;241m1\u001b[39m) \u001b[38;5;241m%\u001b[39m \u001b[38;5;28mself\u001b[39m\u001b[38;5;241m.\u001b[39meval_step \u001b[38;5;241m==\u001b[39m \u001b[38;5;241m0\u001b[39m:\n\u001b[1;32m    463\u001b[0m     valid_start_time \u001b[38;5;241m=\u001b[39m time()\n\u001b[0;32m--> 464\u001b[0m     valid_score, valid_result \u001b[38;5;241m=\u001b[39m \u001b[38;5;28;43mself\u001b[39;49m\u001b[38;5;241;43m.\u001b[39;49m\u001b[43m_valid_epoch\u001b[49m\u001b[43m(\u001b[49m\n\u001b[1;32m    465\u001b[0m \u001b[43m        \u001b[49m\u001b[43mvalid_data\u001b[49m\u001b[43m,\u001b[49m\u001b[43m \u001b[49m\u001b[43mshow_progress\u001b[49m\u001b[38;5;241;43m=\u001b[39;49m\u001b[43mshow_progress\u001b[49m\n\u001b[1;32m    466\u001b[0m \u001b[43m    \u001b[49m\u001b[43m)\u001b[49m\n\u001b[1;32m    468\u001b[0m     (\n\u001b[1;32m    469\u001b[0m         \u001b[38;5;28mself\u001b[39m\u001b[38;5;241m.\u001b[39mbest_valid_score,\n\u001b[1;32m    470\u001b[0m         \u001b[38;5;28mself\u001b[39m\u001b[38;5;241m.\u001b[39mcur_step,\n\u001b[0;32m   (...)\u001b[0m\n\u001b[1;32m    478\u001b[0m         bigger\u001b[38;5;241m=\u001b[39m\u001b[38;5;28mself\u001b[39m\u001b[38;5;241m.\u001b[39mvalid_metric_bigger,\n\u001b[1;32m    479\u001b[0m     )\n\u001b[1;32m    480\u001b[0m     valid_end_time \u001b[38;5;241m=\u001b[39m time()\n",
      "File \u001b[0;32m~/miniforge3/envs/py/lib/python3.10/site-packages/recbole/trainer/trainer.py:283\u001b[0m, in \u001b[0;36mTrainer._valid_epoch\u001b[0;34m(self, valid_data, show_progress)\u001b[0m\n\u001b[1;32m    272\u001b[0m \u001b[38;5;28;01mdef\u001b[39;00m \u001b[38;5;21m_valid_epoch\u001b[39m(\u001b[38;5;28mself\u001b[39m, valid_data, show_progress\u001b[38;5;241m=\u001b[39m\u001b[38;5;28;01mFalse\u001b[39;00m):\n\u001b[1;32m    273\u001b[0m \u001b[38;5;250m    \u001b[39m\u001b[38;5;124mr\u001b[39m\u001b[38;5;124;03m\"\"\"Valid the model with valid data\u001b[39;00m\n\u001b[1;32m    274\u001b[0m \n\u001b[1;32m    275\u001b[0m \u001b[38;5;124;03m    Args:\u001b[39;00m\n\u001b[0;32m   (...)\u001b[0m\n\u001b[1;32m    281\u001b[0m \u001b[38;5;124;03m        dict: valid result\u001b[39;00m\n\u001b[1;32m    282\u001b[0m \u001b[38;5;124;03m    \"\"\"\u001b[39;00m\n\u001b[0;32m--> 283\u001b[0m     valid_result \u001b[38;5;241m=\u001b[39m \u001b[38;5;28;43mself\u001b[39;49m\u001b[38;5;241;43m.\u001b[39;49m\u001b[43mevaluate\u001b[49m\u001b[43m(\u001b[49m\n\u001b[1;32m    284\u001b[0m \u001b[43m        \u001b[49m\u001b[43mvalid_data\u001b[49m\u001b[43m,\u001b[49m\u001b[43m \u001b[49m\u001b[43mload_best_model\u001b[49m\u001b[38;5;241;43m=\u001b[39;49m\u001b[38;5;28;43;01mFalse\u001b[39;49;00m\u001b[43m,\u001b[49m\u001b[43m \u001b[49m\u001b[43mshow_progress\u001b[49m\u001b[38;5;241;43m=\u001b[39;49m\u001b[43mshow_progress\u001b[49m\n\u001b[1;32m    285\u001b[0m \u001b[43m    \u001b[49m\u001b[43m)\u001b[49m\n\u001b[1;32m    286\u001b[0m     valid_score \u001b[38;5;241m=\u001b[39m calculate_valid_score(valid_result, \u001b[38;5;28mself\u001b[39m\u001b[38;5;241m.\u001b[39mvalid_metric)\n\u001b[1;32m    287\u001b[0m     \u001b[38;5;28;01mreturn\u001b[39;00m valid_score, valid_result\n",
      "File \u001b[0;32m~/miniforge3/envs/py/lib/python3.10/site-packages/torch/utils/_contextlib.py:115\u001b[0m, in \u001b[0;36mcontext_decorator.<locals>.decorate_context\u001b[0;34m(*args, **kwargs)\u001b[0m\n\u001b[1;32m    112\u001b[0m \u001b[38;5;129m@functools\u001b[39m\u001b[38;5;241m.\u001b[39mwraps(func)\n\u001b[1;32m    113\u001b[0m \u001b[38;5;28;01mdef\u001b[39;00m \u001b[38;5;21mdecorate_context\u001b[39m(\u001b[38;5;241m*\u001b[39margs, \u001b[38;5;241m*\u001b[39m\u001b[38;5;241m*\u001b[39mkwargs):\n\u001b[1;32m    114\u001b[0m     \u001b[38;5;28;01mwith\u001b[39;00m ctx_factory():\n\u001b[0;32m--> 115\u001b[0m         \u001b[38;5;28;01mreturn\u001b[39;00m \u001b[43mfunc\u001b[49m\u001b[43m(\u001b[49m\u001b[38;5;241;43m*\u001b[39;49m\u001b[43margs\u001b[49m\u001b[43m,\u001b[49m\u001b[43m \u001b[49m\u001b[38;5;241;43m*\u001b[39;49m\u001b[38;5;241;43m*\u001b[39;49m\u001b[43mkwargs\u001b[49m\u001b[43m)\u001b[49m\n",
      "File \u001b[0;32m~/miniforge3/envs/py/lib/python3.10/site-packages/recbole/trainer/trainer.py:616\u001b[0m, in \u001b[0;36mTrainer.evaluate\u001b[0;34m(self, eval_data, load_best_model, model_file, show_progress)\u001b[0m\n\u001b[1;32m    614\u001b[0m \u001b[38;5;28;01mfor\u001b[39;00m batch_idx, batched_data \u001b[38;5;129;01min\u001b[39;00m \u001b[38;5;28menumerate\u001b[39m(iter_data):\n\u001b[1;32m    615\u001b[0m     num_sample \u001b[38;5;241m+\u001b[39m\u001b[38;5;241m=\u001b[39m \u001b[38;5;28mlen\u001b[39m(batched_data)\n\u001b[0;32m--> 616\u001b[0m     interaction, scores, positive_u, positive_i \u001b[38;5;241m=\u001b[39m \u001b[43meval_func\u001b[49m\u001b[43m(\u001b[49m\u001b[43mbatched_data\u001b[49m\u001b[43m)\u001b[49m\n\u001b[1;32m    617\u001b[0m     \u001b[38;5;28;01mif\u001b[39;00m \u001b[38;5;28mself\u001b[39m\u001b[38;5;241m.\u001b[39mgpu_available \u001b[38;5;129;01mand\u001b[39;00m show_progress:\n\u001b[1;32m    618\u001b[0m         iter_data\u001b[38;5;241m.\u001b[39mset_postfix_str(\n\u001b[1;32m    619\u001b[0m             set_color(\u001b[38;5;124m\"\u001b[39m\u001b[38;5;124mGPU RAM: \u001b[39m\u001b[38;5;124m\"\u001b[39m \u001b[38;5;241m+\u001b[39m get_gpu_usage(\u001b[38;5;28mself\u001b[39m\u001b[38;5;241m.\u001b[39mdevice), \u001b[38;5;124m\"\u001b[39m\u001b[38;5;124myellow\u001b[39m\u001b[38;5;124m\"\u001b[39m)\n\u001b[1;32m    620\u001b[0m         )\n",
      "File \u001b[0;32m~/miniforge3/envs/py/lib/python3.10/site-packages/recbole/trainer/trainer.py:532\u001b[0m, in \u001b[0;36mTrainer._full_sort_batch_eval\u001b[0;34m(self, batched_data)\u001b[0m\n\u001b[1;32m    530\u001b[0m new_inter\u001b[38;5;241m.\u001b[39mupdate(\u001b[38;5;28mself\u001b[39m\u001b[38;5;241m.\u001b[39mitem_tensor\u001b[38;5;241m.\u001b[39mrepeat(inter_len))\n\u001b[1;32m    531\u001b[0m \u001b[38;5;28;01mif\u001b[39;00m batch_size \u001b[38;5;241m<\u001b[39m\u001b[38;5;241m=\u001b[39m \u001b[38;5;28mself\u001b[39m\u001b[38;5;241m.\u001b[39mtest_batch_size:\n\u001b[0;32m--> 532\u001b[0m     scores \u001b[38;5;241m=\u001b[39m \u001b[38;5;28;43mself\u001b[39;49m\u001b[38;5;241;43m.\u001b[39;49m\u001b[43mmodel\u001b[49m\u001b[38;5;241;43m.\u001b[39;49m\u001b[43mpredict\u001b[49m\u001b[43m(\u001b[49m\u001b[43mnew_inter\u001b[49m\u001b[43m)\u001b[49m\n\u001b[1;32m    533\u001b[0m \u001b[38;5;28;01melse\u001b[39;00m:\n\u001b[1;32m    534\u001b[0m     scores \u001b[38;5;241m=\u001b[39m \u001b[38;5;28mself\u001b[39m\u001b[38;5;241m.\u001b[39m_spilt_predict(new_inter, batch_size)\n",
      "File \u001b[0;32m~/miniforge3/envs/py/lib/python3.10/site-packages/recbole/model/general_recommender/neumf.py:154\u001b[0m, in \u001b[0;36mNeuMF.predict\u001b[0;34m(self, interaction)\u001b[0m\n\u001b[1;32m    152\u001b[0m user \u001b[38;5;241m=\u001b[39m interaction[\u001b[38;5;28mself\u001b[39m\u001b[38;5;241m.\u001b[39mUSER_ID]\n\u001b[1;32m    153\u001b[0m item \u001b[38;5;241m=\u001b[39m interaction[\u001b[38;5;28mself\u001b[39m\u001b[38;5;241m.\u001b[39mITEM_ID]\n\u001b[0;32m--> 154\u001b[0m predict \u001b[38;5;241m=\u001b[39m \u001b[38;5;28mself\u001b[39m\u001b[38;5;241m.\u001b[39msigmoid(\u001b[38;5;28;43mself\u001b[39;49m\u001b[38;5;241;43m.\u001b[39;49m\u001b[43mforward\u001b[49m\u001b[43m(\u001b[49m\u001b[43muser\u001b[49m\u001b[43m,\u001b[49m\u001b[43m \u001b[49m\u001b[43mitem\u001b[49m\u001b[43m)\u001b[49m)\n\u001b[1;32m    155\u001b[0m \u001b[38;5;28;01mreturn\u001b[39;00m predict\n",
      "\u001b[0;31mKeyboardInterrupt\u001b[0m: "
     ]
    }
   ],
   "source": [
    "tuning_algo = \"bayes\"\n",
    "early_stop = 10\n",
    "max_evals = 10\n",
    "\n",
    "hp = HyperTuning(\n",
    "    objective_function=objective_function,\n",
    "    algo=tuning_algo,\n",
    "    early_stop=early_stop,\n",
    "    max_evals=max_evals,\n",
    "    params_dict=hyper_params,\n",
    "    fixed_config_file_list=[utils.get_path_conf()]\n",
    ")\n",
    "\n",
    "\n",
    "hp.run()"
   ]
  },
  {
   "cell_type": "markdown",
   "metadata": {},
   "source": [
    "## 4.3. Export tunning result"
   ]
  },
  {
   "cell_type": "code",
   "execution_count": null,
   "metadata": {},
   "outputs": [
    {
     "name": "stdout",
     "output_type": "stream",
     "text": [
      "best params:  {'learning_rate': 0.005}\n",
      "best result: \n",
      "{'model': 'BPR', 'best_valid_score': 0.054, 'valid_score_bigger': True, 'best_valid_result': OrderedDict([('recall@10', 0.141), ('mrr@10', 0.054), ('ndcg@10', 0.0742), ('hit@10', 0.141), ('precision@10', 0.0141)]), 'test_result': OrderedDict([('recall@10', 0.1304), ('mrr@10', 0.0483), ('ndcg@10', 0.0673), ('hit@10', 0.1304), ('precision@10', 0.013)])}\n"
     ]
    }
   ],
   "source": [
    "# print best parameters\n",
    "print('best params: ', hp.best_params)\n",
    "\n",
    "# print best result\n",
    "print('best result: ')\n",
    "print(hp.params2result[hp.params2str(hp.best_params)])\n",
    "\n",
    "# export to JSON file\n",
    "tune_result = {\n",
    "    'best_params': hp.best_params,\n",
    "    'best_result': hp.params2result[hp.params2str(hp.best_params)]\n",
    "}\n",
    "with open(utils.get_path_tune_log(), \"w+\") as f:\n",
    "    json.dump(tune_result, f, indent=2, ensure_ascii=False)"
   ]
  }
 ],
 "metadata": {
  "kernelspec": {
   "display_name": "py",
   "language": "python",
   "name": "python3"
  },
  "language_info": {
   "codemirror_mode": {
    "name": "ipython",
    "version": 3
   },
   "file_extension": ".py",
   "mimetype": "text/x-python",
   "name": "python",
   "nbconvert_exporter": "python",
   "pygments_lexer": "ipython3",
   "version": "3.10.13"
  }
 },
 "nbformat": 4,
 "nbformat_minor": 2
}
