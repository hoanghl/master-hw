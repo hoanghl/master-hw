{
 "cells": [
  {
   "cell_type": "code",
   "execution_count": null,
   "metadata": {},
   "outputs": [],
   "source": [
    "%load_ext autoreload\n",
    "%autoreload 2"
   ]
  },
  {
   "cell_type": "code",
   "execution_count": 3,
   "metadata": {},
   "outputs": [
    {
     "name": "stdout",
     "output_type": "stream",
     "text": [
      "The autoreload extension is already loaded. To reload it, use:\n",
      "  %reload_ext autoreload\n"
     ]
    }
   ],
   "source": [
    "from pathlib import Path\n",
    "\n",
    "from recbole.quick_start import run_recbole\n",
    "# from recbole.quick_start import objective_function\n",
    "# from recbole.quick_start import run_recbole\n",
    "from recbole.config import Config\n",
    "from recbole.data import data_preparation\n",
    "from recbole.trainer import HyperTuning\n",
    "from recbole.utils import (\n",
    "    get_model,\n",
    "    get_trainer,\n",
    ")\n",
    "\n",
    "import utils\n",
    "from real_temporal import TimeCutoffDataset"
   ]
  },
  {
   "cell_type": "markdown",
   "metadata": {},
   "source": [
    "# 0. Define necessary paths"
   ]
  },
  {
   "cell_type": "code",
   "execution_count": null,
   "metadata": {},
   "outputs": [],
   "source": [
    "path_logs = Path(\"logs\")\n",
    "path_configs = Path(\"configs\")\n",
    "\n",
    "path_logs.mkdir(parents=True, exist_ok=True)\n",
    "path_configs.mkdir(parents=True, exist_ok=True)"
   ]
  },
  {
   "cell_type": "code",
   "execution_count": 3,
   "metadata": {},
   "outputs": [],
   "source": [
    "config_dict = {}"
   ]
  },
  {
   "cell_type": "markdown",
   "metadata": {},
   "source": [
    "# 1. Define model"
   ]
  },
  {
   "cell_type": "code",
   "execution_count": 2,
   "metadata": {},
   "outputs": [],
   "source": [
    "config_dict = {\n",
    "    **config_dict,\n",
    "\n",
    "    'model': \"NPE\",\n",
    "    \n",
    "    'embedding_size': 64,\n",
    "    'hidden_size': 128,\n",
    "    'num_layers': 1,\n",
    "    'dropout_prob': 0.3,\n",
    "    'loss_type': \"CE\",\n",
    "}"
   ]
  },
  {
   "cell_type": "markdown",
   "metadata": {},
   "source": [
    "# 2. Define data"
   ]
  },
  {
   "cell_type": "code",
   "execution_count": 3,
   "metadata": {},
   "outputs": [],
   "source": [
    "config_dict = {\n",
    "    **config_dict,\n",
    "\n",
    "    'dataset': 'ml-100k',\n",
    "\n",
    "    'USER_ID_FIELD': 'user_id',\n",
    "    'ITEM_ID_FIELD': 'item_id',\n",
    "    'TIME_FIELD': 'timestamp',\n",
    "    'load_col': {\"inter\": ['user_id', 'item_id', 'timestamp']},\n",
    "}"
   ]
  },
  {
   "cell_type": "markdown",
   "metadata": {},
   "source": [
    "# 3. Train"
   ]
  },
  {
   "cell_type": "markdown",
   "metadata": {},
   "source": [
    "## 3.1. Define training and evaluating configuration"
   ]
  },
  {
   "cell_type": "code",
   "execution_count": null,
   "metadata": {},
   "outputs": [],
   "source": [
    "config_dict = {\n",
    "    **config_dict,\n",
    "\n",
    "    'device': 'mps',\n",
    "    \n",
    "    # TODO: HoangLe [Jun-17]: Complete this\n",
    "}"
   ]
  },
  {
   "cell_type": "markdown",
   "metadata": {},
   "source": [
    "## 3.2. Start training"
   ]
  },
  {
   "cell_type": "code",
   "execution_count": 5,
   "metadata": {},
   "outputs": [
    {
     "name": "stderr",
     "output_type": "stream",
     "text": [
      "13 Jun 20:42    INFO  ['/Users/macos/miniforge3/envs/py/lib/python3.10/site-packages/ipykernel_launcher.py', '--f=/Users/macos/Library/Jupyter/runtime/kernel-v2-47538r08pKQI58BLn.json']\n",
      "13 Jun 20:42    INFO  \n",
      "General Hyper Parameters:\n",
      "gpu_id = 0\n",
      "use_gpu = True\n",
      "seed = 2020\n",
      "state = INFO\n",
      "reproducibility = True\n",
      "data_path = /Users/macos/miniforge3/envs/py/lib/python3.10/site-packages/recbole/config/../dataset_example/ml-100k\n",
      "checkpoint_dir = saved\n",
      "show_progress = True\n",
      "save_dataset = False\n",
      "dataset_save_path = None\n",
      "save_dataloaders = False\n",
      "dataloaders_save_path = None\n",
      "log_wandb = False\n",
      "\n",
      "Training Hyper Parameters:\n",
      "epochs = 300\n",
      "train_batch_size = 2048\n",
      "learner = adam\n",
      "learning_rate = 0.001\n",
      "train_neg_sample_args = {'distribution': 'none', 'sample_num': 'none', 'alpha': 'none', 'dynamic': False, 'candidate_num': 0}\n",
      "eval_step = 1\n",
      "stopping_step = 10\n",
      "clip_grad_norm = None\n",
      "weight_decay = 0.0\n",
      "loss_decimal_place = 4\n",
      "\n",
      "Evaluation Hyper Parameters:\n",
      "eval_args = {'split': {'LS': 'valid_and_test'}, 'order': 'TO', 'group_by': 'user', 'mode': {'valid': 'full', 'test': 'full'}}\n",
      "repeatable = True\n",
      "metrics = ['Recall', 'MRR', 'NDCG', 'Hit', 'Precision']\n",
      "topk = [10]\n",
      "valid_metric = MRR@10\n",
      "valid_metric_bigger = True\n",
      "eval_batch_size = 4096\n",
      "metric_decimal_place = 4\n",
      "\n",
      "Dataset Hyper Parameters:\n",
      "field_separator = \t\n",
      "seq_separator =  \n",
      "USER_ID_FIELD = user_id\n",
      "ITEM_ID_FIELD = item_id\n",
      "RATING_FIELD = rating\n",
      "TIME_FIELD = timestamp\n",
      "seq_len = None\n",
      "LABEL_FIELD = label\n",
      "threshold = None\n",
      "NEG_PREFIX = neg_\n",
      "load_col = {'inter': ['user_id', 'item_id', 'rating', 'timestamp']}\n",
      "unload_col = None\n",
      "unused_col = None\n",
      "additional_feat_suffix = None\n",
      "rm_dup_inter = None\n",
      "val_interval = None\n",
      "filter_inter_by_user_or_item = True\n",
      "user_inter_num_interval = None\n",
      "item_inter_num_interval = None\n",
      "alias_of_user_id = None\n",
      "alias_of_item_id = None\n",
      "alias_of_entity_id = None\n",
      "alias_of_relation_id = None\n",
      "preload_weight = None\n",
      "normalize_field = None\n",
      "normalize_all = True\n",
      "ITEM_LIST_LENGTH_FIELD = item_length\n",
      "LIST_SUFFIX = _list\n",
      "MAX_ITEM_LIST_LENGTH = 50\n",
      "POSITION_FIELD = position_id\n",
      "HEAD_ENTITY_ID_FIELD = head_id\n",
      "TAIL_ENTITY_ID_FIELD = tail_id\n",
      "RELATION_ID_FIELD = relation_id\n",
      "ENTITY_ID_FIELD = entity_id\n",
      "kg_reverse_r = False\n",
      "entity_kg_num_interval = None\n",
      "relation_kg_num_interval = None\n",
      "benchmark_filename = None\n",
      "\n",
      "Other Hyper Parameters: \n",
      "worker = 0\n",
      "wandb_project = recbole\n",
      "shuffle = True\n",
      "require_pow = False\n",
      "enable_amp = False\n",
      "enable_scaler = False\n",
      "transform = None\n",
      "embedding_size = 64\n",
      "loss_type = CE\n",
      "dropout_prob = 0.3\n",
      "numerical_features = []\n",
      "discretization = None\n",
      "MODEL_TYPE = ModelType.SEQUENTIAL\n",
      "MODEL_INPUT_TYPE = InputType.POINTWISE\n",
      "eval_type = EvaluatorType.RANKING\n",
      "single_spec = True\n",
      "local_rank = 0\n",
      "device = cpu\n",
      "valid_neg_sample_args = {'distribution': 'uniform', 'sample_num': 'none'}\n",
      "test_neg_sample_args = {'distribution': 'uniform', 'sample_num': 'none'}\n",
      "\n",
      "\n",
      "/Users/macos/miniforge3/envs/py/lib/python3.10/site-packages/recbole/data/dataset/dataset.py:648: FutureWarning: A value is trying to be set on a copy of a DataFrame or Series through chained assignment using an inplace method.\n",
      "The behavior will change in pandas 3.0. This inplace method will never work because the intermediate object on which we are setting values always behaves as a copy.\n",
      "\n",
      "For example, when doing 'df[col].method(value, inplace=True)', try using 'df.method({col: value}, inplace=True)' or df[col] = df[col].method(value) instead, to perform the operation inplace on the original object.\n",
      "\n",
      "\n",
      "  feat[field].fillna(value=0, inplace=True)\n",
      "/Users/macos/miniforge3/envs/py/lib/python3.10/site-packages/recbole/data/dataset/dataset.py:650: FutureWarning: A value is trying to be set on a copy of a DataFrame or Series through chained assignment using an inplace method.\n",
      "The behavior will change in pandas 3.0. This inplace method will never work because the intermediate object on which we are setting values always behaves as a copy.\n",
      "\n",
      "For example, when doing 'df[col].method(value, inplace=True)', try using 'df.method({col: value}, inplace=True)' or df[col] = df[col].method(value) instead, to perform the operation inplace on the original object.\n",
      "\n",
      "\n",
      "  feat[field].fillna(value=feat[field].mean(), inplace=True)\n",
      "13 Jun 20:42    INFO  ml-100k\n",
      "The number of users: 944\n",
      "Average actions of users: 106.04453870625663\n",
      "The number of items: 1683\n",
      "Average actions of items: 59.45303210463734\n",
      "The number of inters: 100000\n",
      "The sparsity of the dataset: 93.70575143257098%\n",
      "Remain Fields: ['user_id', 'item_id', 'rating', 'timestamp']\n",
      "13 Jun 20:42    INFO  [Training]: train_batch_size = [2048] train_neg_sample_args: [{'distribution': 'none', 'sample_num': 'none', 'alpha': 'none', 'dynamic': False, 'candidate_num': 0}]\n",
      "13 Jun 20:42    INFO  [Evaluation]: eval_batch_size = [4096] eval_args: [{'split': {'LS': 'valid_and_test'}, 'order': 'TO', 'group_by': 'user', 'mode': {'valid': 'full', 'test': 'full'}}]\n",
      "13 Jun 20:42    INFO  NPE(\n",
      "  (user_embedding): Embedding(944, 64)\n",
      "  (item_embedding): Embedding(1683, 64)\n",
      "  (embedding_seq_item): Embedding(1683, 64, padding_idx=0)\n",
      "  (relu): ReLU()\n",
      "  (dropout): Dropout(p=0.3, inplace=False)\n",
      "  (loss_fct): CrossEntropyLoss()\n",
      ")\n",
      "Trainable parameters: 275840\n",
      "13 Jun 20:42    INFO  FLOPs: 3328.0\n",
      "Train     0:   0%|                                                           | 0/48 [00:00<?, ?it/s]:   4%|██▏                                                | 2/48 [00:00<00:02, 16.87it/s]:  15%|███████▍                                           | 7/48 [00:00<00:01, 31.27it/s]:  25%|████████████▌                                     | 12/48 [00:00<00:01, 35.88it/s]:  35%|█████████████████▋                                | 17/48 [00:00<00:00, 38.46it/s]:  46%|██████████████████████▉                           | 22/48 [00:00<00:00, 39.96it/s]:  56%|████████████████████████████▏                     | 27/48 [00:00<00:00, 40.73it/s]:  67%|█████████████████████████████████▎                | 32/48 [00:00<00:00, 41.17it/s]:  77%|██████████████████████████████████████▌           | 37/48 [00:00<00:00, 41.59it/s]:  88%|███████████████████████████████████████████▊      | 42/48 [00:01<00:00, 41.74it/s]:  98%|████████████████████████████████████████████████▉ | 47/48 [00:01<00:00, 41.83it/s]: 100%|██████████████████████████████████████████████████| 48/48 [00:01<00:00, 39.71it/s]\n",
      "13 Jun 20:42    INFO  epoch 0 training [time: 1.23s, train loss: 339.6676]\n",
      "Evaluate   :   0%|                                                            | 0/1 [00:00<?, ?it/s]: 100%|███████████████████████████████████████████████████| 1/1 [00:00<00:00, 104.44it/s]\n",
      "13 Jun 20:42    INFO  epoch 0 evaluating [time: 0.02s, valid_score: 0.011600]\n",
      "13 Jun 20:42    INFO  valid result: \n",
      "recall@10 : 0.0477    mrr@10 : 0.0116    ndcg@10 : 0.0198    hit@10 : 0.0477    precision@10 : 0.0048\n",
      "13 Jun 20:42    INFO  Saving current: saved/NPE-Jun-13-2024_20-42-10.pth\n",
      "Train     1:   0%|                                                           | 0/48 [00:00<?, ?it/s]:  10%|█████▎                                             | 5/48 [00:00<00:01, 41.02it/s]:  21%|██████████▍                                       | 10/48 [00:00<00:00, 40.80it/s]:  31%|███████████████▋                                  | 15/48 [00:00<00:00, 40.36it/s]:  42%|████████████████████▊                             | 20/48 [00:00<00:00, 40.57it/s]:  52%|██████████████████████████                        | 25/48 [00:00<00:00, 40.88it/s]:  62%|███████████████████████████████▎                  | 30/48 [00:00<00:00, 40.77it/s]:  73%|████████████████████████████████████▍             | 35/48 [00:00<00:00, 40.76it/s]:  83%|█████████████████████████████████████████▋        | 40/48 [00:00<00:00, 40.14it/s]:  94%|██████████████████████████████████████████████▉   | 45/48 [00:01<00:00, 40.59it/s]: 100%|██████████████████████████████████████████████████| 48/48 [00:01<00:00, 40.86it/s]\n",
      "13 Jun 20:42    INFO  epoch 1 training [time: 1.18s, train loss: 312.6874]\n",
      "Evaluate   :   0%|                                                            | 0/1 [00:00<?, ?it/s]: 100%|███████████████████████████████████████████████████| 1/1 [00:00<00:00, 129.36it/s]\n",
      "13 Jun 20:42    INFO  epoch 1 evaluating [time: 0.02s, valid_score: 0.013500]\n",
      "13 Jun 20:42    INFO  valid result: \n",
      "recall@10 : 0.0573    mrr@10 : 0.0135    ndcg@10 : 0.0235    hit@10 : 0.0573    precision@10 : 0.0057\n",
      "13 Jun 20:42    INFO  Saving current: saved/NPE-Jun-13-2024_20-42-10.pth\n",
      "Train     2:   0%|                                                           | 0/48 [00:00<?, ?it/s]:   6%|███▏                                               | 3/48 [00:00<00:01, 26.17it/s]:  17%|████████▌                                          | 8/48 [00:00<00:01, 35.05it/s]:  27%|█████████████▌                                    | 13/48 [00:00<00:00, 37.94it/s]:  38%|██████████████████▊                               | 18/48 [00:00<00:00, 39.09it/s]:  48%|███████████████████████▉                          | 23/48 [00:00<00:00, 39.68it/s]:  58%|█████████████████████████████▏                    | 28/48 [00:00<00:00, 40.35it/s]:  69%|██████████████████████████████████▍               | 33/48 [00:00<00:00, 39.37it/s]:  77%|██████████████████████████████████████▌           | 37/48 [00:00<00:00, 39.52it/s]:  88%|███████████████████████████████████████████▊      | 42/48 [00:01<00:00, 40.16it/s]:  98%|████████████████████████████████████████████████▉ | 47/48 [00:01<00:00, 40.55it/s]: 100%|██████████████████████████████████████████████████| 48/48 [00:01<00:00, 39.44it/s]\n",
      "13 Jun 20:42    INFO  epoch 2 training [time: 1.22s, train loss: 306.6159]\n",
      "Evaluate   :   0%|                                                            | 0/1 [00:00<?, ?it/s]: 100%|███████████████████████████████████████████████████| 1/1 [00:00<00:00, 178.09it/s]\n",
      "13 Jun 20:42    INFO  epoch 2 evaluating [time: 0.01s, valid_score: 0.012400]\n",
      "13 Jun 20:42    INFO  valid result: \n",
      "recall@10 : 0.052    mrr@10 : 0.0124    ndcg@10 : 0.0213    hit@10 : 0.052    precision@10 : 0.0052\n",
      "Train     3:   0%|                                                           | 0/48 [00:00<?, ?it/s]:   6%|███▏                                               | 3/48 [00:00<00:01, 27.23it/s]:  17%|████████▌                                          | 8/48 [00:00<00:01, 36.17it/s]:  27%|█████████████▌                                    | 13/48 [00:00<00:00, 38.83it/s]:  38%|██████████████████▊                               | 18/48 [00:00<00:00, 39.77it/s]:  48%|███████████████████████▉                          | 23/48 [00:00<00:00, 40.18it/s]:  58%|█████████████████████████████▏                    | 28/48 [00:00<00:00, 40.42it/s]:  69%|██████████████████████████████████▍               | 33/48 [00:00<00:00, 40.43it/s]:  79%|███████████████████████████████████████▌          | 38/48 [00:00<00:00, 40.50it/s]:  90%|████████████████████████████████████████████▊     | 43/48 [00:01<00:00, 40.66it/s]: 100%|██████████████████████████████████████████████████| 48/48 [00:01<00:00, 41.43it/s]: 100%|██████████████████████████████████████████████████| 48/48 [00:01<00:00, 39.99it/s]\n",
      "13 Jun 20:42    INFO  epoch 3 training [time: 1.20s, train loss: 303.1457]\n",
      "Evaluate   :   0%|                                                            | 0/1 [00:00<?, ?it/s]: 100%|███████████████████████████████████████████████████| 1/1 [00:00<00:00, 161.55it/s]\n",
      "13 Jun 20:42    INFO  epoch 3 evaluating [time: 0.01s, valid_score: 0.012000]\n",
      "13 Jun 20:42    INFO  valid result: \n",
      "recall@10 : 0.0573    mrr@10 : 0.012    ndcg@10 : 0.0224    hit@10 : 0.0573    precision@10 : 0.0057\n",
      "Train     4:   0%|                                                           | 0/48 [00:00<?, ?it/s]:   4%|██▏                                                | 2/48 [00:00<00:02, 19.12it/s]:  12%|██████▍                                            | 6/48 [00:00<00:01, 30.59it/s]:  21%|██████████▍                                       | 10/48 [00:00<00:01, 34.68it/s]:  29%|██████████████▌                                   | 14/48 [00:00<00:00, 35.43it/s]:  40%|███████████████████▊                              | 19/48 [00:00<00:00, 37.77it/s]:  50%|█████████████████████████                         | 24/48 [00:00<00:00, 39.01it/s]:  60%|██████████████████████████████▏                   | 29/48 [00:00<00:00, 39.99it/s]:  69%|██████████████████████████████████▍               | 33/48 [00:00<00:00, 39.85it/s]:  79%|███████████████████████████████████████▌          | 38/48 [00:01<00:00, 40.13it/s]:  90%|████████████████████████████████████████████▊     | 43/48 [00:01<00:00, 40.63it/s]: 100%|██████████████████████████████████████████████████| 48/48 [00:01<00:00, 41.46it/s]: 100%|██████████████████████████████████████████████████| 48/48 [00:01<00:00, 38.71it/s]\n",
      "13 Jun 20:42    INFO  epoch 4 training [time: 1.24s, train loss: 300.8861]\n",
      "Evaluate   :   0%|                                                            | 0/1 [00:00<?, ?it/s]: 100%|███████████████████████████████████████████████████| 1/1 [00:00<00:00, 184.74it/s]\n",
      "13 Jun 20:42    INFO  epoch 4 evaluating [time: 0.01s, valid_score: 0.012300]\n",
      "13 Jun 20:42    INFO  valid result: \n",
      "recall@10 : 0.0477    mrr@10 : 0.0123    ndcg@10 : 0.0202    hit@10 : 0.0477    precision@10 : 0.0048\n",
      "Train     5:   0%|                                                           | 0/48 [00:00<?, ?it/s]:   6%|███▏                                               | 3/48 [00:00<00:01, 27.70it/s]:  17%|████████▌                                          | 8/48 [00:00<00:01, 35.58it/s]:  25%|████████████▌                                     | 12/48 [00:00<00:00, 37.12it/s]:  35%|█████████████████▋                                | 17/48 [00:00<00:00, 38.55it/s]:  46%|██████████████████████▉                           | 22/48 [00:00<00:00, 39.67it/s]:  56%|████████████████████████████▏                     | 27/48 [00:00<00:00, 40.33it/s]:  67%|█████████████████████████████████▎                | 32/48 [00:00<00:00, 40.70it/s]:  77%|██████████████████████████████████████▌           | 37/48 [00:00<00:00, 39.92it/s]:  88%|███████████████████████████████████████████▊      | 42/48 [00:01<00:00, 40.48it/s]:  98%|████████████████████████████████████████████████▉ | 47/48 [00:01<00:00, 40.78it/s]: 100%|██████████████████████████████████████████████████| 48/48 [00:01<00:00, 39.67it/s]\n",
      "13 Jun 20:42    INFO  epoch 5 training [time: 1.22s, train loss: 299.0576]\n",
      "Evaluate   :   0%|                                                            | 0/1 [00:00<?, ?it/s]: 100%|███████████████████████████████████████████████████| 1/1 [00:00<00:00, 146.76it/s]\n",
      "13 Jun 20:42    INFO  epoch 5 evaluating [time: 0.02s, valid_score: 0.013100]\n",
      "13 Jun 20:42    INFO  valid result: \n",
      "recall@10 : 0.0541    mrr@10 : 0.0131    ndcg@10 : 0.0224    hit@10 : 0.0541    precision@10 : 0.0054\n",
      "Train     6:   0%|                                                           | 0/48 [00:00<?, ?it/s]:   6%|███▏                                               | 3/48 [00:00<00:01, 28.44it/s]:  17%|████████▌                                          | 8/48 [00:00<00:01, 36.68it/s]:  27%|█████████████▌                                    | 13/48 [00:00<00:00, 39.03it/s]:  38%|██████████████████▊                               | 18/48 [00:00<00:00, 40.22it/s]:  48%|███████████████████████▉                          | 23/48 [00:00<00:00, 40.54it/s]:  58%|█████████████████████████████▏                    | 28/48 [00:00<00:00, 39.68it/s]:  67%|█████████████████████████████████▎                | 32/48 [00:00<00:00, 39.50it/s]:  77%|██████████████████████████████████████▌           | 37/48 [00:00<00:00, 40.06it/s]:  88%|███████████████████████████████████████████▊      | 42/48 [00:01<00:00, 40.43it/s]:  98%|████████████████████████████████████████████████▉ | 47/48 [00:01<00:00, 40.66it/s]: 100%|██████████████████████████████████████████████████| 48/48 [00:01<00:00, 39.90it/s]\n",
      "13 Jun 20:42    INFO  epoch 6 training [time: 1.21s, train loss: 297.7605]\n",
      "Evaluate   :   0%|                                                            | 0/1 [00:00<?, ?it/s]: 100%|███████████████████████████████████████████████████| 1/1 [00:00<00:00, 156.03it/s]\n",
      "13 Jun 20:42    INFO  epoch 6 evaluating [time: 0.01s, valid_score: 0.012000]\n",
      "13 Jun 20:42    INFO  valid result: \n",
      "recall@10 : 0.0541    mrr@10 : 0.012    ndcg@10 : 0.0216    hit@10 : 0.0541    precision@10 : 0.0054\n",
      "Train     7:   0%|                                                           | 0/48 [00:00<?, ?it/s]:  10%|█████▎                                             | 5/48 [00:00<00:01, 40.30it/s]:  21%|██████████▍                                       | 10/48 [00:00<00:01, 36.27it/s]:  31%|███████████████▋                                  | 15/48 [00:00<00:00, 38.75it/s]:  42%|████████████████████▊                             | 20/48 [00:00<00:00, 39.71it/s]:  52%|██████████████████████████                        | 25/48 [00:00<00:00, 40.39it/s]:  62%|███████████████████████████████▎                  | 30/48 [00:00<00:00, 40.80it/s]:  73%|████████████████████████████████████▍             | 35/48 [00:00<00:00, 41.00it/s]:  83%|█████████████████████████████████████████▋        | 40/48 [00:00<00:00, 41.03it/s]:  94%|██████████████████████████████████████████████▉   | 45/48 [00:01<00:00, 41.09it/s]: 100%|██████████████████████████████████████████████████| 48/48 [00:01<00:00, 40.58it/s]\n",
      "13 Jun 20:42    INFO  epoch 7 training [time: 1.19s, train loss: 296.5370]\n",
      "Evaluate   :   0%|                                                            | 0/1 [00:00<?, ?it/s]: 100%|███████████████████████████████████████████████████| 1/1 [00:00<00:00, 166.42it/s]\n",
      "13 Jun 20:42    INFO  epoch 7 evaluating [time: 0.01s, valid_score: 0.012000]\n",
      "13 Jun 20:42    INFO  valid result: \n",
      "recall@10 : 0.052    mrr@10 : 0.012    ndcg@10 : 0.0211    hit@10 : 0.052    precision@10 : 0.0052\n",
      "Train     8:   0%|                                                           | 0/48 [00:00<?, ?it/s]:   6%|███▏                                               | 3/48 [00:00<00:01, 27.76it/s]:  17%|████████▌                                          | 8/48 [00:00<00:01, 35.99it/s]:  27%|█████████████▌                                    | 13/48 [00:00<00:00, 38.32it/s]:  38%|██████████████████▊                               | 18/48 [00:00<00:00, 39.54it/s]:  48%|███████████████████████▉                          | 23/48 [00:00<00:00, 39.90it/s]:  58%|█████████████████████████████▏                    | 28/48 [00:00<00:00, 40.17it/s]:  69%|██████████████████████████████████▍               | 33/48 [00:00<00:00, 40.77it/s]:  79%|███████████████████████████████████████▌          | 38/48 [00:00<00:00, 40.92it/s]:  90%|████████████████████████████████████████████▊     | 43/48 [00:01<00:00, 41.09it/s]: 100%|██████████████████████████████████████████████████| 48/48 [00:01<00:00, 41.95it/s]: 100%|██████████████████████████████████████████████████| 48/48 [00:01<00:00, 40.19it/s]\n",
      "13 Jun 20:42    INFO  epoch 8 training [time: 1.20s, train loss: 295.4347]\n",
      "Evaluate   :   0%|                                                            | 0/1 [00:00<?, ?it/s]: 100%|███████████████████████████████████████████████████| 1/1 [00:00<00:00, 165.21it/s]\n",
      "13 Jun 20:42    INFO  epoch 8 evaluating [time: 0.01s, valid_score: 0.015400]\n",
      "13 Jun 20:42    INFO  valid result: \n",
      "recall@10 : 0.0551    mrr@10 : 0.0154    ndcg@10 : 0.0243    hit@10 : 0.0551    precision@10 : 0.0055\n",
      "13 Jun 20:42    INFO  Saving current: saved/NPE-Jun-13-2024_20-42-10.pth\n",
      "Train     9:   0%|                                                           | 0/48 [00:00<?, ?it/s]:   8%|████▎                                              | 4/48 [00:00<00:01, 38.61it/s]:  19%|█████████▌                                         | 9/48 [00:00<00:00, 40.40it/s]:  29%|██████████████▌                                   | 14/48 [00:00<00:00, 40.80it/s]:  40%|███████████████████▊                              | 19/48 [00:00<00:00, 40.91it/s]:  50%|█████████████████████████                         | 24/48 [00:00<00:00, 41.06it/s]:  60%|██████████████████████████████▏                   | 29/48 [00:00<00:00, 41.15it/s]:  71%|███████████████████████████████████▍              | 34/48 [00:00<00:00, 41.34it/s]:  81%|████████████████████████████████████████▋         | 39/48 [00:00<00:00, 41.48it/s]:  92%|█████████████████████████████████████████████▊    | 44/48 [00:01<00:00, 41.31it/s]: 100%|██████████████████████████████████████████████████| 48/48 [00:01<00:00, 41.21it/s]\n",
      "13 Jun 20:42    INFO  epoch 9 training [time: 1.17s, train loss: 294.4560]\n",
      "Evaluate   :   0%|                                                            | 0/1 [00:00<?, ?it/s]: 100%|███████████████████████████████████████████████████| 1/1 [00:00<00:00, 188.79it/s]\n",
      "13 Jun 20:42    INFO  epoch 9 evaluating [time: 0.01s, valid_score: 0.014100]\n",
      "13 Jun 20:42    INFO  valid result: \n",
      "recall@10 : 0.0541    mrr@10 : 0.0141    ndcg@10 : 0.0231    hit@10 : 0.0541    precision@10 : 0.0054\n",
      "Train    10:   0%|                                                           | 0/48 [00:00<?, ?it/s]:   6%|███▏                                               | 3/48 [00:00<00:01, 27.88it/s]:  17%|████████▌                                          | 8/48 [00:00<00:01, 36.31it/s]:  25%|████████████▌                                     | 12/48 [00:00<00:00, 37.27it/s]:  33%|████████████████▋                                 | 16/48 [00:00<00:00, 38.28it/s]:  44%|█████████████████████▉                            | 21/48 [00:00<00:00, 39.32it/s]:  54%|███████████████████████████                       | 26/48 [00:00<00:00, 40.07it/s]:  65%|████████████████████████████████▎                 | 31/48 [00:00<00:00, 40.53it/s]:  75%|█████████████████████████████████████▌            | 36/48 [00:00<00:00, 40.72it/s]:  85%|██████████████████████████████████████████▋       | 41/48 [00:01<00:00, 41.00it/s]:  96%|███████████████████████████████████████████████▉  | 46/48 [00:01<00:00, 40.91it/s]: 100%|██████████████████████████████████████████████████| 48/48 [00:01<00:00, 39.92it/s]\n",
      "13 Jun 20:42    INFO  epoch 10 training [time: 1.21s, train loss: 293.5296]\n",
      "Evaluate   :   0%|                                                            | 0/1 [00:00<?, ?it/s]: 100%|███████████████████████████████████████████████████| 1/1 [00:00<00:00, 169.23it/s]\n",
      "13 Jun 20:42    INFO  epoch 10 evaluating [time: 0.01s, valid_score: 0.014400]\n",
      "13 Jun 20:42    INFO  valid result: \n",
      "recall@10 : 0.0551    mrr@10 : 0.0144    ndcg@10 : 0.0235    hit@10 : 0.0551    precision@10 : 0.0055\n",
      "Train    11:   0%|                                                           | 0/48 [00:00<?, ?it/s]:   6%|███▏                                               | 3/48 [00:00<00:01, 29.18it/s]:  17%|████████▌                                          | 8/48 [00:00<00:01, 36.59it/s]:  27%|█████████████▌                                    | 13/48 [00:00<00:00, 38.84it/s]:  38%|██████████████████▊                               | 18/48 [00:00<00:00, 39.78it/s]:  48%|███████████████████████▉                          | 23/48 [00:00<00:00, 40.18it/s]:  58%|█████████████████████████████▏                    | 28/48 [00:00<00:00, 40.63it/s]:  69%|██████████████████████████████████▍               | 33/48 [00:00<00:00, 40.84it/s]:  79%|███████████████████████████████████████▌          | 38/48 [00:00<00:00, 41.25it/s]:  90%|████████████████████████████████████████████▊     | 43/48 [00:01<00:00, 41.37it/s]: 100%|██████████████████████████████████████████████████| 48/48 [00:01<00:00, 41.91it/s]: 100%|██████████████████████████████████████████████████| 48/48 [00:01<00:00, 40.44it/s]\n",
      "13 Jun 20:42    INFO  epoch 11 training [time: 1.19s, train loss: 292.7893]\n",
      "Evaluate   :   0%|                                                            | 0/1 [00:00<?, ?it/s]: 100%|███████████████████████████████████████████████████| 1/1 [00:00<00:00, 149.99it/s]\n",
      "13 Jun 20:42    INFO  epoch 11 evaluating [time: 0.01s, valid_score: 0.014100]\n",
      "13 Jun 20:42    INFO  valid result: \n",
      "recall@10 : 0.0636    mrr@10 : 0.0141    ndcg@10 : 0.0253    hit@10 : 0.0636    precision@10 : 0.0064\n",
      "Train    12:   0%|                                                           | 0/48 [00:00<?, ?it/s]:   8%|████▎                                              | 4/48 [00:00<00:01, 38.39it/s]:  19%|█████████▌                                         | 9/48 [00:00<00:00, 40.43it/s]:  29%|██████████████▌                                   | 14/48 [00:00<00:00, 40.88it/s]:  40%|███████████████████▊                              | 19/48 [00:00<00:00, 41.17it/s]:  50%|█████████████████████████                         | 24/48 [00:00<00:00, 41.22it/s]:  60%|██████████████████████████████▏                   | 29/48 [00:00<00:00, 41.40it/s]:  71%|███████████████████████████████████▍              | 34/48 [00:00<00:00, 41.44it/s]:  81%|████████████████████████████████████████▋         | 39/48 [00:00<00:00, 41.57it/s]:  92%|█████████████████████████████████████████████▊    | 44/48 [00:01<00:00, 41.34it/s]: 100%|██████████████████████████████████████████████████| 48/48 [00:01<00:00, 41.38it/s]\n",
      "13 Jun 20:42    INFO  epoch 12 training [time: 1.17s, train loss: 291.9678]\n",
      "Evaluate   :   0%|                                                            | 0/1 [00:00<?, ?it/s]: 100%|███████████████████████████████████████████████████| 1/1 [00:00<00:00, 150.63it/s]\n",
      "13 Jun 20:42    INFO  epoch 12 evaluating [time: 0.02s, valid_score: 0.014300]\n",
      "13 Jun 20:42    INFO  valid result: \n",
      "recall@10 : 0.0573    mrr@10 : 0.0143    ndcg@10 : 0.0241    hit@10 : 0.0573    precision@10 : 0.0057\n",
      "Train    13:   0%|                                                           | 0/48 [00:00<?, ?it/s]:   8%|████▎                                              | 4/48 [00:00<00:01, 38.80it/s]:  19%|█████████▌                                         | 9/48 [00:00<00:00, 40.57it/s]:  29%|██████████████▌                                   | 14/48 [00:00<00:00, 40.75it/s]:  40%|███████████████████▊                              | 19/48 [00:00<00:00, 40.86it/s]:  50%|█████████████████████████                         | 24/48 [00:00<00:00, 41.02it/s]:  60%|██████████████████████████████▏                   | 29/48 [00:00<00:00, 41.02it/s]:  71%|███████████████████████████████████▍              | 34/48 [00:00<00:00, 40.97it/s]:  81%|████████████████████████████████████████▋         | 39/48 [00:00<00:00, 41.04it/s]:  92%|█████████████████████████████████████████████▊    | 44/48 [00:01<00:00, 40.99it/s]: 100%|██████████████████████████████████████████████████| 48/48 [00:01<00:00, 40.91it/s]\n",
      "13 Jun 20:42    INFO  epoch 13 training [time: 1.18s, train loss: 291.3681]\n",
      "Evaluate   :   0%|                                                            | 0/1 [00:00<?, ?it/s]: 100%|███████████████████████████████████████████████████| 1/1 [00:00<00:00, 166.59it/s]\n",
      "13 Jun 20:42    INFO  epoch 13 evaluating [time: 0.01s, valid_score: 0.015400]\n",
      "13 Jun 20:42    INFO  valid result: \n",
      "recall@10 : 0.0668    mrr@10 : 0.0154    ndcg@10 : 0.027    hit@10 : 0.0668    precision@10 : 0.0067\n",
      "13 Jun 20:42    INFO  Saving current: saved/NPE-Jun-13-2024_20-42-10.pth\n",
      "Train    14:   0%|                                                           | 0/48 [00:00<?, ?it/s]:   8%|████▎                                              | 4/48 [00:00<00:01, 38.94it/s]:  19%|█████████▌                                         | 9/48 [00:00<00:00, 40.49it/s]:  29%|██████████████▌                                   | 14/48 [00:00<00:00, 40.90it/s]:  40%|███████████████████▊                              | 19/48 [00:00<00:00, 40.91it/s]:  50%|█████████████████████████                         | 24/48 [00:00<00:00, 40.83it/s]:  60%|██████████████████████████████▏                   | 29/48 [00:00<00:00, 41.13it/s]:  71%|███████████████████████████████████▍              | 34/48 [00:00<00:00, 41.19it/s]:  81%|████████████████████████████████████████▋         | 39/48 [00:00<00:00, 40.91it/s]:  92%|█████████████████████████████████████████████▊    | 44/48 [00:01<00:00, 40.87it/s]: 100%|██████████████████████████████████████████████████| 48/48 [00:01<00:00, 41.05it/s]\n",
      "13 Jun 20:42    INFO  epoch 14 training [time: 1.17s, train loss: 290.7109]\n",
      "Evaluate   :   0%|                                                            | 0/1 [00:00<?, ?it/s]: 100%|███████████████████████████████████████████████████| 1/1 [00:00<00:00, 182.54it/s]\n",
      "13 Jun 20:42    INFO  epoch 14 evaluating [time: 0.01s, valid_score: 0.014200]\n",
      "13 Jun 20:42    INFO  valid result: \n",
      "recall@10 : 0.0573    mrr@10 : 0.0142    ndcg@10 : 0.024    hit@10 : 0.0573    precision@10 : 0.0057\n",
      "Train    15:   0%|                                                           | 0/48 [00:00<?, ?it/s]:   8%|████▎                                              | 4/48 [00:00<00:01, 39.32it/s]:  19%|█████████▌                                         | 9/48 [00:00<00:00, 40.77it/s]:  29%|██████████████▌                                   | 14/48 [00:00<00:00, 41.20it/s]:  40%|███████████████████▊                              | 19/48 [00:00<00:00, 41.34it/s]:  50%|█████████████████████████                         | 24/48 [00:00<00:00, 41.45it/s]:  60%|██████████████████████████████▏                   | 29/48 [00:00<00:00, 41.01it/s]:  71%|███████████████████████████████████▍              | 34/48 [00:00<00:00, 41.18it/s]:  81%|████████████████████████████████████████▋         | 39/48 [00:00<00:00, 41.29it/s]:  92%|█████████████████████████████████████████████▊    | 44/48 [00:01<00:00, 41.25it/s]: 100%|██████████████████████████████████████████████████| 48/48 [00:01<00:00, 41.36it/s]\n",
      "13 Jun 20:42    INFO  epoch 15 training [time: 1.16s, train loss: 290.2230]\n",
      "Evaluate   :   0%|                                                            | 0/1 [00:00<?, ?it/s]: 100%|███████████████████████████████████████████████████| 1/1 [00:00<00:00, 168.37it/s]\n",
      "13 Jun 20:42    INFO  epoch 15 evaluating [time: 0.02s, valid_score: 0.015400]\n",
      "13 Jun 20:42    INFO  valid result: \n",
      "recall@10 : 0.0604    mrr@10 : 0.0154    ndcg@10 : 0.0256    hit@10 : 0.0604    precision@10 : 0.006\n",
      "13 Jun 20:42    INFO  Saving current: saved/NPE-Jun-13-2024_20-42-10.pth\n",
      "Train    16:   0%|                                                           | 0/48 [00:00<?, ?it/s]:   8%|████▎                                              | 4/48 [00:00<00:01, 37.16it/s]:  19%|█████████▌                                         | 9/48 [00:00<00:00, 39.34it/s]:  29%|██████████████▌                                   | 14/48 [00:00<00:00, 39.99it/s]:  40%|███████████████████▊                              | 19/48 [00:00<00:00, 40.52it/s]:  50%|█████████████████████████                         | 24/48 [00:00<00:00, 40.61it/s]:  60%|██████████████████████████████▏                   | 29/48 [00:00<00:00, 40.87it/s]:  71%|███████████████████████████████████▍              | 34/48 [00:00<00:00, 41.20it/s]:  81%|████████████████████████████████████████▋         | 39/48 [00:00<00:00, 40.42it/s]:  92%|█████████████████████████████████████████████▊    | 44/48 [00:01<00:00, 40.81it/s]: 100%|██████████████████████████████████████████████████| 48/48 [00:01<00:00, 40.79it/s]\n",
      "13 Jun 20:42    INFO  epoch 16 training [time: 1.21s, train loss: 289.6082]\n",
      "Evaluate   :   0%|                                                            | 0/1 [00:00<?, ?it/s]: 100%|███████████████████████████████████████████████████| 1/1 [00:00<00:00, 175.69it/s]\n",
      "13 Jun 20:42    INFO  epoch 16 evaluating [time: 0.01s, valid_score: 0.015700]\n",
      "13 Jun 20:42    INFO  valid result: \n",
      "recall@10 : 0.07    mrr@10 : 0.0157    ndcg@10 : 0.028    hit@10 : 0.07    precision@10 : 0.007\n",
      "13 Jun 20:42    INFO  Saving current: saved/NPE-Jun-13-2024_20-42-10.pth\n",
      "Train    17:   0%|                                                           | 0/48 [00:00<?, ?it/s]:   8%|████▎                                              | 4/48 [00:00<00:01, 39.86it/s]:  19%|█████████▌                                         | 9/48 [00:00<00:00, 40.37it/s]:  29%|██████████████▌                                   | 14/48 [00:00<00:00, 40.65it/s]:  40%|███████████████████▊                              | 19/48 [00:00<00:00, 40.91it/s]:  50%|█████████████████████████                         | 24/48 [00:00<00:00, 40.79it/s]:  60%|██████████████████████████████▏                   | 29/48 [00:00<00:00, 40.95it/s]:  71%|███████████████████████████████████▍              | 34/48 [00:00<00:00, 41.15it/s]:  81%|████████████████████████████████████████▋         | 39/48 [00:00<00:00, 41.03it/s]:  92%|█████████████████████████████████████████████▊    | 44/48 [00:01<00:00, 41.24it/s]: 100%|██████████████████████████████████████████████████| 48/48 [00:01<00:00, 41.23it/s]\n",
      "13 Jun 20:42    INFO  epoch 17 training [time: 1.17s, train loss: 289.1432]\n",
      "Evaluate   :   0%|                                                            | 0/1 [00:00<?, ?it/s]: 100%|███████████████████████████████████████████████████| 1/1 [00:00<00:00, 152.97it/s]\n",
      "13 Jun 20:42    INFO  epoch 17 evaluating [time: 0.01s, valid_score: 0.016600]\n",
      "13 Jun 20:42    INFO  valid result: \n",
      "recall@10 : 0.0689    mrr@10 : 0.0166    ndcg@10 : 0.0284    hit@10 : 0.0689    precision@10 : 0.0069\n",
      "13 Jun 20:42    INFO  Saving current: saved/NPE-Jun-13-2024_20-42-10.pth\n",
      "Train    18:   0%|                                                           | 0/48 [00:00<?, ?it/s]:   8%|████▎                                              | 4/48 [00:00<00:01, 39.72it/s]:  19%|█████████▌                                         | 9/48 [00:00<00:00, 41.04it/s]:  29%|██████████████▌                                   | 14/48 [00:00<00:00, 41.30it/s]:  40%|███████████████████▊                              | 19/48 [00:00<00:00, 41.33it/s]:  50%|█████████████████████████                         | 24/48 [00:00<00:00, 41.04it/s]:  60%|██████████████████████████████▏                   | 29/48 [00:00<00:00, 41.23it/s]:  71%|███████████████████████████████████▍              | 34/48 [00:00<00:00, 41.39it/s]:  81%|████████████████████████████████████████▋         | 39/48 [00:00<00:00, 41.23it/s]:  92%|█████████████████████████████████████████████▊    | 44/48 [00:01<00:00, 41.21it/s]: 100%|██████████████████████████████████████████████████| 48/48 [00:01<00:00, 41.23it/s]\n",
      "13 Jun 20:42    INFO  epoch 18 training [time: 1.17s, train loss: 288.4792]\n",
      "Evaluate   :   0%|                                                            | 0/1 [00:00<?, ?it/s]: 100%|████████████████████████████████████████████████████| 1/1 [00:00<00:00, 91.03it/s]\n",
      "13 Jun 20:42    INFO  epoch 18 evaluating [time: 0.05s, valid_score: 0.015400]\n",
      "13 Jun 20:42    INFO  valid result: \n",
      "recall@10 : 0.0689    mrr@10 : 0.0154    ndcg@10 : 0.0276    hit@10 : 0.0689    precision@10 : 0.0069\n",
      "Train    19:   0%|                                                           | 0/48 [00:00<?, ?it/s]:   8%|████▎                                              | 4/48 [00:00<00:01, 37.20it/s]:  19%|█████████▌                                         | 9/48 [00:00<00:00, 39.96it/s]:  29%|██████████████▌                                   | 14/48 [00:00<00:00, 40.27it/s]:  40%|███████████████████▊                              | 19/48 [00:00<00:00, 40.19it/s]:  50%|█████████████████████████                         | 24/48 [00:00<00:00, 40.45it/s]:  60%|██████████████████████████████▏                   | 29/48 [00:00<00:00, 40.85it/s]:  71%|███████████████████████████████████▍              | 34/48 [00:00<00:00, 40.64it/s]:  81%|████████████████████████████████████████▋         | 39/48 [00:00<00:00, 40.81it/s]:  92%|█████████████████████████████████████████████▊    | 44/48 [00:01<00:00, 38.33it/s]: 100%|██████████████████████████████████████████████████| 48/48 [00:01<00:00, 39.86it/s]\n",
      "13 Jun 20:42    INFO  epoch 19 training [time: 1.21s, train loss: 288.1368]\n",
      "Evaluate   :   0%|                                                            | 0/1 [00:00<?, ?it/s]: 100%|███████████████████████████████████████████████████| 1/1 [00:00<00:00, 187.12it/s]\n",
      "13 Jun 20:42    INFO  epoch 19 evaluating [time: 0.01s, valid_score: 0.014500]\n",
      "13 Jun 20:42    INFO  valid result: \n",
      "recall@10 : 0.0689    mrr@10 : 0.0145    ndcg@10 : 0.0268    hit@10 : 0.0689    precision@10 : 0.0069\n",
      "Train    20:   0%|                                                           | 0/48 [00:00<?, ?it/s]:  10%|█████▎                                             | 5/48 [00:00<00:01, 40.47it/s]:  21%|██████████▍                                       | 10/48 [00:00<00:00, 40.64it/s]:  31%|███████████████▋                                  | 15/48 [00:00<00:00, 40.78it/s]:  42%|████████████████████▊                             | 20/48 [00:00<00:00, 37.44it/s]:  52%|██████████████████████████                        | 25/48 [00:00<00:00, 38.70it/s]:  62%|███████████████████████████████▎                  | 30/48 [00:00<00:00, 39.44it/s]:  73%|████████████████████████████████████▍             | 35/48 [00:00<00:00, 40.04it/s]:  83%|█████████████████████████████████████████▋        | 40/48 [00:01<00:00, 40.47it/s]:  94%|██████████████████████████████████████████████▉   | 45/48 [00:01<00:00, 40.82it/s]: 100%|██████████████████████████████████████████████████| 48/48 [00:01<00:00, 40.27it/s]\n",
      "13 Jun 20:42    INFO  epoch 20 training [time: 1.20s, train loss: 287.6796]\n",
      "Evaluate   :   0%|                                                            | 0/1 [00:00<?, ?it/s]: 100%|███████████████████████████████████████████████████| 1/1 [00:00<00:00, 167.08it/s]\n",
      "13 Jun 20:42    INFO  epoch 20 evaluating [time: 0.01s, valid_score: 0.016400]\n",
      "13 Jun 20:42    INFO  valid result: \n",
      "recall@10 : 0.0732    mrr@10 : 0.0164    ndcg@10 : 0.0292    hit@10 : 0.0732    precision@10 : 0.0073\n",
      "Train    21:   0%|                                                           | 0/48 [00:00<?, ?it/s]:   8%|████▎                                              | 4/48 [00:00<00:01, 38.48it/s]:  19%|█████████▌                                         | 9/48 [00:00<00:00, 40.47it/s]:  29%|██████████████▌                                   | 14/48 [00:00<00:00, 41.19it/s]:  40%|███████████████████▊                              | 19/48 [00:00<00:00, 41.12it/s]:  50%|█████████████████████████                         | 24/48 [00:00<00:00, 41.24it/s]:  60%|██████████████████████████████▏                   | 29/48 [00:00<00:00, 40.84it/s]:  71%|███████████████████████████████████▍              | 34/48 [00:00<00:00, 40.71it/s]:  81%|████████████████████████████████████████▋         | 39/48 [00:00<00:00, 40.89it/s]:  92%|█████████████████████████████████████████████▊    | 44/48 [00:01<00:00, 40.88it/s]: 100%|██████████████████████████████████████████████████| 48/48 [00:01<00:00, 41.03it/s]\n",
      "13 Jun 20:42    INFO  epoch 21 training [time: 1.17s, train loss: 287.2481]\n",
      "Evaluate   :   0%|                                                            | 0/1 [00:00<?, ?it/s]: 100%|████████████████████████████████████████████████████| 1/1 [00:00<00:00, 92.97it/s]\n",
      "13 Jun 20:42    INFO  epoch 21 evaluating [time: 0.04s, valid_score: 0.018500]\n",
      "13 Jun 20:42    INFO  valid result: \n",
      "recall@10 : 0.0689    mrr@10 : 0.0185    ndcg@10 : 0.03    hit@10 : 0.0689    precision@10 : 0.0069\n",
      "13 Jun 20:42    INFO  Saving current: saved/NPE-Jun-13-2024_20-42-10.pth\n",
      "Train    22:   0%|                                                           | 0/48 [00:00<?, ?it/s]:  10%|█████▎                                             | 5/48 [00:00<00:01, 40.66it/s]:  21%|██████████▍                                       | 10/48 [00:00<00:00, 41.50it/s]:  31%|███████████████▋                                  | 15/48 [00:00<00:00, 41.31it/s]:  42%|████████████████████▊                             | 20/48 [00:00<00:00, 41.14it/s]:  52%|██████████████████████████                        | 25/48 [00:00<00:00, 41.27it/s]:  62%|███████████████████████████████▎                  | 30/48 [00:00<00:00, 41.28it/s]:  73%|████████████████████████████████████▍             | 35/48 [00:00<00:00, 41.49it/s]:  83%|█████████████████████████████████████████▋        | 40/48 [00:00<00:00, 38.60it/s]:  94%|██████████████████████████████████████████████▉   | 45/48 [00:01<00:00, 39.22it/s]: 100%|██████████████████████████████████████████████████| 48/48 [00:01<00:00, 40.49it/s]\n",
      "13 Jun 20:42    INFO  epoch 22 training [time: 1.19s, train loss: 286.9238]\n",
      "Evaluate   :   0%|                                                            | 0/1 [00:00<?, ?it/s]: 100%|███████████████████████████████████████████████████| 1/1 [00:00<00:00, 144.26it/s]\n",
      "13 Jun 20:42    INFO  epoch 22 evaluating [time: 0.02s, valid_score: 0.018200]\n",
      "13 Jun 20:42    INFO  valid result: \n",
      "recall@10 : 0.071    mrr@10 : 0.0182    ndcg@10 : 0.0302    hit@10 : 0.071    precision@10 : 0.0071\n",
      "Train    23:   0%|                                                           | 0/48 [00:00<?, ?it/s]:  10%|█████▎                                             | 5/48 [00:00<00:01, 41.60it/s]:  21%|██████████▍                                       | 10/48 [00:00<00:00, 41.63it/s]:  31%|███████████████▋                                  | 15/48 [00:00<00:00, 37.71it/s]:  42%|████████████████████▊                             | 20/48 [00:00<00:00, 39.05it/s]:  52%|██████████████████████████                        | 25/48 [00:00<00:00, 40.09it/s]:  62%|███████████████████████████████▎                  | 30/48 [00:00<00:00, 40.47it/s]:  73%|████████████████████████████████████▍             | 35/48 [00:00<00:00, 41.07it/s]:  83%|█████████████████████████████████████████▋        | 40/48 [00:00<00:00, 41.30it/s]:  94%|██████████████████████████████████████████████▉   | 45/48 [00:01<00:00, 40.77it/s]: 100%|██████████████████████████████████████████████████| 48/48 [00:01<00:00, 40.65it/s]\n",
      "13 Jun 20:42    INFO  epoch 23 training [time: 1.19s, train loss: 286.6200]\n",
      "Evaluate   :   0%|                                                            | 0/1 [00:00<?, ?it/s]: 100%|███████████████████████████████████████████████████| 1/1 [00:00<00:00, 171.83it/s]\n",
      "13 Jun 20:42    INFO  epoch 23 evaluating [time: 0.02s, valid_score: 0.014200]\n",
      "13 Jun 20:42    INFO  valid result: \n",
      "recall@10 : 0.0732    mrr@10 : 0.0142    ndcg@10 : 0.0274    hit@10 : 0.0732    precision@10 : 0.0073\n",
      "Train    24:   0%|                                                           | 0/48 [00:00<?, ?it/s]:   8%|████▎                                              | 4/48 [00:00<00:01, 38.45it/s]:  19%|█████████▌                                         | 9/48 [00:00<00:00, 39.84it/s]:  29%|██████████████▌                                   | 14/48 [00:00<00:00, 40.43it/s]:  40%|███████████████████▊                              | 19/48 [00:00<00:00, 40.88it/s]:  50%|█████████████████████████                         | 24/48 [00:00<00:00, 41.23it/s]:  60%|██████████████████████████████▏                   | 29/48 [00:00<00:00, 41.16it/s]:  71%|███████████████████████████████████▍              | 34/48 [00:00<00:00, 41.25it/s]:  81%|████████████████████████████████████████▋         | 39/48 [00:00<00:00, 41.14it/s]:  92%|█████████████████████████████████████████████▊    | 44/48 [00:01<00:00, 41.12it/s]: 100%|██████████████████████████████████████████████████| 48/48 [00:01<00:00, 40.20it/s]\n",
      "13 Jun 20:42    INFO  epoch 24 training [time: 1.20s, train loss: 286.1609]\n",
      "Evaluate   :   0%|                                                            | 0/1 [00:00<?, ?it/s]: 100%|███████████████████████████████████████████████████| 1/1 [00:00<00:00, 166.47it/s]\n",
      "13 Jun 20:42    INFO  epoch 24 evaluating [time: 0.01s, valid_score: 0.014700]\n",
      "13 Jun 20:42    INFO  valid result: \n",
      "recall@10 : 0.0679    mrr@10 : 0.0147    ndcg@10 : 0.0268    hit@10 : 0.0679    precision@10 : 0.0068\n",
      "Train    25:   0%|                                                           | 0/48 [00:00<?, ?it/s]:   8%|████▎                                              | 4/48 [00:00<00:01, 39.44it/s]:  19%|█████████▌                                         | 9/48 [00:00<00:00, 40.22it/s]:  29%|██████████████▌                                   | 14/48 [00:00<00:00, 41.15it/s]:  40%|███████████████████▊                              | 19/48 [00:00<00:00, 37.74it/s]:  50%|█████████████████████████                         | 24/48 [00:00<00:00, 38.77it/s]:  60%|██████████████████████████████▏                   | 29/48 [00:00<00:00, 39.70it/s]:  71%|███████████████████████████████████▍              | 34/48 [00:00<00:00, 40.03it/s]:  81%|████████████████████████████████████████▋         | 39/48 [00:00<00:00, 40.41it/s]:  92%|█████████████████████████████████████████████▊    | 44/48 [00:01<00:00, 40.72it/s]: 100%|██████████████████████████████████████████████████| 48/48 [00:01<00:00, 40.09it/s]\n",
      "13 Jun 20:42    INFO  epoch 25 training [time: 1.20s, train loss: 285.9110]\n",
      "Evaluate   :   0%|                                                            | 0/1 [00:00<?, ?it/s]: 100%|███████████████████████████████████████████████████| 1/1 [00:00<00:00, 170.18it/s]\n",
      "13 Jun 20:42    INFO  epoch 25 evaluating [time: 0.01s, valid_score: 0.016000]\n",
      "13 Jun 20:42    INFO  valid result: \n",
      "recall@10 : 0.0679    mrr@10 : 0.016    ndcg@10 : 0.0277    hit@10 : 0.0679    precision@10 : 0.0068\n",
      "Train    26:   0%|                                                           | 0/48 [00:00<?, ?it/s]:   6%|███▏                                               | 3/48 [00:00<00:01, 28.67it/s]:  17%|████████▌                                          | 8/48 [00:00<00:01, 36.59it/s]:  27%|█████████████▌                                    | 13/48 [00:00<00:00, 38.86it/s]:  38%|██████████████████▊                               | 18/48 [00:00<00:00, 39.71it/s]:  46%|██████████████████████▉                           | 22/48 [00:00<00:00, 39.50it/s]:  56%|████████████████████████████▏                     | 27/48 [00:00<00:00, 40.17it/s]:  67%|█████████████████████████████████▎                | 32/48 [00:00<00:00, 40.46it/s]:  77%|██████████████████████████████████████▌           | 37/48 [00:00<00:00, 40.67it/s]:  88%|███████████████████████████████████████████▊      | 42/48 [00:01<00:00, 40.89it/s]:  98%|████████████████████████████████████████████████▉ | 47/48 [00:01<00:00, 41.05it/s]: 100%|██████████████████████████████████████████████████| 48/48 [00:01<00:00, 40.11it/s]\n",
      "13 Jun 20:42    INFO  epoch 26 training [time: 1.20s, train loss: 285.5766]\n",
      "Evaluate   :   0%|                                                            | 0/1 [00:00<?, ?it/s]: 100%|███████████████████████████████████████████████████| 1/1 [00:00<00:00, 157.85it/s]\n",
      "13 Jun 20:42    INFO  epoch 26 evaluating [time: 0.04s, valid_score: 0.013700]\n",
      "13 Jun 20:42    INFO  valid result: \n",
      "recall@10 : 0.0668    mrr@10 : 0.0137    ndcg@10 : 0.0256    hit@10 : 0.0668    precision@10 : 0.0067\n",
      "Train    27:   0%|                                                           | 0/48 [00:00<?, ?it/s]:  10%|█████▎                                             | 5/48 [00:00<00:01, 40.70it/s]:  21%|██████████▍                                       | 10/48 [00:00<00:00, 40.23it/s]:  31%|███████████████▋                                  | 15/48 [00:00<00:00, 40.67it/s]:  42%|████████████████████▊                             | 20/48 [00:00<00:00, 40.69it/s]:  52%|██████████████████████████                        | 25/48 [00:00<00:00, 40.68it/s]:  62%|███████████████████████████████▎                  | 30/48 [00:00<00:00, 40.40it/s]:  73%|████████████████████████████████████▍             | 35/48 [00:00<00:00, 40.36it/s]:  83%|█████████████████████████████████████████▋        | 40/48 [00:00<00:00, 39.24it/s]:  92%|█████████████████████████████████████████████▊    | 44/48 [00:01<00:00, 36.39it/s]: 100%|██████████████████████████████████████████████████| 48/48 [00:01<00:00, 39.23it/s]\n",
      "13 Jun 20:42    INFO  epoch 27 training [time: 1.23s, train loss: 285.2566]\n",
      "Evaluate   :   0%|                                                            | 0/1 [00:00<?, ?it/s]: 100%|███████████████████████████████████████████████████| 1/1 [00:00<00:00, 175.59it/s]\n",
      "13 Jun 20:42    INFO  epoch 27 evaluating [time: 0.01s, valid_score: 0.013700]\n",
      "13 Jun 20:42    INFO  valid result: \n",
      "recall@10 : 0.0679    mrr@10 : 0.0137    ndcg@10 : 0.026    hit@10 : 0.0679    precision@10 : 0.0068\n",
      "Train    28:   0%|                                                           | 0/48 [00:00<?, ?it/s]:   8%|████▎                                              | 4/48 [00:00<00:01, 38.05it/s]:  19%|█████████▌                                         | 9/48 [00:00<00:00, 40.11it/s]:  29%|██████████████▌                                   | 14/48 [00:00<00:00, 40.25it/s]:  40%|███████████████████▊                              | 19/48 [00:00<00:00, 37.19it/s]:  50%|█████████████████████████                         | 24/48 [00:00<00:00, 38.75it/s]:  60%|██████████████████████████████▏                   | 29/48 [00:00<00:00, 39.54it/s]:  71%|███████████████████████████████████▍              | 34/48 [00:00<00:00, 39.98it/s]:  81%|████████████████████████████████████████▋         | 39/48 [00:00<00:00, 40.37it/s]:  92%|█████████████████████████████████████████████▊    | 44/48 [00:01<00:00, 40.46it/s]: 100%|██████████████████████████████████████████████████| 48/48 [00:01<00:00, 39.95it/s]\n",
      "13 Jun 20:42    INFO  epoch 28 training [time: 1.21s, train loss: 284.9468]\n",
      "Evaluate   :   0%|                                                            | 0/1 [00:00<?, ?it/s]: 100%|███████████████████████████████████████████████████| 1/1 [00:00<00:00, 153.68it/s]\n",
      "13 Jun 20:42    INFO  epoch 28 evaluating [time: 0.04s, valid_score: 0.016200]\n",
      "13 Jun 20:42    INFO  valid result: \n",
      "recall@10 : 0.0679    mrr@10 : 0.0162    ndcg@10 : 0.0279    hit@10 : 0.0679    precision@10 : 0.0068\n",
      "Train    29:   0%|                                                           | 0/48 [00:00<?, ?it/s]:   8%|████▎                                              | 4/48 [00:00<00:01, 38.84it/s]:  19%|█████████▌                                         | 9/48 [00:00<00:00, 40.01it/s]:  29%|██████████████▌                                   | 14/48 [00:00<00:00, 40.62it/s]:  40%|███████████████████▊                              | 19/48 [00:00<00:00, 40.80it/s]:  50%|█████████████████████████                         | 24/48 [00:00<00:00, 40.79it/s]:  60%|██████████████████████████████▏                   | 29/48 [00:00<00:00, 40.85it/s]:  71%|███████████████████████████████████▍              | 34/48 [00:00<00:00, 40.87it/s]:  81%|████████████████████████████████████████▋         | 39/48 [00:00<00:00, 40.45it/s]:  92%|█████████████████████████████████████████████▊    | 44/48 [00:01<00:00, 37.93it/s]: 100%|██████████████████████████████████████████████████| 48/48 [00:01<00:00, 39.88it/s]\n",
      "13 Jun 20:42    INFO  epoch 29 training [time: 1.21s, train loss: 284.7418]\n",
      "Evaluate   :   0%|                                                            | 0/1 [00:00<?, ?it/s]: 100%|███████████████████████████████████████████████████| 1/1 [00:00<00:00, 155.37it/s]\n",
      "13 Jun 20:42    INFO  epoch 29 evaluating [time: 0.02s, valid_score: 0.014500]\n",
      "13 Jun 20:42    INFO  valid result: \n",
      "recall@10 : 0.0732    mrr@10 : 0.0145    ndcg@10 : 0.0278    hit@10 : 0.0732    precision@10 : 0.0073\n",
      "Train    30:   0%|                                                           | 0/48 [00:00<?, ?it/s]:   8%|████▎                                              | 4/48 [00:00<00:01, 39.56it/s]:  17%|████████▌                                          | 8/48 [00:00<00:01, 34.59it/s]:  27%|█████████████▌                                    | 13/48 [00:00<00:00, 37.64it/s]:  38%|██████████████████▊                               | 18/48 [00:00<00:00, 39.02it/s]:  48%|███████████████████████▉                          | 23/48 [00:00<00:00, 40.01it/s]:  58%|█████████████████████████████▏                    | 28/48 [00:00<00:00, 40.41it/s]:  69%|██████████████████████████████████▍               | 33/48 [00:00<00:00, 40.50it/s]:  79%|███████████████████████████████████████▌          | 38/48 [00:00<00:00, 40.77it/s]:  90%|████████████████████████████████████████████▊     | 43/48 [00:01<00:00, 40.96it/s]: 100%|██████████████████████████████████████████████████| 48/48 [00:01<00:00, 41.67it/s]: 100%|██████████████████████████████████████████████████| 48/48 [00:01<00:00, 40.25it/s]\n",
      "13 Jun 20:42    INFO  epoch 30 training [time: 1.20s, train loss: 284.5979]\n",
      "Evaluate   :   0%|                                                            | 0/1 [00:00<?, ?it/s]: 100%|████████████████████████████████████████████████████| 1/1 [00:00<00:00, 29.96it/s]\n",
      "13 Jun 20:42    INFO  epoch 30 evaluating [time: 0.04s, valid_score: 0.015100]\n",
      "13 Jun 20:42    INFO  valid result: \n",
      "recall@10 : 0.0753    mrr@10 : 0.0151    ndcg@10 : 0.0286    hit@10 : 0.0753    precision@10 : 0.0075\n",
      "Train    31:   0%|                                                           | 0/48 [00:00<?, ?it/s]:   8%|████▎                                              | 4/48 [00:00<00:01, 39.16it/s]:  19%|█████████▌                                         | 9/48 [00:00<00:00, 40.26it/s]:  29%|██████████████▌                                   | 14/48 [00:00<00:00, 40.74it/s]:  40%|███████████████████▊                              | 19/48 [00:00<00:00, 40.76it/s]:  50%|█████████████████████████                         | 24/48 [00:00<00:00, 39.99it/s]:  60%|██████████████████████████████▏                   | 29/48 [00:00<00:00, 39.78it/s]:  69%|██████████████████████████████████▍               | 33/48 [00:00<00:00, 38.91it/s]:  77%|██████████████████████████████████████▌           | 37/48 [00:00<00:00, 37.66it/s]:  88%|███████████████████████████████████████████▊      | 42/48 [00:01<00:00, 38.66it/s]:  98%|████████████████████████████████████████████████▉ | 47/48 [00:01<00:00, 39.40it/s]: 100%|██████████████████████████████████████████████████| 48/48 [00:01<00:00, 39.54it/s]\n",
      "13 Jun 20:42    INFO  epoch 31 training [time: 1.22s, train loss: 284.2239]\n",
      "Evaluate   :   0%|                                                            | 0/1 [00:00<?, ?it/s]: 100%|███████████████████████████████████████████████████| 1/1 [00:00<00:00, 184.16it/s]\n",
      "13 Jun 20:42    INFO  epoch 31 evaluating [time: 0.01s, valid_score: 0.015800]\n",
      "13 Jun 20:42    INFO  valid result: \n",
      "recall@10 : 0.0732    mrr@10 : 0.0158    ndcg@10 : 0.0286    hit@10 : 0.0732    precision@10 : 0.0073\n",
      "Train    32:   0%|                                                           | 0/48 [00:00<?, ?it/s]:   6%|███▏                                               | 3/48 [00:00<00:01, 28.35it/s]:  17%|████████▌                                          | 8/48 [00:00<00:01, 36.28it/s]:  27%|█████████████▌                                    | 13/48 [00:00<00:00, 38.81it/s]:  38%|██████████████████▊                               | 18/48 [00:00<00:00, 39.96it/s]:  48%|███████████████████████▉                          | 23/48 [00:00<00:00, 40.57it/s]:  58%|█████████████████████████████▏                    | 28/48 [00:00<00:00, 40.70it/s]:  69%|██████████████████████████████████▍               | 33/48 [00:00<00:00, 40.91it/s]:  79%|███████████████████████████████████████▌          | 38/48 [00:00<00:00, 41.16it/s]:  90%|████████████████████████████████████████████▊     | 43/48 [00:01<00:00, 41.26it/s]: 100%|██████████████████████████████████████████████████| 48/48 [00:01<00:00, 41.99it/s]: 100%|██████████████████████████████████████████████████| 48/48 [00:01<00:00, 40.46it/s]\n",
      "13 Jun 20:42    INFO  epoch 32 training [time: 1.22s, train loss: 283.8591]\n",
      "Evaluate   :   0%|                                                            | 0/1 [00:00<?, ?it/s]: 100%|███████████████████████████████████████████████████| 1/1 [00:00<00:00, 126.89it/s]\n",
      "13 Jun 20:42    INFO  epoch 32 evaluating [time: 0.03s, valid_score: 0.012700]\n",
      "13 Jun 20:42    INFO  valid result: \n",
      "recall@10 : 0.0615    mrr@10 : 0.0127    ndcg@10 : 0.0237    hit@10 : 0.0615    precision@10 : 0.0062\n",
      "13 Jun 20:42    INFO  Finished training, best eval result in epoch 21\n",
      "13 Jun 20:42    INFO  Loading model structure and parameters from saved/NPE-Jun-13-2024_20-42-10.pth\n",
      "Evaluate   :   0%|                                                            | 0/1 [00:00<?, ?it/s]: 100%|███████████████████████████████████████████████████| 1/1 [00:00<00:00, 189.45it/s]\n",
      "13 Jun 20:42    INFO  The running environment of this training is as follows:\n",
      "+-------------+----------------+\n",
      "| Environment |     Usage      |\n",
      "+=============+================+\n",
      "| CPU         |    27.60 %     |\n",
      "+-------------+----------------+\n",
      "| GPU         |   0.0 / 0.0    |\n",
      "+-------------+----------------+\n",
      "| Memory      | 0.77 G/64.00 G |\n",
      "+-------------+----------------+\n",
      "13 Jun 20:42    INFO  best valid : OrderedDict([('recall@10', 0.0689), ('mrr@10', 0.0185), ('ndcg@10', 0.03), ('hit@10', 0.0689), ('precision@10', 0.0069)])\n",
      "13 Jun 20:42    INFO  test result: OrderedDict([('recall@10', 0.0509), ('mrr@10', 0.0127), ('ndcg@10', 0.0214), ('hit@10', 0.0509), ('precision@10', 0.0051)])\n"
     ]
    },
    {
     "data": {
      "text/plain": [
       "{'best_valid_score': 0.0185,\n",
       " 'valid_score_bigger': True,\n",
       " 'best_valid_result': OrderedDict([('recall@10', 0.0689),\n",
       "              ('mrr@10', 0.0185),\n",
       "              ('ndcg@10', 0.03),\n",
       "              ('hit@10', 0.0689),\n",
       "              ('precision@10', 0.0069)]),\n",
       " 'test_result': OrderedDict([('recall@10', 0.0509),\n",
       "              ('mrr@10', 0.0127),\n",
       "              ('ndcg@10', 0.0214),\n",
       "              ('hit@10', 0.0509),\n",
       "              ('precision@10', 0.0051)])}"
      ]
     },
     "execution_count": 5,
     "metadata": {},
     "output_type": "execute_result"
    }
   ],
   "source": [
    "config_dict = {\n",
    "    # 'eval_args': {\n",
    "    #     \"order\": \"TO\",\n",
    "    #     \"split\": {\"CO\": '886349689'},\n",
    "    #     \"group_by\": 'user_id'\n",
    "    # },\n",
    "    'train_neg_sample_args': None\n",
    "}\n",
    "\n",
    "run_recbole(model=model, dataset=data, config_dict=config_dict)"
   ]
  },
  {
   "cell_type": "markdown",
   "metadata": {},
   "source": [
    "# 4. Tune hyper params"
   ]
  },
  {
   "cell_type": "markdown",
   "metadata": {},
   "source": [
    "## 4.1. Define hyper params and object function"
   ]
  },
  {
   "cell_type": "code",
   "execution_count": null,
   "metadata": {},
   "outputs": [],
   "source": [
    "hyper_params = {\n",
    "    'loguniform': {\n",
    "        'learning_rate': [-8, 0]\n",
    "    },\n",
    "    'choice': {\n",
    "        'embedding_size': [64,96,128],\n",
    "        'mlp_hidden_size': ['[64,64,64]','[128,128]']\n",
    "    }\n",
    "}"
   ]
  },
  {
   "cell_type": "code",
   "execution_count": null,
   "metadata": {},
   "outputs": [],
   "source": [
    "def objective_function(config_dict=None, config_file_list=None):\n",
    "    # TODO: HoangLe [Jun-17]: Complete this\n",
    "    \n",
    "    config_dict = {\n",
    "        \"use_gpu\": True,\n",
    "        \"eval_args\": {\n",
    "            \"order\": \"TO\",\n",
    "            \"split\": {\"CO\": \"886349689\"},\n",
    "            \"group_by\": \"user_id\",\n",
    "        },\n",
    "        \"train_neg_sample_args\": None,\n",
    "    }\n",
    "\n",
    "    config = Config(\n",
    "        config_dict=config_dict,\n",
    "        config_file_list=config_file_list,\n",
    "    )\n",
    "    \n",
    "\n",
    "    # Define data related things\n",
    "    dataset = TimeCutoffDataset(config)\n",
    "    train_data, valid_data, test_data = data_preparation(config, dataset)\n",
    "\n",
    "    # Define model\n",
    "    model_name = config['model']\n",
    "    model = get_model(model_name)(config, train_data._dataset).to(config['device'])\n",
    "\n",
    "    # Define trainer\n",
    "    trainer = get_trainer(config['MODEL_TYPE'], config['model'])(config, model)\n",
    "\n",
    "    # Start training\n",
    "    best_valid_score, best_valid_result = trainer.fit(train_data, valid_data, verbose=False)\n",
    "\n",
    "    # Start evaluating\n",
    "    test_result = trainer.evaluate(test_data)\n",
    "\n",
    "    return {\n",
    "        'model': model_name,\n",
    "        'best_valid_score': best_valid_score,\n",
    "        'valid_score_bigger': config['valid_metric_bigger'],\n",
    "        'best_valid_result': best_valid_result,\n",
    "        'test_result': test_result\n",
    "    }"
   ]
  },
  {
   "cell_type": "markdown",
   "metadata": {},
   "source": [
    "## 4.2. Start tuning"
   ]
  },
  {
   "cell_type": "code",
   "execution_count": 2,
   "metadata": {},
   "outputs": [
    {
     "name": "stdout",
     "output_type": "stream",
     "text": [
      "running parameters:                                    \n",
      "{'embedding_size': 64, 'learning_rate': 0.0010749028422793762, 'mlp_hidden_size': '[64,64,64]'}\n",
      "current best valid score: 0.0440                       \n",
      "current best valid result:                             \n",
      "OrderedDict([('recall@10', 0.1175), ('mrr@10', 0.044), ('ndcg@10', 0.0611), ('hit@10', 0.1175), ('precision@10', 0.0117)])\n",
      "current test result:                                   \n",
      "OrderedDict([('recall@10', 0.0394), ('mrr@10', 0.0122), ('ndcg@10', 0.0182), ('hit@10', 0.0394), ('precision@10', 0.0039)])\n",
      "running parameters:                                                  \n",
      "{'embedding_size': 128, 'learning_rate': 0.004262748642670945, 'mlp_hidden_size': '[64,64,64]'}\n",
      "running parameters:                                                  \n",
      "{'embedding_size': 96, 'learning_rate': 0.10990572676884496, 'mlp_hidden_size': '[128,128]'}\n",
      "running parameters:                                                  \n",
      "{'embedding_size': 96, 'learning_rate': 0.0013989659824803558, 'mlp_hidden_size': '[128,128]'}\n",
      "running parameters:                                                  \n",
      "{'embedding_size': 64, 'learning_rate': 0.6573931760235135, 'mlp_hidden_size': '[64,64,64]'}\n",
      "running parameters:                                                  \n",
      "{'embedding_size': 128, 'learning_rate': 0.00047571366411197673, 'mlp_hidden_size': '[64,64,64]'}\n",
      "running parameters:                                                  \n",
      "{'embedding_size': 64, 'learning_rate': 0.0030639655464940753, 'mlp_hidden_size': '[128,128]'}\n",
      "running parameters:                                                  \n",
      "{'embedding_size': 64, 'learning_rate': 0.0005424785401708782, 'mlp_hidden_size': '[128,128]'}\n",
      "running parameters:                                                  \n",
      "{'embedding_size': 128, 'learning_rate': 0.141177541976288, 'mlp_hidden_size': '[128,128]'}\n",
      "running parameters:                                                  \n",
      "{'embedding_size': 64, 'learning_rate': 0.0038846767770311197, 'mlp_hidden_size': '[128,128]'}\n",
      " 10%|█         | 10/100 [00:22<03:21,  2.24s/trial, best loss: -0.044]\n"
     ]
    }
   ],
   "source": [
    "hp = HyperTuning(\n",
    "    objective_function=objective_function,\n",
    "    algo='bayes',\n",
    "    early_stop=10,\n",
    "    max_evals=100,\n",
    "    params_dict=hyper_params,\n",
    "    fixed_config_file_list=['test.yml']\n",
    ")\n",
    "\n",
    "\n",
    "hp.run()\n"
   ]
  },
  {
   "cell_type": "markdown",
   "metadata": {},
   "source": [
    "## 4.3. Export tunning result"
   ]
  },
  {
   "cell_type": "code",
   "execution_count": null,
   "metadata": {},
   "outputs": [],
   "source": [
    "# TODO: HoangLe [Jun-17]: Complete this\n",
    "\n",
    "# export result to the file\n",
    "path_log_tune = path_logs / f\"{}\"\n",
    "# hp.export_result(output_file='hyper_example.result')\n",
    "# NOTE: HoangLe [Jun-17]: May include datetime, model name, data name\n",
    "# print best parameters\n",
    "# print('best params: ', hp.best_params)\n",
    "\n",
    "# print best result\n",
    "# print('best result: ')\n",
    "# print(hp.params2result[hp.params2str(hp.best_params)])"
   ]
  },
  {
   "cell_type": "code",
   "execution_count": 1,
   "metadata": {},
   "outputs": [
    {
     "name": "stdout",
     "output_type": "stream",
     "text": [
      "running parameters:                                    \n",
      "{'embedding_size': 128, 'learning_rate': 0.012213481366920161, 'mlp_hidden_size': '[128,128]'}\n",
      "current best valid score: 0.0164                       \n",
      "current best valid result:                             \n",
      "OrderedDict([('recall@10', 0.0668), ('mrr@10', 0.0164), ('ndcg@10', 0.0279), ('hit@10', 0.0668), ('precision@10', 0.0067)])\n",
      "current test result:                                   \n",
      "OrderedDict([('recall@10', 0.0435), ('mrr@10', 0.008), ('ndcg@10', 0.0161), ('hit@10', 0.0435), ('precision@10', 0.0043)])\n",
      "running parameters:                                                     \n",
      "{'embedding_size': 64, 'learning_rate': 0.09821758837521936, 'mlp_hidden_size': '[128,128]'}\n",
      "current best valid score: 0.0218                                        \n",
      "current best valid result:                                              \n",
      "OrderedDict([('recall@10', 0.0647), ('mrr@10', 0.0218), ('ndcg@10', 0.0317), ('hit@10', 0.0647), ('precision@10', 0.0065)])\n",
      "current test result:                                                    \n",
      "OrderedDict([('recall@10', 0.053), ('mrr@10', 0.0169), ('ndcg@10', 0.0252), ('hit@10', 0.053), ('precision@10', 0.0053)])\n",
      "running parameters:                                                     \n",
      "{'embedding_size': 64, 'learning_rate': 0.00469754128962849, 'mlp_hidden_size': '[64,64,64]'}\n",
      "running parameters:                                                     \n",
      "{'embedding_size': 64, 'learning_rate': 0.7871671871908642, 'mlp_hidden_size': '[128,128]'}\n",
      "running parameters:                                                   \n",
      "{'embedding_size': 96, 'learning_rate': 0.0004863243520253361, 'mlp_hidden_size': '[128,128]'}\n",
      "running parameters:                                                   \n",
      "{'embedding_size': 64, 'learning_rate': 0.0014050888598820753, 'mlp_hidden_size': '[64,64,64]'}\n",
      "running parameters:                                                   \n",
      "{'embedding_size': 64, 'learning_rate': 0.5007048169076744, 'mlp_hidden_size': '[64,64,64]'}\n",
      "running parameters:                                                   \n",
      "{'embedding_size': 64, 'learning_rate': 0.029514916305062155, 'mlp_hidden_size': '[64,64,64]'}\n",
      "current best valid score: 0.0254                                      \n",
      "current best valid result:                                            \n",
      "OrderedDict([('recall@10', 0.0795), ('mrr@10', 0.0254), ('ndcg@10', 0.0377), ('hit@10', 0.0795), ('precision@10', 0.008)])\n",
      "current test result:                                                  \n",
      "OrderedDict([('recall@10', 0.0594), ('mrr@10', 0.0199), ('ndcg@10', 0.0289), ('hit@10', 0.0594), ('precision@10', 0.0059)])\n",
      "running parameters:                                                   \n",
      "{'embedding_size': 64, 'learning_rate': 0.27582899246303183, 'mlp_hidden_size': '[128,128]'}\n",
      "running parameters:                                                   \n",
      "{'embedding_size': 64, 'learning_rate': 0.0005425481744912389, 'mlp_hidden_size': '[128,128]'}\n",
      "running parameters:                                                    \n",
      "{'embedding_size': 96, 'learning_rate': 0.005205784163202396, 'mlp_hidden_size': '[64,64,64]'}\n",
      "running parameters:                                                    \n",
      "{'embedding_size': 96, 'learning_rate': 0.005317261870117616, 'mlp_hidden_size': '[128,128]'}\n",
      "running parameters:                                                    \n",
      "{'embedding_size': 128, 'learning_rate': 0.0015915130136012967, 'mlp_hidden_size': '[64,64,64]'}\n",
      "running parameters:                                                    \n",
      "{'embedding_size': 128, 'learning_rate': 0.003636553061380148, 'mlp_hidden_size': '[128,128]'}\n",
      "running parameters:                                                    \n",
      "{'embedding_size': 64, 'learning_rate': 0.0005597694578373445, 'mlp_hidden_size': '[128,128]'}\n",
      " 14%|█▍        | 14/100 [06:06<37:31, 26.18s/trial, best loss: -0.0254]\n"
     ]
    },
    {
     "ename": "KeyboardInterrupt",
     "evalue": "",
     "output_type": "error",
     "traceback": [
      "\u001b[0;31m---------------------------------------------------------------------------\u001b[0m",
      "\u001b[0;31mKeyboardInterrupt\u001b[0m                         Traceback (most recent call last)",
      "Cell \u001b[0;32mIn[1], line 57\u001b[0m\n\u001b[1;32m     47\u001b[0m hp \u001b[38;5;241m=\u001b[39m HyperTuning(\n\u001b[1;32m     48\u001b[0m     objective_function\u001b[38;5;241m=\u001b[39mobjective_function,\n\u001b[1;32m     49\u001b[0m     algo\u001b[38;5;241m=\u001b[39m\u001b[38;5;124m'\u001b[39m\u001b[38;5;124mbayes\u001b[39m\u001b[38;5;124m'\u001b[39m,\n\u001b[0;32m   (...)\u001b[0m\n\u001b[1;32m     53\u001b[0m     fixed_config_file_list\u001b[38;5;241m=\u001b[39m[\u001b[38;5;124m'\u001b[39m\u001b[38;5;124mtest.yml\u001b[39m\u001b[38;5;124m'\u001b[39m]\n\u001b[1;32m     54\u001b[0m )\n\u001b[1;32m     56\u001b[0m \u001b[38;5;66;03m# run\u001b[39;00m\n\u001b[0;32m---> 57\u001b[0m \u001b[43mhp\u001b[49m\u001b[38;5;241;43m.\u001b[39;49m\u001b[43mrun\u001b[49m\u001b[43m(\u001b[49m\u001b[43m)\u001b[49m\n\u001b[1;32m     58\u001b[0m \u001b[38;5;66;03m# export result to the file\u001b[39;00m\n\u001b[1;32m     59\u001b[0m \u001b[38;5;66;03m# hp.export_result(output_file='hyper_example.result')\u001b[39;00m\n\u001b[1;32m     60\u001b[0m \u001b[38;5;66;03m# # print best parameters\u001b[39;00m\n\u001b[0;32m   (...)\u001b[0m\n\u001b[1;32m     63\u001b[0m \u001b[38;5;66;03m# print('best result: ')\u001b[39;00m\n\u001b[1;32m     64\u001b[0m \u001b[38;5;66;03m# print(hp.params2result[hp.params2str(hp.best_params)])\u001b[39;00m\n",
      "File \u001b[0;32m~/miniforge3/envs/py/lib/python3.10/site-packages/recbole/trainer/hyper_tuning.py:412\u001b[0m, in \u001b[0;36mHyperTuning.run\u001b[0;34m(self)\u001b[0m\n\u001b[1;32m    409\u001b[0m \u001b[38;5;250m\u001b[39m\u001b[38;5;124mr\u001b[39m\u001b[38;5;124;03m\"\"\"begin to search the best parameters\"\"\"\u001b[39;00m\n\u001b[1;32m    410\u001b[0m \u001b[38;5;28;01mfrom\u001b[39;00m \u001b[38;5;21;01mhyperopt\u001b[39;00m \u001b[38;5;28;01mimport\u001b[39;00m fmin\n\u001b[0;32m--> 412\u001b[0m \u001b[43mfmin\u001b[49m\u001b[43m(\u001b[49m\n\u001b[1;32m    413\u001b[0m \u001b[43m    \u001b[49m\u001b[38;5;28;43mself\u001b[39;49m\u001b[38;5;241;43m.\u001b[39;49m\u001b[43mtrial\u001b[49m\u001b[43m,\u001b[49m\n\u001b[1;32m    414\u001b[0m \u001b[43m    \u001b[49m\u001b[38;5;28;43mself\u001b[39;49m\u001b[38;5;241;43m.\u001b[39;49m\u001b[43mspace\u001b[49m\u001b[43m,\u001b[49m\n\u001b[1;32m    415\u001b[0m \u001b[43m    \u001b[49m\u001b[43malgo\u001b[49m\u001b[38;5;241;43m=\u001b[39;49m\u001b[38;5;28;43mself\u001b[39;49m\u001b[38;5;241;43m.\u001b[39;49m\u001b[43malgo\u001b[49m\u001b[43m,\u001b[49m\n\u001b[1;32m    416\u001b[0m \u001b[43m    \u001b[49m\u001b[43mmax_evals\u001b[49m\u001b[38;5;241;43m=\u001b[39;49m\u001b[38;5;28;43mself\u001b[39;49m\u001b[38;5;241;43m.\u001b[39;49m\u001b[43mmax_evals\u001b[49m\u001b[43m,\u001b[49m\n\u001b[1;32m    417\u001b[0m \u001b[43m    \u001b[49m\u001b[43mearly_stop_fn\u001b[49m\u001b[38;5;241;43m=\u001b[39;49m\u001b[38;5;28;43mself\u001b[39;49m\u001b[38;5;241;43m.\u001b[39;49m\u001b[43mearly_stop_fn\u001b[49m\u001b[43m,\u001b[49m\n\u001b[1;32m    418\u001b[0m \u001b[43m\u001b[49m\u001b[43m)\u001b[49m\n\u001b[1;32m    419\u001b[0m \u001b[38;5;28;01mif\u001b[39;00m \u001b[38;5;28mself\u001b[39m\u001b[38;5;241m.\u001b[39mdisplay_file \u001b[38;5;129;01mis\u001b[39;00m \u001b[38;5;129;01mnot\u001b[39;00m \u001b[38;5;28;01mNone\u001b[39;00m:\n\u001b[1;32m    420\u001b[0m     \u001b[38;5;28mself\u001b[39m\u001b[38;5;241m.\u001b[39mplot_hyper()\n",
      "File \u001b[0;32m~/miniforge3/envs/py/lib/python3.10/site-packages/hyperopt/fmin.py:586\u001b[0m, in \u001b[0;36mfmin\u001b[0;34m(fn, space, algo, max_evals, timeout, loss_threshold, trials, rstate, allow_trials_fmin, pass_expr_memo_ctrl, catch_eval_exceptions, verbose, return_argmin, points_to_evaluate, max_queue_len, show_progressbar, early_stop_fn, trials_save_file)\u001b[0m\n\u001b[1;32m    583\u001b[0m rval\u001b[38;5;241m.\u001b[39mcatch_eval_exceptions \u001b[38;5;241m=\u001b[39m catch_eval_exceptions\n\u001b[1;32m    585\u001b[0m \u001b[38;5;66;03m# next line is where the fmin is actually executed\u001b[39;00m\n\u001b[0;32m--> 586\u001b[0m \u001b[43mrval\u001b[49m\u001b[38;5;241;43m.\u001b[39;49m\u001b[43mexhaust\u001b[49m\u001b[43m(\u001b[49m\u001b[43m)\u001b[49m\n\u001b[1;32m    588\u001b[0m \u001b[38;5;28;01mif\u001b[39;00m return_argmin:\n\u001b[1;32m    589\u001b[0m     \u001b[38;5;28;01mif\u001b[39;00m \u001b[38;5;28mlen\u001b[39m(trials\u001b[38;5;241m.\u001b[39mtrials) \u001b[38;5;241m==\u001b[39m \u001b[38;5;241m0\u001b[39m:\n",
      "File \u001b[0;32m~/miniforge3/envs/py/lib/python3.10/site-packages/hyperopt/fmin.py:364\u001b[0m, in \u001b[0;36mFMinIter.exhaust\u001b[0;34m(self)\u001b[0m\n\u001b[1;32m    362\u001b[0m \u001b[38;5;28;01mdef\u001b[39;00m \u001b[38;5;21mexhaust\u001b[39m(\u001b[38;5;28mself\u001b[39m):\n\u001b[1;32m    363\u001b[0m     n_done \u001b[38;5;241m=\u001b[39m \u001b[38;5;28mlen\u001b[39m(\u001b[38;5;28mself\u001b[39m\u001b[38;5;241m.\u001b[39mtrials)\n\u001b[0;32m--> 364\u001b[0m     \u001b[38;5;28;43mself\u001b[39;49m\u001b[38;5;241;43m.\u001b[39;49m\u001b[43mrun\u001b[49m\u001b[43m(\u001b[49m\u001b[38;5;28;43mself\u001b[39;49m\u001b[38;5;241;43m.\u001b[39;49m\u001b[43mmax_evals\u001b[49m\u001b[43m \u001b[49m\u001b[38;5;241;43m-\u001b[39;49m\u001b[43m \u001b[49m\u001b[43mn_done\u001b[49m\u001b[43m,\u001b[49m\u001b[43m \u001b[49m\u001b[43mblock_until_done\u001b[49m\u001b[38;5;241;43m=\u001b[39;49m\u001b[38;5;28;43mself\u001b[39;49m\u001b[38;5;241;43m.\u001b[39;49m\u001b[43masynchronous\u001b[49m\u001b[43m)\u001b[49m\n\u001b[1;32m    365\u001b[0m     \u001b[38;5;28mself\u001b[39m\u001b[38;5;241m.\u001b[39mtrials\u001b[38;5;241m.\u001b[39mrefresh()\n\u001b[1;32m    366\u001b[0m     \u001b[38;5;28;01mreturn\u001b[39;00m \u001b[38;5;28mself\u001b[39m\n",
      "File \u001b[0;32m~/miniforge3/envs/py/lib/python3.10/site-packages/hyperopt/fmin.py:300\u001b[0m, in \u001b[0;36mFMinIter.run\u001b[0;34m(self, N, block_until_done)\u001b[0m\n\u001b[1;32m    297\u001b[0m     time\u001b[38;5;241m.\u001b[39msleep(\u001b[38;5;28mself\u001b[39m\u001b[38;5;241m.\u001b[39mpoll_interval_secs)\n\u001b[1;32m    298\u001b[0m \u001b[38;5;28;01melse\u001b[39;00m:\n\u001b[1;32m    299\u001b[0m     \u001b[38;5;66;03m# -- loop over trials and do the jobs directly\u001b[39;00m\n\u001b[0;32m--> 300\u001b[0m     \u001b[38;5;28;43mself\u001b[39;49m\u001b[38;5;241;43m.\u001b[39;49m\u001b[43mserial_evaluate\u001b[49m\u001b[43m(\u001b[49m\u001b[43m)\u001b[49m\n\u001b[1;32m    302\u001b[0m \u001b[38;5;28mself\u001b[39m\u001b[38;5;241m.\u001b[39mtrials\u001b[38;5;241m.\u001b[39mrefresh()\n\u001b[1;32m    303\u001b[0m \u001b[38;5;28;01mif\u001b[39;00m \u001b[38;5;28mself\u001b[39m\u001b[38;5;241m.\u001b[39mtrials_save_file \u001b[38;5;241m!=\u001b[39m \u001b[38;5;124m\"\u001b[39m\u001b[38;5;124m\"\u001b[39m:\n",
      "File \u001b[0;32m~/miniforge3/envs/py/lib/python3.10/site-packages/hyperopt/fmin.py:178\u001b[0m, in \u001b[0;36mFMinIter.serial_evaluate\u001b[0;34m(self, N)\u001b[0m\n\u001b[1;32m    176\u001b[0m ctrl \u001b[38;5;241m=\u001b[39m base\u001b[38;5;241m.\u001b[39mCtrl(\u001b[38;5;28mself\u001b[39m\u001b[38;5;241m.\u001b[39mtrials, current_trial\u001b[38;5;241m=\u001b[39mtrial)\n\u001b[1;32m    177\u001b[0m \u001b[38;5;28;01mtry\u001b[39;00m:\n\u001b[0;32m--> 178\u001b[0m     result \u001b[38;5;241m=\u001b[39m \u001b[38;5;28;43mself\u001b[39;49m\u001b[38;5;241;43m.\u001b[39;49m\u001b[43mdomain\u001b[49m\u001b[38;5;241;43m.\u001b[39;49m\u001b[43mevaluate\u001b[49m\u001b[43m(\u001b[49m\u001b[43mspec\u001b[49m\u001b[43m,\u001b[49m\u001b[43m \u001b[49m\u001b[43mctrl\u001b[49m\u001b[43m)\u001b[49m\n\u001b[1;32m    179\u001b[0m \u001b[38;5;28;01mexcept\u001b[39;00m \u001b[38;5;167;01mException\u001b[39;00m \u001b[38;5;28;01mas\u001b[39;00m e:\n\u001b[1;32m    180\u001b[0m     logger\u001b[38;5;241m.\u001b[39merror(\u001b[38;5;124m\"\u001b[39m\u001b[38;5;124mjob exception: \u001b[39m\u001b[38;5;132;01m%s\u001b[39;00m\u001b[38;5;124m\"\u001b[39m \u001b[38;5;241m%\u001b[39m \u001b[38;5;28mstr\u001b[39m(e))\n",
      "File \u001b[0;32m~/miniforge3/envs/py/lib/python3.10/site-packages/hyperopt/base.py:892\u001b[0m, in \u001b[0;36mDomain.evaluate\u001b[0;34m(self, config, ctrl, attach_attachments)\u001b[0m\n\u001b[1;32m    883\u001b[0m \u001b[38;5;28;01melse\u001b[39;00m:\n\u001b[1;32m    884\u001b[0m     \u001b[38;5;66;03m# -- the \"work\" of evaluating `config` can be written\u001b[39;00m\n\u001b[1;32m    885\u001b[0m     \u001b[38;5;66;03m#    either into the pyll part (self.expr)\u001b[39;00m\n\u001b[1;32m    886\u001b[0m     \u001b[38;5;66;03m#    or the normal Python part (self.fn)\u001b[39;00m\n\u001b[1;32m    887\u001b[0m     pyll_rval \u001b[38;5;241m=\u001b[39m pyll\u001b[38;5;241m.\u001b[39mrec_eval(\n\u001b[1;32m    888\u001b[0m         \u001b[38;5;28mself\u001b[39m\u001b[38;5;241m.\u001b[39mexpr,\n\u001b[1;32m    889\u001b[0m         memo\u001b[38;5;241m=\u001b[39mmemo,\n\u001b[1;32m    890\u001b[0m         print_node_on_error\u001b[38;5;241m=\u001b[39m\u001b[38;5;28mself\u001b[39m\u001b[38;5;241m.\u001b[39mrec_eval_print_node_on_error,\n\u001b[1;32m    891\u001b[0m     )\n\u001b[0;32m--> 892\u001b[0m     rval \u001b[38;5;241m=\u001b[39m \u001b[38;5;28;43mself\u001b[39;49m\u001b[38;5;241;43m.\u001b[39;49m\u001b[43mfn\u001b[49m\u001b[43m(\u001b[49m\u001b[43mpyll_rval\u001b[49m\u001b[43m)\u001b[49m\n\u001b[1;32m    894\u001b[0m \u001b[38;5;28;01mif\u001b[39;00m \u001b[38;5;28misinstance\u001b[39m(rval, (\u001b[38;5;28mfloat\u001b[39m, \u001b[38;5;28mint\u001b[39m, np\u001b[38;5;241m.\u001b[39mnumber)):\n\u001b[1;32m    895\u001b[0m     dict_rval \u001b[38;5;241m=\u001b[39m {\u001b[38;5;124m\"\u001b[39m\u001b[38;5;124mloss\u001b[39m\u001b[38;5;124m\"\u001b[39m: \u001b[38;5;28mfloat\u001b[39m(rval), \u001b[38;5;124m\"\u001b[39m\u001b[38;5;124mstatus\u001b[39m\u001b[38;5;124m\"\u001b[39m: STATUS_OK}\n",
      "File \u001b[0;32m~/miniforge3/envs/py/lib/python3.10/site-packages/recbole/trainer/hyper_tuning.py:347\u001b[0m, in \u001b[0;36mHyperTuning.trial\u001b[0;34m(self, params)\u001b[0m\n\u001b[1;32m    345\u001b[0m \u001b[38;5;28mself\u001b[39m\u001b[38;5;241m.\u001b[39mparams_list\u001b[38;5;241m.\u001b[39mappend(params_str)\n\u001b[1;32m    346\u001b[0m \u001b[38;5;28mprint\u001b[39m(\u001b[38;5;124m\"\u001b[39m\u001b[38;5;124mrunning parameters:\u001b[39m\u001b[38;5;124m\"\u001b[39m, config_dict)\n\u001b[0;32m--> 347\u001b[0m result_dict \u001b[38;5;241m=\u001b[39m \u001b[38;5;28;43mself\u001b[39;49m\u001b[38;5;241;43m.\u001b[39;49m\u001b[43mobjective_function\u001b[49m\u001b[43m(\u001b[49m\u001b[43mconfig_dict\u001b[49m\u001b[43m,\u001b[49m\u001b[43m \u001b[49m\u001b[38;5;28;43mself\u001b[39;49m\u001b[38;5;241;43m.\u001b[39;49m\u001b[43mfixed_config_file_list\u001b[49m\u001b[43m)\u001b[49m\n\u001b[1;32m    348\u001b[0m \u001b[38;5;28mself\u001b[39m\u001b[38;5;241m.\u001b[39mparams2result[params_str] \u001b[38;5;241m=\u001b[39m result_dict\n\u001b[1;32m    349\u001b[0m model, score, bigger \u001b[38;5;241m=\u001b[39m (\n\u001b[1;32m    350\u001b[0m     result_dict[\u001b[38;5;124m\"\u001b[39m\u001b[38;5;124mmodel\u001b[39m\u001b[38;5;124m\"\u001b[39m],\n\u001b[1;32m    351\u001b[0m     result_dict[\u001b[38;5;124m\"\u001b[39m\u001b[38;5;124mbest_valid_score\u001b[39m\u001b[38;5;124m\"\u001b[39m],\n\u001b[1;32m    352\u001b[0m     result_dict[\u001b[38;5;124m\"\u001b[39m\u001b[38;5;124mvalid_score_bigger\u001b[39m\u001b[38;5;124m\"\u001b[39m],\n\u001b[1;32m    353\u001b[0m )\n",
      "Cell \u001b[0;32mIn[1], line 36\u001b[0m, in \u001b[0;36mobjective_function\u001b[0;34m(config_dict, config_file_list)\u001b[0m\n\u001b[1;32m     34\u001b[0m model \u001b[38;5;241m=\u001b[39m get_model(model_name)(config, train_data\u001b[38;5;241m.\u001b[39m_dataset)\u001b[38;5;241m.\u001b[39mto(config[\u001b[38;5;124m'\u001b[39m\u001b[38;5;124mdevice\u001b[39m\u001b[38;5;124m'\u001b[39m])\n\u001b[1;32m     35\u001b[0m trainer \u001b[38;5;241m=\u001b[39m get_trainer(config[\u001b[38;5;124m'\u001b[39m\u001b[38;5;124mMODEL_TYPE\u001b[39m\u001b[38;5;124m'\u001b[39m], config[\u001b[38;5;124m'\u001b[39m\u001b[38;5;124mmodel\u001b[39m\u001b[38;5;124m'\u001b[39m])(config, model)\n\u001b[0;32m---> 36\u001b[0m best_valid_score, best_valid_result \u001b[38;5;241m=\u001b[39m \u001b[43mtrainer\u001b[49m\u001b[38;5;241;43m.\u001b[39;49m\u001b[43mfit\u001b[49m\u001b[43m(\u001b[49m\u001b[43mtrain_data\u001b[49m\u001b[43m,\u001b[49m\u001b[43m \u001b[49m\u001b[43mvalid_data\u001b[49m\u001b[43m,\u001b[49m\u001b[43m \u001b[49m\u001b[43mverbose\u001b[49m\u001b[38;5;241;43m=\u001b[39;49m\u001b[38;5;28;43;01mFalse\u001b[39;49;00m\u001b[43m)\u001b[49m\n\u001b[1;32m     37\u001b[0m test_result \u001b[38;5;241m=\u001b[39m trainer\u001b[38;5;241m.\u001b[39mevaluate(test_data)\n\u001b[1;32m     39\u001b[0m \u001b[38;5;28;01mreturn\u001b[39;00m {\n\u001b[1;32m     40\u001b[0m     \u001b[38;5;124m'\u001b[39m\u001b[38;5;124mmodel\u001b[39m\u001b[38;5;124m'\u001b[39m: model_name,\n\u001b[1;32m     41\u001b[0m     \u001b[38;5;124m'\u001b[39m\u001b[38;5;124mbest_valid_score\u001b[39m\u001b[38;5;124m'\u001b[39m: best_valid_score,\n\u001b[0;32m   (...)\u001b[0m\n\u001b[1;32m     44\u001b[0m     \u001b[38;5;124m'\u001b[39m\u001b[38;5;124mtest_result\u001b[39m\u001b[38;5;124m'\u001b[39m: test_result\n\u001b[1;32m     45\u001b[0m }\n",
      "File \u001b[0;32m~/miniforge3/envs/py/lib/python3.10/site-packages/recbole/trainer/trainer.py:439\u001b[0m, in \u001b[0;36mTrainer.fit\u001b[0;34m(self, train_data, valid_data, verbose, saved, show_progress, callback_fn)\u001b[0m\n\u001b[1;32m    436\u001b[0m \u001b[38;5;28;01mfor\u001b[39;00m epoch_idx \u001b[38;5;129;01min\u001b[39;00m \u001b[38;5;28mrange\u001b[39m(\u001b[38;5;28mself\u001b[39m\u001b[38;5;241m.\u001b[39mstart_epoch, \u001b[38;5;28mself\u001b[39m\u001b[38;5;241m.\u001b[39mepochs):\n\u001b[1;32m    437\u001b[0m     \u001b[38;5;66;03m# train\u001b[39;00m\n\u001b[1;32m    438\u001b[0m     training_start_time \u001b[38;5;241m=\u001b[39m time()\n\u001b[0;32m--> 439\u001b[0m     train_loss \u001b[38;5;241m=\u001b[39m \u001b[38;5;28;43mself\u001b[39;49m\u001b[38;5;241;43m.\u001b[39;49m\u001b[43m_train_epoch\u001b[49m\u001b[43m(\u001b[49m\n\u001b[1;32m    440\u001b[0m \u001b[43m        \u001b[49m\u001b[43mtrain_data\u001b[49m\u001b[43m,\u001b[49m\u001b[43m \u001b[49m\u001b[43mepoch_idx\u001b[49m\u001b[43m,\u001b[49m\u001b[43m \u001b[49m\u001b[43mshow_progress\u001b[49m\u001b[38;5;241;43m=\u001b[39;49m\u001b[43mshow_progress\u001b[49m\n\u001b[1;32m    441\u001b[0m \u001b[43m    \u001b[49m\u001b[43m)\u001b[49m\n\u001b[1;32m    442\u001b[0m     \u001b[38;5;28mself\u001b[39m\u001b[38;5;241m.\u001b[39mtrain_loss_dict[epoch_idx] \u001b[38;5;241m=\u001b[39m (\n\u001b[1;32m    443\u001b[0m         \u001b[38;5;28msum\u001b[39m(train_loss) \u001b[38;5;28;01mif\u001b[39;00m \u001b[38;5;28misinstance\u001b[39m(train_loss, \u001b[38;5;28mtuple\u001b[39m) \u001b[38;5;28;01melse\u001b[39;00m train_loss\n\u001b[1;32m    444\u001b[0m     )\n\u001b[1;32m    445\u001b[0m     training_end_time \u001b[38;5;241m=\u001b[39m time()\n",
      "File \u001b[0;32m~/miniforge3/envs/py/lib/python3.10/site-packages/recbole/trainer/trainer.py:245\u001b[0m, in \u001b[0;36mTrainer._train_epoch\u001b[0;34m(self, train_data, epoch_idx, loss_func, show_progress)\u001b[0m\n\u001b[1;32m    242\u001b[0m     sync_loss \u001b[38;5;241m=\u001b[39m \u001b[38;5;28mself\u001b[39m\u001b[38;5;241m.\u001b[39msync_grad_loss()\n\u001b[1;32m    244\u001b[0m \u001b[38;5;28;01mwith\u001b[39;00m torch\u001b[38;5;241m.\u001b[39mautocast(device_type\u001b[38;5;241m=\u001b[39m\u001b[38;5;28mself\u001b[39m\u001b[38;5;241m.\u001b[39mdevice\u001b[38;5;241m.\u001b[39mtype, enabled\u001b[38;5;241m=\u001b[39m\u001b[38;5;28mself\u001b[39m\u001b[38;5;241m.\u001b[39menable_amp):\n\u001b[0;32m--> 245\u001b[0m     losses \u001b[38;5;241m=\u001b[39m \u001b[43mloss_func\u001b[49m\u001b[43m(\u001b[49m\u001b[43minteraction\u001b[49m\u001b[43m)\u001b[49m\n\u001b[1;32m    247\u001b[0m \u001b[38;5;28;01mif\u001b[39;00m \u001b[38;5;28misinstance\u001b[39m(losses, \u001b[38;5;28mtuple\u001b[39m):\n\u001b[1;32m    248\u001b[0m     loss \u001b[38;5;241m=\u001b[39m \u001b[38;5;28msum\u001b[39m(losses)\n",
      "File \u001b[0;32m~/miniforge3/envs/py/lib/python3.10/site-packages/recbole/model/sequential_recommender/npe.py:94\u001b[0m, in \u001b[0;36mNPE.calculate_loss\u001b[0;34m(self, interaction)\u001b[0m\n\u001b[1;32m     92\u001b[0m \u001b[38;5;28;01melse\u001b[39;00m:  \u001b[38;5;66;03m# self.loss_type = 'CE'\u001b[39;00m\n\u001b[1;32m     93\u001b[0m     test_item_emb \u001b[38;5;241m=\u001b[39m \u001b[38;5;28mself\u001b[39m\u001b[38;5;241m.\u001b[39mrelu(\u001b[38;5;28mself\u001b[39m\u001b[38;5;241m.\u001b[39mitem_embedding\u001b[38;5;241m.\u001b[39mweight)\n\u001b[0;32m---> 94\u001b[0m     logits \u001b[38;5;241m=\u001b[39m torch\u001b[38;5;241m.\u001b[39mmatmul(seq_output, \u001b[43mtest_item_emb\u001b[49m\u001b[38;5;241;43m.\u001b[39;49m\u001b[43mtranspose\u001b[49m\u001b[43m(\u001b[49m\u001b[38;5;241;43m0\u001b[39;49m\u001b[43m,\u001b[49m\u001b[43m \u001b[49m\u001b[38;5;241;43m1\u001b[39;49m\u001b[43m)\u001b[49m)\n\u001b[1;32m     95\u001b[0m     loss \u001b[38;5;241m=\u001b[39m \u001b[38;5;28mself\u001b[39m\u001b[38;5;241m.\u001b[39mloss_fct(logits, pos_items)\n\u001b[1;32m     96\u001b[0m     \u001b[38;5;28;01mreturn\u001b[39;00m loss\n",
      "File \u001b[0;32m~/miniforge3/envs/py/lib/python3.10/site-packages/torch/fx/traceback.py:68\u001b[0m, in \u001b[0;36mformat_stack\u001b[0;34m()\u001b[0m\n\u001b[1;32m     65\u001b[0m     \u001b[38;5;28;01mreturn\u001b[39;00m [current_meta\u001b[38;5;241m.\u001b[39mget(\u001b[38;5;124m\"\u001b[39m\u001b[38;5;124mstack_trace\u001b[39m\u001b[38;5;124m\"\u001b[39m, \u001b[38;5;124m\"\u001b[39m\u001b[38;5;124m\"\u001b[39m)]\n\u001b[1;32m     66\u001b[0m \u001b[38;5;28;01melse\u001b[39;00m:\n\u001b[1;32m     67\u001b[0m     \u001b[38;5;66;03m# fallback to traceback.format_stack()\u001b[39;00m\n\u001b[0;32m---> 68\u001b[0m     \u001b[38;5;28;01mreturn\u001b[39;00m traceback\u001b[38;5;241m.\u001b[39mformat_list(\u001b[43mtraceback\u001b[49m\u001b[38;5;241;43m.\u001b[39;49m\u001b[43mextract_stack\u001b[49m\u001b[43m(\u001b[49m\u001b[43m)\u001b[49m[:\u001b[38;5;241m-\u001b[39m\u001b[38;5;241m1\u001b[39m])\n",
      "File \u001b[0;32m~/miniforge3/envs/py/lib/python3.10/traceback.py:227\u001b[0m, in \u001b[0;36mextract_stack\u001b[0;34m(f, limit)\u001b[0m\n\u001b[1;32m    225\u001b[0m \u001b[38;5;28;01mif\u001b[39;00m f \u001b[38;5;129;01mis\u001b[39;00m \u001b[38;5;28;01mNone\u001b[39;00m:\n\u001b[1;32m    226\u001b[0m     f \u001b[38;5;241m=\u001b[39m sys\u001b[38;5;241m.\u001b[39m_getframe()\u001b[38;5;241m.\u001b[39mf_back\n\u001b[0;32m--> 227\u001b[0m stack \u001b[38;5;241m=\u001b[39m \u001b[43mStackSummary\u001b[49m\u001b[38;5;241;43m.\u001b[39;49m\u001b[43mextract\u001b[49m\u001b[43m(\u001b[49m\u001b[43mwalk_stack\u001b[49m\u001b[43m(\u001b[49m\u001b[43mf\u001b[49m\u001b[43m)\u001b[49m\u001b[43m,\u001b[49m\u001b[43m \u001b[49m\u001b[43mlimit\u001b[49m\u001b[38;5;241;43m=\u001b[39;49m\u001b[43mlimit\u001b[49m\u001b[43m)\u001b[49m\n\u001b[1;32m    228\u001b[0m stack\u001b[38;5;241m.\u001b[39mreverse()\n\u001b[1;32m    229\u001b[0m \u001b[38;5;28;01mreturn\u001b[39;00m stack\n",
      "File \u001b[0;32m~/miniforge3/envs/py/lib/python3.10/traceback.py:383\u001b[0m, in \u001b[0;36mStackSummary.extract\u001b[0;34m(klass, frame_gen, limit, lookup_lines, capture_locals)\u001b[0m\n\u001b[1;32m    381\u001b[0m \u001b[38;5;28;01mif\u001b[39;00m lookup_lines:\n\u001b[1;32m    382\u001b[0m     \u001b[38;5;28;01mfor\u001b[39;00m f \u001b[38;5;129;01min\u001b[39;00m result:\n\u001b[0;32m--> 383\u001b[0m         \u001b[43mf\u001b[49m\u001b[38;5;241;43m.\u001b[39;49m\u001b[43mline\u001b[49m\n\u001b[1;32m    384\u001b[0m \u001b[38;5;28;01mreturn\u001b[39;00m result\n",
      "File \u001b[0;32m~/miniforge3/envs/py/lib/python3.10/traceback.py:304\u001b[0m, in \u001b[0;36mFrameSummary.line\u001b[0;34m(self)\u001b[0m\n\u001b[1;32m    301\u001b[0m \u001b[38;5;129m@property\u001b[39m\n\u001b[1;32m    302\u001b[0m \u001b[38;5;28;01mdef\u001b[39;00m \u001b[38;5;21mline\u001b[39m(\u001b[38;5;28mself\u001b[39m):\n\u001b[1;32m    303\u001b[0m     \u001b[38;5;28;01mif\u001b[39;00m \u001b[38;5;28mself\u001b[39m\u001b[38;5;241m.\u001b[39m_line \u001b[38;5;129;01mis\u001b[39;00m \u001b[38;5;28;01mNone\u001b[39;00m:\n\u001b[0;32m--> 304\u001b[0m         \u001b[38;5;28;01mif\u001b[39;00m \u001b[38;5;28mself\u001b[39m\u001b[38;5;241m.\u001b[39mlineno \u001b[38;5;129;01mis\u001b[39;00m \u001b[38;5;28;01mNone\u001b[39;00m:\n\u001b[1;32m    305\u001b[0m             \u001b[38;5;28;01mreturn\u001b[39;00m \u001b[38;5;28;01mNone\u001b[39;00m\n\u001b[1;32m    306\u001b[0m         \u001b[38;5;28mself\u001b[39m\u001b[38;5;241m.\u001b[39m_line \u001b[38;5;241m=\u001b[39m linecache\u001b[38;5;241m.\u001b[39mgetline(\u001b[38;5;28mself\u001b[39m\u001b[38;5;241m.\u001b[39mfilename, \u001b[38;5;28mself\u001b[39m\u001b[38;5;241m.\u001b[39mlineno)\n",
      "\u001b[0;31mKeyboardInterrupt\u001b[0m: "
     ]
    }
   ],
   "source": [
    "from real_temporal import run_recbole_with_TimeCutoff, TimeCutoffDataset\n",
    "\n",
    "from recbole.trainer import HyperTuning\n",
    "# from recbole.quick_start import objective_function\n",
    "from recbole.config import Config\n",
    "# from recbole.quick_start import run_recbole\n",
    "from recbole.data import (\n",
    "    create_dataset,\n",
    "     data_preparation,\n",
    ")\n",
    "\n",
    "from recbole.utils import (\n",
    "    get_model,\n",
    "    get_trainer,\n",
    "    init_seed,\n",
    ")\n",
    "\n",
    "def objective_function(config_dict=None, config_file_list=None):\n",
    "    model_name = 'NPE'\n",
    "    dataset_name = 'ml-100k'\n",
    "\n",
    "    config = Config(\n",
    "        config_dict=config_dict,\n",
    "        config_file_list=config_file_list,\n",
    "        model=model_name,\n",
    "        dataset=dataset_name\n",
    "    )\n",
    "    # init_seed(config['seed'])\n",
    "    dataset = create_dataset(config)\n",
    "    train_data, valid_data, test_data = data_preparation(config, dataset)\n",
    "    model_name = config['model']\n",
    "    model = get_model(model_name)(config, train_data._dataset).to(config['device'])\n",
    "    trainer = get_trainer(config['MODEL_TYPE'], config['model'])(config, model)\n",
    "    best_valid_score, best_valid_result = trainer.fit(train_data, valid_data, verbose=False)\n",
    "    test_result = trainer.evaluate(test_data)\n",
    "\n",
    "    return {\n",
    "        'model': model_name,\n",
    "        'best_valid_score': best_valid_score,\n",
    "        'valid_score_bigger': config['valid_metric_bigger'],\n",
    "        'best_valid_result': best_valid_result,\n",
    "        'test_result': test_result\n",
    "    }\n",
    "\n",
    "hp = HyperTuning(\n",
    "    objective_function=objective_function,\n",
    "    algo='bayes',\n",
    "    early_stop=10,\n",
    "    max_evals=100,\n",
    "    params_file='model.hyper',\n",
    "    fixed_config_file_list=['test.yml']\n",
    ")\n",
    "\n",
    "# run\n",
    "hp.run()\n",
    "# export result to the file\n",
    "# hp.export_result(output_file='hyper_example.result')\n",
    "# # print best parameters\n",
    "# print('best params: ', hp.best_params)\n",
    "# # print best result\n",
    "# print('best result: ')\n",
    "# print(hp.params2result[hp.params2str(hp.best_params)])"
   ]
  },
  {
   "cell_type": "code",
   "execution_count": 5,
   "metadata": {},
   "outputs": [
    {
     "name": "stdout",
     "output_type": "stream",
     "text": [
      "  0%|          | 0/100 [00:00<?, ?trial/s, best loss=?]"
     ]
    },
    {
     "name": "stderr",
     "output_type": "stream",
     "text": [
      "17 Jun 22:12    INFO  build_posterior_wrapper took 0.000621 seconds\u001b[0m\n",
      "\n",
      "17 Jun 22:12    INFO  TPE using 0 trials\u001b[0m\n",
      "\n"
     ]
    },
    {
     "name": "stdout",
     "output_type": "stream",
     "text": [
      "running parameters:                                    \n",
      "{'embedding_size': 64, 'learning_rate': 0.0005927902936991883, 'mlp_hidden_size': '[128,128]'}\n",
      "  0%|          | 0/100 [00:00<?, ?trial/s, best loss=?]"
     ]
    },
    {
     "name": "stderr",
     "output_type": "stream",
     "text": [
      "17 Jun 22:12    INFO  \u001b[1;35m[Training]: \u001b[0m\u001b[1;36mtrain_batch_size\u001b[0m = \u001b[1;33m[4096]\u001b[0m\u001b[1;36m train_neg_sample_args\u001b[0m: \u001b[1;33m[{'distribution': 'none', 'sample_num': 'none', 'alpha': 'none', 'dynamic': False, 'candidate_num': 0}]\u001b[0m\n",
      "\n",
      "17 Jun 22:12    INFO  \u001b[1;35m[Evaluation]: \u001b[0m\u001b[1;36meval_batch_size\u001b[0m = \u001b[1;33m[4096]\u001b[0m\u001b[1;36m eval_args\u001b[0m: \u001b[1;33m[{'split': {'LS': 'valid_and_test'}, 'order': 'TO', 'group_by': 'None', 'mode': {'valid': 'full', 'test': 'full'}}]\u001b[0m\n",
      "\n",
      "17 Jun 22:12    INFO  Loading model structure and parameters from saved/ItemKNN-Jun-17-2024_22-12-52.pth\u001b[0m\n",
      "\n"
     ]
    },
    {
     "name": "stdout",
     "output_type": "stream",
     "text": [
      "current best valid score: 0.0463                       \n",
      "current best valid result:                             \n",
      "OrderedDict([('recall@10', 0.1262), ('mrr@10', 0.0463), ('ndcg@10', 0.0647), ('hit@10', 0.1262), ('precision@10', 0.0126)])\n",
      "current test result:                                   \n",
      "OrderedDict([('recall@10', 0.1145), ('mrr@10', 0.0473), ('ndcg@10', 0.0629), ('hit@10', 0.1145), ('precision@10', 0.0115)])\n",
      "  1%|          | 1/100 [00:01<02:37,  1.59s/trial, best loss: -0.0463]"
     ]
    },
    {
     "name": "stderr",
     "output_type": "stream",
     "text": [
      "17 Jun 22:12    INFO  build_posterior_wrapper took 0.000557 seconds\u001b[0m\n",
      "\n",
      "17 Jun 22:12    INFO  TPE using 1/1 trials with best loss -0.046300\u001b[0m\n",
      "\n"
     ]
    },
    {
     "name": "stdout",
     "output_type": "stream",
     "text": [
      "running parameters:                                                   \n",
      "{'embedding_size': 128, 'learning_rate': 0.004837377747388512, 'mlp_hidden_size': '[128,128]'}\n",
      "  1%|          | 1/100 [00:01<02:37,  1.59s/trial, best loss: -0.0463]"
     ]
    },
    {
     "name": "stderr",
     "output_type": "stream",
     "text": [
      "17 Jun 22:12    INFO  \u001b[1;35m[Training]: \u001b[0m\u001b[1;36mtrain_batch_size\u001b[0m = \u001b[1;33m[4096]\u001b[0m\u001b[1;36m train_neg_sample_args\u001b[0m: \u001b[1;33m[{'distribution': 'none', 'sample_num': 'none', 'alpha': 'none', 'dynamic': False, 'candidate_num': 0}]\u001b[0m\n",
      "\n",
      "17 Jun 22:12    INFO  \u001b[1;35m[Evaluation]: \u001b[0m\u001b[1;36meval_batch_size\u001b[0m = \u001b[1;33m[4096]\u001b[0m\u001b[1;36m eval_args\u001b[0m: \u001b[1;33m[{'split': {'LS': 'valid_and_test'}, 'order': 'TO', 'group_by': 'None', 'mode': {'valid': 'full', 'test': 'full'}}]\u001b[0m\n",
      "\n",
      "17 Jun 22:12    INFO  Loading model structure and parameters from saved/ItemKNN-Jun-17-2024_22-12-54.pth\u001b[0m\n",
      "\n"
     ]
    },
    {
     "name": "stdout",
     "output_type": "stream",
     "text": [
      "  2%|▏         | 2/100 [00:03<02:36,  1.59s/trial, best loss: -0.0463]"
     ]
    },
    {
     "name": "stderr",
     "output_type": "stream",
     "text": [
      "17 Jun 22:12    INFO  build_posterior_wrapper took 0.000520 seconds\u001b[0m\n",
      "\n",
      "17 Jun 22:12    INFO  TPE using 2/2 trials with best loss -0.046300\u001b[0m\n",
      "\n"
     ]
    },
    {
     "name": "stdout",
     "output_type": "stream",
     "text": [
      "running parameters:                                                   \n",
      "{'embedding_size': 96, 'learning_rate': 0.04969285232271135, 'mlp_hidden_size': '[64,64,64]'}\n",
      "  2%|▏         | 2/100 [00:03<02:36,  1.59s/trial, best loss: -0.0463]"
     ]
    },
    {
     "name": "stderr",
     "output_type": "stream",
     "text": [
      "17 Jun 22:12    INFO  \u001b[1;35m[Training]: \u001b[0m\u001b[1;36mtrain_batch_size\u001b[0m = \u001b[1;33m[4096]\u001b[0m\u001b[1;36m train_neg_sample_args\u001b[0m: \u001b[1;33m[{'distribution': 'none', 'sample_num': 'none', 'alpha': 'none', 'dynamic': False, 'candidate_num': 0}]\u001b[0m\n",
      "\n",
      "17 Jun 22:12    INFO  \u001b[1;35m[Evaluation]: \u001b[0m\u001b[1;36meval_batch_size\u001b[0m = \u001b[1;33m[4096]\u001b[0m\u001b[1;36m eval_args\u001b[0m: \u001b[1;33m[{'split': {'LS': 'valid_and_test'}, 'order': 'TO', 'group_by': 'None', 'mode': {'valid': 'full', 'test': 'full'}}]\u001b[0m\n",
      "\n",
      "17 Jun 22:12    INFO  Loading model structure and parameters from saved/ItemKNN-Jun-17-2024_22-12-55.pth\u001b[0m\n",
      "\n"
     ]
    },
    {
     "name": "stdout",
     "output_type": "stream",
     "text": [
      "  3%|▎         | 3/100 [00:04<02:26,  1.51s/trial, best loss: -0.0463]"
     ]
    },
    {
     "name": "stderr",
     "output_type": "stream",
     "text": [
      "17 Jun 22:12    INFO  build_posterior_wrapper took 0.000590 seconds\u001b[0m\n",
      "\n",
      "17 Jun 22:12    INFO  TPE using 3/3 trials with best loss -0.046300\u001b[0m\n",
      "\n"
     ]
    },
    {
     "name": "stdout",
     "output_type": "stream",
     "text": [
      "running parameters:                                                   \n",
      "{'embedding_size': 128, 'learning_rate': 0.9011798093382721, 'mlp_hidden_size': '[64,64,64]'}\n",
      "  3%|▎         | 3/100 [00:04<02:26,  1.51s/trial, best loss: -0.0463]"
     ]
    },
    {
     "name": "stderr",
     "output_type": "stream",
     "text": [
      "17 Jun 22:12    INFO  \u001b[1;35m[Training]: \u001b[0m\u001b[1;36mtrain_batch_size\u001b[0m = \u001b[1;33m[4096]\u001b[0m\u001b[1;36m train_neg_sample_args\u001b[0m: \u001b[1;33m[{'distribution': 'none', 'sample_num': 'none', 'alpha': 'none', 'dynamic': False, 'candidate_num': 0}]\u001b[0m\n",
      "\n",
      "17 Jun 22:12    INFO  \u001b[1;35m[Evaluation]: \u001b[0m\u001b[1;36meval_batch_size\u001b[0m = \u001b[1;33m[4096]\u001b[0m\u001b[1;36m eval_args\u001b[0m: \u001b[1;33m[{'split': {'LS': 'valid_and_test'}, 'order': 'TO', 'group_by': 'None', 'mode': {'valid': 'full', 'test': 'full'}}]\u001b[0m\n",
      "\n",
      "17 Jun 22:12    INFO  Loading model structure and parameters from saved/ItemKNN-Jun-17-2024_22-12-57.pth\u001b[0m\n",
      "\n"
     ]
    },
    {
     "name": "stdout",
     "output_type": "stream",
     "text": [
      "  4%|▍         | 4/100 [00:06<02:25,  1.51s/trial, best loss: -0.0463]"
     ]
    },
    {
     "name": "stderr",
     "output_type": "stream",
     "text": [
      "17 Jun 22:12    INFO  build_posterior_wrapper took 0.000479 seconds\u001b[0m\n",
      "\n",
      "17 Jun 22:12    INFO  TPE using 4/4 trials with best loss -0.046300\u001b[0m\n",
      "\n"
     ]
    },
    {
     "name": "stdout",
     "output_type": "stream",
     "text": [
      "running parameters:                                                   \n",
      "{'embedding_size': 64, 'learning_rate': 0.002760427052316751, 'mlp_hidden_size': '[64,64,64]'}\n",
      "  4%|▍         | 4/100 [00:06<02:25,  1.51s/trial, best loss: -0.0463]"
     ]
    },
    {
     "name": "stderr",
     "output_type": "stream",
     "text": [
      "17 Jun 22:12    INFO  \u001b[1;35m[Training]: \u001b[0m\u001b[1;36mtrain_batch_size\u001b[0m = \u001b[1;33m[4096]\u001b[0m\u001b[1;36m train_neg_sample_args\u001b[0m: \u001b[1;33m[{'distribution': 'none', 'sample_num': 'none', 'alpha': 'none', 'dynamic': False, 'candidate_num': 0}]\u001b[0m\n",
      "\n",
      "17 Jun 22:12    INFO  \u001b[1;35m[Evaluation]: \u001b[0m\u001b[1;36meval_batch_size\u001b[0m = \u001b[1;33m[4096]\u001b[0m\u001b[1;36m eval_args\u001b[0m: \u001b[1;33m[{'split': {'LS': 'valid_and_test'}, 'order': 'TO', 'group_by': 'None', 'mode': {'valid': 'full', 'test': 'full'}}]\u001b[0m\n",
      "\n",
      "17 Jun 22:12    INFO  Loading model structure and parameters from saved/ItemKNN-Jun-17-2024_22-12-59.pth\u001b[0m\n",
      "\n"
     ]
    },
    {
     "name": "stdout",
     "output_type": "stream",
     "text": [
      "  5%|▌         | 5/100 [00:07<02:25,  1.54s/trial, best loss: -0.0463]"
     ]
    },
    {
     "name": "stderr",
     "output_type": "stream",
     "text": [
      "17 Jun 22:12    INFO  build_posterior_wrapper took 0.000504 seconds\u001b[0m\n",
      "\n",
      "17 Jun 22:12    INFO  TPE using 5/5 trials with best loss -0.046300\u001b[0m\n",
      "\n"
     ]
    },
    {
     "name": "stdout",
     "output_type": "stream",
     "text": [
      "running parameters:                                                   \n",
      "{'embedding_size': 64, 'learning_rate': 0.10228515500215882, 'mlp_hidden_size': '[64,64,64]'}\n",
      "  5%|▌         | 5/100 [00:07<02:25,  1.54s/trial, best loss: -0.0463]"
     ]
    },
    {
     "name": "stderr",
     "output_type": "stream",
     "text": [
      "17 Jun 22:13    INFO  \u001b[1;35m[Training]: \u001b[0m\u001b[1;36mtrain_batch_size\u001b[0m = \u001b[1;33m[4096]\u001b[0m\u001b[1;36m train_neg_sample_args\u001b[0m: \u001b[1;33m[{'distribution': 'none', 'sample_num': 'none', 'alpha': 'none', 'dynamic': False, 'candidate_num': 0}]\u001b[0m\n",
      "\n",
      "17 Jun 22:13    INFO  \u001b[1;35m[Evaluation]: \u001b[0m\u001b[1;36meval_batch_size\u001b[0m = \u001b[1;33m[4096]\u001b[0m\u001b[1;36m eval_args\u001b[0m: \u001b[1;33m[{'split': {'LS': 'valid_and_test'}, 'order': 'TO', 'group_by': 'None', 'mode': {'valid': 'full', 'test': 'full'}}]\u001b[0m\n",
      "\n",
      "17 Jun 22:13    INFO  Loading model structure and parameters from saved/ItemKNN-Jun-17-2024_22-13-00.pth\u001b[0m\n",
      "\n"
     ]
    },
    {
     "name": "stdout",
     "output_type": "stream",
     "text": [
      "  6%|▌         | 6/100 [00:09<02:24,  1.53s/trial, best loss: -0.0463]"
     ]
    },
    {
     "name": "stderr",
     "output_type": "stream",
     "text": [
      "17 Jun 22:13    INFO  build_posterior_wrapper took 0.000463 seconds\u001b[0m\n",
      "\n",
      "17 Jun 22:13    INFO  TPE using 6/6 trials with best loss -0.046300\u001b[0m\n",
      "\n"
     ]
    },
    {
     "name": "stdout",
     "output_type": "stream",
     "text": [
      "running parameters:                                                   \n",
      "{'embedding_size': 128, 'learning_rate': 0.02978502690204238, 'mlp_hidden_size': '[64,64,64]'}\n",
      "  6%|▌         | 6/100 [00:09<02:24,  1.53s/trial, best loss: -0.0463]"
     ]
    },
    {
     "name": "stderr",
     "output_type": "stream",
     "text": [
      "17 Jun 22:13    INFO  \u001b[1;35m[Training]: \u001b[0m\u001b[1;36mtrain_batch_size\u001b[0m = \u001b[1;33m[4096]\u001b[0m\u001b[1;36m train_neg_sample_args\u001b[0m: \u001b[1;33m[{'distribution': 'none', 'sample_num': 'none', 'alpha': 'none', 'dynamic': False, 'candidate_num': 0}]\u001b[0m\n",
      "\n",
      "17 Jun 22:13    INFO  \u001b[1;35m[Evaluation]: \u001b[0m\u001b[1;36meval_batch_size\u001b[0m = \u001b[1;33m[4096]\u001b[0m\u001b[1;36m eval_args\u001b[0m: \u001b[1;33m[{'split': {'LS': 'valid_and_test'}, 'order': 'TO', 'group_by': 'None', 'mode': {'valid': 'full', 'test': 'full'}}]\u001b[0m\n",
      "\n",
      "17 Jun 22:13    INFO  Loading model structure and parameters from saved/ItemKNN-Jun-17-2024_22-13-02.pth\u001b[0m\n",
      "\n"
     ]
    },
    {
     "name": "stdout",
     "output_type": "stream",
     "text": [
      "  7%|▋         | 7/100 [00:10<02:23,  1.54s/trial, best loss: -0.0463]"
     ]
    },
    {
     "name": "stderr",
     "output_type": "stream",
     "text": [
      "17 Jun 22:13    INFO  build_posterior_wrapper took 0.000477 seconds\u001b[0m\n",
      "\n",
      "17 Jun 22:13    INFO  TPE using 7/7 trials with best loss -0.046300\u001b[0m\n",
      "\n"
     ]
    },
    {
     "name": "stdout",
     "output_type": "stream",
     "text": [
      "running parameters:                                                   \n",
      "{'embedding_size': 96, 'learning_rate': 0.001566641566088578, 'mlp_hidden_size': '[64,64,64]'}\n",
      "  7%|▋         | 7/100 [00:10<02:23,  1.54s/trial, best loss: -0.0463]"
     ]
    },
    {
     "name": "stderr",
     "output_type": "stream",
     "text": [
      "17 Jun 22:13    INFO  \u001b[1;35m[Training]: \u001b[0m\u001b[1;36mtrain_batch_size\u001b[0m = \u001b[1;33m[4096]\u001b[0m\u001b[1;36m train_neg_sample_args\u001b[0m: \u001b[1;33m[{'distribution': 'none', 'sample_num': 'none', 'alpha': 'none', 'dynamic': False, 'candidate_num': 0}]\u001b[0m\n",
      "\n",
      "17 Jun 22:13    INFO  \u001b[1;35m[Evaluation]: \u001b[0m\u001b[1;36meval_batch_size\u001b[0m = \u001b[1;33m[4096]\u001b[0m\u001b[1;36m eval_args\u001b[0m: \u001b[1;33m[{'split': {'LS': 'valid_and_test'}, 'order': 'TO', 'group_by': 'None', 'mode': {'valid': 'full', 'test': 'full'}}]\u001b[0m\n",
      "\n",
      "17 Jun 22:13    INFO  Loading model structure and parameters from saved/ItemKNN-Jun-17-2024_22-13-03.pth\u001b[0m\n",
      "\n"
     ]
    },
    {
     "name": "stdout",
     "output_type": "stream",
     "text": [
      "  8%|▊         | 8/100 [00:12<02:21,  1.54s/trial, best loss: -0.0463]"
     ]
    },
    {
     "name": "stderr",
     "output_type": "stream",
     "text": [
      "17 Jun 22:13    INFO  build_posterior_wrapper took 0.000474 seconds\u001b[0m\n",
      "\n",
      "17 Jun 22:13    INFO  TPE using 8/8 trials with best loss -0.046300\u001b[0m\n",
      "\n"
     ]
    },
    {
     "name": "stdout",
     "output_type": "stream",
     "text": [
      "running parameters:                                                   \n",
      "{'embedding_size': 96, 'learning_rate': 0.0062624696339975885, 'mlp_hidden_size': '[64,64,64]'}\n",
      "  8%|▊         | 8/100 [00:12<02:21,  1.54s/trial, best loss: -0.0463]"
     ]
    },
    {
     "name": "stderr",
     "output_type": "stream",
     "text": [
      "17 Jun 22:13    INFO  \u001b[1;35m[Training]: \u001b[0m\u001b[1;36mtrain_batch_size\u001b[0m = \u001b[1;33m[4096]\u001b[0m\u001b[1;36m train_neg_sample_args\u001b[0m: \u001b[1;33m[{'distribution': 'none', 'sample_num': 'none', 'alpha': 'none', 'dynamic': False, 'candidate_num': 0}]\u001b[0m\n",
      "\n",
      "17 Jun 22:13    INFO  \u001b[1;35m[Evaluation]: \u001b[0m\u001b[1;36meval_batch_size\u001b[0m = \u001b[1;33m[4096]\u001b[0m\u001b[1;36m eval_args\u001b[0m: \u001b[1;33m[{'split': {'LS': 'valid_and_test'}, 'order': 'TO', 'group_by': 'None', 'mode': {'valid': 'full', 'test': 'full'}}]\u001b[0m\n",
      "\n",
      "17 Jun 22:13    INFO  Loading model structure and parameters from saved/ItemKNN-Jun-17-2024_22-13-05.pth\u001b[0m\n",
      "\n"
     ]
    },
    {
     "name": "stdout",
     "output_type": "stream",
     "text": [
      "  9%|▉         | 9/100 [00:13<02:23,  1.58s/trial, best loss: -0.0463]"
     ]
    },
    {
     "name": "stderr",
     "output_type": "stream",
     "text": [
      "17 Jun 22:13    INFO  build_posterior_wrapper took 0.000442 seconds\u001b[0m\n",
      "\n",
      "17 Jun 22:13    INFO  TPE using 9/9 trials with best loss -0.046300\u001b[0m\n",
      "\n"
     ]
    },
    {
     "name": "stdout",
     "output_type": "stream",
     "text": [
      "running parameters:                                                   \n",
      "{'embedding_size': 64, 'learning_rate': 0.05115291209207257, 'mlp_hidden_size': '[128,128]'}\n",
      "  9%|▉         | 9/100 [00:13<02:23,  1.58s/trial, best loss: -0.0463]"
     ]
    },
    {
     "name": "stderr",
     "output_type": "stream",
     "text": [
      "17 Jun 22:13    INFO  \u001b[1;35m[Training]: \u001b[0m\u001b[1;36mtrain_batch_size\u001b[0m = \u001b[1;33m[4096]\u001b[0m\u001b[1;36m train_neg_sample_args\u001b[0m: \u001b[1;33m[{'distribution': 'none', 'sample_num': 'none', 'alpha': 'none', 'dynamic': False, 'candidate_num': 0}]\u001b[0m\n",
      "\n",
      "17 Jun 22:13    INFO  \u001b[1;35m[Evaluation]: \u001b[0m\u001b[1;36meval_batch_size\u001b[0m = \u001b[1;33m[4096]\u001b[0m\u001b[1;36m eval_args\u001b[0m: \u001b[1;33m[{'split': {'LS': 'valid_and_test'}, 'order': 'TO', 'group_by': 'None', 'mode': {'valid': 'full', 'test': 'full'}}]\u001b[0m\n",
      "\n",
      "17 Jun 22:13    INFO  Loading model structure and parameters from saved/ItemKNN-Jun-17-2024_22-13-06.pth\u001b[0m\n",
      "\n",
      "17 Jun 22:13    INFO  Early stop triggered. Stopping iterations as condition is reach.\u001b[0m\n",
      "\n"
     ]
    },
    {
     "name": "stdout",
     "output_type": "stream",
     "text": [
      " 10%|█         | 10/100 [00:15<02:18,  1.54s/trial, best loss: -0.0463]\n",
      "best params:  {'embedding_size': 64, 'learning_rate': 0.0005927902936991883, 'mlp_hidden_size': '[128,128]'}\n",
      "best result: \n",
      "{'model': 'ItemKNN', 'best_valid_score': 0.0463, 'valid_score_bigger': True, 'best_valid_result': OrderedDict([('recall@10', 0.1262), ('mrr@10', 0.0463), ('ndcg@10', 0.0647), ('hit@10', 0.1262), ('precision@10', 0.0126)]), 'test_result': OrderedDict([('recall@10', 0.1145), ('mrr@10', 0.0473), ('ndcg@10', 0.0629), ('hit@10', 0.1145), ('precision@10', 0.0115)])}\n"
     ]
    }
   ],
   "source": [
    "from recbole.trainer import HyperTuning\n",
    "from recbole.quick_start import objective_function\n",
    "\n",
    "hp = HyperTuning(objective_function=objective_function, algo='bayes', early_stop=10,\n",
    "                max_evals=100, params_file='model.hyper', fixed_config_file_list=['test.yml'])\n",
    "\n",
    "# run\n",
    "hp.run()\n",
    "# export result to the file\n",
    "hp.export_result(output_file='hyper_example.result')\n",
    "# print best parameters\n",
    "print('best params: ', hp.best_params)\n",
    "# print best result\n",
    "print('best result: ')\n",
    "print(hp.params2result[hp.params2str(hp.best_params)])"
   ]
  },
  {
   "cell_type": "code",
   "execution_count": null,
   "metadata": {},
   "outputs": [],
   "source": []
  },
  {
   "cell_type": "markdown",
   "metadata": {},
   "source": [
    "# 5. Offline evaluation"
   ]
  },
  {
   "cell_type": "code",
   "execution_count": null,
   "metadata": {},
   "outputs": [],
   "source": [
    "EVAL_MODES = {\n",
    "    \"temporal\": \"TO\",\n",
    "    \"leave1out\": \"LS\"\n",
    "}"
   ]
  },
  {
   "cell_type": "code",
   "execution_count": null,
   "metadata": {},
   "outputs": [],
   "source": [
    "selected_eval_models = [EVAL_MODES[k] for k in [\"temporal\", \"leave1out\"]]\n",
    "selected_eval_metrics = ['Recall', 'MRR', 'NDCG', 'Hit', 'Precision']\n",
    "selected_topk = 10\n",
    "\n",
    "eval_args = {\n",
    "    \"order\": \"TO\",\n",
    "    \"split\": {\n",
    "        'LS': \"valid_and_test\"\n",
    "    },\n",
    "    \"group_by\": None\n",
    "}\n",
    "\n",
    "config_dict = {\n",
    "    'eval_args': eval_args,\n",
    "    # 'train_neg_sample_args': None,\n",
    "}\n",
    "\n",
    "run_recbole(model=model, dataset=data, config_dict=config_dict)"
   ]
  },
  {
   "cell_type": "code",
   "execution_count": null,
   "metadata": {},
   "outputs": [],
   "source": [
    "run_recbole(model='NPE', dataset='ml-100k', config_file_list=['test.yml'])"
   ]
  }
 ],
 "metadata": {
  "kernelspec": {
   "display_name": "py",
   "language": "python",
   "name": "python3"
  },
  "language_info": {
   "codemirror_mode": {
    "name": "ipython",
    "version": 3
   },
   "file_extension": ".py",
   "mimetype": "text/x-python",
   "name": "python",
   "nbconvert_exporter": "python",
   "pygments_lexer": "ipython3",
   "version": "3.10.13"
  }
 },
 "nbformat": 4,
 "nbformat_minor": 2
}
