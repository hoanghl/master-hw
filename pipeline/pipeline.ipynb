{
 "cells": [
  {
   "cell_type": "code",
   "execution_count": 1,
   "metadata": {},
   "outputs": [],
   "source": [
    "%load_ext autoreload\n",
    "%autoreload 2"
   ]
  },
  {
   "cell_type": "code",
   "execution_count": 2,
   "metadata": {},
   "outputs": [],
   "source": [
    "import json\n",
    "import yaml\n",
    "\n",
    "from recbole.quick_start import run_recbole\n",
    "# from recbole.quick_start import objective_function\n",
    "from recbole.config import Config\n",
    "from recbole.data import data_preparation, create_dataset\n",
    "from recbole.trainer import HyperTuning\n",
    "from recbole.utils import (\n",
    "    get_model,\n",
    "    get_trainer,\n",
    "    init_seed\n",
    ")\n",
    "\n",
    "import utils\n",
    "from real_temporal import TimeCutoffDataset"
   ]
  },
  {
   "cell_type": "markdown",
   "metadata": {},
   "source": [
    "# 1. Declarations & Definitions"
   ]
  },
  {
   "cell_type": "markdown",
   "metadata": {},
   "source": [
    "## 1.1. Define flags and global variables"
   ]
  },
  {
   "cell_type": "code",
   "execution_count": 3,
   "metadata": {},
   "outputs": [],
   "source": [
    "use_TimeCutoff = True\n",
    "reproducible = True\n",
    "seed = 42"
   ]
  },
  {
   "cell_type": "markdown",
   "metadata": {},
   "source": [
    "## 1.2. Define configurations\n",
    "\n",
    "Configuration for data, model, training and evaluation"
   ]
  },
  {
   "cell_type": "code",
   "execution_count": 4,
   "metadata": {},
   "outputs": [],
   "source": [
    "config_dict = {\n",
    "    # For model\n",
    "    'model': \"NPE\",\n",
    "    'embedding_size': 64,\n",
    "    'dropout_prob': 0.2,\n",
    "    'loss_type': \"CE\",\n",
    "\n",
    "    # For data\n",
    "    'dataset': 'ml-100k',\n",
    "    'load_col': {\"inter\": ['user_id', 'item_id', 'timestamp']},\n",
    "    'use_TimeCutoff': use_TimeCutoff,\n",
    "\n",
    "    # For training\n",
    "    'epochs': 500,\n",
    "    'train_batch_size': 4096,\n",
    "    'learning_rate': 0.030752612145593928,\n",
    "    'train_neg_sample_args': None,\n",
    "    \n",
    "    # For evaluation\n",
    "    'eval_batch_size': 4096,\n",
    "    'metrics': [\"Recall\", \"MRR\", \"NDCG\", \"Hit\", \"Precision\"],\n",
    "    'topk': 10,\n",
    "    'valid_metric': 'MRR@10',\n",
    "\n",
    "    # Environment\n",
    "    'checkpoint_dir': utils.get_path_dir_ckpt(),\n",
    "    'device': 'mps',\n",
    "    'show_progress': True,\n",
    "    'reproducibility': reproducible,\n",
    "    'seed': seed,\n",
    "}\n",
    "\n",
    "if use_TimeCutoff is True:\n",
    "    config_dict = {\n",
    "        **config_dict,\n",
    "        'eval_args': {\n",
    "            \"order\": \"TO\",\n",
    "            \"split\": {\"CO\": '886349689'},\n",
    "            \"group_by\": 'user_id'\n",
    "        },\n",
    "    }\n",
    "else:\n",
    "    config_dict = {\n",
    "        **config_dict,\n",
    "        'eval_args': {\n",
    "            \"order\": \"TO\",\n",
    "            \"split\": { \"LS\": \"valid_and_test\" },\n",
    "            \"group_by\": None\n",
    "        },\n",
    "    }"
   ]
  },
  {
   "cell_type": "markdown",
   "metadata": {},
   "source": [
    "# 2. Train"
   ]
  },
  {
   "cell_type": "markdown",
   "metadata": {},
   "source": [
    "## 2.1. Declare necessary components for training"
   ]
  },
  {
   "cell_type": "code",
   "execution_count": 5,
   "metadata": {},
   "outputs": [],
   "source": [
    "config = Config(config_dict=config_dict)\n",
    "\n",
    "init_seed(config[\"seed\"], config[\"reproducibility\"])\n",
    "\n",
    "# Define data related things\n",
    "if use_TimeCutoff:\n",
    "    dataset = TimeCutoffDataset(config)\n",
    "else:\n",
    "    dataset = create_dataset(config)\n",
    "train_data, valid_data, test_data = data_preparation(config, dataset)\n",
    "\n",
    "# Define model\n",
    "model_name = config['model']\n",
    "model = get_model(model_name)(config, train_data._dataset).to(config['device'])\n",
    "\n",
    "# Define trainer\n",
    "trainer = get_trainer(config['MODEL_TYPE'], config['model'])(config, model)"
   ]
  },
  {
   "cell_type": "code",
   "execution_count": 6,
   "metadata": {},
   "outputs": [
    {
     "name": "stderr",
     "output_type": "stream",
     "text": [
      "\u001b[32m2024-06-19 22:36:25.861\u001b[0m | \u001b[1mINFO    \u001b[0m | \u001b[36m__main__\u001b[0m:\u001b[36m<module>\u001b[0m:\u001b[36m4\u001b[0m - \u001b[1m\n",
      "\u001b[1;35mGeneral Hyper Parameters:\n",
      "\u001b[0m\u001b[1;36mgpu_id\u001b[0m =\u001b[1;33m 0\u001b[0m\n",
      "\u001b[1;36muse_gpu\u001b[0m =\u001b[1;33m True\u001b[0m\n",
      "\u001b[1;36mseed\u001b[0m =\u001b[1;33m 42\u001b[0m\n",
      "\u001b[1;36mstate\u001b[0m =\u001b[1;33m INFO\u001b[0m\n",
      "\u001b[1;36mreproducibility\u001b[0m =\u001b[1;33m True\u001b[0m\n",
      "\u001b[1;36mdata_path\u001b[0m =\u001b[1;33m /Users/macos/miniforge3/envs/py/lib/python3.10/site-packages/recbole/config/../dataset_example/ml-100k\u001b[0m\n",
      "\u001b[1;36mcheckpoint_dir\u001b[0m =\u001b[1;33m logs/Jun19_223623/ckpts\u001b[0m\n",
      "\u001b[1;36mshow_progress\u001b[0m =\u001b[1;33m True\u001b[0m\n",
      "\u001b[1;36msave_dataset\u001b[0m =\u001b[1;33m False\u001b[0m\n",
      "\u001b[1;36mdataset_save_path\u001b[0m =\u001b[1;33m None\u001b[0m\n",
      "\u001b[1;36msave_dataloaders\u001b[0m =\u001b[1;33m False\u001b[0m\n",
      "\u001b[1;36mdataloaders_save_path\u001b[0m =\u001b[1;33m None\u001b[0m\n",
      "\u001b[1;36mlog_wandb\u001b[0m =\u001b[1;33m False\u001b[0m\n",
      "\n",
      "\u001b[1;35mTraining Hyper Parameters:\n",
      "\u001b[0m\u001b[1;36mepochs\u001b[0m =\u001b[1;33m 500\u001b[0m\n",
      "\u001b[1;36mtrain_batch_size\u001b[0m =\u001b[1;33m 4096\u001b[0m\n",
      "\u001b[1;36mlearner\u001b[0m =\u001b[1;33m adam\u001b[0m\n",
      "\u001b[1;36mlearning_rate\u001b[0m =\u001b[1;33m 0.030752612145593928\u001b[0m\n",
      "\u001b[1;36mtrain_neg_sample_args\u001b[0m =\u001b[1;33m {'distribution': 'none', 'sample_num': 'none', 'alpha': 'none', 'dynamic': False, 'candidate_num': 0}\u001b[0m\n",
      "\u001b[1;36meval_step\u001b[0m =\u001b[1;33m 1\u001b[0m\n",
      "\u001b[1;36mstopping_step\u001b[0m =\u001b[1;33m 10\u001b[0m\n",
      "\u001b[1;36mclip_grad_norm\u001b[0m =\u001b[1;33m None\u001b[0m\n",
      "\u001b[1;36mweight_decay\u001b[0m =\u001b[1;33m 0.0\u001b[0m\n",
      "\u001b[1;36mloss_decimal_place\u001b[0m =\u001b[1;33m 4\u001b[0m\n",
      "\n",
      "\u001b[1;35mEvaluation Hyper Parameters:\n",
      "\u001b[0m\u001b[1;36meval_args\u001b[0m =\u001b[1;33m {'split': {'CO': '886349689'}, 'order': 'TO', 'group_by': 'user_id', 'mode': {'valid': 'full', 'test': 'full'}}\u001b[0m\n",
      "\u001b[1;36mrepeatable\u001b[0m =\u001b[1;33m True\u001b[0m\n",
      "\u001b[1;36mmetrics\u001b[0m =\u001b[1;33m ['Recall', 'MRR', 'NDCG', 'Hit', 'Precision']\u001b[0m\n",
      "\u001b[1;36mtopk\u001b[0m =\u001b[1;33m [10]\u001b[0m\n",
      "\u001b[1;36mvalid_metric\u001b[0m =\u001b[1;33m MRR@10\u001b[0m\n",
      "\u001b[1;36mvalid_metric_bigger\u001b[0m =\u001b[1;33m True\u001b[0m\n",
      "\u001b[1;36meval_batch_size\u001b[0m =\u001b[1;33m 4096\u001b[0m\n",
      "\u001b[1;36mmetric_decimal_place\u001b[0m =\u001b[1;33m 4\u001b[0m\n",
      "\n",
      "\u001b[1;35mDataset Hyper Parameters:\n",
      "\u001b[0m\u001b[1;36mfield_separator\u001b[0m =\u001b[1;33m \t\u001b[0m\n",
      "\u001b[1;36mseq_separator\u001b[0m =\u001b[1;33m  \u001b[0m\n",
      "\u001b[1;36mUSER_ID_FIELD\u001b[0m =\u001b[1;33m user_id\u001b[0m\n",
      "\u001b[1;36mITEM_ID_FIELD\u001b[0m =\u001b[1;33m item_id\u001b[0m\n",
      "\u001b[1;36mRATING_FIELD\u001b[0m =\u001b[1;33m rating\u001b[0m\n",
      "\u001b[1;36mTIME_FIELD\u001b[0m =\u001b[1;33m timestamp\u001b[0m\n",
      "\u001b[1;36mseq_len\u001b[0m =\u001b[1;33m None\u001b[0m\n",
      "\u001b[1;36mLABEL_FIELD\u001b[0m =\u001b[1;33m label\u001b[0m\n",
      "\u001b[1;36mthreshold\u001b[0m =\u001b[1;33m None\u001b[0m\n",
      "\u001b[1;36mNEG_PREFIX\u001b[0m =\u001b[1;33m neg_\u001b[0m\n",
      "\u001b[1;36mload_col\u001b[0m =\u001b[1;33m {'inter': ['user_id', 'item_id', 'timestamp']}\u001b[0m\n",
      "\u001b[1;36munload_col\u001b[0m =\u001b[1;33m None\u001b[0m\n",
      "\u001b[1;36munused_col\u001b[0m =\u001b[1;33m None\u001b[0m\n",
      "\u001b[1;36madditional_feat_suffix\u001b[0m =\u001b[1;33m None\u001b[0m\n",
      "\u001b[1;36mrm_dup_inter\u001b[0m =\u001b[1;33m None\u001b[0m\n",
      "\u001b[1;36mval_interval\u001b[0m =\u001b[1;33m None\u001b[0m\n",
      "\u001b[1;36mfilter_inter_by_user_or_item\u001b[0m =\u001b[1;33m True\u001b[0m\n",
      "\u001b[1;36muser_inter_num_interval\u001b[0m =\u001b[1;33m None\u001b[0m\n",
      "\u001b[1;36mitem_inter_num_interval\u001b[0m =\u001b[1;33m None\u001b[0m\n",
      "\u001b[1;36malias_of_user_id\u001b[0m =\u001b[1;33m None\u001b[0m\n",
      "\u001b[1;36malias_of_item_id\u001b[0m =\u001b[1;33m None\u001b[0m\n",
      "\u001b[1;36malias_of_entity_id\u001b[0m =\u001b[1;33m None\u001b[0m\n",
      "\u001b[1;36malias_of_relation_id\u001b[0m =\u001b[1;33m None\u001b[0m\n",
      "\u001b[1;36mpreload_weight\u001b[0m =\u001b[1;33m None\u001b[0m\n",
      "\u001b[1;36mnormalize_field\u001b[0m =\u001b[1;33m None\u001b[0m\n",
      "\u001b[1;36mnormalize_all\u001b[0m =\u001b[1;33m True\u001b[0m\n",
      "\u001b[1;36mITEM_LIST_LENGTH_FIELD\u001b[0m =\u001b[1;33m item_length\u001b[0m\n",
      "\u001b[1;36mLIST_SUFFIX\u001b[0m =\u001b[1;33m _list\u001b[0m\n",
      "\u001b[1;36mMAX_ITEM_LIST_LENGTH\u001b[0m =\u001b[1;33m 50\u001b[0m\n",
      "\u001b[1;36mPOSITION_FIELD\u001b[0m =\u001b[1;33m position_id\u001b[0m\n",
      "\u001b[1;36mHEAD_ENTITY_ID_FIELD\u001b[0m =\u001b[1;33m head_id\u001b[0m\n",
      "\u001b[1;36mTAIL_ENTITY_ID_FIELD\u001b[0m =\u001b[1;33m tail_id\u001b[0m\n",
      "\u001b[1;36mRELATION_ID_FIELD\u001b[0m =\u001b[1;33m relation_id\u001b[0m\n",
      "\u001b[1;36mENTITY_ID_FIELD\u001b[0m =\u001b[1;33m entity_id\u001b[0m\n",
      "\u001b[1;36mkg_reverse_r\u001b[0m =\u001b[1;33m False\u001b[0m\n",
      "\u001b[1;36mentity_kg_num_interval\u001b[0m =\u001b[1;33m None\u001b[0m\n",
      "\u001b[1;36mrelation_kg_num_interval\u001b[0m =\u001b[1;33m None\u001b[0m\n",
      "\u001b[1;36mbenchmark_filename\u001b[0m =\u001b[1;33m None\u001b[0m\n",
      "\n",
      "\u001b[1;35mOther Hyper Parameters: \n",
      "\u001b[0m\u001b[1;36mworker\u001b[0m = \u001b[1;33m0\u001b[0m\n",
      "\u001b[1;36mwandb_project\u001b[0m = \u001b[1;33mrecbole\u001b[0m\n",
      "\u001b[1;36mshuffle\u001b[0m = \u001b[1;33mTrue\u001b[0m\n",
      "\u001b[1;36mrequire_pow\u001b[0m = \u001b[1;33mFalse\u001b[0m\n",
      "\u001b[1;36menable_amp\u001b[0m = \u001b[1;33mFalse\u001b[0m\n",
      "\u001b[1;36menable_scaler\u001b[0m = \u001b[1;33mFalse\u001b[0m\n",
      "\u001b[1;36mtransform\u001b[0m = \u001b[1;33mNone\u001b[0m\n",
      "\u001b[1;36membedding_size\u001b[0m = \u001b[1;33m64\u001b[0m\n",
      "\u001b[1;36mloss_type\u001b[0m = \u001b[1;33mCE\u001b[0m\n",
      "\u001b[1;36mdropout_prob\u001b[0m = \u001b[1;33m0.2\u001b[0m\n",
      "\u001b[1;36mnumerical_features\u001b[0m = \u001b[1;33m[]\u001b[0m\n",
      "\u001b[1;36mdiscretization\u001b[0m = \u001b[1;33mNone\u001b[0m\n",
      "\u001b[1;36mMODEL_TYPE\u001b[0m = \u001b[1;33mModelType.SEQUENTIAL\u001b[0m\n",
      "\u001b[1;36muse_TimeCutoff\u001b[0m = \u001b[1;33mTrue\u001b[0m\n",
      "\u001b[1;36mdevice\u001b[0m = \u001b[1;33mcpu\u001b[0m\n",
      "\u001b[1;36mMODEL_INPUT_TYPE\u001b[0m = \u001b[1;33mInputType.POINTWISE\u001b[0m\n",
      "\u001b[1;36meval_type\u001b[0m = \u001b[1;33mEvaluatorType.RANKING\u001b[0m\n",
      "\u001b[1;36msingle_spec\u001b[0m = \u001b[1;33mTrue\u001b[0m\n",
      "\u001b[1;36mlocal_rank\u001b[0m = \u001b[1;33m0\u001b[0m\n",
      "\u001b[1;36mvalid_neg_sample_args\u001b[0m = \u001b[1;33m{'distribution': 'uniform', 'sample_num': 'none'}\u001b[0m\n",
      "\u001b[1;36mtest_neg_sample_args\u001b[0m = \u001b[1;33m{'distribution': 'uniform', 'sample_num': 'none'}\u001b[0m\n",
      "\n",
      "\u001b[0m\n",
      "\u001b[32m2024-06-19 22:36:25.862\u001b[0m | \u001b[1mINFO    \u001b[0m | \u001b[36m__main__\u001b[0m:\u001b[36m<module>\u001b[0m:\u001b[36m7\u001b[0m - \u001b[1m\u001b[1;35mml-100k\u001b[0m\n",
      "\u001b[1;34mThe number of users\u001b[0m: 944\n",
      "\u001b[1;34mAverage actions of users\u001b[0m: 105.04453870625663\n",
      "\u001b[1;34mThe number of items\u001b[0m: 1683\n",
      "\u001b[1;34mAverage actions of items\u001b[0m: 58.892390011890605\n",
      "\u001b[1;34mThe number of inters\u001b[0m: 99057\n",
      "\u001b[1;34mThe sparsity of the dataset\u001b[0m: 93.76510619656183%\n",
      "\u001b[1;34mRemain Fields\u001b[0m: ['user_id', 'item_id', 'timestamp', 'item_id_list', 'timestamp_list', 'item_length']\u001b[0m\n",
      "\u001b[32m2024-06-19 22:36:25.877\u001b[0m | \u001b[1mINFO    \u001b[0m | \u001b[36m__main__\u001b[0m:\u001b[36m<module>\u001b[0m:\u001b[36m10\u001b[0m - \u001b[1mNPE(\n",
      "  (user_embedding): Embedding(944, 64)\n",
      "  (item_embedding): Embedding(1683, 64)\n",
      "  (embedding_seq_item): Embedding(1683, 64, padding_idx=0)\n",
      "  (relu): ReLU()\n",
      "  (dropout): Dropout(p=0.2, inplace=False)\n",
      "  (loss_fct): CrossEntropyLoss()\n",
      ")\u001b[1;34m\n",
      "Trainable parameters\u001b[0m: 275840\u001b[0m\n"
     ]
    },
    {
     "name": "stdout",
     "output_type": "stream",
     "text": [
      " === Config === \n",
      " === Dataset === \n",
      " === Model === \n"
     ]
    }
   ],
   "source": [
    "logger = utils.get_logger()\n",
    "\n",
    "print(\" === Config === \")\n",
    "logger.info(config)\n",
    "\n",
    "print(\" === Dataset === \")\n",
    "logger.info(dataset)\n",
    "\n",
    "print(\" === Model === \")\n",
    "logger.info(model)"
   ]
  },
  {
   "cell_type": "markdown",
   "metadata": {},
   "source": [
    "## 2.2. Start training"
   ]
  },
  {
   "cell_type": "code",
   "execution_count": 7,
   "metadata": {},
   "outputs": [
    {
     "name": "stderr",
     "output_type": "stream",
     "text": [
      "\u001b[1;35mTrain     0\u001b[0m: 100%|██████████████████████████████████████████████████| 17/17 [00:00<00:00, 22.73it/s]\u001b[0m\n",
      "\u001b[1;35mEvaluate   \u001b[0m: 100%|███████████████████████████████████████████████████| 1/1 [00:00<00:00, 241.66it/s]\u001b[0m\n",
      "\u001b[1;35mTrain     1\u001b[0m: 100%|██████████████████████████████████████████████████| 17/17 [00:00<00:00, 24.11it/s]\u001b[0m\n",
      "\u001b[1;35mEvaluate   \u001b[0m: 100%|███████████████████████████████████████████████████| 1/1 [00:00<00:00, 229.56it/s]\u001b[0m\n",
      "\u001b[1;35mTrain     2\u001b[0m: 100%|██████████████████████████████████████████████████| 17/17 [00:00<00:00, 23.74it/s]\u001b[0m\n",
      "\u001b[1;35mEvaluate   \u001b[0m: 100%|███████████████████████████████████████████████████| 1/1 [00:00<00:00, 195.59it/s]\u001b[0m\n",
      "\u001b[1;35mTrain     3\u001b[0m: 100%|██████████████████████████████████████████████████| 17/17 [00:00<00:00, 23.41it/s]\u001b[0m\n",
      "\u001b[1;35mEvaluate   \u001b[0m: 100%|███████████████████████████████████████████████████| 1/1 [00:00<00:00, 159.67it/s]\u001b[0m\n",
      "\u001b[1;35mTrain     4\u001b[0m: 100%|██████████████████████████████████████████████████| 17/17 [00:00<00:00, 22.73it/s]\u001b[0m\n",
      "\u001b[1;35mEvaluate   \u001b[0m: 100%|███████████████████████████████████████████████████| 1/1 [00:00<00:00, 223.47it/s]\u001b[0m\n",
      "\u001b[1;35mTrain     5\u001b[0m: 100%|██████████████████████████████████████████████████| 17/17 [00:00<00:00, 22.38it/s]\u001b[0m\n",
      "\u001b[1;35mEvaluate   \u001b[0m: 100%|███████████████████████████████████████████████████| 1/1 [00:00<00:00, 232.08it/s]\u001b[0m\n",
      "\u001b[1;35mTrain     6\u001b[0m: 100%|██████████████████████████████████████████████████| 17/17 [00:00<00:00, 24.17it/s]\u001b[0m\n",
      "\u001b[1;35mEvaluate   \u001b[0m: 100%|███████████████████████████████████████████████████| 1/1 [00:00<00:00, 225.48it/s]\u001b[0m\n",
      "\u001b[1;35mTrain     7\u001b[0m: 100%|██████████████████████████████████████████████████| 17/17 [00:00<00:00, 24.08it/s]\u001b[0m\n",
      "\u001b[1;35mEvaluate   \u001b[0m: 100%|███████████████████████████████████████████████████| 1/1 [00:00<00:00, 229.20it/s]\u001b[0m\n",
      "\u001b[1;35mTrain     8\u001b[0m: 100%|██████████████████████████████████████████████████| 17/17 [00:00<00:00, 23.03it/s]\u001b[0m\n",
      "\u001b[1;35mEvaluate   \u001b[0m: 100%|███████████████████████████████████████████████████| 1/1 [00:00<00:00, 208.52it/s]\u001b[0m\n",
      "\u001b[1;35mTrain     9\u001b[0m: 100%|██████████████████████████████████████████████████| 17/17 [00:00<00:00, 22.75it/s]\u001b[0m\n",
      "\u001b[1;35mEvaluate   \u001b[0m: 100%|███████████████████████████████████████████████████| 1/1 [00:00<00:00, 243.83it/s]\u001b[0m\n",
      "\u001b[1;35mTrain    10\u001b[0m: 100%|██████████████████████████████████████████████████| 17/17 [00:00<00:00, 22.99it/s]\u001b[0m\n",
      "\u001b[1;35mEvaluate   \u001b[0m: 100%|███████████████████████████████████████████████████| 1/1 [00:00<00:00, 215.34it/s]\u001b[0m\n",
      "\u001b[1;35mTrain    11\u001b[0m: 100%|██████████████████████████████████████████████████| 17/17 [00:00<00:00, 24.03it/s]\u001b[0m\n",
      "\u001b[1;35mEvaluate   \u001b[0m: 100%|███████████████████████████████████████████████████| 1/1 [00:00<00:00, 223.86it/s]\u001b[0m\n",
      "\u001b[1;35mTrain    12\u001b[0m: 100%|██████████████████████████████████████████████████| 17/17 [00:00<00:00, 22.45it/s]\u001b[0m\n",
      "\u001b[1;35mEvaluate   \u001b[0m: 100%|███████████████████████████████████████████████████| 1/1 [00:00<00:00, 234.80it/s]\u001b[0m\n",
      "\u001b[1;35mTrain    13\u001b[0m: 100%|██████████████████████████████████████████████████| 17/17 [00:00<00:00, 24.24it/s]\u001b[0m\n",
      "\u001b[1;35mEvaluate   \u001b[0m: 100%|███████████████████████████████████████████████████| 1/1 [00:00<00:00, 244.92it/s]\u001b[0m\n",
      "\u001b[1;35mTrain    14\u001b[0m: 100%|██████████████████████████████████████████████████| 17/17 [00:00<00:00, 24.33it/s]\u001b[0m\n",
      "\u001b[1;35mEvaluate   \u001b[0m: 100%|███████████████████████████████████████████████████| 1/1 [00:00<00:00, 242.89it/s]\u001b[0m\n",
      "\u001b[1;35mTrain    15\u001b[0m: 100%|██████████████████████████████████████████████████| 17/17 [00:00<00:00, 24.58it/s]\u001b[0m\n",
      "\u001b[1;35mEvaluate   \u001b[0m: 100%|███████████████████████████████████████████████████| 1/1 [00:00<00:00, 229.77it/s]\u001b[0m\n",
      "\u001b[1;35mTrain    16\u001b[0m: 100%|██████████████████████████████████████████████████| 17/17 [00:00<00:00, 24.29it/s]\u001b[0m\n",
      "\u001b[1;35mEvaluate   \u001b[0m: 100%|███████████████████████████████████████████████████| 1/1 [00:00<00:00, 215.29it/s]\u001b[0m\n",
      "\u001b[1;35mTrain    17\u001b[0m: 100%|██████████████████████████████████████████████████| 17/17 [00:00<00:00, 22.43it/s]\u001b[0m\n",
      "\u001b[1;35mEvaluate   \u001b[0m: 100%|███████████████████████████████████████████████████| 1/1 [00:00<00:00, 216.45it/s]\u001b[0m\n",
      "\u001b[1;35mTrain    18\u001b[0m: 100%|██████████████████████████████████████████████████| 17/17 [00:00<00:00, 23.91it/s]\u001b[0m\n",
      "\u001b[1;35mEvaluate   \u001b[0m: 100%|███████████████████████████████████████████████████| 1/1 [00:00<00:00, 185.15it/s]\u001b[0m\n",
      "\u001b[1;35mTrain    19\u001b[0m: 100%|██████████████████████████████████████████████████| 17/17 [00:00<00:00, 22.17it/s]\u001b[0m\n",
      "\u001b[1;35mEvaluate   \u001b[0m: 100%|███████████████████████████████████████████████████| 1/1 [00:00<00:00, 220.71it/s]\u001b[0m\n",
      "\u001b[1;35mTrain    20\u001b[0m: 100%|██████████████████████████████████████████████████| 17/17 [00:00<00:00, 24.01it/s]\u001b[0m\n",
      "\u001b[1;35mEvaluate   \u001b[0m: 100%|███████████████████████████████████████████████████| 1/1 [00:00<00:00, 238.56it/s]\u001b[0m\n",
      "\u001b[1;35mTrain    21\u001b[0m: 100%|██████████████████████████████████████████████████| 17/17 [00:00<00:00, 23.79it/s]\u001b[0m\n",
      "\u001b[1;35mEvaluate   \u001b[0m: 100%|███████████████████████████████████████████████████| 1/1 [00:00<00:00, 214.69it/s]\u001b[0m\n",
      "\u001b[1;35mTrain    22\u001b[0m: 100%|██████████████████████████████████████████████████| 17/17 [00:00<00:00, 23.81it/s]\u001b[0m\n",
      "\u001b[1;35mEvaluate   \u001b[0m: 100%|███████████████████████████████████████████████████| 1/1 [00:00<00:00, 249.69it/s]\u001b[0m\n",
      "\u001b[1;35mTrain    23\u001b[0m: 100%|██████████████████████████████████████████████████| 17/17 [00:00<00:00, 24.17it/s]\u001b[0m\n",
      "\u001b[1;35mEvaluate   \u001b[0m: 100%|███████████████████████████████████████████████████| 1/1 [00:00<00:00, 211.06it/s]\u001b[0m\n",
      "\u001b[1;35mTrain    24\u001b[0m: 100%|██████████████████████████████████████████████████| 17/17 [00:00<00:00, 23.56it/s]\u001b[0m\n",
      "\u001b[1;35mEvaluate   \u001b[0m: 100%|███████████████████████████████████████████████████| 1/1 [00:00<00:00, 169.55it/s]\u001b[0m\n",
      "\u001b[1;35mTrain    25\u001b[0m: 100%|██████████████████████████████████████████████████| 17/17 [00:00<00:00, 21.00it/s]\u001b[0m\n",
      "\u001b[1;35mEvaluate   \u001b[0m: 100%|███████████████████████████████████████████████████| 1/1 [00:00<00:00, 186.75it/s]\u001b[0m\n",
      "\u001b[1;35mTrain    26\u001b[0m: 100%|██████████████████████████████████████████████████| 17/17 [00:00<00:00, 23.08it/s]\u001b[0m\n",
      "\u001b[1;35mEvaluate   \u001b[0m: 100%|███████████████████████████████████████████████████| 1/1 [00:00<00:00, 221.24it/s]\u001b[0m\n",
      "\u001b[1;35mTrain    27\u001b[0m: 100%|██████████████████████████████████████████████████| 17/17 [00:00<00:00, 24.02it/s]\u001b[0m\n",
      "\u001b[1;35mEvaluate   \u001b[0m: 100%|███████████████████████████████████████████████████| 1/1 [00:00<00:00, 202.85it/s]\u001b[0m\n",
      "\u001b[1;35mTrain    28\u001b[0m: 100%|██████████████████████████████████████████████████| 17/17 [00:00<00:00, 24.23it/s]\u001b[0m\n",
      "\u001b[1;35mEvaluate   \u001b[0m: 100%|███████████████████████████████████████████████████| 1/1 [00:00<00:00, 200.52it/s]\u001b[0m\n",
      "\u001b[1;35mTrain    29\u001b[0m: 100%|██████████████████████████████████████████████████| 17/17 [00:00<00:00, 24.26it/s]\u001b[0m\n",
      "\u001b[1;35mEvaluate   \u001b[0m: 100%|███████████████████████████████████████████████████| 1/1 [00:00<00:00, 223.67it/s]\u001b[0m\n",
      "\u001b[1;35mTrain    30\u001b[0m: 100%|██████████████████████████████████████████████████| 17/17 [00:00<00:00, 20.75it/s]\u001b[0m\n",
      "\u001b[1;35mEvaluate   \u001b[0m: 100%|███████████████████████████████████████████████████| 1/1 [00:00<00:00, 224.91it/s]\u001b[0m\n",
      "\u001b[1;35mTrain    31\u001b[0m: 100%|██████████████████████████████████████████████████| 17/17 [00:00<00:00, 23.02it/s]\u001b[0m\n",
      "\u001b[1;35mEvaluate   \u001b[0m: 100%|███████████████████████████████████████████████████| 1/1 [00:00<00:00, 220.88it/s]\u001b[0m\n",
      "\u001b[1;35mTrain    32\u001b[0m: 100%|██████████████████████████████████████████████████| 17/17 [00:00<00:00, 23.92it/s]\u001b[0m\n",
      "\u001b[1;35mEvaluate   \u001b[0m: 100%|███████████████████████████████████████████████████| 1/1 [00:00<00:00, 186.70it/s]\u001b[0m\n",
      "\u001b[1;35mTrain    33\u001b[0m: 100%|██████████████████████████████████████████████████| 17/17 [00:00<00:00, 21.48it/s]\u001b[0m\n",
      "\u001b[1;35mEvaluate   \u001b[0m: 100%|███████████████████████████████████████████████████| 1/1 [00:00<00:00, 179.28it/s]\u001b[0m\n",
      "\u001b[1;35mTrain    34\u001b[0m: 100%|██████████████████████████████████████████████████| 17/17 [00:00<00:00, 23.36it/s]\u001b[0m\n",
      "\u001b[1;35mEvaluate   \u001b[0m: 100%|███████████████████████████████████████████████████| 1/1 [00:00<00:00, 226.18it/s]\u001b[0m\n",
      "\u001b[1;35mTrain    35\u001b[0m: 100%|██████████████████████████████████████████████████| 17/17 [00:00<00:00, 21.71it/s]\u001b[0m\n",
      "\u001b[1;35mEvaluate   \u001b[0m: 100%|███████████████████████████████████████████████████| 1/1 [00:00<00:00, 218.33it/s]\u001b[0m\n",
      "\u001b[1;35mTrain    36\u001b[0m: 100%|██████████████████████████████████████████████████| 17/17 [00:00<00:00, 23.88it/s]\u001b[0m\n",
      "\u001b[1;35mEvaluate   \u001b[0m: 100%|███████████████████████████████████████████████████| 1/1 [00:00<00:00, 215.24it/s]\u001b[0m\n"
     ]
    },
    {
     "name": "stdout",
     "output_type": "stream",
     "text": [
      "** Validation result\n",
      "best_valid_score: 0.0211\n",
      "recall@10      : 0.0634\n",
      "mrr@10         : 0.0211\n",
      "ndcg@10        : 0.0309\n",
      "hit@10         : 0.0634\n",
      "precision@10   : 0.0063\n"
     ]
    }
   ],
   "source": [
    "best_valid_score, best_valid_result = trainer.fit(\n",
    "    train_data, \n",
    "    valid_data,\n",
    "    verbose=True,\n",
    "    show_progress=config[\"show_progress\"]\n",
    ")\n",
    "\n",
    "print(\"** Validation result\")\n",
    "print(f\"best_valid_score: {best_valid_score:.4f}\")\n",
    "for metric, val in best_valid_result.items():\n",
    "    print(f\"{metric:<15}: {val:.4f}\")"
   ]
  },
  {
   "cell_type": "markdown",
   "metadata": {},
   "source": [
    "## 3.3. Start testing"
   ]
  },
  {
   "cell_type": "code",
   "execution_count": 8,
   "metadata": {},
   "outputs": [
    {
     "name": "stdout",
     "output_type": "stream",
     "text": [
      "** Test result\n",
      "recall@10      : 0.0236\n",
      "mrr@10         : 0.0043\n",
      "ndcg@10        : 0.0087\n",
      "hit@10         : 0.0236\n",
      "precision@10   : 0.0024\n"
     ]
    }
   ],
   "source": [
    "test_result = trainer.evaluate(test_data)\n",
    "\n",
    "print(\"** Test result\")\n",
    "for metric, val in test_result.items():\n",
    "    print(f\"{metric:<15}: {val:.4f}\")"
   ]
  },
  {
   "cell_type": "markdown",
   "metadata": {},
   "source": [
    "# 4. Tune hyper params"
   ]
  },
  {
   "cell_type": "markdown",
   "metadata": {},
   "source": [
    "## 4.1. Define hyper params and object function"
   ]
  },
  {
   "cell_type": "code",
   "execution_count": 9,
   "metadata": {},
   "outputs": [],
   "source": [
    "hyper_params = {\n",
    "    'loguniform': {\n",
    "        'learning_rate': [-8, 0]\n",
    "    },\n",
    "    'choice': {\n",
    "        'embedding_size': [64],\n",
    "        'dropout_prob': [0.2, 0.3, .5]\n",
    "    }\n",
    "}"
   ]
  },
  {
   "cell_type": "code",
   "execution_count": 10,
   "metadata": {},
   "outputs": [],
   "source": [
    "def objective_function(config_dict=None, config_file_list=None):\n",
    "    config = Config(\n",
    "        config_dict=config_dict,\n",
    "        config_file_list=config_file_list,\n",
    "    )\n",
    "\n",
    "    init_seed(config[\"seed\"], config[\"reproducibility\"])\n",
    "\n",
    "    # Define data related things\n",
    "    if use_TimeCutoff:\n",
    "        dataset = TimeCutoffDataset(config)\n",
    "    else:\n",
    "        dataset = create_dataset(config)\n",
    "    train_data, valid_data, test_data = data_preparation(config, dataset)\n",
    "\n",
    "    # Define model\n",
    "    model_name = config['model']\n",
    "    model = get_model(model_name)(config, train_data._dataset).to(config['device'])\n",
    "\n",
    "    # Define trainer\n",
    "    trainer = get_trainer(config['MODEL_TYPE'], config['model'])(config, model)\n",
    "\n",
    "    # Start training\n",
    "    best_valid_score, best_valid_result = trainer.fit(train_data, valid_data, verbose=False)\n",
    "\n",
    "    # Start evaluating\n",
    "    test_result = trainer.evaluate(test_data)\n",
    "\n",
    "    return {\n",
    "        'model': model_name,\n",
    "        'best_valid_score': best_valid_score,\n",
    "        'valid_score_bigger': config['valid_metric_bigger'],\n",
    "        'best_valid_result': best_valid_result,\n",
    "        'test_result': test_result\n",
    "    }"
   ]
  },
  {
   "cell_type": "markdown",
   "metadata": {},
   "source": [
    "## 4.2. Save config as yaml file"
   ]
  },
  {
   "cell_type": "code",
   "execution_count": 11,
   "metadata": {},
   "outputs": [],
   "source": [
    "with open(utils.get_path_conf(), 'w+') as f:\n",
    "    yaml.dump(config_dict, f, allow_unicode=True)"
   ]
  },
  {
   "cell_type": "markdown",
   "metadata": {},
   "source": [
    "## 4.2. Start tuning"
   ]
  },
  {
   "cell_type": "code",
   "execution_count": 12,
   "metadata": {},
   "outputs": [
    {
     "name": "stdout",
     "output_type": "stream",
     "text": [
      "running parameters:                                   \n",
      "{'dropout_prob': 0.2, 'embedding_size': 64, 'learning_rate': 0.06678097290014981}\n",
      "current best valid score: 0.0150                      \n",
      "current best valid result:                            \n",
      "OrderedDict([('recall@10', 0.0479), ('mrr@10', 0.015), ('ndcg@10', 0.0224), ('hit@10', 0.0479), ('precision@10', 0.0048)])\n",
      "current test result:                                  \n",
      "OrderedDict([('recall@10', 0.0), ('mrr@10', 0.0), ('ndcg@10', 0.0), ('hit@10', 0.0), ('precision@10', 0.0)])\n",
      "running parameters:                                                 \n",
      "{'dropout_prob': 0.2, 'embedding_size': 64, 'learning_rate': 0.0021038267305494214}\n",
      "current best valid score: 0.0196                                    \n",
      "current best valid result:                                          \n",
      "OrderedDict([('recall@10', 0.0634), ('mrr@10', 0.0196), ('ndcg@10', 0.0294), ('hit@10', 0.0634), ('precision@10', 0.0063)])\n",
      "current test result:                                                \n",
      "OrderedDict([('recall@10', 0.0), ('mrr@10', 0.0), ('ndcg@10', 0.0), ('hit@10', 0.0), ('precision@10', 0.0)])\n",
      "running parameters:                                                  \n",
      "{'dropout_prob': 0.3, 'embedding_size': 64, 'learning_rate': 0.0073103205607367395}\n",
      "running parameters:                                                  \n",
      "{'dropout_prob': 0.3, 'embedding_size': 64, 'learning_rate': 0.04322299561010432}\n",
      "current best valid score: 0.0209                                     \n",
      "current best valid result:                                           \n",
      "OrderedDict([('recall@10', 0.0587), ('mrr@10', 0.0209), ('ndcg@10', 0.0296), ('hit@10', 0.0587), ('precision@10', 0.0059)])\n",
      "current test result:                                                 \n",
      "OrderedDict([('recall@10', 0.0079), ('mrr@10', 0.0079), ('ndcg@10', 0.0079), ('hit@10', 0.0079), ('precision@10', 0.0008)])\n",
      "running parameters:                                                  \n",
      "{'dropout_prob': 0.5, 'embedding_size': 64, 'learning_rate': 0.028078713226861854}\n",
      "running parameters:                                                  \n",
      "{'dropout_prob': 0.3, 'embedding_size': 64, 'learning_rate': 0.05366510709315418}\n",
      "running parameters:                                                  \n",
      "{'dropout_prob': 0.2, 'embedding_size': 64, 'learning_rate': 0.008981850488261446}\n",
      "running parameters:                                                  \n",
      "{'dropout_prob': 0.2, 'embedding_size': 64, 'learning_rate': 0.0004120197671776037}\n",
      "running parameters:                                                  \n",
      "{'dropout_prob': 0.3, 'embedding_size': 64, 'learning_rate': 0.0011092396939193473}\n",
      "running parameters:                                                  \n",
      "{'dropout_prob': 0.2, 'embedding_size': 64, 'learning_rate': 0.030752612145593928}\n",
      "current best valid score: 0.0211                                     \n",
      "current best valid result:                                           \n",
      "OrderedDict([('recall@10', 0.0634), ('mrr@10', 0.0211), ('ndcg@10', 0.0309), ('hit@10', 0.0634), ('precision@10', 0.0063)])\n",
      "current test result:                                                 \n",
      "OrderedDict([('recall@10', 0.0236), ('mrr@10', 0.0043), ('ndcg@10', 0.0087), ('hit@10', 0.0236), ('precision@10', 0.0024)])\n",
      "100%|██████████| 10/10 [03:11<00:00, 19.19s/trial, best loss: -0.0211]\n"
     ]
    }
   ],
   "source": [
    "tuning_algo = \"bayes\"\n",
    "early_stop = 10\n",
    "max_evals = 10\n",
    "\n",
    "hp = HyperTuning(\n",
    "    objective_function=objective_function,\n",
    "    algo=tuning_algo,\n",
    "    early_stop=early_stop,\n",
    "    max_evals=max_evals,\n",
    "    params_dict=hyper_params,\n",
    "    fixed_config_file_list=[utils.get_path_conf()]\n",
    ")\n",
    "\n",
    "\n",
    "hp.run()"
   ]
  },
  {
   "cell_type": "markdown",
   "metadata": {},
   "source": [
    "## 4.3. Export tunning result"
   ]
  },
  {
   "cell_type": "code",
   "execution_count": 13,
   "metadata": {},
   "outputs": [
    {
     "name": "stdout",
     "output_type": "stream",
     "text": [
      "best params:  {'dropout_prob': 0.2, 'embedding_size': 64, 'learning_rate': 0.030752612145593928}\n",
      "best result: \n",
      "{'model': 'NPE', 'best_valid_score': 0.0211, 'valid_score_bigger': True, 'best_valid_result': OrderedDict([('recall@10', 0.0634), ('mrr@10', 0.0211), ('ndcg@10', 0.0309), ('hit@10', 0.0634), ('precision@10', 0.0063)]), 'test_result': OrderedDict([('recall@10', 0.0236), ('mrr@10', 0.0043), ('ndcg@10', 0.0087), ('hit@10', 0.0236), ('precision@10', 0.0024)])}\n"
     ]
    }
   ],
   "source": [
    "# print best parameters\n",
    "print('best params: ', hp.best_params)\n",
    "\n",
    "# print best result\n",
    "print('best result: ')\n",
    "print(hp.params2result[hp.params2str(hp.best_params)])\n",
    "\n",
    "# export to JSON file\n",
    "tune_result = {\n",
    "    'best_params': hp.best_params,\n",
    "    'best_result': hp.params2result[hp.params2str(hp.best_params)]\n",
    "}\n",
    "with open(utils.get_path_tune_log(), \"w+\") as f:\n",
    "    json.dump(tune_result, f, indent=2, ensure_ascii=False)"
   ]
  },
  {
   "cell_type": "markdown",
   "metadata": {},
   "source": [
    "# 5. Offline evaluation"
   ]
  },
  {
   "cell_type": "code",
   "execution_count": null,
   "metadata": {},
   "outputs": [],
   "source": [
    "EVAL_MODES = {\n",
    "    \"temporal\": \"TO\",\n",
    "    \"leave1out\": \"LS\"\n",
    "}"
   ]
  },
  {
   "cell_type": "code",
   "execution_count": null,
   "metadata": {},
   "outputs": [],
   "source": [
    "selected_eval_models = [EVAL_MODES[k] for k in [\"temporal\", \"leave1out\"]]\n",
    "selected_eval_metrics = ['Recall', 'MRR', 'NDCG', 'Hit', 'Precision']\n",
    "selected_topk = 10\n",
    "\n",
    "eval_args = {\n",
    "    \"order\": \"TO\",\n",
    "    \"split\": {\n",
    "        'LS': \"valid_and_test\"\n",
    "    },\n",
    "    \"group_by\": None\n",
    "}\n",
    "\n",
    "config_dict = {\n",
    "    'eval_args': eval_args,\n",
    "    # 'train_neg_sample_args': None,\n",
    "}\n",
    "\n",
    "run_recbole(model=model, dataset=data, config_dict=config_dict)"
   ]
  },
  {
   "cell_type": "code",
   "execution_count": null,
   "metadata": {},
   "outputs": [],
   "source": [
    "run_recbole(model='NPE', dataset='ml-100k', config_file_list=['test.yml'])"
   ]
  }
 ],
 "metadata": {
  "kernelspec": {
   "display_name": "py",
   "language": "python",
   "name": "python3"
  },
  "language_info": {
   "codemirror_mode": {
    "name": "ipython",
    "version": 3
   },
   "file_extension": ".py",
   "mimetype": "text/x-python",
   "name": "python",
   "nbconvert_exporter": "python",
   "pygments_lexer": "ipython3",
   "version": "3.1.undefined"
  }
 },
 "nbformat": 4,
 "nbformat_minor": 2
}
