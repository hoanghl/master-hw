{
 "cells": [
  {
   "cell_type": "markdown",
   "id": "3611ce15",
   "metadata": {},
   "source": [
    "## Exercise 4.1 (4 Points)"
   ]
  },
  {
   "cell_type": "markdown",
   "id": "8a32e3dc",
   "metadata": {},
   "source": [
    "### Epipolar Geometry\n",
    "\n",
    "1. In your own words, explain the following terms:\n",
    "   - Epipole\n",
    "   - Epipolar line\n",
    "   - Epipolar plane\n",
    "\n",
    "\n",
    "2.  Explain what the epipolar constraint is. Why does a point in one image have a corresponding geometric relationship with the epipolar line in the other view?\n",
    "\n",
    "\n",
    "3.  In simple terms, describe the role of the fundamental matrix **F**. Why is it important in epipolar geometry, and how does it relate two camera views?\n"
   ]
  },
  {
   "cell_type": "markdown",
   "id": "f9feb82c",
   "metadata": {},
   "source": [
    "## Exercise 4.2 (4 Points)"
   ]
  },
  {
   "cell_type": "markdown",
   "id": "d32ee36c",
   "metadata": {},
   "source": [
    "### 8-Point Algorithm\n",
    "\n",
    "In this task you are given two images (\"Corridor1.jpg\" and \"Corridor2.jpg\"). \n",
    "1) Detect and match features from those images using OpenCv's SIFT detector and OpenCV's BFFMatcher (https://docs.opencv.org/3.4/da/df5/tutorial_py_sift_intro.html and https://docs.opencv.org/4.x/dc/dc3/tutorial_py_matcher.html)\n",
    "\n",
    "2) Implement the 8-point algorithm and compute the fundamental matrix. Normalize the 2d points before running the 8-point algorithm. \n",
    "\n",
    "3) Validate your results by drawing epipolar lines on image 2 and verify that corresponding points lie on these lines. Explain why this happens.\n",
    "\n",
    "You can find more resources on epipolar geometry in the course book “Multiple View Geometry in computer vision” by R. Hartley and A. Zisserman."
   ]
  },
  {
   "cell_type": "code",
   "execution_count": null,
   "id": "56fc5bc4",
   "metadata": {},
   "outputs": [],
   "source": [
    "#1)\n",
    "import cv2\n",
    "import numpy as np\n",
    "import matplotlib.pyplot as plt\n",
    "\n",
    "# Load the images\n",
    "img1 = cv2.imread('Corridor1.jpg', cv2.IMREAD_GRAYSCALE)\n",
    "img2 = cv2.imread('Corridor2.jpg', cv2.IMREAD_GRAYSCALE)\n",
    "\n",
    "#...\n"
   ]
  },
  {
   "cell_type": "code",
   "execution_count": null,
   "id": "9c294a9e",
   "metadata": {},
   "outputs": [],
   "source": []
  }
 ],
 "metadata": {
  "kernelspec": {
   "display_name": "Python 3 (ipykernel)",
   "language": "python",
   "name": "python3"
  },
  "language_info": {
   "codemirror_mode": {
    "name": "ipython",
    "version": 3
   },
   "file_extension": ".py",
   "mimetype": "text/x-python",
   "name": "python",
   "nbconvert_exporter": "python",
   "pygments_lexer": "ipython3",
   "version": "3.9.12"
  }
 },
 "nbformat": 4,
 "nbformat_minor": 5
}
