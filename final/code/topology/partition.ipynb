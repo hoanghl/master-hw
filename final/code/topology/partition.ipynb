{
 "cells": [
  {
   "cell_type": "code",
   "execution_count": 1,
   "metadata": {},
   "outputs": [],
   "source": [
    "import math\n",
    "from collections import defaultdict\n"
   ]
  },
  {
   "cell_type": "code",
   "execution_count": 22,
   "metadata": {},
   "outputs": [],
   "source": [
    "edge = 8\n",
    "n = edge**2\n",
    "num_proc = 7"
   ]
  },
  {
   "cell_type": "markdown",
   "metadata": {},
   "source": [
    "# Method 3"
   ]
  },
  {
   "cell_type": "code",
   "execution_count": 23,
   "metadata": {},
   "outputs": [],
   "source": [
    "part2proc = {}\n",
    "proc2par = defaultdict(set)\n",
    "neighbors = {}\n",
    "exchanges = defaultdict(set)"
   ]
  },
  {
   "cell_type": "markdown",
   "metadata": {},
   "source": [
    "## 1. Determine the neighbor of each particle"
   ]
  },
  {
   "cell_type": "code",
   "execution_count": 24,
   "metadata": {},
   "outputs": [],
   "source": [
    "for i in range(edge):\n",
    "    for j in range(edge):\n",
    "        particle = edge * i + j\n",
    "\n",
    "        right = j + 1\n",
    "        if right >= edge:\n",
    "            right = 0\n",
    "        neigh_right = edge * i + right\n",
    "\n",
    "        left = j - 1\n",
    "        if left < 0:\n",
    "            left = edge - 1\n",
    "        neigh_left = edge * i + left\n",
    "\n",
    "        top = i - 1\n",
    "        if top < 0:\n",
    "            top = edge - 1\n",
    "        neigh_top = edge * top + j\n",
    "\n",
    "        bot = i + 1\n",
    "        if bot >= edge:\n",
    "            bot = 0\n",
    "        neigh_bot = edge * bot + j\n",
    "\n",
    "        neighbors[particle] = {\n",
    "            \"top\": neigh_top,\n",
    "            \"left\": neigh_left,\n",
    "            \"bottom\": neigh_bot,\n",
    "            \"right\": neigh_right\n",
    "        }"
   ]
  },
  {
   "cell_type": "markdown",
   "metadata": {},
   "source": [
    "## 2. Determine to which process the particle belongs"
   ]
  },
  {
   "cell_type": "code",
   "execution_count": 25,
   "metadata": {},
   "outputs": [],
   "source": [
    "split = math.ceil(n / num_proc)\n",
    "for i in range(n):\n",
    "    part2proc[i] = i // split\n",
    "    proc2par[i // split].add(i)"
   ]
  },
  {
   "cell_type": "code",
   "execution_count": 26,
   "metadata": {},
   "outputs": [],
   "source": [
    "for proc in range(num_proc):\n",
    "    particles = proc2par[proc]\n",
    "    for p in particles:\n",
    "        for neighbor in neighbors[p].values():\n",
    "            p_exchange = part2proc[neighbor]\n",
    "            if p_exchange != proc:\n",
    "                exchanges[proc].add(p_exchange)\n"
   ]
  },
  {
   "cell_type": "markdown",
   "metadata": {},
   "source": [
    "## 3. Measure the metrics"
   ]
  },
  {
   "cell_type": "markdown",
   "metadata": {},
   "source": [
    "### 3.1. Average difference in num. particles"
   ]
  },
  {
   "cell_type": "code",
   "execution_count": 27,
   "metadata": {},
   "outputs": [
    {
     "data": {
      "text/plain": [
       "1.7142857142857142"
      ]
     },
     "execution_count": 27,
     "metadata": {},
     "output_type": "execute_result"
    }
   ],
   "source": [
    "diffs = []\n",
    "\n",
    "for p1 in range(num_proc):\n",
    "    for p2 in range(p1 + 1, num_proc):\n",
    "        diffs.append(abs(len(proc2par[p1]) - len(proc2par[p2])))\n",
    "\n",
    "mean_diff = sum(diffs) / len(diffs)\n",
    "\n",
    "mean_diff"
   ]
  },
  {
   "cell_type": "markdown",
   "metadata": {},
   "source": [
    "### 3.2. Average out communication"
   ]
  },
  {
   "cell_type": "code",
   "execution_count": 28,
   "metadata": {},
   "outputs": [
    {
     "data": {
      "text/plain": [
       "2.2857142857142856"
      ]
     },
     "execution_count": 28,
     "metadata": {},
     "output_type": "execute_result"
    }
   ],
   "source": [
    "comms = []\n",
    "\n",
    "for exchange in exchanges.values():\n",
    "    comms.append(len(exchange))\n",
    "\n",
    "mean_comm = sum(comms) / len(comms)\n",
    "\n",
    "mean_comm"
   ]
  },
  {
   "cell_type": "markdown",
   "metadata": {},
   "source": [
    "# Method 2"
   ]
  },
  {
   "cell_type": "code",
   "execution_count": 29,
   "metadata": {},
   "outputs": [],
   "source": [
    "part2proc = {}\n",
    "proc2par = defaultdict(set)\n",
    "neighbors = {}\n",
    "exchanges = defaultdict(set)"
   ]
  },
  {
   "cell_type": "markdown",
   "metadata": {},
   "source": [
    "## 1. Determine the neighbor of each particle"
   ]
  },
  {
   "cell_type": "code",
   "execution_count": 30,
   "metadata": {},
   "outputs": [],
   "source": [
    "for i in range(edge):\n",
    "    for j in range(edge):\n",
    "        particle = edge * i + j\n",
    "\n",
    "        right = j + 1\n",
    "        if right >= edge:\n",
    "            right = 0\n",
    "        neigh_right = edge * i + right\n",
    "\n",
    "        left = j - 1\n",
    "        if left < 0:\n",
    "            left = edge - 1\n",
    "        neigh_left = edge * i + left\n",
    "\n",
    "        top = i - 1\n",
    "        if top < 0:\n",
    "            top = edge - 1\n",
    "        neigh_top = edge * top + j\n",
    "\n",
    "        bot = i + 1\n",
    "        if bot >= edge:\n",
    "            bot = 0\n",
    "        neigh_bot = edge * bot + j\n",
    "\n",
    "        neighbors[particle] = {\n",
    "            \"top\": neigh_top,\n",
    "            \"left\": neigh_left,\n",
    "            \"bottom\": neigh_bot,\n",
    "            \"right\": neigh_right\n",
    "        }"
   ]
  },
  {
   "cell_type": "markdown",
   "metadata": {},
   "source": [
    "## 2. Determine to which process the particle belongs"
   ]
  },
  {
   "cell_type": "code",
   "execution_count": 31,
   "metadata": {},
   "outputs": [],
   "source": [
    "split = math.floor(edge / num_proc)\n",
    "\n",
    "for i in range(edge):\n",
    "    for j in range(edge):\n",
    "        particle = i * edge + j\n",
    "\n",
    "        if split > 0:\n",
    "            proc = min(i // split, num_proc - 1)\n",
    "        else:\n",
    "            proc = -1\n",
    "        part2proc[particle] = proc\n",
    "        proc2par[proc].add(particle)"
   ]
  },
  {
   "cell_type": "code",
   "execution_count": 32,
   "metadata": {},
   "outputs": [],
   "source": [
    "for proc in range(num_proc):\n",
    "    particles = proc2par[proc]\n",
    "    for p in particles:\n",
    "        for neighbor in neighbors[p].values():\n",
    "            p_exchange = part2proc[neighbor]\n",
    "            if p_exchange != proc:\n",
    "                exchanges[proc].add(p_exchange)\n"
   ]
  },
  {
   "cell_type": "markdown",
   "metadata": {},
   "source": [
    "## 3. Measure the metrics"
   ]
  },
  {
   "cell_type": "markdown",
   "metadata": {},
   "source": [
    "### 3.1. Average difference in num. particles"
   ]
  },
  {
   "cell_type": "code",
   "execution_count": 33,
   "metadata": {},
   "outputs": [
    {
     "data": {
      "text/plain": [
       "2.2857142857142856"
      ]
     },
     "execution_count": 33,
     "metadata": {},
     "output_type": "execute_result"
    }
   ],
   "source": [
    "if split == 0:\n",
    "    mean_diff = -1\n",
    "else:\n",
    "    diffs = []\n",
    "\n",
    "    for p1 in range(num_proc):\n",
    "        for p2 in range(p1 + 1, num_proc):\n",
    "            diffs.append(abs(len(proc2par[p1]) - len(proc2par[p2])))\n",
    "\n",
    "    mean_diff = sum(diffs) / len(diffs)\n",
    "\n",
    "mean_diff"
   ]
  },
  {
   "cell_type": "markdown",
   "metadata": {},
   "source": [
    "### 3.2. Average out communication"
   ]
  },
  {
   "cell_type": "code",
   "execution_count": 34,
   "metadata": {},
   "outputs": [
    {
     "data": {
      "text/plain": [
       "2.0"
      ]
     },
     "execution_count": 34,
     "metadata": {},
     "output_type": "execute_result"
    }
   ],
   "source": [
    "if split == 0:\n",
    "    mean_comm = -1\n",
    "else:\n",
    "    comms = []\n",
    "\n",
    "    for exchange in exchanges.values():\n",
    "        comms.append(len(exchange))\n",
    "\n",
    "    mean_comm = sum(comms) / len(comms)\n",
    "\n",
    "mean_comm"
   ]
  },
  {
   "cell_type": "markdown",
   "metadata": {},
   "source": [
    "# Method 1"
   ]
  },
  {
   "cell_type": "code",
   "execution_count": 35,
   "metadata": {},
   "outputs": [],
   "source": [
    "part2proc = {}\n",
    "proc2par = defaultdict(set)\n",
    "neighbors = {}\n",
    "exchanges = defaultdict(set)"
   ]
  },
  {
   "cell_type": "markdown",
   "metadata": {},
   "source": [
    "## 1. Determine the neighbor of each particle"
   ]
  },
  {
   "cell_type": "code",
   "execution_count": 36,
   "metadata": {},
   "outputs": [],
   "source": [
    "for i in range(edge):\n",
    "    for j in range(edge):\n",
    "        particle = edge * i + j\n",
    "\n",
    "        right = j + 1\n",
    "        if right >= edge:\n",
    "            right = 0\n",
    "        neigh_right = edge * i + right\n",
    "\n",
    "        left = j - 1\n",
    "        if left < 0:\n",
    "            left = edge - 1\n",
    "        neigh_left = edge * i + left\n",
    "\n",
    "        top = i - 1\n",
    "        if top < 0:\n",
    "            top = edge - 1\n",
    "        neigh_top = edge * top + j\n",
    "\n",
    "        bot = i + 1\n",
    "        if bot >= edge:\n",
    "            bot = 0\n",
    "        neigh_bot = edge * bot + j\n",
    "\n",
    "        neighbors[particle] = {\n",
    "            \"top\": neigh_top,\n",
    "            \"left\": neigh_left,\n",
    "            \"bottom\": neigh_bot,\n",
    "            \"right\": neigh_right\n",
    "        }"
   ]
  },
  {
   "cell_type": "markdown",
   "metadata": {},
   "source": [
    "## 2. Determine to which process the particle belongs"
   ]
  },
  {
   "cell_type": "code",
   "execution_count": 37,
   "metadata": {},
   "outputs": [],
   "source": [
    "def find_ab(n: int):\n",
    "    def _find_ab(n: int):\n",
    "        a = math.floor(math.sqrt(n))\n",
    "        while math.floor(n / a) * a != n and a > 1:\n",
    "            a -= 1\n",
    "\n",
    "        b = n // a\n",
    "\n",
    "        return a, b\n",
    "\n",
    "    if n % 2 != 0:\n",
    "        a, b = _find_ab(n)\n",
    "        if a != 1:\n",
    "            return a, b, False\n",
    "        else:\n",
    "            return *_find_ab(n - 1), True\n",
    "    else:\n",
    "        return *_find_ab(n), False\n",
    "\n",
    "a, b, is_redundant = find_ab(num_proc)\n",
    "\n",
    "if is_redundant is True:\n",
    "    split_i, split_j = math.ceil(edge / (a + 1)), math.ceil(edge / b)\n",
    "else:\n",
    "    split_i, split_j = math.ceil(edge / a), math.ceil(edge / b)\n",
    "\n",
    "# Normal processes\n",
    "for i in range(edge):\n",
    "    for j in range(edge):\n",
    "        particle = i * edge + j\n",
    "\n",
    "        if i // split_i >= a:\n",
    "            # In odd process region\n",
    "            proc = num_proc - 1\n",
    "        else:\n",
    "            j_proc = j // split_j\n",
    "            i_proc = i // split_i\n",
    "            proc = i_proc * (a + 1) + j_proc\n",
    "\n",
    "        part2proc[particle] = proc\n",
    "        proc2par[proc].add(particle)"
   ]
  },
  {
   "cell_type": "code",
   "execution_count": 38,
   "metadata": {},
   "outputs": [
    {
     "name": "stdout",
     "output_type": "stream",
     "text": [
      "  0  0  0  1  1  1  2  2\n",
      "  0  0  0  1  1  1  2  2\n",
      "  0  0  0  1  1  1  2  2\n",
      "  3  3  3  4  4  4  5  5\n",
      "  3  3  3  4  4  4  5  5\n",
      "  3  3  3  4  4  4  5  5\n",
      "  6  6  6  6  6  6  6  6\n",
      "  6  6  6  6  6  6  6  6\n"
     ]
    }
   ],
   "source": [
    "for i in range(edge):\n",
    "    for j in range(edge):\n",
    "        parID = i * edge + j\n",
    "        proc = part2proc[parID]\n",
    "\n",
    "        print(f\"{proc:3d}\", end='')\n",
    "        if j == edge - 1:\n",
    "            print()"
   ]
  },
  {
   "cell_type": "code",
   "execution_count": 39,
   "metadata": {},
   "outputs": [],
   "source": [
    "for proc in range(num_proc):\n",
    "    particles = proc2par[proc]\n",
    "    for p in particles:\n",
    "        for neighbor in neighbors[p].values():\n",
    "            p_exchange = part2proc[neighbor]\n",
    "            if p_exchange != proc:\n",
    "                exchanges[proc].add(p_exchange)\n"
   ]
  },
  {
   "cell_type": "markdown",
   "metadata": {},
   "source": [
    "## 3. Measure the metrics"
   ]
  },
  {
   "cell_type": "markdown",
   "metadata": {},
   "source": [
    "### 3.1. Average difference in num. particles"
   ]
  },
  {
   "cell_type": "code",
   "execution_count": 40,
   "metadata": {},
   "outputs": [
    {
     "data": {
      "text/plain": [
       "3.4285714285714284"
      ]
     },
     "execution_count": 40,
     "metadata": {},
     "output_type": "execute_result"
    }
   ],
   "source": [
    "diffs = []\n",
    "\n",
    "for p1 in range(num_proc):\n",
    "    for p2 in range(p1 + 1, num_proc):\n",
    "        diffs.append(abs(len(proc2par[p1]) - len(proc2par[p2])))\n",
    "\n",
    "mean_diff = sum(diffs) / len(diffs)\n",
    "\n",
    "mean_diff"
   ]
  },
  {
   "cell_type": "markdown",
   "metadata": {},
   "source": [
    "### 3.2. Average out communication"
   ]
  },
  {
   "cell_type": "code",
   "execution_count": 41,
   "metadata": {},
   "outputs": [
    {
     "data": {
      "text/plain": [
       "4.285714285714286"
      ]
     },
     "execution_count": 41,
     "metadata": {},
     "output_type": "execute_result"
    }
   ],
   "source": [
    "comms = []\n",
    "\n",
    "for exchange in exchanges.values():\n",
    "    comms.append(len(exchange))\n",
    "\n",
    "mean_comm = sum(comms) / len(comms)\n",
    "\n",
    "mean_comm"
   ]
  }
 ],
 "metadata": {
  "kernelspec": {
   "display_name": "py",
   "language": "python",
   "name": "python3"
  },
  "language_info": {
   "codemirror_mode": {
    "name": "ipython",
    "version": 3
   },
   "file_extension": ".py",
   "mimetype": "text/x-python",
   "name": "python",
   "nbconvert_exporter": "python",
   "pygments_lexer": "ipython3",
   "version": "3.10.13"
  }
 },
 "nbformat": 4,
 "nbformat_minor": 2
}
