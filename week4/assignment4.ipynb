{
 "cells": [
  {
   "cell_type": "markdown",
   "metadata": {
    "collapsed": false,
    "pycharm": {
     "name": "#%% md\n"
    }
   },
   "source": [
    "### Acknowledgement\n",
    "This code is derived from the template made up from work of Xinyang Chen"
   ]
  },
  {
   "cell_type": "code",
   "execution_count": 1,
   "metadata": {},
   "outputs": [
    {
     "name": "stdout",
     "output_type": "stream",
     "text": [
      "/Users/macos/Uni/1st_year/period_2/RecSys/hw\n"
     ]
    }
   ],
   "source": [
    "%cd ../"
   ]
  },
  {
   "cell_type": "code",
   "execution_count": 2,
   "metadata": {
    "collapsed": false,
    "pycharm": {
     "name": "#%%\n"
    }
   },
   "outputs": [],
   "source": [
    "from typing import Union\n",
    "from itertools import product\n",
    "\n",
    "import pandas as pd\n",
    "import numpy as np\n",
    "from tqdm.contrib.itertools import product\n",
    "from tqdm.notebook import tqdm\n",
    "from sklearn.metrics import mean_squared_error"
   ]
  },
  {
   "cell_type": "markdown",
   "metadata": {},
   "source": [
    "# Load data"
   ]
  },
  {
   "cell_type": "code",
   "execution_count": 3,
   "metadata": {},
   "outputs": [],
   "source": [
    "path_train = \"data_split/train.csv\"\n",
    "path_val = \"data_split/validation.csv\"\n",
    "path_test = \"data_split/test.csv\"\n",
    "path_tag = \"dataset/tags.csv\""
   ]
  },
  {
   "cell_type": "code",
   "execution_count": 4,
   "metadata": {
    "pycharm": {
     "name": "#%%\n"
    }
   },
   "outputs": [],
   "source": [
    "# using the provided split\n",
    "\n",
    "df_train = pd.read_csv(path_train)\n",
    "df_val = pd.read_csv(path_val)\n",
    "df_test = pd.read_csv(path_test)\n",
    "df_tag = pd.read_csv(path_tag)\n",
    "\n",
    "df_trainval = pd.concat([df_train, df_val])\n",
    "\n",
    "df_all = pd.concat([df_trainval, df_test])"
   ]
  },
  {
   "cell_type": "code",
   "execution_count": 5,
   "metadata": {
    "pycharm": {
     "name": "#%%\n"
    }
   },
   "outputs": [
    {
     "name": "stdout",
     "output_type": "stream",
     "text": [
      "User id: 655, number of ratings: 60\n"
     ]
    }
   ],
   "source": [
    "# picking a user for testing\n",
    "user_sample_id = list(df_trainval['user_id'].unique())[0]\n",
    "user_sample_items = df_test[df_test['user_id'] == user_sample_id]\n",
    "print(f\"User id: {user_sample_id}, number of ratings: {len(user_sample_items)}\")"
   ]
  },
  {
   "cell_type": "markdown",
   "metadata": {},
   "source": [
    "# Task 1: Define models"
   ]
  },
  {
   "cell_type": "code",
   "execution_count": 6,
   "metadata": {
    "pycharm": {
     "name": "#%%\n"
    }
   },
   "outputs": [
    {
     "data": {
      "text/html": [
       "<div>\n",
       "<style scoped>\n",
       "    .dataframe tbody tr th:only-of-type {\n",
       "        vertical-align: middle;\n",
       "    }\n",
       "\n",
       "    .dataframe tbody tr th {\n",
       "        vertical-align: top;\n",
       "    }\n",
       "\n",
       "    .dataframe thead th {\n",
       "        text-align: right;\n",
       "    }\n",
       "</style>\n",
       "<table border=\"1\" class=\"dataframe\">\n",
       "  <thead>\n",
       "    <tr style=\"text-align: right;\">\n",
       "      <th></th>\n",
       "      <th>item_id</th>\n",
       "      <th>user_id</th>\n",
       "      <th>rating</th>\n",
       "      <th>score</th>\n",
       "    </tr>\n",
       "  </thead>\n",
       "  <tbody>\n",
       "    <tr>\n",
       "      <th>52</th>\n",
       "      <td>356</td>\n",
       "      <td>655</td>\n",
       "      <td>4.5</td>\n",
       "      <td>232</td>\n",
       "    </tr>\n",
       "    <tr>\n",
       "      <th>55</th>\n",
       "      <td>608</td>\n",
       "      <td>655</td>\n",
       "      <td>4.5</td>\n",
       "      <td>156</td>\n",
       "    </tr>\n",
       "    <tr>\n",
       "      <th>6</th>\n",
       "      <td>4973</td>\n",
       "      <td>655</td>\n",
       "      <td>4.0</td>\n",
       "      <td>147</td>\n",
       "    </tr>\n",
       "    <tr>\n",
       "      <th>59</th>\n",
       "      <td>7361</td>\n",
       "      <td>655</td>\n",
       "      <td>4.5</td>\n",
       "      <td>146</td>\n",
       "    </tr>\n",
       "    <tr>\n",
       "      <th>34</th>\n",
       "      <td>4995</td>\n",
       "      <td>655</td>\n",
       "      <td>4.0</td>\n",
       "      <td>144</td>\n",
       "    </tr>\n",
       "  </tbody>\n",
       "</table>\n",
       "</div>"
      ],
      "text/plain": [
       "    item_id  user_id  rating  score\n",
       "52      356      655     4.5    232\n",
       "55      608      655     4.5    156\n",
       "6      4973      655     4.0    147\n",
       "59     7361      655     4.5    146\n",
       "34     4995      655     4.0    144"
      ]
     },
     "execution_count": 6,
     "metadata": {},
     "output_type": "execute_result"
    }
   ],
   "source": [
    "class POP:\n",
    "    def __init__(self, df):\n",
    "        pop = df.item_id.value_counts().reset_index()\n",
    "        pop.columns = [\"item_id\", \"score\"]\n",
    "        self.pop = pop\n",
    "\n",
    "    def getScores(self, items, user_id):\n",
    "        # if the item doesn't appear in the df_trainval set, the score of 0 is assigned to it\n",
    "        return pd.merge(items, self.pop, how='left', on='item_id').fillna(0)\n",
    "\n",
    "# testing the model with one user\n",
    "pop = POP(df_trainval)\n",
    "pop.getScores(user_sample_items, user_sample_id).sort_values('score', ascending=False).head()"
   ]
  },
  {
   "cell_type": "code",
   "execution_count": 7,
   "metadata": {
    "pycharm": {
     "name": "#%%\n"
    }
   },
   "outputs": [
    {
     "data": {
      "text/html": [
       "<div>\n",
       "<style scoped>\n",
       "    .dataframe tbody tr th:only-of-type {\n",
       "        vertical-align: middle;\n",
       "    }\n",
       "\n",
       "    .dataframe tbody tr th {\n",
       "        vertical-align: top;\n",
       "    }\n",
       "\n",
       "    .dataframe thead th {\n",
       "        text-align: right;\n",
       "    }\n",
       "</style>\n",
       "<table border=\"1\" class=\"dataframe\">\n",
       "  <thead>\n",
       "    <tr style=\"text-align: right;\">\n",
       "      <th></th>\n",
       "      <th>item_id</th>\n",
       "      <th>user_id</th>\n",
       "      <th>rating</th>\n",
       "      <th>score</th>\n",
       "    </tr>\n",
       "  </thead>\n",
       "  <tbody>\n",
       "    <tr>\n",
       "      <th>17</th>\n",
       "      <td>5995</td>\n",
       "      <td>655</td>\n",
       "      <td>3.5</td>\n",
       "      <td>8236</td>\n",
       "    </tr>\n",
       "    <tr>\n",
       "      <th>36</th>\n",
       "      <td>51540</td>\n",
       "      <td>655</td>\n",
       "      <td>4.0</td>\n",
       "      <td>8187</td>\n",
       "    </tr>\n",
       "    <tr>\n",
       "      <th>46</th>\n",
       "      <td>6586</td>\n",
       "      <td>655</td>\n",
       "      <td>3.0</td>\n",
       "      <td>8142</td>\n",
       "    </tr>\n",
       "    <tr>\n",
       "      <th>37</th>\n",
       "      <td>45672</td>\n",
       "      <td>655</td>\n",
       "      <td>3.5</td>\n",
       "      <td>8101</td>\n",
       "    </tr>\n",
       "    <tr>\n",
       "      <th>12</th>\n",
       "      <td>68237</td>\n",
       "      <td>655</td>\n",
       "      <td>4.5</td>\n",
       "      <td>7982</td>\n",
       "    </tr>\n",
       "  </tbody>\n",
       "</table>\n",
       "</div>"
      ],
      "text/plain": [
       "    item_id  user_id  rating  score\n",
       "17     5995      655     3.5   8236\n",
       "36    51540      655     4.0   8187\n",
       "46     6586      655     3.0   8142\n",
       "37    45672      655     3.5   8101\n",
       "12    68237      655     4.5   7982"
      ]
     },
     "execution_count": 7,
     "metadata": {},
     "output_type": "execute_result"
    }
   ],
   "source": [
    "class RND:\n",
    "    def __init__(self, df):\n",
    "        item_id_set = set(df.item_id.unique())\n",
    "        rnd = pd.DataFrame(item_id_set)\n",
    "        rnd.columns = [\"item_id\"]\n",
    "        rnd = rnd.sample(frac=1)\n",
    "        rnd[\"score\"] = range(len(rnd))\n",
    "        self.rnd = rnd\n",
    "\n",
    "    def getScores(self, items, user_id):\n",
    "        return pd.merge(items, self.rnd, how='left', on='item_id').fillna(0)\n",
    "\n",
    "# testing the model with one user\n",
    "rnd = RND(df_trainval)\n",
    "rnd.getScores(user_sample_items, user_sample_id).sort_values('score', ascending=False).head()"
   ]
  },
  {
   "cell_type": "code",
   "execution_count": 8,
   "metadata": {},
   "outputs": [
    {
     "data": {
      "text/html": [
       "<div>\n",
       "<style scoped>\n",
       "    .dataframe tbody tr th:only-of-type {\n",
       "        vertical-align: middle;\n",
       "    }\n",
       "\n",
       "    .dataframe tbody tr th {\n",
       "        vertical-align: top;\n",
       "    }\n",
       "\n",
       "    .dataframe thead th {\n",
       "        text-align: right;\n",
       "    }\n",
       "</style>\n",
       "<table border=\"1\" class=\"dataframe\">\n",
       "  <thead>\n",
       "    <tr style=\"text-align: right;\">\n",
       "      <th></th>\n",
       "      <th>item_id</th>\n",
       "      <th>user_id</th>\n",
       "      <th>rating</th>\n",
       "      <th>score</th>\n",
       "    </tr>\n",
       "  </thead>\n",
       "  <tbody>\n",
       "    <tr>\n",
       "      <th>12</th>\n",
       "      <td>68237</td>\n",
       "      <td>655</td>\n",
       "      <td>4.5</td>\n",
       "      <td>0.501649</td>\n",
       "    </tr>\n",
       "    <tr>\n",
       "      <th>59</th>\n",
       "      <td>7361</td>\n",
       "      <td>655</td>\n",
       "      <td>4.5</td>\n",
       "      <td>0.426272</td>\n",
       "    </tr>\n",
       "    <tr>\n",
       "      <th>19</th>\n",
       "      <td>101864</td>\n",
       "      <td>655</td>\n",
       "      <td>3.5</td>\n",
       "      <td>0.369606</td>\n",
       "    </tr>\n",
       "    <tr>\n",
       "      <th>57</th>\n",
       "      <td>60069</td>\n",
       "      <td>655</td>\n",
       "      <td>4.0</td>\n",
       "      <td>0.369593</td>\n",
       "    </tr>\n",
       "    <tr>\n",
       "      <th>32</th>\n",
       "      <td>43928</td>\n",
       "      <td>655</td>\n",
       "      <td>2.0</td>\n",
       "      <td>0.325154</td>\n",
       "    </tr>\n",
       "  </tbody>\n",
       "</table>\n",
       "</div>"
      ],
      "text/plain": [
       "    item_id  user_id  rating     score\n",
       "12    68237      655     4.5  0.501649\n",
       "59     7361      655     4.5  0.426272\n",
       "19   101864      655     3.5  0.369606\n",
       "57    60069      655     4.0  0.369593\n",
       "32    43928      655     2.0  0.325154"
      ]
     },
     "execution_count": 8,
     "metadata": {},
     "output_type": "execute_result"
    }
   ],
   "source": [
    "class CF:\n",
    "    def __init__(\n",
    "        self,\n",
    "        df_rating: pd.DataFrame,\n",
    "        df_tag: pd.DataFrame,\n",
    "        eps: float = 1e-6\n",
    "    ) -> None:\n",
    "        self._eps = eps\n",
    "        self.df_rating = df_rating\n",
    "        self.df_tag = df_tag.pivot(index='item_id', columns='tag', values='num').fillna(0)\n",
    "        \n",
    "        self.idf: Union[pd.DataFrame, None] = None\n",
    "        self.tfidf_items: Union[pd.DataFrame, None] = None\n",
    "        self.tfidf_users: Union[pd.DataFrame, None] = None\n",
    "\n",
    "        self._init_df()\n",
    "\n",
    "    def _init_df(self):\n",
    "        # Calculate tf-idf for movies\n",
    "        self.tfidf_items = self.df_tag.copy()\n",
    "        self.tfidf_items.loc[:, :] = self._calc_tfidf(self.df_tag)\n",
    "\n",
    "        # Calculate tf-idf for users\n",
    "        tags = self.df_tag.columns\n",
    "\n",
    "        self.tfidf_users = self.df_rating.merge(right=self.df_tag, how='left', on='item_id').groupby('user_id')[tags].sum()\n",
    "        matrix_tag_user = self.tfidf_users.to_numpy()\n",
    "        tf_user = matrix_tag_user / matrix_tag_user.sum(axis=1)[:, None]\n",
    "        self.tfidf_users.loc[:] = tf_user * self.idf\n",
    "        \n",
    "\n",
    "    def _calc_tfidf(self, df: pd.DataFrame):\n",
    "        tag_matrix = df.to_numpy()\n",
    "        if self.idf is None:\n",
    "            self.idf = np.log(len(tag_matrix) / np.sum(tag_matrix != 0, axis=0))[None, :]\n",
    "        tf = tag_matrix /  tag_matrix.sum(axis=1)[:, None]\n",
    "        tfidf = tf * self.idf\n",
    "\n",
    "        return tfidf\n",
    "    \n",
    "    def _calc_sim_cosine(self, vec_user: np.ndarray, vecs_items: np.ndarray) -> np.ndarray:\n",
    "        similarity = vec_user @ vecs_items.T / (np.linalg.norm(vec_user, axis=-1) * np.linalg.norm(vecs_items, axis=-1) + self._eps)\n",
    "\n",
    "        return similarity\n",
    "\n",
    "    def getScores(self, items: pd.DataFrame, user_id: int):\n",
    "        # Retrieve tf-idf for user\n",
    "        vec_user = self.tfidf_users.loc[user_id].to_numpy()\n",
    "\n",
    "        # Retrieve or calculate tf-idf for movies in 'items'\n",
    "        vecs_items = items.merge(self.tfidf_items, how='left', on='item_id') \\\n",
    "            [self.tfidf_items.columns] \\\n",
    "            .fillna(0) \\\n",
    "            .to_numpy()\n",
    "\n",
    "        # Get sim\n",
    "        sim = self._calc_sim_cosine(vec_user, vecs_items)\n",
    "\n",
    "        items = items.copy()\n",
    "        items['score'] = sim\n",
    "\n",
    "        return items\n",
    "    \n",
    "# testing the model with one user\n",
    "cf = CF(df_trainval, df_tag, 0)\n",
    "cf.getScores(user_sample_items, user_sample_id).sort_values('score', ascending=False).head()"
   ]
  },
  {
   "cell_type": "markdown",
   "metadata": {},
   "source": [
    "# Define metric"
   ]
  },
  {
   "cell_type": "code",
   "execution_count": 9,
   "metadata": {
    "pycharm": {
     "name": "#%%\n"
    }
   },
   "outputs": [
    {
     "data": {
      "text/plain": [
       "0.8414831617177216"
      ]
     },
     "execution_count": 9,
     "metadata": {},
     "output_type": "execute_result"
    }
   ],
   "source": [
    "NEG_SAMPLES = 100\n",
    "AT = 5\n",
    "\n",
    "def ncdg(df: pd.DataFrame, topn):\n",
    "    '''\n",
    "    len(predicted), len(truth) >= topn\n",
    "    '''\n",
    "    dcg = (\n",
    "        df\n",
    "        .sort_values('score', ascending=False)\n",
    "        .head(topn)['rating']\n",
    "        / np.log2(np.arange(2, topn + 2))       # Discount rate: 0 +1 -> rank +1 -> discount rate\n",
    "    ).cumsum().tail(1).values[0]\n",
    "    idcg = (\n",
    "        df\n",
    "        .sort_values('rating', ascending=False)\n",
    "        .head(topn)['rating']\n",
    "        / np.log2(np.arange(2, topn + 2))           # Discount rate\n",
    "    ).cumsum().tail(1).values[0]\n",
    "    return dcg / idcg\n",
    "\n",
    "# testing ndcg\n",
    "ncdg(cf.getScores(user_sample_items, user_sample_id), 5)"
   ]
  },
  {
   "cell_type": "markdown",
   "metadata": {},
   "source": [
    "# Task 2: Algorithm evaluation"
   ]
  },
  {
   "cell_type": "code",
   "execution_count": 10,
   "metadata": {
    "pycharm": {
     "name": "#%%\n"
    }
   },
   "outputs": [
    {
     "data": {
      "text/html": [
       "<div>\n",
       "<style scoped>\n",
       "    .dataframe tbody tr th:only-of-type {\n",
       "        vertical-align: middle;\n",
       "    }\n",
       "\n",
       "    .dataframe tbody tr th {\n",
       "        vertical-align: top;\n",
       "    }\n",
       "\n",
       "    .dataframe thead th {\n",
       "        text-align: right;\n",
       "    }\n",
       "</style>\n",
       "<table border=\"1\" class=\"dataframe\">\n",
       "  <thead>\n",
       "    <tr style=\"text-align: right;\">\n",
       "      <th></th>\n",
       "      <th>popular_ndcg5</th>\n",
       "      <th>random_ndcg5</th>\n",
       "      <th>cf_ndcg5</th>\n",
       "    </tr>\n",
       "  </thead>\n",
       "  <tbody>\n",
       "    <tr>\n",
       "      <th>count</th>\n",
       "      <td>446.000000</td>\n",
       "      <td>446.000000</td>\n",
       "      <td>446.000000</td>\n",
       "    </tr>\n",
       "    <tr>\n",
       "      <th>mean</th>\n",
       "      <td>0.752589</td>\n",
       "      <td>0.195247</td>\n",
       "      <td>0.647467</td>\n",
       "    </tr>\n",
       "    <tr>\n",
       "      <th>std</th>\n",
       "      <td>0.190303</td>\n",
       "      <td>0.194281</td>\n",
       "      <td>0.222589</td>\n",
       "    </tr>\n",
       "    <tr>\n",
       "      <th>min</th>\n",
       "      <td>0.000000</td>\n",
       "      <td>0.000000</td>\n",
       "      <td>0.000000</td>\n",
       "    </tr>\n",
       "    <tr>\n",
       "      <th>25%</th>\n",
       "      <td>0.667598</td>\n",
       "      <td>0.000000</td>\n",
       "      <td>0.539108</td>\n",
       "    </tr>\n",
       "    <tr>\n",
       "      <th>50%</th>\n",
       "      <td>0.795156</td>\n",
       "      <td>0.151177</td>\n",
       "      <td>0.695669</td>\n",
       "    </tr>\n",
       "    <tr>\n",
       "      <th>75%</th>\n",
       "      <td>0.888878</td>\n",
       "      <td>0.311344</td>\n",
       "      <td>0.809877</td>\n",
       "    </tr>\n",
       "    <tr>\n",
       "      <th>max</th>\n",
       "      <td>1.000000</td>\n",
       "      <td>0.818055</td>\n",
       "      <td>1.000000</td>\n",
       "    </tr>\n",
       "  </tbody>\n",
       "</table>\n",
       "</div>"
      ],
      "text/plain": [
       "       popular_ndcg5  random_ndcg5    cf_ndcg5\n",
       "count     446.000000    446.000000  446.000000\n",
       "mean        0.752589      0.195247    0.647467\n",
       "std         0.190303      0.194281    0.222589\n",
       "min         0.000000      0.000000    0.000000\n",
       "25%         0.667598      0.000000    0.539108\n",
       "50%         0.795156      0.151177    0.695669\n",
       "75%         0.888878      0.311344    0.809877\n",
       "max         1.000000      0.818055    1.000000"
      ]
     },
     "execution_count": 10,
     "metadata": {},
     "output_type": "execute_result"
    }
   ],
   "source": [
    "performance = []\n",
    "all_items = df_all['item_id'].unique()\n",
    "\n",
    "\n",
    "# training models\n",
    "pop = POP(df_trainval)\n",
    "rnd = RND(df_trainval)\n",
    "cf = CF(df_trainval, df_tag)\n",
    "\n",
    "# evaluating models\n",
    "for user in df_test['user_id'].unique():\n",
    "    pos_items = df_all[df_all['user_id'] == user]['item_id'].unique()\n",
    "    neg_samples = np.random.choice(\n",
    "        all_items[~np.isin(all_items, pos_items)],\n",
    "        NEG_SAMPLES,\n",
    "        replace=False\n",
    "    )\n",
    "    \n",
    "    user_test_samples = df_test[df_test['user_id'] == user][['item_id', 'rating']]\n",
    "    user_neg_samples = pd.DataFrame(\n",
    "        [(smp, 0.0) for smp in neg_samples],\n",
    "        columns=['item_id', 'rating']\n",
    "    )\n",
    "    items = pd.concat([user_test_samples, user_neg_samples])\n",
    "\n",
    "    pop_scores = pop.getScores(items, user)\n",
    "    rand_scores = rnd.getScores(items, user)\n",
    "    cf_scores = cf.getScores(items, user)\n",
    "\n",
    "    performance.append((user, ncdg(pop_scores, AT), ncdg(rand_scores, AT), ncdg(cf_scores, AT)))\n",
    "\n",
    "performance = pd.DataFrame(performance, columns=['user_id', 'popular_ndcg5', 'random_ndcg5', 'cf_ndcg5'])\n",
    "performance[['popular_ndcg5', 'random_ndcg5', 'cf_ndcg5']].describe()"
   ]
  },
  {
   "cell_type": "code",
   "execution_count": 11,
   "metadata": {
    "pycharm": {
     "name": "#%%\n"
    }
   },
   "outputs": [
    {
     "name": "stdout",
     "output_type": "stream",
     "text": [
      "Popular           : \tNDCG@5= 0.75258903874485\n",
      "Random            : \tNDCG@5= 0.19524671112433006\n",
      "Content Filtering : \tNDCG@5= 0.6474672721746214\n"
     ]
    }
   ],
   "source": [
    "print(\"Popular           : \\tNDCG@5=\", performance['popular_ndcg5'].mean())\n",
    "print(\"Random            : \\tNDCG@5=\", performance['random_ndcg5'].mean())\n",
    "print(\"Content Filtering : \\tNDCG@5=\", performance['cf_ndcg5'].mean())"
   ]
  },
  {
   "cell_type": "markdown",
   "metadata": {},
   "source": [
    "# Task 3: Recommendation exploration"
   ]
  },
  {
   "cell_type": "code",
   "execution_count": 12,
   "metadata": {},
   "outputs": [],
   "source": [
    "user_id = 655"
   ]
  },
  {
   "cell_type": "code",
   "execution_count": 21,
   "metadata": {},
   "outputs": [
    {
     "data": {
      "text/html": [
       "<div>\n",
       "<style scoped>\n",
       "    .dataframe tbody tr th:only-of-type {\n",
       "        vertical-align: middle;\n",
       "    }\n",
       "\n",
       "    .dataframe tbody tr th {\n",
       "        vertical-align: top;\n",
       "    }\n",
       "\n",
       "    .dataframe thead th {\n",
       "        text-align: right;\n",
       "    }\n",
       "</style>\n",
       "<table border=\"1\" class=\"dataframe\">\n",
       "  <thead>\n",
       "    <tr style=\"text-align: right;\">\n",
       "      <th></th>\n",
       "      <th>item_id</th>\n",
       "      <th>user_id</th>\n",
       "      <th>rating</th>\n",
       "    </tr>\n",
       "  </thead>\n",
       "  <tbody>\n",
       "    <tr>\n",
       "      <th>0</th>\n",
       "      <td>2804</td>\n",
       "      <td>655</td>\n",
       "      <td>4.5</td>\n",
       "    </tr>\n",
       "    <tr>\n",
       "      <th>1</th>\n",
       "      <td>5957</td>\n",
       "      <td>655</td>\n",
       "      <td>3.0</td>\n",
       "    </tr>\n",
       "    <tr>\n",
       "      <th>2</th>\n",
       "      <td>1213</td>\n",
       "      <td>655</td>\n",
       "      <td>4.5</td>\n",
       "    </tr>\n",
       "    <tr>\n",
       "      <th>3</th>\n",
       "      <td>134130</td>\n",
       "      <td>655</td>\n",
       "      <td>4.0</td>\n",
       "    </tr>\n",
       "    <tr>\n",
       "      <th>4</th>\n",
       "      <td>5065</td>\n",
       "      <td>655</td>\n",
       "      <td>3.0</td>\n",
       "    </tr>\n",
       "    <tr>\n",
       "      <th>...</th>\n",
       "      <td>...</td>\n",
       "      <td>...</td>\n",
       "      <td>...</td>\n",
       "    </tr>\n",
       "    <tr>\n",
       "      <th>56</th>\n",
       "      <td>8981</td>\n",
       "      <td>655</td>\n",
       "      <td>3.5</td>\n",
       "    </tr>\n",
       "    <tr>\n",
       "      <th>57</th>\n",
       "      <td>2001</td>\n",
       "      <td>655</td>\n",
       "      <td>4.0</td>\n",
       "    </tr>\n",
       "    <tr>\n",
       "      <th>58</th>\n",
       "      <td>3175</td>\n",
       "      <td>655</td>\n",
       "      <td>4.5</td>\n",
       "    </tr>\n",
       "    <tr>\n",
       "      <th>59</th>\n",
       "      <td>61240</td>\n",
       "      <td>655</td>\n",
       "      <td>4.5</td>\n",
       "    </tr>\n",
       "    <tr>\n",
       "      <th>60</th>\n",
       "      <td>1513</td>\n",
       "      <td>655</td>\n",
       "      <td>3.5</td>\n",
       "    </tr>\n",
       "  </tbody>\n",
       "</table>\n",
       "<p>244 rows × 3 columns</p>\n",
       "</div>"
      ],
      "text/plain": [
       "    item_id  user_id  rating\n",
       "0      2804      655     4.5\n",
       "1      5957      655     3.0\n",
       "2      1213      655     4.5\n",
       "3    134130      655     4.0\n",
       "4      5065      655     3.0\n",
       "..      ...      ...     ...\n",
       "56     8981      655     3.5\n",
       "57     2001      655     4.0\n",
       "58     3175      655     4.5\n",
       "59    61240      655     4.5\n",
       "60     1513      655     3.5\n",
       "\n",
       "[244 rows x 3 columns]"
      ]
     },
     "execution_count": 21,
     "metadata": {},
     "output_type": "execute_result"
    }
   ],
   "source": [
    "df_trainval[\n",
    "    (df_trainval['user_id'] == user_id) \n",
    "    # & (df_trainval['item_id'] == 296)\n",
    "]"
   ]
  },
  {
   "cell_type": "code",
   "execution_count": 22,
   "metadata": {},
   "outputs": [
    {
     "data": {
      "text/html": [
       "<div>\n",
       "<style scoped>\n",
       "    .dataframe tbody tr th:only-of-type {\n",
       "        vertical-align: middle;\n",
       "    }\n",
       "\n",
       "    .dataframe tbody tr th {\n",
       "        vertical-align: top;\n",
       "    }\n",
       "\n",
       "    .dataframe thead th {\n",
       "        text-align: right;\n",
       "    }\n",
       "</style>\n",
       "<table border=\"1\" class=\"dataframe\">\n",
       "  <thead>\n",
       "    <tr style=\"text-align: right;\">\n",
       "      <th></th>\n",
       "      <th>item_id</th>\n",
       "      <th>rating</th>\n",
       "      <th>score</th>\n",
       "    </tr>\n",
       "  </thead>\n",
       "  <tbody>\n",
       "    <tr>\n",
       "      <th>0</th>\n",
       "      <td>2804</td>\n",
       "      <td>4.5</td>\n",
       "      <td>0.058747</td>\n",
       "    </tr>\n",
       "    <tr>\n",
       "      <th>1</th>\n",
       "      <td>5957</td>\n",
       "      <td>3.0</td>\n",
       "      <td>0.165833</td>\n",
       "    </tr>\n",
       "    <tr>\n",
       "      <th>2</th>\n",
       "      <td>1213</td>\n",
       "      <td>4.5</td>\n",
       "      <td>0.360997</td>\n",
       "    </tr>\n",
       "    <tr>\n",
       "      <th>3</th>\n",
       "      <td>134130</td>\n",
       "      <td>4.0</td>\n",
       "      <td>0.019734</td>\n",
       "    </tr>\n",
       "    <tr>\n",
       "      <th>4</th>\n",
       "      <td>5065</td>\n",
       "      <td>3.0</td>\n",
       "      <td>0.001669</td>\n",
       "    </tr>\n",
       "  </tbody>\n",
       "</table>\n",
       "</div>"
      ],
      "text/plain": [
       "   item_id  rating     score\n",
       "0     2804     4.5  0.058747\n",
       "1     5957     3.0  0.165833\n",
       "2     1213     4.5  0.360997\n",
       "3   134130     4.0  0.019734\n",
       "4     5065     3.0  0.001669"
      ]
     },
     "execution_count": 22,
     "metadata": {},
     "output_type": "execute_result"
    }
   ],
   "source": [
    "items = df_trainval[df_trainval['user_id'] == user_id][['item_id', 'rating']]\n",
    "cf_scores = cf.getScores(items, user)\n",
    "\n",
    "cf_scores.head()"
   ]
  },
  {
   "cell_type": "code",
   "execution_count": 23,
   "metadata": {},
   "outputs": [
    {
     "data": {
      "text/html": [
       "<div>\n",
       "<style scoped>\n",
       "    .dataframe tbody tr th:only-of-type {\n",
       "        vertical-align: middle;\n",
       "    }\n",
       "\n",
       "    .dataframe tbody tr th {\n",
       "        vertical-align: top;\n",
       "    }\n",
       "\n",
       "    .dataframe thead th {\n",
       "        text-align: right;\n",
       "    }\n",
       "</style>\n",
       "<table border=\"1\" class=\"dataframe\">\n",
       "  <thead>\n",
       "    <tr style=\"text-align: right;\">\n",
       "      <th></th>\n",
       "      <th>item_id</th>\n",
       "      <th>rating</th>\n",
       "      <th>score</th>\n",
       "    </tr>\n",
       "  </thead>\n",
       "  <tbody>\n",
       "    <tr>\n",
       "      <th>53</th>\n",
       "      <td>296</td>\n",
       "      <td>5.0</td>\n",
       "      <td>0.916309</td>\n",
       "    </tr>\n",
       "    <tr>\n",
       "      <th>2</th>\n",
       "      <td>1213</td>\n",
       "      <td>4.5</td>\n",
       "      <td>0.360997</td>\n",
       "    </tr>\n",
       "    <tr>\n",
       "      <th>63</th>\n",
       "      <td>6016</td>\n",
       "      <td>3.5</td>\n",
       "      <td>0.357231</td>\n",
       "    </tr>\n",
       "    <tr>\n",
       "      <th>24</th>\n",
       "      <td>6874</td>\n",
       "      <td>4.5</td>\n",
       "      <td>0.357052</td>\n",
       "    </tr>\n",
       "    <tr>\n",
       "      <th>38</th>\n",
       "      <td>5902</td>\n",
       "      <td>4.0</td>\n",
       "      <td>0.317800</td>\n",
       "    </tr>\n",
       "    <tr>\n",
       "      <th>...</th>\n",
       "      <td>...</td>\n",
       "      <td>...</td>\n",
       "      <td>...</td>\n",
       "    </tr>\n",
       "    <tr>\n",
       "      <th>138</th>\n",
       "      <td>2948</td>\n",
       "      <td>4.0</td>\n",
       "      <td>0.006097</td>\n",
       "    </tr>\n",
       "    <tr>\n",
       "      <th>149</th>\n",
       "      <td>1356</td>\n",
       "      <td>4.5</td>\n",
       "      <td>0.005753</td>\n",
       "    </tr>\n",
       "    <tr>\n",
       "      <th>67</th>\n",
       "      <td>110730</td>\n",
       "      <td>4.0</td>\n",
       "      <td>0.005746</td>\n",
       "    </tr>\n",
       "    <tr>\n",
       "      <th>150</th>\n",
       "      <td>1909</td>\n",
       "      <td>4.0</td>\n",
       "      <td>0.004244</td>\n",
       "    </tr>\n",
       "    <tr>\n",
       "      <th>4</th>\n",
       "      <td>5065</td>\n",
       "      <td>3.0</td>\n",
       "      <td>0.001669</td>\n",
       "    </tr>\n",
       "  </tbody>\n",
       "</table>\n",
       "<p>244 rows × 3 columns</p>\n",
       "</div>"
      ],
      "text/plain": [
       "     item_id  rating     score\n",
       "53       296     5.0  0.916309\n",
       "2       1213     4.5  0.360997\n",
       "63      6016     3.5  0.357231\n",
       "24      6874     4.5  0.357052\n",
       "38      5902     4.0  0.317800\n",
       "..       ...     ...       ...\n",
       "138     2948     4.0  0.006097\n",
       "149     1356     4.5  0.005753\n",
       "67    110730     4.0  0.005746\n",
       "150     1909     4.0  0.004244\n",
       "4       5065     3.0  0.001669\n",
       "\n",
       "[244 rows x 3 columns]"
      ]
     },
     "execution_count": 23,
     "metadata": {},
     "output_type": "execute_result"
    }
   ],
   "source": [
    "cf_scores.sort_values(by='score', ascending=False)"
   ]
  }
 ],
 "metadata": {
  "kernelspec": {
   "display_name": "seminar-recommender-systems-r0mKAWuO-py3.9",
   "language": "python",
   "name": "python3"
  },
  "language_info": {
   "codemirror_mode": {
    "name": "ipython",
    "version": 3
   },
   "file_extension": ".py",
   "mimetype": "text/x-python",
   "name": "python",
   "nbconvert_exporter": "python",
   "pygments_lexer": "ipython3",
   "version": "3.9.18"
  }
 },
 "nbformat": 4,
 "nbformat_minor": 2
}
