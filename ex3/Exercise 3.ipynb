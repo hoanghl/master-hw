{
 "cells": [
  {
   "cell_type": "markdown",
   "id": "e7e708e6",
   "metadata": {},
   "source": [
    "## Exercise 3.1 (4 Points)"
   ]
  },
  {
   "cell_type": "markdown",
   "id": "13aa4f82",
   "metadata": {},
   "source": [
    "Please find the 3 sets of images provided in the Moodle page of this week's exercise. The three image sets (A,B and C) contain pictures taken of a camera calibration checkerboard pattern with a square size of 3cm.\n",
    "\n",
    "1) Write a function using built-in OpenCV methods that computes the intrinsic camera calibration matrix and distortion matrix from a given set of calibration images.\n",
    "\n",
    "2) Apply that function to all three sets of images and observe the results. Based on the results for the intrinsic and distortion matrix, discuss what type of camera or lens was used to capture the different image sets."
   ]
  },
  {
   "cell_type": "code",
   "execution_count": null,
   "id": "f0263f64",
   "metadata": {},
   "outputs": [],
   "source": [
    "import cv2\n",
    "import numpy as np\n",
    "import os\n",
    "import glob\n",
    "from matplotlib import pyplot as plt\n",
    "\n",
    "np.set_printoptions(suppress=True)\n",
    "\n",
    "\n",
    "def calibrate(img_path):\n",
    "    matrix = None\n",
    "    distortion = None\n",
    "    # ...\n",
    "\n",
    "    images = glob.glob(\"{}/*.jpeg\".format(img_path))\n",
    "\n",
    "    for filename in images:\n",
    "        image = cv2.imread(filename)\n",
    "        grayColor = cv2.cvtColor(image, cv2.COLOR_BGR2GRAY)\n",
    "        # ...\n",
    "\n",
    "    return matrix, distortion\n",
    "\n",
    "\n",
    "print(\"Images A:\")\n",
    "matrix, distortion = calibrate(\"images_A\")\n",
    "print(matrix)\n",
    "print(distortion)\n",
    "print()\n",
    "\n",
    "print(\"Images B:\")\n",
    "matrix, distortion = calibrate(\"images_B\")\n",
    "print(matrix)\n",
    "print(distortion)\n",
    "print()\n",
    "\n",
    "print(\"Images C:\")\n",
    "matrix, distortion = calibrate(\"images_C\")\n",
    "print(matrix)\n",
    "print(distortion)"
   ]
  },
  {
   "cell_type": "code",
   "execution_count": null,
   "id": "81f5e647",
   "metadata": {},
   "outputs": [],
   "source": []
  },
  {
   "cell_type": "markdown",
   "id": "5f694728",
   "metadata": {},
   "source": [
    "## Exercise 3.2 (4 Points)"
   ]
  },
  {
   "cell_type": "markdown",
   "id": "055f008f",
   "metadata": {},
   "source": [
    "1) Explain how the Hough Transform works, focusing on its application to line detection in images. Discuss why the Hough Transform is particularly useful for detecting lines in noisy images or images with missing data. Additionally, explain the limitations of the Hough Transform and potential methods to overcome these limitations.\n",
    "\n",
    "2)  We provided you example images from the Berkeley Segmentation Dataset. Implement the Hough Transform for line detection by yourself (You may only use the openCV function to check if your solution is correct). Instead of using the default parameters, customize the parameters (e.g., resolution of the parameter space, threshold values for line detection, minimum line length, maximum line gap) to optimize edge detection for the given set of images. Report your observations: which parameters influenced which behaviour in the output? Also report which parameter configuration resembles closest an object segmentation in the test images."
   ]
  },
  {
   "cell_type": "code",
   "execution_count": null,
   "id": "c8b3e245",
   "metadata": {},
   "outputs": [],
   "source": [
    "#2)\n",
    "import glob\n",
    "import numpy as np\n",
    "import matplotlib.pyplot as plt\n",
    "import cv2\n",
    "\n",
    "def apply_hough_transform(image, rho=1, theta=np.pi/180, threshold=100, min_line_length=100, max_line_gap=10):\n",
    "    ...\n",
    "\n",
    "\n",
    "images = glob.glob(\"segmentation_images/*.jpg\")\n",
    "\n",
    "for filename in images:\n",
    "    image = cv2.imread(filename, cv2.IMREAD_GRAYSCALE)\n",
    "    ..."
   ]
  },
  {
   "cell_type": "code",
   "execution_count": null,
   "id": "9de727bf",
   "metadata": {},
   "outputs": [],
   "source": []
  }
 ],
 "metadata": {
  "kernelspec": {
   "display_name": "Python 3 (ipykernel)",
   "language": "python",
   "name": "python3"
  },
  "language_info": {
   "codemirror_mode": {
    "name": "ipython",
    "version": 3
   },
   "file_extension": ".py",
   "mimetype": "text/x-python",
   "name": "python",
   "nbconvert_exporter": "python",
   "pygments_lexer": "ipython3",
   "version": "3.9.12"
  }
 },
 "nbformat": 4,
 "nbformat_minor": 5
}
