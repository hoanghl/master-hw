{
 "cells": [
  {
   "cell_type": "code",
   "execution_count": null,
   "metadata": {},
   "outputs": [],
   "source": [
    "import torch\n",
    "from recbole.config import Config\n",
    "from recbole.data import (\n",
    "    create_dataset,\n",
    "    data_preparation,\n",
    ")\n",
    "from recbole.utils import (\n",
    "    get_model,\n",
    "    get_trainer,\n",
    "    init_seed,\n",
    ")\n",
    "from recbole.quick_start import load_data_and_model\n",
    "\n",
    "from src.real_temporal import TimeCutoffDataset"
   ]
  },
  {
   "cell_type": "markdown",
   "metadata": {},
   "source": [
    "# Load checkpoint"
   ]
  },
  {
   "cell_type": "code",
   "execution_count": null,
   "metadata": {},
   "outputs": [],
   "source": [
    "path = \"/Users/macos/Desktop/BERT4Rec-Jul-14-2024_04-29-32.pth\""
   ]
  },
  {
   "cell_type": "markdown",
   "metadata": {},
   "source": [
    "# Declare necessary things"
   ]
  },
  {
   "cell_type": "code",
   "execution_count": null,
   "metadata": {},
   "outputs": [],
   "source": [
    "# config, model, dataset, train_data, valid_data, test_data = load_data_and_model(model_file=path)\n",
    "chkpt = torch.load(path, map_location=torch.device('cpu'))\n",
    "\n",
    "config = chkpt['config']\n",
    "config['device'] = torch.device('cpu')\n",
    "config['use_gpu'] = False\n",
    "\n",
    "init_seed(config[\"seed\"], config[\"reproducibility\"])\n",
    "\n",
    "if config[\"use_cutoff\"] is True:\n",
    "    dataset = TimeCutoffDataset(config)\n",
    "else:\n",
    "    dataset = create_dataset(config)\n",
    "train_data, valid_data, test_data = data_preparation(config, dataset)\n",
    "\n",
    "# Define model\n",
    "model_name = config[\"model\"]\n",
    "model = get_model(model_name)(config, train_data._dataset).to(config[\"device\"])\n",
    "model.load_state_dict(chkpt['state_dict'])\n",
    "model.load_other_parameter(chkpt['other_parameter'])\n",
    "\n",
    "# Define trainer\n",
    "trainer = get_trainer(config[\"MODEL_TYPE\"], config[\"model\"])(config, model)"
   ]
  },
  {
   "cell_type": "markdown",
   "metadata": {},
   "source": [
    "# Start eval with test data"
   ]
  },
  {
   "cell_type": "code",
   "execution_count": null,
   "metadata": {},
   "outputs": [],
   "source": [
    "trainer.evaluate(test_data, model_file=path)"
   ]
  }
 ],
 "metadata": {
  "language_info": {
   "name": "python"
  }
 },
 "nbformat": 4,
 "nbformat_minor": 2
}
