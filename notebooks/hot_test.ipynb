{
 "cells": [
  {
   "cell_type": "code",
   "execution_count": 1,
   "metadata": {},
   "outputs": [
    {
     "name": "stdout",
     "output_type": "stream",
     "text": [
      "/Users/hoangle/Uni/Thesis\n"
     ]
    }
   ],
   "source": [
    "%load_ext autoreload\n",
    "%autoreload 2\n",
    "\n",
    "%cd ../"
   ]
  },
  {
   "cell_type": "code",
   "execution_count": 2,
   "metadata": {},
   "outputs": [],
   "source": [
    "import warnings\n",
    "warnings.simplefilter(action=\"ignore\", category=FutureWarning)"
   ]
  },
  {
   "cell_type": "code",
   "execution_count": 3,
   "metadata": {},
   "outputs": [],
   "source": [
    "import pandas as pd\n",
    "import torch\n",
    "from recbole.config import Config\n",
    "from recbole.data import create_dataset\n",
    "from recbole.utils import (\n",
    "    get_model,\n",
    "    get_trainer,\n",
    "    init_seed,\n",
    "    ModelType\n",
    ")\n",
    "\n",
    "import src.utils as utils\n",
    "from src.real_temporal import SimulatedOnlineSequentialDataset, SimulatedOnlineDataset"
   ]
  },
  {
   "cell_type": "markdown",
   "metadata": {},
   "source": [
    "# Load checkpoint"
   ]
  },
  {
   "cell_type": "code",
   "execution_count": 10,
   "metadata": {},
   "outputs": [],
   "source": [
    "separate_activeness = False\n",
    "cutoff_time = 976324045"
   ]
  },
  {
   "cell_type": "code",
   "execution_count": 11,
   "metadata": {},
   "outputs": [],
   "source": [
    "path = \"/Users/hoangle/Desktop/GRU4Rec-Aug-05-2024_16-36-56.pth\""
   ]
  },
  {
   "cell_type": "code",
   "execution_count": 12,
   "metadata": {},
   "outputs": [],
   "source": [
    "# config, model, dataset, train_data, valid_data, test_data = load_data_and_model(model_file=path)\n",
    "chkpt = torch.load(path, map_location=torch.device('cpu'))\n",
    "\n",
    "config = chkpt['config']\n",
    "config['device'] = torch.device('cpu')\n",
    "config['use_gpu'] = False\n",
    "\n",
    "if separate_activeness is True:\n",
    "    if config['cutoff_time'] is None:\n",
    "        config['cutoff_time'] = cutoff_time\n",
    "\n",
    "init_seed(config[\"seed\"], config[\"reproducibility\"])"
   ]
  },
  {
   "cell_type": "markdown",
   "metadata": {},
   "source": [
    "# Define dataset"
   ]
  },
  {
   "cell_type": "code",
   "execution_count": 13,
   "metadata": {},
   "outputs": [],
   "source": [
    "if config[\"use_cutoff\"] is True:\n",
    "    match (config[\"MODEL_TYPE\"]):\n",
    "        case ModelType.GENERAL | ModelType.CONTEXT | ModelType.TRADITIONAL:\n",
    "            ds = \"SimulatedOnlineDataset\"\n",
    "        case ModelType.SEQUENTIAL:\n",
    "            ds = \"SimulatedOnlineSequentialDataset\"\n",
    "        case _:\n",
    "            print(f\"model type: {config['MODEL_TYPE']}\")\n",
    "            raise NotImplementedError()\n",
    "\n",
    "    dataset = eval(ds)(config)\n",
    "else:\n",
    "    dataset = create_dataset(config)\n",
    "\n",
    "if separate_activeness is True:\n",
    "    train_data, _, test_data_active, test_data_inactive = utils.get_loader(\n",
    "        dataset,\n",
    "        config,\n",
    "        True,\n",
    "        config['cutoff_time']\n",
    "    )\n",
    "else:\n",
    "    train_data, _, test_data = utils.get_loader(\n",
    "        dataset,\n",
    "        config,\n",
    "        False,\n",
    "        config['cutoff_time']\n",
    "    )\n",
    "\n",
    "# Define model\n",
    "model_name = config[\"model\"]\n",
    "model = get_model(model_name)(config, train_data._dataset).to(config[\"device\"])\n",
    "model.load_state_dict(chkpt['state_dict'])\n",
    "model.load_other_parameter(chkpt['other_parameter'])\n",
    "\n",
    "# Define trainer\n",
    "trainer = get_trainer(config[\"MODEL_TYPE\"], config[\"model\"])(config, model)"
   ]
  },
  {
   "cell_type": "markdown",
   "metadata": {},
   "source": [
    "# Start evaluation"
   ]
  },
  {
   "cell_type": "code",
   "execution_count": 14,
   "metadata": {},
   "outputs": [],
   "source": [
    "results = {}\n",
    "\n",
    "if separate_activeness is True:\n",
    "    pairs = [\n",
    "        (\"Inactive\", test_data_inactive),\n",
    "        (\"Active\", test_data_active),\n",
    "    ]\n",
    "\n",
    "    for tag, test_data in pairs:\n",
    "        test_result = trainer.evaluate(test_data, model_file=path)\n",
    "\n",
    "        results[tag] = dict(test_result)\n",
    "\n",
    "else:\n",
    "    test_result = trainer.evaluate(test_data, model_file=path)\n",
    "\n",
    "    results['test_all'] = dict(test_result)\n",
    "\n",
    "pd.DataFrame(results).transpose()"
   ]
  },
  {
   "cell_type": "code",
   "execution_count": 15,
   "metadata": {},
   "outputs": [
    {
     "data": {
      "text/html": [
       "<div>\n",
       "<style scoped>\n",
       "    .dataframe tbody tr th:only-of-type {\n",
       "        vertical-align: middle;\n",
       "    }\n",
       "\n",
       "    .dataframe tbody tr th {\n",
       "        vertical-align: top;\n",
       "    }\n",
       "\n",
       "    .dataframe thead th {\n",
       "        text-align: right;\n",
       "    }\n",
       "</style>\n",
       "<table border=\"1\" class=\"dataframe\">\n",
       "  <thead>\n",
       "    <tr style=\"text-align: right;\">\n",
       "      <th></th>\n",
       "      <th>ndcg@10</th>\n",
       "      <th>precision@10</th>\n",
       "      <th>recall@10</th>\n",
       "      <th>mrr@10</th>\n",
       "      <th>hit@10</th>\n",
       "      <th>map@10</th>\n",
       "    </tr>\n",
       "  </thead>\n",
       "  <tbody>\n",
       "    <tr>\n",
       "      <th>test_all</th>\n",
       "      <td>0.1683</td>\n",
       "      <td>0.0294</td>\n",
       "      <td>0.2942</td>\n",
       "      <td>0.13</td>\n",
       "      <td>0.2942</td>\n",
       "      <td>0.13</td>\n",
       "    </tr>\n",
       "  </tbody>\n",
       "</table>\n",
       "</div>"
      ],
      "text/plain": [
       "          ndcg@10  precision@10  recall@10  mrr@10  hit@10  map@10\n",
       "test_all   0.1683        0.0294     0.2942    0.13  0.2942    0.13"
      ]
     },
     "execution_count": 15,
     "metadata": {},
     "output_type": "execute_result"
    }
   ],
   "source": []
  }
 ],
 "metadata": {
  "kernelspec": {
   "display_name": "thesis",
   "language": "python",
   "name": "python3"
  },
  "language_info": {
   "codemirror_mode": {
    "name": "ipython",
    "version": 3
   },
   "file_extension": ".py",
   "mimetype": "text/x-python",
   "name": "python",
   "nbconvert_exporter": "python",
   "pygments_lexer": "ipython3",
   "version": "3.10.14"
  }
 },
 "nbformat": 4,
 "nbformat_minor": 2
}
