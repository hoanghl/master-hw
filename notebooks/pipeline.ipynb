{
 "cells": [
  {
   "cell_type": "code",
   "execution_count": 1,
   "metadata": {},
   "outputs": [
    {
     "name": "stdout",
     "output_type": "stream",
     "text": [
      "/Users/macos/Uni/Thesis\n"
     ]
    }
   ],
   "source": [
    "%load_ext autoreload\n",
    "%autoreload 2\n",
    "\n",
    "%cd ../"
   ]
  },
  {
   "cell_type": "code",
   "execution_count": 2,
   "metadata": {},
   "outputs": [],
   "source": [
    "import json\n",
    "from logging import getLogger\n",
    "\n",
    "import yaml\n",
    "from recbole.config import Config\n",
    "from recbole.data import data_preparation, create_dataset\n",
    "from recbole.trainer import HyperTuning\n",
    "from recbole.utils import (\n",
    "    get_model,\n",
    "    get_trainer,\n",
    "    init_seed\n",
    ")\n",
    "\n",
    "import src.utils as utils\n",
    "from src.real_temporal import TimeCutoffDataset"
   ]
  },
  {
   "cell_type": "markdown",
   "metadata": {},
   "source": [
    "# 1. Declarations & Definitions"
   ]
  },
  {
   "cell_type": "markdown",
   "metadata": {},
   "source": [
    "## 1.1. Define flags and global variables"
   ]
  },
  {
   "cell_type": "code",
   "execution_count": 3,
   "metadata": {},
   "outputs": [],
   "source": [
    "seed = 42\n",
    "\n",
    "use_cutoff = True\n",
    "reproducible = True\n",
    "\n",
    "model_name = \"BPR\"\n",
    "dataset_name = \"ml-100k\"\n",
    "loss_type = \"BPR\"\n",
    "cutoff_time = \"884471835\""
   ]
  },
  {
   "cell_type": "markdown",
   "metadata": {},
   "source": [
    "## 1.2. Define configurations\n",
    "\n",
    "Configuration for data, model, training and evaluation"
   ]
  },
  {
   "cell_type": "code",
   "execution_count": 4,
   "metadata": {},
   "outputs": [],
   "source": [
    "paths = utils.Paths(model_name, dataset_name)"
   ]
  },
  {
   "cell_type": "code",
   "execution_count": 5,
   "metadata": {},
   "outputs": [],
   "source": [
    "config_dict = {\n",
    "    # For model \n",
    "    'model': model_name,\n",
    "    'loss_type': loss_type,\n",
    "\n",
    "    # For data\n",
    "    'dataset': dataset_name, \n",
    "    'load_col': {\"inter\": ['user_id', 'item_id', 'timestamp']},\n",
    "    'use_cutoff': use_cutoff,\n",
    "\n",
    "    # For training\n",
    "    'epochs': 8,\n",
    "    'train_batch_size': 4096,\n",
    "    'eval_step': 1,\n",
    "    'stopping_step': 3,\n",
    "    'learning_rate': 1e-3,\n",
    "    \n",
    "    # For evaluation\n",
    "    'eval_batch_size': 4096,\n",
    "    'metrics': [\"NDCG\", \"Precision\", \"Recall\", \"MRR\", \"Hit\", \"MAP\"],\n",
    "    'topk': 10,\n",
    "    'valid_metric': 'NDCG@10',\n",
    "\n",
    "    # Environment\n",
    "    'gpu_id': 0,\n",
    "    \"seed\": seed,\n",
    "    \"reproducibility\": reproducible,\n",
    "    'device': 'mps',\n",
    "    'use_gpu': True,\n",
    "    'data_path': paths.get_path_data_raw(),\n",
    "    \"checkpoint_dir\": paths.get_path_dir_ckpt(),\n",
    "    \"show_progress\": True,\n",
    "    'save_dataset': True,\n",
    "    'dataset_save_path': paths.get_path_data_processed(),\n",
    "    'save_dataloaders': True,\n",
    "    'dataloaders_save_path': paths.get_path_dataloader(),\n",
    "}\n",
    "\n",
    "if use_cutoff is True:\n",
    "    config_dict['eval_args'] = {\n",
    "        \"order\": \"TO\",\n",
    "        \"split\": {\"CO\": cutoff_time},\n",
    "        \"group_by\": 'user_id',\n",
    "        'mode': 'full'\n",
    "    }\n",
    "else:\n",
    "    config_dict['eval_args'] = {\n",
    "        \"order\": \"TO\",\n",
    "        \"split\": { \"LS\": \"valid_and_test\" },\n",
    "        \"group_by\": None,\n",
    "        'mode': 'full'\n",
    "    }\n",
    "\n",
    "if loss_type == \"CE\":\n",
    "    config_dict[\"train_neg_sample_args\"] = None\n",
    "else:\n",
    "    config_dict[\"train_neg_sample_args\"] = {\n",
    "        \"distribution\": \"uniform\",\n",
    "        \"sample_num\": 1,\n",
    "        # \"dynamic\": False,\n",
    "        # \"candidate_num\": 0,\n",
    "    }\n",
    "\n",
    "config = Config(\n",
    "    model_name,\n",
    "    dataset_name,\n",
    "    config_dict=config_dict,\n",
    "    config_file_list=[paths.get_path_param_conf()],\n",
    ")\n",
    "\n",
    "with open(paths.get_path_conf(), 'w+') as f:\n",
    "    yaml.dump(config.external_config_dict, f, allow_unicode=True)\n",
    "\n",
    "init_seed(config[\"seed\"], config[\"reproducibility\"])\n",
    "utils.init_logger(config, paths)"
   ]
  },
  {
   "cell_type": "markdown",
   "metadata": {},
   "source": [
    "# 2. Train"
   ]
  },
  {
   "cell_type": "markdown",
   "metadata": {},
   "source": [
    "## 2.1. Declare necessary components for training"
   ]
  },
  {
   "cell_type": "code",
   "execution_count": 6,
   "metadata": {},
   "outputs": [
    {
     "name": "stderr",
     "output_type": "stream",
     "text": [
      "07 Jul 22:33    INFO  Saving split dataloaders into: [logs/Jul07_223335_BPR_ml-100k/ckpts/ml-100k-for-BPR-dataloader.pth]\n",
      "07 Jul 22:33    INFO  [Training]: train_batch_size = [4096] train_neg_sample_args: [{'distribution': 'uniform', 'sample_num': 1, 'alpha': 1.0, 'dynamic': False, 'candidate_num': 0}]\n",
      "07 Jul 22:33    INFO  [Evaluation]: eval_batch_size = [4096] eval_args: [{'split': {'CO': '884471835'}, 'order': 'TO', 'group_by': 'user_id', 'mode': {'valid': 'full', 'test': 'full'}}]\n"
     ]
    }
   ],
   "source": [
    "# Define data related things\n",
    "if use_cutoff is True:\n",
    "    dataset = TimeCutoffDataset(config)\n",
    "else:\n",
    "    dataset = create_dataset(config)\n",
    "train_data, valid_data, test_data = data_preparation(config, dataset)\n",
    "\n",
    "# Define model\n",
    "model_name = config['model']\n",
    "model = get_model(model_name)(config, train_data._dataset).to(config['device'])\n",
    "\n",
    "# Define trainer\n",
    "trainer = get_trainer(config['MODEL_TYPE'], config['model'])(config, model)"
   ]
  },
  {
   "cell_type": "code",
   "execution_count": 8,
   "metadata": {},
   "outputs": [
    {
     "name": "stderr",
     "output_type": "stream",
     "text": [
      "07 Jul 22:36    INFO  \n",
      "General Hyper Parameters:\n",
      "gpu_id = 0\n",
      "use_gpu = True\n",
      "seed = 42\n",
      "state = INFO\n",
      "reproducibility = True\n",
      "data_path = /Users/macos/miniforge3/envs/thesis/lib/python3.10/site-packages/recbole/config/../dataset_example/ml-100k\n",
      "checkpoint_dir = logs/Jul07_223617_BPR_ml-100k/ckpts\n",
      "show_progress = True\n",
      "save_dataset = True\n",
      "dataset_save_path = data/processed/ml-100k.pth\n",
      "save_dataloaders = True\n",
      "dataloaders_save_path = data/dataloader/BPR-ml-100k.pth\n",
      "log_wandb = False\n",
      "\n",
      "Training Hyper Parameters:\n",
      "epochs = 8\n",
      "train_batch_size = 4096\n",
      "learner = adam\n",
      "learning_rate = 0.001\n",
      "train_neg_sample_args = {'distribution': 'uniform', 'sample_num': 1, 'alpha': 1.0, 'dynamic': False, 'candidate_num': 0}\n",
      "eval_step = 1\n",
      "stopping_step = 3\n",
      "clip_grad_norm = None\n",
      "weight_decay = 0.0\n",
      "loss_decimal_place = 4\n",
      "\n",
      "Evaluation Hyper Parameters:\n",
      "eval_args = {'split': {'CO': '884471835'}, 'order': 'TO', 'group_by': 'user_id', 'mode': {'valid': 'full', 'test': 'full'}}\n",
      "repeatable = False\n",
      "metrics = ['NDCG', 'Precision', 'Recall', 'MRR', 'Hit', 'MAP']\n",
      "topk = [10]\n",
      "valid_metric = NDCG@10\n",
      "valid_metric_bigger = True\n",
      "eval_batch_size = 4096\n",
      "metric_decimal_place = 4\n",
      "\n",
      "Dataset Hyper Parameters:\n",
      "field_separator = \t\n",
      "seq_separator =  \n",
      "USER_ID_FIELD = user_id\n",
      "ITEM_ID_FIELD = item_id\n",
      "RATING_FIELD = rating\n",
      "TIME_FIELD = timestamp\n",
      "seq_len = None\n",
      "LABEL_FIELD = label\n",
      "threshold = None\n",
      "NEG_PREFIX = neg_\n",
      "load_col = {'inter': ['user_id', 'item_id', 'timestamp']}\n",
      "unload_col = None\n",
      "unused_col = None\n",
      "additional_feat_suffix = None\n",
      "rm_dup_inter = None\n",
      "val_interval = None\n",
      "filter_inter_by_user_or_item = True\n",
      "user_inter_num_interval = None\n",
      "item_inter_num_interval = None\n",
      "alias_of_user_id = None\n",
      "alias_of_item_id = None\n",
      "alias_of_entity_id = None\n",
      "alias_of_relation_id = None\n",
      "preload_weight = None\n",
      "normalize_field = None\n",
      "normalize_all = True\n",
      "ITEM_LIST_LENGTH_FIELD = item_length\n",
      "LIST_SUFFIX = _list\n",
      "MAX_ITEM_LIST_LENGTH = 50\n",
      "POSITION_FIELD = position_id\n",
      "HEAD_ENTITY_ID_FIELD = head_id\n",
      "TAIL_ENTITY_ID_FIELD = tail_id\n",
      "RELATION_ID_FIELD = relation_id\n",
      "ENTITY_ID_FIELD = entity_id\n",
      "kg_reverse_r = False\n",
      "entity_kg_num_interval = None\n",
      "relation_kg_num_interval = None\n",
      "benchmark_filename = None\n",
      "\n",
      "Other Hyper Parameters: \n",
      "worker = 0\n",
      "wandb_project = recbole\n",
      "shuffle = True\n",
      "require_pow = False\n",
      "enable_amp = False\n",
      "enable_scaler = False\n",
      "transform = None\n",
      "embedding_size = 128\n",
      "numerical_features = []\n",
      "discretization = None\n",
      "MODEL_TYPE = ModelType.GENERAL\n",
      "loss_type = BPR\n",
      "use_cutoff = True\n",
      "device = cpu\n",
      "MODEL_INPUT_TYPE = InputType.PAIRWISE\n",
      "eval_type = EvaluatorType.RANKING\n",
      "single_spec = True\n",
      "local_rank = 0\n",
      "valid_neg_sample_args = {'distribution': 'uniform', 'sample_num': 'none'}\n",
      "test_neg_sample_args = {'distribution': 'uniform', 'sample_num': 'none'}\n",
      "\n",
      "\n"
     ]
    }
   ],
   "source": [
    "logger = getLogger()\n",
    "\n",
    "logger.info(config)\n",
    "# logger.info(dataset)\n",
    "# logger.info(model)"
   ]
  },
  {
   "cell_type": "markdown",
   "metadata": {},
   "source": [
    "## 2.2. Start training"
   ]
  },
  {
   "cell_type": "code",
   "execution_count": 8,
   "metadata": {},
   "outputs": [
    {
     "name": "stderr",
     "output_type": "stream",
     "text": [
      "Train     0:   0%|                                                           | 0/15 [00:00<?, ?it/s]:  53%|███████████████████████████▏                       | 8/15 [00:00<00:00, 78.38it/s]: 100%|██████████████████████████████████████████████████| 15/15 [00:00<00:00, 89.05it/s]\n",
      "07 Jul 22:22    INFO  epoch 0 training [time: 0.19s, train loss: 10.3971]\n",
      "Evaluate   :   0%|                                                          | 0/290 [00:00<?, ?it/s]: 100%|██████████████████████████████████████████████| 290/290 [00:00<00:00, 5690.30it/s]\n",
      "07 Jul 22:22    INFO  epoch 0 evaluating [time: 0.06s, valid_score: 0.000600]\n",
      "07 Jul 22:22    INFO  valid result: \n",
      "ndcg@10 : 0.0006    precision@10 : 0.0002    recall@10 : 0.0017    mrr@10 : 0.0003    hit@10 : 0.0017    map@10 : 0.0003\n",
      "07 Jul 22:22    INFO  Saving current: logs/Jul07_222207_BPR_ml-100k/ckpts/BPR-Jul-07-2024_22-22-09.pth\n",
      "Train     1:   0%|                                                           | 0/15 [00:00<?, ?it/s]:  67%|█████████████████████████████████▎                | 10/15 [00:00<00:00, 92.89it/s]: 100%|██████████████████████████████████████████████████| 15/15 [00:00<00:00, 98.22it/s]\n",
      "07 Jul 22:22    INFO  epoch 1 training [time: 0.16s, train loss: 10.3626]\n",
      "Evaluate   :   0%|                                                          | 0/290 [00:00<?, ?it/s]: 100%|██████████████████████████████████████████████| 290/290 [00:00<00:00, 5613.49it/s]\n",
      "07 Jul 22:22    INFO  epoch 1 evaluating [time: 0.06s, valid_score: 0.001700]\n",
      "07 Jul 22:22    INFO  valid result: \n",
      "ndcg@10 : 0.0017    precision@10 : 0.0005    recall@10 : 0.0052    mrr@10 : 0.0007    hit@10 : 0.0052    map@10 : 0.0007\n",
      "07 Jul 22:22    INFO  Saving current: logs/Jul07_222207_BPR_ml-100k/ckpts/BPR-Jul-07-2024_22-22-09.pth\n",
      "Train     2:   0%|                                                           | 0/15 [00:00<?, ?it/s]:  67%|█████████████████████████████████▎                | 10/15 [00:00<00:00, 98.67it/s]: 100%|█████████████████████████████████████████████████| 15/15 [00:00<00:00, 101.35it/s]\n",
      "07 Jul 22:22    INFO  epoch 2 training [time: 0.15s, train loss: 10.3238]\n",
      "Evaluate   :   0%|                                                          | 0/290 [00:00<?, ?it/s]: 100%|██████████████████████████████████████████████| 290/290 [00:00<00:00, 5566.10it/s]\n",
      "07 Jul 22:22    INFO  epoch 2 evaluating [time: 0.06s, valid_score: 0.002500]\n",
      "07 Jul 22:22    INFO  valid result: \n",
      "ndcg@10 : 0.0025    precision@10 : 0.0007    recall@10 : 0.0069    mrr@10 : 0.0012    hit@10 : 0.0069    map@10 : 0.0012\n",
      "07 Jul 22:22    INFO  Saving current: logs/Jul07_222207_BPR_ml-100k/ckpts/BPR-Jul-07-2024_22-22-09.pth\n",
      "Train     3:   0%|                                                           | 0/15 [00:00<?, ?it/s]:  67%|█████████████████████████████████▎                | 10/15 [00:00<00:00, 99.92it/s]: 100%|█████████████████████████████████████████████████| 15/15 [00:00<00:00, 103.20it/s]\n",
      "07 Jul 22:22    INFO  epoch 3 training [time: 0.15s, train loss: 10.2512]\n",
      "Evaluate   :   0%|                                                          | 0/290 [00:00<?, ?it/s]: 100%|██████████████████████████████████████████████| 290/290 [00:00<00:00, 5578.12it/s]\n",
      "07 Jul 22:22    INFO  epoch 3 evaluating [time: 0.06s, valid_score: 0.010400]\n",
      "07 Jul 22:22    INFO  valid result: \n",
      "ndcg@10 : 0.0104    precision@10 : 0.0026    recall@10 : 0.0259    mrr@10 : 0.006    hit@10 : 0.0259    map@10 : 0.006\n",
      "07 Jul 22:22    INFO  Saving current: logs/Jul07_222207_BPR_ml-100k/ckpts/BPR-Jul-07-2024_22-22-09.pth\n",
      "Train     4:   0%|                                                           | 0/15 [00:00<?, ?it/s]:  67%|█████████████████████████████████▎                | 10/15 [00:00<00:00, 96.49it/s]: 100%|█████████████████████████████████████████████████| 15/15 [00:00<00:00, 100.05it/s]\n",
      "07 Jul 22:22    INFO  epoch 4 training [time: 0.16s, train loss: 10.1026]\n",
      "Evaluate   :   0%|                                                          | 0/290 [00:00<?, ?it/s]: 100%|██████████████████████████████████████████████| 290/290 [00:00<00:00, 5338.02it/s]\n",
      "07 Jul 22:22    INFO  epoch 4 evaluating [time: 0.06s, valid_score: 0.019200]\n",
      "07 Jul 22:22    INFO  valid result: \n",
      "ndcg@10 : 0.0192    precision@10 : 0.0047    recall@10 : 0.0466    mrr@10 : 0.0112    hit@10 : 0.0466    map@10 : 0.0112\n",
      "07 Jul 22:22    INFO  Saving current: logs/Jul07_222207_BPR_ml-100k/ckpts/BPR-Jul-07-2024_22-22-09.pth\n",
      "Train     5:   0%|                                                           | 0/15 [00:00<?, ?it/s]:  67%|█████████████████████████████████▎                | 10/15 [00:00<00:00, 96.82it/s]: 100%|██████████████████████████████████████████████████| 15/15 [00:00<00:00, 97.95it/s]\n",
      "07 Jul 22:22    INFO  epoch 5 training [time: 0.16s, train loss: 9.8250]\n",
      "Evaluate   :   0%|                                                          | 0/290 [00:00<?, ?it/s]: 100%|██████████████████████████████████████████████| 290/290 [00:00<00:00, 5164.00it/s]\n",
      "07 Jul 22:22    INFO  epoch 5 evaluating [time: 0.07s, valid_score: 0.025900]\n",
      "07 Jul 22:22    INFO  valid result: \n",
      "ndcg@10 : 0.0259    precision@10 : 0.0047    recall@10 : 0.0466    mrr@10 : 0.0195    hit@10 : 0.0466    map@10 : 0.0195\n",
      "07 Jul 22:22    INFO  Saving current: logs/Jul07_222207_BPR_ml-100k/ckpts/BPR-Jul-07-2024_22-22-09.pth\n",
      "Train     6:   0%|                                                           | 0/15 [00:00<?, ?it/s]:  67%|█████████████████████████████████▎                | 10/15 [00:00<00:00, 94.59it/s]: 100%|██████████████████████████████████████████████████| 15/15 [00:00<00:00, 95.75it/s]\n",
      "07 Jul 22:22    INFO  epoch 6 training [time: 0.16s, train loss: 9.3249]\n",
      "Evaluate   :   0%|                                                          | 0/290 [00:00<?, ?it/s]: 100%|██████████████████████████████████████████████| 290/290 [00:00<00:00, 4950.58it/s]\n",
      "07 Jul 22:22    INFO  epoch 6 evaluating [time: 0.07s, valid_score: 0.031200]\n",
      "07 Jul 22:22    INFO  valid result: \n",
      "ndcg@10 : 0.0312    precision@10 : 0.0054    recall@10 : 0.0535    mrr@10 : 0.0245    hit@10 : 0.0535    map@10 : 0.0245\n",
      "07 Jul 22:22    INFO  Saving current: logs/Jul07_222207_BPR_ml-100k/ckpts/BPR-Jul-07-2024_22-22-09.pth\n",
      "Train     7:   0%|                                                           | 0/15 [00:00<?, ?it/s]:  67%|█████████████████████████████████▎                | 10/15 [00:00<00:00, 96.11it/s]: 100%|██████████████████████████████████████████████████| 15/15 [00:00<00:00, 99.26it/s]\n",
      "07 Jul 22:22    INFO  epoch 7 training [time: 0.15s, train loss: 8.5761]\n",
      "Evaluate   :   0%|                                                          | 0/290 [00:00<?, ?it/s]: 100%|██████████████████████████████████████████████| 290/290 [00:00<00:00, 5490.22it/s]\n",
      "07 Jul 22:22    INFO  epoch 7 evaluating [time: 0.06s, valid_score: 0.035500]\n",
      "07 Jul 22:22    INFO  valid result: \n",
      "ndcg@10 : 0.0355    precision@10 : 0.006    recall@10 : 0.0604    mrr@10 : 0.028    hit@10 : 0.0604    map@10 : 0.028\n",
      "07 Jul 22:22    INFO  Saving current: logs/Jul07_222207_BPR_ml-100k/ckpts/BPR-Jul-07-2024_22-22-09.pth\n",
      "07 Jul 22:22    INFO  ** Validation result\n",
      "07 Jul 22:22    INFO  best_valid_score: 0.0355\n",
      "07 Jul 22:22    INFO  ndcg@10        : 0.0355\n",
      "07 Jul 22:22    INFO  precision@10   : 0.0060\n",
      "07 Jul 22:22    INFO  recall@10      : 0.0604\n",
      "07 Jul 22:22    INFO  mrr@10         : 0.0280\n",
      "07 Jul 22:22    INFO  hit@10         : 0.0604\n",
      "07 Jul 22:22    INFO  map@10         : 0.0280\n"
     ]
    }
   ],
   "source": [
    "best_valid_score, best_valid_result = trainer.fit(\n",
    "    train_data, \n",
    "    valid_data,\n",
    "    verbose=True,\n",
    "    show_progress=config[\"show_progress\"]\n",
    ")\n",
    "\n",
    "logger.info(\"** Validation result\")\n",
    "logger.info(f\"best_valid_score: {best_valid_score:.4f}\")\n",
    "for metric, val in best_valid_result.items():\n",
    "    logger.info(f\"{metric:<15}: {val:.4f}\")"
   ]
  },
  {
   "cell_type": "markdown",
   "metadata": {},
   "source": [
    "## 2.3. Start testing"
   ]
  },
  {
   "cell_type": "code",
   "execution_count": 9,
   "metadata": {},
   "outputs": [
    {
     "name": "stderr",
     "output_type": "stream",
     "text": [
      "07 Jul 22:22    INFO  Loading model structure and parameters from logs/Jul07_222207_BPR_ml-100k/ckpts/BPR-Jul-07-2024_22-22-09.pth\n",
      "07 Jul 22:22    INFO  ** Test result\n",
      "07 Jul 22:22    INFO  ndcg@10        : 0.0071\n",
      "07 Jul 22:22    INFO  precision@10   : 0.0007\n",
      "07 Jul 22:22    INFO  recall@10      : 0.0071\n",
      "07 Jul 22:22    INFO  mrr@10         : 0.0071\n",
      "07 Jul 22:22    INFO  hit@10         : 0.0071\n",
      "07 Jul 22:22    INFO  map@10         : 0.0071\n"
     ]
    }
   ],
   "source": [
    "test_result = trainer.evaluate(test_data)\n",
    "\n",
    "logger.info(\"** Test result\")\n",
    "for metric, val in test_result.items():\n",
    "    logger.info(f\"{metric:<15}: {val:.4f}\")"
   ]
  },
  {
   "cell_type": "markdown",
   "metadata": {},
   "source": [
    "# 3. Tune hyper params"
   ]
  },
  {
   "cell_type": "markdown",
   "metadata": {},
   "source": [
    "## 3.1. Define hyper params and object function"
   ]
  },
  {
   "cell_type": "code",
   "execution_count": 9,
   "metadata": {},
   "outputs": [],
   "source": [
    "def objective_function(config_dict=None, config_file_list=None):\n",
    "    config = Config(\n",
    "        config_dict=config_dict,\n",
    "        config_file_list=config_file_list,\n",
    "    )\n",
    "\n",
    "    init_seed(config[\"seed\"], config[\"reproducibility\"])\n",
    "\n",
    "    # Define data related things\n",
    "    if config['use_cutoff'] is True:\n",
    "        dataset = TimeCutoffDataset(config)\n",
    "    else:\n",
    "        dataset = create_dataset(config)\n",
    "    train_data, valid_data, test_data = data_preparation(config, dataset)\n",
    "\n",
    "    # Define model\n",
    "    model_name = config['model']\n",
    "    model = get_model(model_name)(config, train_data._dataset).to(config['device'])\n",
    "\n",
    "    # Define trainer\n",
    "    trainer = get_trainer(config['MODEL_TYPE'], config['model'])(config, model)\n",
    "\n",
    "    # Start training\n",
    "    best_valid_score, best_valid_result = trainer.fit(train_data, valid_data, verbose=True)\n",
    "\n",
    "    # Start evaluating\n",
    "    test_result = trainer.evaluate(test_data)\n",
    "\n",
    "    return {\n",
    "        'model': model_name,\n",
    "        'best_valid_score': best_valid_score,\n",
    "        'valid_score_bigger': config['valid_metric_bigger'],\n",
    "        'best_valid_result': best_valid_result,\n",
    "        'test_result': test_result\n",
    "    }"
   ]
  },
  {
   "cell_type": "markdown",
   "metadata": {},
   "source": [
    "## 3.2. Start tuning"
   ]
  },
  {
   "cell_type": "code",
   "execution_count": 10,
   "metadata": {},
   "outputs": [
    {
     "name": "stdout",
     "output_type": "stream",
     "text": [
      "  0%|          | 0/5 [00:00<?, ?trial/s, best loss=?]"
     ]
    },
    {
     "name": "stderr",
     "output_type": "stream",
     "text": [
      "07 Jul 22:36    INFO  build_posterior_wrapper took 0.000620 seconds\n",
      "07 Jul 22:36    INFO  TPE using 0 trials\n"
     ]
    },
    {
     "name": "stdout",
     "output_type": "stream",
     "text": [
      "running parameters:                                  \n",
      "{'learning_rate': 0.0005}                            \n",
      "  0%|          | 0/5 [00:00<?, ?trial/s, best loss=?]"
     ]
    },
    {
     "name": "stderr",
     "output_type": "stream",
     "text": [
      "07 Jul 22:36    INFO  Saving split dataloaders into: [logs/Jul07_223617_BPR_ml-100k/ckpts/ml-100k-for-BPR-dataloader.pth]\n",
      "07 Jul 22:36    INFO  [Training]: train_batch_size = [4096] train_neg_sample_args: [{'alpha': 1.0, 'candidate_num': 0, 'distribution': 'uniform', 'dynamic': False, 'sample_num': 1}]\n",
      "07 Jul 22:36    INFO  [Evaluation]: eval_batch_size = [4096] eval_args: [{'split': {'CO': '884471835'}, 'order': 'TO', 'group_by': 'user_id', 'mode': {'valid': 'full', 'test': 'full'}}]\n",
      "07 Jul 22:36    INFO  epoch 0 training [time: 0.15s, train loss: 10.3978]\n",
      "07 Jul 22:36    INFO  epoch 0 evaluating [time: 0.05s, valid_score: 0.000600]\n",
      "07 Jul 22:36    INFO  valid result: \n",
      "ndcg@10 : 0.0006    precision@10 : 0.0002    recall@10 : 0.0017    mrr@10 : 0.0003    hit@10 : 0.0017    map@10 : 0.0003\n",
      "07 Jul 22:36    INFO  Saving current: logs/Jul07_223617_BPR_ml-100k/ckpts/BPR-Jul-07-2024_22-36-44.pth\n",
      "07 Jul 22:36    INFO  epoch 1 training [time: 0.15s, train loss: 10.3817]\n",
      "07 Jul 22:36    INFO  epoch 1 evaluating [time: 0.05s, valid_score: 0.001200]\n",
      "07 Jul 22:36    INFO  valid result: \n",
      "ndcg@10 : 0.0012    precision@10 : 0.0003    recall@10 : 0.0035    mrr@10 : 0.0005    hit@10 : 0.0035    map@10 : 0.0005\n",
      "07 Jul 22:36    INFO  Saving current: logs/Jul07_223617_BPR_ml-100k/ckpts/BPR-Jul-07-2024_22-36-44.pth\n",
      "07 Jul 22:36    INFO  epoch 2 training [time: 0.19s, train loss: 10.3694]\n",
      "07 Jul 22:36    INFO  epoch 2 evaluating [time: 0.05s, valid_score: 0.000700]\n",
      "07 Jul 22:36    INFO  valid result: \n",
      "ndcg@10 : 0.0007    precision@10 : 0.0002    recall@10 : 0.0017    mrr@10 : 0.0003    hit@10 : 0.0017    map@10 : 0.0003\n",
      "07 Jul 22:36    INFO  epoch 3 training [time: 0.14s, train loss: 10.3531]\n",
      "07 Jul 22:36    INFO  epoch 3 evaluating [time: 0.05s, valid_score: 0.001200]\n",
      "07 Jul 22:36    INFO  valid result: \n",
      "ndcg@10 : 0.0012    precision@10 : 0.0003    recall@10 : 0.0035    mrr@10 : 0.0005    hit@10 : 0.0035    map@10 : 0.0005\n",
      "07 Jul 22:36    INFO  Saving current: logs/Jul07_223617_BPR_ml-100k/ckpts/BPR-Jul-07-2024_22-36-44.pth\n",
      "07 Jul 22:36    INFO  epoch 4 training [time: 0.14s, train loss: 10.3307]\n",
      "07 Jul 22:36    INFO  epoch 4 evaluating [time: 0.05s, valid_score: 0.001700]\n",
      "07 Jul 22:36    INFO  valid result: \n",
      "ndcg@10 : 0.0017    precision@10 : 0.0005    recall@10 : 0.0052    mrr@10 : 0.0007    hit@10 : 0.0052    map@10 : 0.0007\n",
      "07 Jul 22:36    INFO  Saving current: logs/Jul07_223617_BPR_ml-100k/ckpts/BPR-Jul-07-2024_22-36-44.pth\n",
      "07 Jul 22:36    INFO  epoch 5 training [time: 0.14s, train loss: 10.3042]\n",
      "07 Jul 22:36    INFO  epoch 5 evaluating [time: 0.05s, valid_score: 0.003000]\n",
      "07 Jul 22:36    INFO  valid result: \n",
      "ndcg@10 : 0.003    precision@10 : 0.0009    recall@10 : 0.0086    mrr@10 : 0.0013    hit@10 : 0.0086    map@10 : 0.0013\n",
      "07 Jul 22:36    INFO  Saving current: logs/Jul07_223617_BPR_ml-100k/ckpts/BPR-Jul-07-2024_22-36-44.pth\n",
      "07 Jul 22:36    INFO  epoch 6 training [time: 0.14s, train loss: 10.2624]\n",
      "07 Jul 22:36    INFO  epoch 6 evaluating [time: 0.05s, valid_score: 0.006600]\n",
      "07 Jul 22:36    INFO  valid result: \n",
      "ndcg@10 : 0.0066    precision@10 : 0.0017    recall@10 : 0.0173    mrr@10 : 0.0035    hit@10 : 0.0173    map@10 : 0.0035\n",
      "07 Jul 22:36    INFO  Saving current: logs/Jul07_223617_BPR_ml-100k/ckpts/BPR-Jul-07-2024_22-36-44.pth\n",
      "07 Jul 22:36    INFO  epoch 7 training [time: 0.14s, train loss: 10.2007]\n",
      "07 Jul 22:36    INFO  epoch 7 evaluating [time: 0.05s, valid_score: 0.010600]\n",
      "07 Jul 22:36    INFO  valid result: \n",
      "ndcg@10 : 0.0106    precision@10 : 0.0024    recall@10 : 0.0242    mrr@10 : 0.0065    hit@10 : 0.0242    map@10 : 0.0065\n",
      "07 Jul 22:36    INFO  Saving current: logs/Jul07_223617_BPR_ml-100k/ckpts/BPR-Jul-07-2024_22-36-44.pth\n",
      "07 Jul 22:36    INFO  Loading model structure and parameters from logs/Jul07_223617_BPR_ml-100k/ckpts/BPR-Jul-07-2024_22-36-44.pth\n"
     ]
    },
    {
     "name": "stdout",
     "output_type": "stream",
     "text": [
      "current best valid score: 0.0106                     \n",
      "current best valid result:                           \n",
      "OrderedDict([('ndcg@10', 0.0106), ('precision@10', 0.0024), ('recall@10', 0.0242), ('mrr@10', 0.0065), ('hit@10', 0.0242), ('map@10', 0.0065)])\n",
      "current test result:                                 \n",
      "OrderedDict([('ndcg@10', 0.0092), ('precision@10', 0.0014), ('recall@10', 0.0143), ('mrr@10', 0.0079), ('hit@10', 0.0143), ('map@10', 0.0079)])\n",
      " 20%|██        | 1/5 [00:03<00:13,  3.48s/trial, best loss: -0.0106]"
     ]
    },
    {
     "name": "stderr",
     "output_type": "stream",
     "text": [
      "07 Jul 22:36    INFO  build_posterior_wrapper took 0.000422 seconds\n",
      "07 Jul 22:36    INFO  TPE using 1/1 trials with best loss -0.010600\n"
     ]
    },
    {
     "name": "stdout",
     "output_type": "stream",
     "text": [
      "running parameters:                                                 \n",
      "{'learning_rate': 0.0001}                                           \n",
      " 20%|██        | 1/5 [00:03<00:13,  3.48s/trial, best loss: -0.0106]"
     ]
    },
    {
     "name": "stderr",
     "output_type": "stream",
     "text": [
      "07 Jul 22:36    INFO  Saving split dataloaders into: [logs/Jul07_223617_BPR_ml-100k/ckpts/ml-100k-for-BPR-dataloader.pth]\n",
      "07 Jul 22:36    INFO  [Training]: train_batch_size = [4096] train_neg_sample_args: [{'alpha': 1.0, 'candidate_num': 0, 'distribution': 'uniform', 'dynamic': False, 'sample_num': 1}]\n",
      "07 Jul 22:36    INFO  [Evaluation]: eval_batch_size = [4096] eval_args: [{'split': {'CO': '884471835'}, 'order': 'TO', 'group_by': 'user_id', 'mode': {'valid': 'full', 'test': 'full'}}]\n",
      "07 Jul 22:36    INFO  epoch 0 training [time: 0.14s, train loss: 10.3983]\n",
      "07 Jul 22:36    INFO  epoch 0 evaluating [time: 0.09s, valid_score: 0.000700]\n",
      "07 Jul 22:36    INFO  valid result: \n",
      "ndcg@10 : 0.0007    precision@10 : 0.0002    recall@10 : 0.0017    mrr@10 : 0.0003    hit@10 : 0.0017    map@10 : 0.0003\n",
      "07 Jul 22:36    INFO  Saving current: logs/Jul07_223617_BPR_ml-100k/ckpts/BPR-Jul-07-2024_22-36-47.pth\n",
      "07 Jul 22:36    INFO  epoch 1 training [time: 0.15s, train loss: 10.3947]\n",
      "07 Jul 22:36    INFO  epoch 1 evaluating [time: 0.04s, valid_score: 0.000700]\n",
      "07 Jul 22:36    INFO  valid result: \n",
      "ndcg@10 : 0.0007    precision@10 : 0.0002    recall@10 : 0.0017    mrr@10 : 0.0004    hit@10 : 0.0017    map@10 : 0.0004\n",
      "07 Jul 22:36    INFO  Saving current: logs/Jul07_223617_BPR_ml-100k/ckpts/BPR-Jul-07-2024_22-36-47.pth\n",
      "07 Jul 22:36    INFO  epoch 2 training [time: 0.14s, train loss: 10.3935]\n",
      "07 Jul 22:36    INFO  epoch 2 evaluating [time: 0.05s, valid_score: 0.000700]\n",
      "07 Jul 22:36    INFO  valid result: \n",
      "ndcg@10 : 0.0007    precision@10 : 0.0002    recall@10 : 0.0017    mrr@10 : 0.0004    hit@10 : 0.0017    map@10 : 0.0004\n",
      "07 Jul 22:36    INFO  Saving current: logs/Jul07_223617_BPR_ml-100k/ckpts/BPR-Jul-07-2024_22-36-47.pth\n",
      "07 Jul 22:36    INFO  epoch 3 training [time: 0.15s, train loss: 10.3907]\n",
      "07 Jul 22:36    INFO  epoch 3 evaluating [time: 0.05s, valid_score: 0.000700]\n",
      "07 Jul 22:36    INFO  valid result: \n",
      "ndcg@10 : 0.0007    precision@10 : 0.0002    recall@10 : 0.0017    mrr@10 : 0.0003    hit@10 : 0.0017    map@10 : 0.0003\n",
      "07 Jul 22:36    INFO  Saving current: logs/Jul07_223617_BPR_ml-100k/ckpts/BPR-Jul-07-2024_22-36-47.pth\n",
      "07 Jul 22:36    INFO  epoch 4 training [time: 0.15s, train loss: 10.3870]\n",
      "07 Jul 22:36    INFO  epoch 4 evaluating [time: 0.05s, valid_score: 0.000700]\n",
      "07 Jul 22:36    INFO  valid result: \n",
      "ndcg@10 : 0.0007    precision@10 : 0.0002    recall@10 : 0.0017    mrr@10 : 0.0003    hit@10 : 0.0017    map@10 : 0.0003\n",
      "07 Jul 22:36    INFO  Saving current: logs/Jul07_223617_BPR_ml-100k/ckpts/BPR-Jul-07-2024_22-36-47.pth\n",
      "07 Jul 22:36    INFO  epoch 5 training [time: 0.15s, train loss: 10.3861]\n",
      "07 Jul 22:36    INFO  epoch 5 evaluating [time: 0.09s, valid_score: 0.000700]\n",
      "07 Jul 22:36    INFO  valid result: \n",
      "ndcg@10 : 0.0007    precision@10 : 0.0002    recall@10 : 0.0017    mrr@10 : 0.0003    hit@10 : 0.0017    map@10 : 0.0003\n",
      "07 Jul 22:36    INFO  Saving current: logs/Jul07_223617_BPR_ml-100k/ckpts/BPR-Jul-07-2024_22-36-47.pth\n",
      "07 Jul 22:36    INFO  epoch 6 training [time: 0.16s, train loss: 10.3837]\n",
      "07 Jul 22:36    INFO  epoch 6 evaluating [time: 0.05s, valid_score: 0.000700]\n",
      "07 Jul 22:36    INFO  valid result: \n",
      "ndcg@10 : 0.0007    precision@10 : 0.0002    recall@10 : 0.0017    mrr@10 : 0.0003    hit@10 : 0.0017    map@10 : 0.0003\n",
      "07 Jul 22:36    INFO  Saving current: logs/Jul07_223617_BPR_ml-100k/ckpts/BPR-Jul-07-2024_22-36-47.pth\n",
      "07 Jul 22:36    INFO  epoch 7 training [time: 0.15s, train loss: 10.3816]\n",
      "07 Jul 22:36    INFO  epoch 7 evaluating [time: 0.05s, valid_score: 0.000700]\n",
      "07 Jul 22:36    INFO  valid result: \n",
      "ndcg@10 : 0.0007    precision@10 : 0.0002    recall@10 : 0.0017    mrr@10 : 0.0003    hit@10 : 0.0017    map@10 : 0.0003\n",
      "07 Jul 22:36    INFO  Saving current: logs/Jul07_223617_BPR_ml-100k/ckpts/BPR-Jul-07-2024_22-36-47.pth\n",
      "07 Jul 22:36    INFO  Loading model structure and parameters from logs/Jul07_223617_BPR_ml-100k/ckpts/BPR-Jul-07-2024_22-36-47.pth\n"
     ]
    },
    {
     "name": "stdout",
     "output_type": "stream",
     "text": [
      " 40%|████      | 2/5 [00:06<00:09,  3.23s/trial, best loss: -0.0106]"
     ]
    },
    {
     "name": "stderr",
     "output_type": "stream",
     "text": [
      "07 Jul 22:36    INFO  build_posterior_wrapper took 0.000349 seconds\n",
      "07 Jul 22:36    INFO  TPE using 2/2 trials with best loss -0.010600\n"
     ]
    },
    {
     "name": "stdout",
     "output_type": "stream",
     "text": [
      "running parameters:                                                 \n",
      "{'learning_rate': 0.005}                                            \n",
      " 40%|████      | 2/5 [00:06<00:09,  3.23s/trial, best loss: -0.0106]"
     ]
    },
    {
     "name": "stderr",
     "output_type": "stream",
     "text": [
      "07 Jul 22:36    INFO  Saving split dataloaders into: [logs/Jul07_223617_BPR_ml-100k/ckpts/ml-100k-for-BPR-dataloader.pth]\n",
      "07 Jul 22:36    INFO  [Training]: train_batch_size = [4096] train_neg_sample_args: [{'alpha': 1.0, 'candidate_num': 0, 'distribution': 'uniform', 'dynamic': False, 'sample_num': 1}]\n",
      "07 Jul 22:36    INFO  [Evaluation]: eval_batch_size = [4096] eval_args: [{'split': {'CO': '884471835'}, 'order': 'TO', 'group_by': 'user_id', 'mode': {'valid': 'full', 'test': 'full'}}]\n",
      "07 Jul 22:36    INFO  epoch 0 training [time: 0.14s, train loss: 10.3659]\n",
      "07 Jul 22:36    INFO  epoch 0 evaluating [time: 0.05s, valid_score: 0.010300]\n",
      "07 Jul 22:36    INFO  valid result: \n",
      "ndcg@10 : 0.0103    precision@10 : 0.0019    recall@10 : 0.019    mrr@10 : 0.0077    hit@10 : 0.019    map@10 : 0.0077\n",
      "07 Jul 22:36    INFO  Saving current: logs/Jul07_223617_BPR_ml-100k/ckpts/BPR-Jul-07-2024_22-36-50.pth\n",
      "07 Jul 22:36    INFO  epoch 1 training [time: 0.14s, train loss: 9.5172]\n",
      "07 Jul 22:36    INFO  epoch 1 evaluating [time: 0.05s, valid_score: 0.037900]\n",
      "07 Jul 22:36    INFO  valid result: \n",
      "ndcg@10 : 0.0379    precision@10 : 0.0074    recall@10 : 0.0743    mrr@10 : 0.0271    hit@10 : 0.0743    map@10 : 0.0271\n",
      "07 Jul 22:36    INFO  Saving current: logs/Jul07_223617_BPR_ml-100k/ckpts/BPR-Jul-07-2024_22-36-50.pth\n",
      "07 Jul 22:36    INFO  epoch 2 training [time: 0.14s, train loss: 6.6185]\n",
      "07 Jul 22:36    INFO  epoch 2 evaluating [time: 0.05s, valid_score: 0.047100]\n",
      "07 Jul 22:36    INFO  valid result: \n",
      "ndcg@10 : 0.0471    precision@10 : 0.009    recall@10 : 0.0898    mrr@10 : 0.0342    hit@10 : 0.0898    map@10 : 0.0342\n",
      "07 Jul 22:36    INFO  Saving current: logs/Jul07_223617_BPR_ml-100k/ckpts/BPR-Jul-07-2024_22-36-50.pth\n",
      "07 Jul 22:36    INFO  epoch 3 training [time: 0.14s, train loss: 4.5134]\n",
      "07 Jul 22:36    INFO  epoch 3 evaluating [time: 0.05s, valid_score: 0.053700]\n",
      "07 Jul 22:36    INFO  valid result: \n",
      "ndcg@10 : 0.0537    precision@10 : 0.0112    recall@10 : 0.1123    mrr@10 : 0.0363    hit@10 : 0.1123    map@10 : 0.0363\n",
      "07 Jul 22:36    INFO  Saving current: logs/Jul07_223617_BPR_ml-100k/ckpts/BPR-Jul-07-2024_22-36-50.pth\n",
      "07 Jul 22:36    INFO  epoch 4 training [time: 0.14s, train loss: 3.7754]\n",
      "07 Jul 22:36    INFO  epoch 4 evaluating [time: 0.05s, valid_score: 0.052500]\n",
      "07 Jul 22:36    INFO  valid result: \n",
      "ndcg@10 : 0.0525    precision@10 : 0.0105    recall@10 : 0.1054    mrr@10 : 0.0364    hit@10 : 0.1054    map@10 : 0.0364\n",
      "07 Jul 22:36    INFO  epoch 5 training [time: 0.14s, train loss: 3.4310]\n",
      "07 Jul 22:36    INFO  epoch 5 evaluating [time: 0.10s, valid_score: 0.056500]\n",
      "07 Jul 22:36    INFO  valid result: \n",
      "ndcg@10 : 0.0565    precision@10 : 0.0105    recall@10 : 0.1054    mrr@10 : 0.0417    hit@10 : 0.1054    map@10 : 0.0417\n",
      "07 Jul 22:36    INFO  Saving current: logs/Jul07_223617_BPR_ml-100k/ckpts/BPR-Jul-07-2024_22-36-50.pth\n",
      "07 Jul 22:36    INFO  epoch 6 training [time: 0.15s, train loss: 2.9613]\n",
      "07 Jul 22:36    INFO  epoch 6 evaluating [time: 0.05s, valid_score: 0.060500]\n",
      "07 Jul 22:36    INFO  valid result: \n",
      "ndcg@10 : 0.0605    precision@10 : 0.0117    recall@10 : 0.1174    mrr@10 : 0.0435    hit@10 : 0.1174    map@10 : 0.0435\n",
      "07 Jul 22:36    INFO  Saving current: logs/Jul07_223617_BPR_ml-100k/ckpts/BPR-Jul-07-2024_22-36-50.pth\n",
      "07 Jul 22:36    INFO  epoch 7 training [time: 0.14s, train loss: 2.7188]\n",
      "07 Jul 22:36    INFO  epoch 7 evaluating [time: 0.05s, valid_score: 0.060500]\n",
      "07 Jul 22:36    INFO  valid result: \n",
      "ndcg@10 : 0.0605    precision@10 : 0.0116    recall@10 : 0.1157    mrr@10 : 0.0442    hit@10 : 0.1157    map@10 : 0.0442\n",
      "07 Jul 22:36    INFO  Saving current: logs/Jul07_223617_BPR_ml-100k/ckpts/BPR-Jul-07-2024_22-36-50.pth\n",
      "07 Jul 22:36    INFO  Loading model structure and parameters from logs/Jul07_223617_BPR_ml-100k/ckpts/BPR-Jul-07-2024_22-36-50.pth\n"
     ]
    },
    {
     "name": "stdout",
     "output_type": "stream",
     "text": [
      "current best valid score: 0.0605                                    \n",
      "current best valid result:                                          \n",
      "OrderedDict([('ndcg@10', 0.0605), ('precision@10', 0.0116), ('recall@10', 0.1157), ('mrr@10', 0.0442), ('hit@10', 0.1157), ('map@10', 0.0442)])\n",
      "current test result:                                                \n",
      "OrderedDict([('ndcg@10', 0.0226), ('precision@10', 0.0043), ('recall@10', 0.0429), ('mrr@10', 0.0165), ('hit@10', 0.0429), ('map@10', 0.0165)])\n",
      " 60%|██████    | 3/5 [00:09<00:06,  3.13s/trial, best loss: -0.0605]"
     ]
    },
    {
     "name": "stderr",
     "output_type": "stream",
     "text": [
      "07 Jul 22:36    INFO  build_posterior_wrapper took 0.000365 seconds\n",
      "07 Jul 22:36    INFO  TPE using 3/3 trials with best loss -0.060500\n"
     ]
    },
    {
     "name": "stdout",
     "output_type": "stream",
     "text": [
      "running parameters:                                                 \n",
      "{'learning_rate': 0.01}                                             \n",
      " 60%|██████    | 3/5 [00:09<00:06,  3.13s/trial, best loss: -0.0605]"
     ]
    },
    {
     "name": "stderr",
     "output_type": "stream",
     "text": [
      "07 Jul 22:36    INFO  Saving split dataloaders into: [logs/Jul07_223617_BPR_ml-100k/ckpts/ml-100k-for-BPR-dataloader.pth]\n",
      "07 Jul 22:36    INFO  [Training]: train_batch_size = [4096] train_neg_sample_args: [{'alpha': 1.0, 'candidate_num': 0, 'distribution': 'uniform', 'dynamic': False, 'sample_num': 1}]\n",
      "07 Jul 22:36    INFO  [Evaluation]: eval_batch_size = [4096] eval_args: [{'split': {'CO': '884471835'}, 'order': 'TO', 'group_by': 'user_id', 'mode': {'valid': 'full', 'test': 'full'}}]\n",
      "07 Jul 22:36    INFO  epoch 0 training [time: 0.14s, train loss: 10.1517]\n",
      "07 Jul 22:36    INFO  epoch 0 evaluating [time: 0.05s, valid_score: 0.025200]\n",
      "07 Jul 22:36    INFO  valid result: \n",
      "ndcg@10 : 0.0252    precision@10 : 0.0052    recall@10 : 0.0518    mrr@10 : 0.0172    hit@10 : 0.0518    map@10 : 0.0172\n",
      "07 Jul 22:36    INFO  Saving current: logs/Jul07_223617_BPR_ml-100k/ckpts/BPR-Jul-07-2024_22-36-53.pth\n",
      "07 Jul 22:36    INFO  epoch 1 training [time: 0.14s, train loss: 6.4643]\n",
      "07 Jul 22:36    INFO  epoch 1 evaluating [time: 0.05s, valid_score: 0.051900]\n",
      "07 Jul 22:36    INFO  valid result: \n",
      "ndcg@10 : 0.0519    precision@10 : 0.0095    recall@10 : 0.095    mrr@10 : 0.0389    hit@10 : 0.095    map@10 : 0.0389\n",
      "07 Jul 22:36    INFO  Saving current: logs/Jul07_223617_BPR_ml-100k/ckpts/BPR-Jul-07-2024_22-36-53.pth\n",
      "07 Jul 22:36    INFO  epoch 2 training [time: 0.14s, train loss: 3.8800]\n",
      "07 Jul 22:36    INFO  epoch 2 evaluating [time: 0.05s, valid_score: 0.053200]\n",
      "07 Jul 22:36    INFO  valid result: \n",
      "ndcg@10 : 0.0532    precision@10 : 0.01    recall@10 : 0.1002    mrr@10 : 0.039    hit@10 : 0.1002    map@10 : 0.039\n",
      "07 Jul 22:36    INFO  Saving current: logs/Jul07_223617_BPR_ml-100k/ckpts/BPR-Jul-07-2024_22-36-53.pth\n",
      "07 Jul 22:36    INFO  epoch 3 training [time: 0.14s, train loss: 3.2143]\n",
      "07 Jul 22:36    INFO  epoch 3 evaluating [time: 0.05s, valid_score: 0.054100]\n",
      "07 Jul 22:36    INFO  valid result: \n",
      "ndcg@10 : 0.0541    precision@10 : 0.0102    recall@10 : 0.1019    mrr@10 : 0.0399    hit@10 : 0.1019    map@10 : 0.0399\n",
      "07 Jul 22:36    INFO  Saving current: logs/Jul07_223617_BPR_ml-100k/ckpts/BPR-Jul-07-2024_22-36-53.pth\n",
      "07 Jul 22:36    INFO  epoch 4 training [time: 0.14s, train loss: 2.5733]\n",
      "07 Jul 22:36    INFO  epoch 4 evaluating [time: 0.05s, valid_score: 0.050500]\n",
      "07 Jul 22:36    INFO  valid result: \n",
      "ndcg@10 : 0.0505    precision@10 : 0.0098    recall@10 : 0.0984    mrr@10 : 0.0361    hit@10 : 0.0984    map@10 : 0.0361\n",
      "07 Jul 22:36    INFO  epoch 5 training [time: 0.14s, train loss: 2.3109]\n",
      "07 Jul 22:36    INFO  epoch 5 evaluating [time: 0.05s, valid_score: 0.049200]\n",
      "07 Jul 22:36    INFO  valid result: \n",
      "ndcg@10 : 0.0492    precision@10 : 0.0098    recall@10 : 0.0984    mrr@10 : 0.0343    hit@10 : 0.0984    map@10 : 0.0343\n",
      "07 Jul 22:36    INFO  epoch 6 training [time: 0.14s, train loss: 1.9336]\n",
      "07 Jul 22:36    INFO  epoch 6 evaluating [time: 0.05s, valid_score: 0.061500]\n",
      "07 Jul 22:36    INFO  valid result: \n",
      "ndcg@10 : 0.0615    precision@10 : 0.0123    recall@10 : 0.1226    mrr@10 : 0.0433    hit@10 : 0.1226    map@10 : 0.0433\n",
      "07 Jul 22:36    INFO  Saving current: logs/Jul07_223617_BPR_ml-100k/ckpts/BPR-Jul-07-2024_22-36-53.pth\n",
      "07 Jul 22:36    INFO  epoch 7 training [time: 0.14s, train loss: 1.7443]\n",
      "07 Jul 22:36    INFO  epoch 7 evaluating [time: 0.05s, valid_score: 0.064100]\n",
      "07 Jul 22:36    INFO  valid result: \n",
      "ndcg@10 : 0.0641    precision@10 : 0.0121    recall@10 : 0.1209    mrr@10 : 0.0472    hit@10 : 0.1209    map@10 : 0.0472\n",
      "07 Jul 22:36    INFO  Saving current: logs/Jul07_223617_BPR_ml-100k/ckpts/BPR-Jul-07-2024_22-36-53.pth\n",
      "07 Jul 22:36    INFO  Loading model structure and parameters from logs/Jul07_223617_BPR_ml-100k/ckpts/BPR-Jul-07-2024_22-36-53.pth\n"
     ]
    },
    {
     "name": "stdout",
     "output_type": "stream",
     "text": [
      "current best valid score: 0.0641                                    \n",
      "current best valid result:                                          \n",
      "OrderedDict([('ndcg@10', 0.0641), ('precision@10', 0.0121), ('recall@10', 0.1209), ('mrr@10', 0.0472), ('hit@10', 0.1209), ('map@10', 0.0472)])\n",
      "current test result:                                                \n",
      "OrderedDict([('ndcg@10', 0.0256), ('precision@10', 0.0043), ('recall@10', 0.0429), ('mrr@10', 0.0206), ('hit@10', 0.0429), ('map@10', 0.0206)])\n",
      " 80%|████████  | 4/5 [00:12<00:03,  3.07s/trial, best loss: -0.0641]"
     ]
    },
    {
     "name": "stderr",
     "output_type": "stream",
     "text": [
      "07 Jul 22:36    INFO  build_posterior_wrapper took 0.000282 seconds\n",
      "07 Jul 22:36    INFO  TPE using 4/4 trials with best loss -0.064100\n"
     ]
    },
    {
     "name": "stdout",
     "output_type": "stream",
     "text": [
      "running parameters:                                                 \n",
      "{'learning_rate': 0.0001}                                           \n",
      " 80%|████████  | 4/5 [00:12<00:03,  3.07s/trial, best loss: -0.0641]"
     ]
    },
    {
     "name": "stderr",
     "output_type": "stream",
     "text": [
      "07 Jul 22:36    INFO  Saving split dataloaders into: [logs/Jul07_223617_BPR_ml-100k/ckpts/ml-100k-for-BPR-dataloader.pth]\n",
      "07 Jul 22:36    INFO  [Training]: train_batch_size = [4096] train_neg_sample_args: [{'alpha': 1.0, 'candidate_num': 0, 'distribution': 'uniform', 'dynamic': False, 'sample_num': 1}]\n",
      "07 Jul 22:36    INFO  [Evaluation]: eval_batch_size = [4096] eval_args: [{'split': {'CO': '884471835'}, 'order': 'TO', 'group_by': 'user_id', 'mode': {'valid': 'full', 'test': 'full'}}]\n",
      "07 Jul 22:36    INFO  epoch 0 training [time: 0.15s, train loss: 10.3983]\n",
      "07 Jul 22:36    INFO  epoch 0 evaluating [time: 0.05s, valid_score: 0.000700]\n",
      "07 Jul 22:36    INFO  valid result: \n",
      "ndcg@10 : 0.0007    precision@10 : 0.0002    recall@10 : 0.0017    mrr@10 : 0.0003    hit@10 : 0.0017    map@10 : 0.0003\n",
      "07 Jul 22:36    INFO  Saving current: logs/Jul07_223617_BPR_ml-100k/ckpts/BPR-Jul-07-2024_22-36-56.pth\n",
      "07 Jul 22:36    INFO  epoch 1 training [time: 0.15s, train loss: 10.3947]\n",
      "07 Jul 22:36    INFO  epoch 1 evaluating [time: 0.05s, valid_score: 0.000700]\n",
      "07 Jul 22:36    INFO  valid result: \n",
      "ndcg@10 : 0.0007    precision@10 : 0.0002    recall@10 : 0.0017    mrr@10 : 0.0004    hit@10 : 0.0017    map@10 : 0.0004\n",
      "07 Jul 22:36    INFO  Saving current: logs/Jul07_223617_BPR_ml-100k/ckpts/BPR-Jul-07-2024_22-36-56.pth\n",
      "07 Jul 22:36    INFO  epoch 2 training [time: 0.14s, train loss: 10.3935]\n",
      "07 Jul 22:36    INFO  epoch 2 evaluating [time: 0.05s, valid_score: 0.000700]\n",
      "07 Jul 22:36    INFO  valid result: \n",
      "ndcg@10 : 0.0007    precision@10 : 0.0002    recall@10 : 0.0017    mrr@10 : 0.0004    hit@10 : 0.0017    map@10 : 0.0004\n",
      "07 Jul 22:36    INFO  Saving current: logs/Jul07_223617_BPR_ml-100k/ckpts/BPR-Jul-07-2024_22-36-56.pth\n",
      "07 Jul 22:36    INFO  epoch 3 training [time: 0.14s, train loss: 10.3907]\n",
      "07 Jul 22:36    INFO  epoch 3 evaluating [time: 0.10s, valid_score: 0.000700]\n",
      "07 Jul 22:36    INFO  valid result: \n",
      "ndcg@10 : 0.0007    precision@10 : 0.0002    recall@10 : 0.0017    mrr@10 : 0.0003    hit@10 : 0.0017    map@10 : 0.0003\n",
      "07 Jul 22:36    INFO  Saving current: logs/Jul07_223617_BPR_ml-100k/ckpts/BPR-Jul-07-2024_22-36-56.pth\n",
      "07 Jul 22:36    INFO  epoch 4 training [time: 0.16s, train loss: 10.3870]\n",
      "07 Jul 22:36    INFO  epoch 4 evaluating [time: 0.05s, valid_score: 0.000700]\n",
      "07 Jul 22:36    INFO  valid result: \n",
      "ndcg@10 : 0.0007    precision@10 : 0.0002    recall@10 : 0.0017    mrr@10 : 0.0003    hit@10 : 0.0017    map@10 : 0.0003\n",
      "07 Jul 22:36    INFO  Saving current: logs/Jul07_223617_BPR_ml-100k/ckpts/BPR-Jul-07-2024_22-36-56.pth\n",
      "07 Jul 22:36    INFO  epoch 5 training [time: 0.15s, train loss: 10.3861]\n",
      "07 Jul 22:36    INFO  epoch 5 evaluating [time: 0.06s, valid_score: 0.000700]\n",
      "07 Jul 22:36    INFO  valid result: \n",
      "ndcg@10 : 0.0007    precision@10 : 0.0002    recall@10 : 0.0017    mrr@10 : 0.0003    hit@10 : 0.0017    map@10 : 0.0003\n",
      "07 Jul 22:36    INFO  Saving current: logs/Jul07_223617_BPR_ml-100k/ckpts/BPR-Jul-07-2024_22-36-56.pth\n",
      "07 Jul 22:36    INFO  epoch 6 training [time: 0.15s, train loss: 10.3837]\n",
      "07 Jul 22:36    INFO  epoch 6 evaluating [time: 0.05s, valid_score: 0.000700]\n",
      "07 Jul 22:36    INFO  valid result: \n",
      "ndcg@10 : 0.0007    precision@10 : 0.0002    recall@10 : 0.0017    mrr@10 : 0.0003    hit@10 : 0.0017    map@10 : 0.0003\n",
      "07 Jul 22:36    INFO  Saving current: logs/Jul07_223617_BPR_ml-100k/ckpts/BPR-Jul-07-2024_22-36-56.pth\n",
      "07 Jul 22:36    INFO  epoch 7 training [time: 0.15s, train loss: 10.3816]\n",
      "07 Jul 22:36    INFO  epoch 7 evaluating [time: 0.05s, valid_score: 0.000700]\n",
      "07 Jul 22:36    INFO  valid result: \n",
      "ndcg@10 : 0.0007    precision@10 : 0.0002    recall@10 : 0.0017    mrr@10 : 0.0003    hit@10 : 0.0017    map@10 : 0.0003\n",
      "07 Jul 22:36    INFO  Saving current: logs/Jul07_223617_BPR_ml-100k/ckpts/BPR-Jul-07-2024_22-36-56.pth\n",
      "07 Jul 22:36    INFO  Loading model structure and parameters from logs/Jul07_223617_BPR_ml-100k/ckpts/BPR-Jul-07-2024_22-36-56.pth\n"
     ]
    },
    {
     "name": "stdout",
     "output_type": "stream",
     "text": [
      "100%|██████████| 5/5 [00:15<00:00,  3.14s/trial, best loss: -0.0641]\n"
     ]
    }
   ],
   "source": [
    "tuning_algo = \"bayes\"\n",
    "early_stop = 3\n",
    "max_evals = 5\n",
    "\n",
    "hp = HyperTuning(\n",
    "    objective_function=objective_function,\n",
    "    algo=tuning_algo,\n",
    "    early_stop=early_stop,\n",
    "    max_evals=max_evals,\n",
    "    fixed_config_file_list=[paths.get_path_conf(), paths.get_path_param_conf()],\n",
    "    params_file=paths.get_path_tuning_conf(),\n",
    ")\n",
    "\n",
    "\n",
    "hp.run()"
   ]
  },
  {
   "cell_type": "markdown",
   "metadata": {},
   "source": [
    "## 3.3. Export tunning result"
   ]
  },
  {
   "cell_type": "code",
   "execution_count": 11,
   "metadata": {},
   "outputs": [
    {
     "name": "stderr",
     "output_type": "stream",
     "text": [
      "07 Jul 22:36    INFO  best params: \n",
      "07 Jul 22:36    INFO  {'learning_rate': 0.01}\n",
      "07 Jul 22:36    INFO  best result: \n",
      "07 Jul 22:36    INFO  {'model': 'BPR', 'best_valid_score': 0.0641, 'valid_score_bigger': True, 'best_valid_result': OrderedDict([('ndcg@10', 0.0641), ('precision@10', 0.0121), ('recall@10', 0.1209), ('mrr@10', 0.0472), ('hit@10', 0.1209), ('map@10', 0.0472)]), 'test_result': OrderedDict([('ndcg@10', 0.0256), ('precision@10', 0.0043), ('recall@10', 0.0429), ('mrr@10', 0.0206), ('hit@10', 0.0429), ('map@10', 0.0206)])}\n"
     ]
    }
   ],
   "source": [
    "# print best parameters\n",
    "logger.info('best params: ')\n",
    "logger.info(hp.best_params)\n",
    "\n",
    "# print best result\n",
    "logger.info('best result: ')\n",
    "logger.info(hp.params2result[hp.params2str(hp.best_params)])\n",
    "\n",
    "# export to JSON file\n",
    "tune_result = {\n",
    "    'best_params': hp.best_params,\n",
    "    'best_result': hp.params2result[hp.params2str(hp.best_params)]\n",
    "}\n",
    "with open(paths.get_path_tuning_log(), \"w+\") as f:\n",
    "    json.dump(tune_result, f, indent=2, ensure_ascii=False)"
   ]
  }
 ],
 "metadata": {
  "kernelspec": {
   "display_name": "py",
   "language": "python",
   "name": "python3"
  },
  "language_info": {
   "codemirror_mode": {
    "name": "ipython",
    "version": 3
   },
   "file_extension": ".py",
   "mimetype": "text/x-python",
   "name": "python",
   "nbconvert_exporter": "python",
   "pygments_lexer": "ipython3",
   "version": "3.10.14"
  }
 },
 "nbformat": 4,
 "nbformat_minor": 2
}
