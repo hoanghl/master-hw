{
 "cells": [
  {
   "cell_type": "code",
   "execution_count": 1,
   "metadata": {},
   "outputs": [
    {
     "name": "stdout",
     "output_type": "stream",
     "text": [
      "/Users/macos/Uni/Thesis\n"
     ]
    }
   ],
   "source": [
    "%load_ext autoreload\n",
    "%autoreload 2\n",
    "\n",
    "%cd ../"
   ]
  },
  {
   "cell_type": "code",
   "execution_count": 2,
   "metadata": {},
   "outputs": [],
   "source": [
    "import json\n",
    "import yaml\n",
    "\n",
    "from recbole.config import Config\n",
    "from recbole.data import data_preparation, create_dataset\n",
    "from recbole.trainer import HyperTuning\n",
    "from recbole.utils import (\n",
    "    get_model,\n",
    "    get_trainer,\n",
    "    init_seed\n",
    ")\n",
    "\n",
    "import src.utils as utils\n",
    "from src.real_temporal import TimeCutoffDataset"
   ]
  },
  {
   "cell_type": "markdown",
   "metadata": {},
   "source": [
    "# 1. Declarations & Definitions"
   ]
  },
  {
   "cell_type": "markdown",
   "metadata": {},
   "source": [
    "## 1.1. Define flags and global variables"
   ]
  },
  {
   "cell_type": "code",
   "execution_count": 3,
   "metadata": {},
   "outputs": [],
   "source": [
    "seed = 42\n",
    "\n",
    "use_cutoff = True\n",
    "reproducible = False\n",
    "\n",
    "model = \"BPR\"\n",
    "dataset = \"ml-1m\"\n",
    "loss_type = \"BPR\""
   ]
  },
  {
   "cell_type": "markdown",
   "metadata": {},
   "source": [
    "## 1.2. Define configurations\n",
    "\n",
    "Configuration for data, model, training and evaluation"
   ]
  },
  {
   "cell_type": "code",
   "execution_count": 4,
   "metadata": {},
   "outputs": [],
   "source": [
    "paths = utils.Paths(model, dataset)\n",
    "\n",
    "logger = utils.get_logger(model, dataset)"
   ]
  },
  {
   "cell_type": "code",
   "execution_count": 5,
   "metadata": {},
   "outputs": [],
   "source": [
    "config_dict = {\n",
    "    # For model \n",
    "    'model': model,\n",
    "    'loss_type': loss_type,\n",
    "\n",
    "    # For data\n",
    "    'dataset': dataset, \n",
    "    'load_col': {\"inter\": ['user_id', 'item_id', 'timestamp']},\n",
    "    'use_cutoff': use_cutoff,\n",
    "\n",
    "    # For training\n",
    "    'epochs': 20,\n",
    "    'train_batch_size': 4096,\n",
    "    'eval_step': 1,\n",
    "    'stopping_step': 3,\n",
    "    'learning_rate': 1e-3,\n",
    "    \n",
    "    # For evaluation\n",
    "    'eval_batch_size': 4096,\n",
    "    'metrics': [\"NDCG\", \"Precision\", \"Recall\", \"MRR\", \"Hit\", \"MAP\"],\n",
    "    'topk': 10,\n",
    "    'valid_metric': 'NDCG@10',\n",
    "\n",
    "    # Environment\n",
    "    'gpu_id': 0,\n",
    "    \"seed\": seed,\n",
    "    \"reproducibility\": reproducible,\n",
    "    'device': 'mps',\n",
    "    'use_gpu': True,\n",
    "    'data_path': paths.get_path_data_raw(),\n",
    "    \"checkpoint_dir\": paths.get_path_dir_ckpt(),\n",
    "    \"show_progress\": True,\n",
    "    'save_dataset': True,\n",
    "    'dataset_save_path': paths.get_path_data_processed(),\n",
    "    'save_dataloaders': True,\n",
    "    'dataloaders_save_path': paths.get_path_dataloader(),\n",
    "}\n",
    "\n",
    "if use_cutoff is True:\n",
    "    config_dict['eval_args'] = {\n",
    "        \"order\": \"TO\",\n",
    "        \"split\": {\"CO\": '976324045'},\n",
    "        \"group_by\": 'user_id',\n",
    "        'mode': 'full'\n",
    "    }\n",
    "else:\n",
    "    config_dict['eval_args'] = {\n",
    "        \"order\": \"TO\",\n",
    "        \"split\": { \"LS\": \"valid_and_test\" },\n",
    "        \"group_by\": None,\n",
    "        'mode': 'full'\n",
    "    }\n",
    "\n",
    "if loss_type == \"CE\":\n",
    "    config_dict[\"train_neg_sample_args\"] = None\n",
    "else:\n",
    "    config_dict[\"train_neg_sample_args\"] = {\n",
    "        \"distribution\": \"uniform\",\n",
    "        \"sample_num\": 1,\n",
    "        # \"dynamic\": False,\n",
    "        # \"candidate_num\": 0,\n",
    "    }\n",
    "\n",
    "with open(paths.get_path_conf(), 'w+') as f:\n",
    "    yaml.dump(config_dict, f, allow_unicode=True)"
   ]
  },
  {
   "cell_type": "markdown",
   "metadata": {},
   "source": [
    "# 2. Train"
   ]
  },
  {
   "cell_type": "markdown",
   "metadata": {},
   "source": [
    "## 2.1. Declare necessary components for training"
   ]
  },
  {
   "cell_type": "code",
   "execution_count": 6,
   "metadata": {},
   "outputs": [],
   "source": [
    "config = Config(config_dict=config_dict)\n",
    "\n",
    "init_seed(config[\"seed\"], config[\"reproducibility\"])\n",
    "\n",
    "# Define data related things\n",
    "if use_cutoff is True:\n",
    "    dataset = TimeCutoffDataset(config)\n",
    "else:\n",
    "    dataset = create_dataset(config)\n",
    "train_data, valid_data, test_data = data_preparation(config, dataset)\n",
    "\n",
    "# Define model\n",
    "model_name = config['model']\n",
    "model = get_model(model_name)(config, train_data._dataset).to(config['device'])\n",
    "\n",
    "# Define trainer\n",
    "trainer = get_trainer(config['MODEL_TYPE'], config['model'])(config, model)"
   ]
  },
  {
   "cell_type": "code",
   "execution_count": 7,
   "metadata": {},
   "outputs": [
    {
     "name": "stderr",
     "output_type": "stream",
     "text": [
      "\u001b[32m2024-07-06 00:27:02.811\u001b[0m | \u001b[1mINFO    \u001b[0m | \u001b[36m__main__\u001b[0m:\u001b[36m<module>\u001b[0m:\u001b[36m1\u001b[0m - \u001b[1m\n",
      "\u001b[1;35mGeneral Hyper Parameters:\n",
      "\u001b[0m\u001b[1;36mgpu_id\u001b[0m =\u001b[1;33m 0\u001b[0m\n",
      "\u001b[1;36muse_gpu\u001b[0m =\u001b[1;33m True\u001b[0m\n",
      "\u001b[1;36mseed\u001b[0m =\u001b[1;33m 42\u001b[0m\n",
      "\u001b[1;36mstate\u001b[0m =\u001b[1;33m INFO\u001b[0m\n",
      "\u001b[1;36mreproducibility\u001b[0m =\u001b[1;33m False\u001b[0m\n",
      "\u001b[1;36mdata_path\u001b[0m =\u001b[1;33m data/raw/ml-1m\u001b[0m\n",
      "\u001b[1;36mcheckpoint_dir\u001b[0m =\u001b[1;33m logs/Jul06_002648_BPR_ml-1m/ckpts\u001b[0m\n",
      "\u001b[1;36mshow_progress\u001b[0m =\u001b[1;33m True\u001b[0m\n",
      "\u001b[1;36msave_dataset\u001b[0m =\u001b[1;33m True\u001b[0m\n",
      "\u001b[1;36mdataset_save_path\u001b[0m =\u001b[1;33m data/processed/ml-1m.pth\u001b[0m\n",
      "\u001b[1;36msave_dataloaders\u001b[0m =\u001b[1;33m True\u001b[0m\n",
      "\u001b[1;36mdataloaders_save_path\u001b[0m =\u001b[1;33m data/dataloader/BPR-ml-1m.pth\u001b[0m\n",
      "\u001b[1;36mlog_wandb\u001b[0m =\u001b[1;33m False\u001b[0m\n",
      "\n",
      "\u001b[1;35mTraining Hyper Parameters:\n",
      "\u001b[0m\u001b[1;36mepochs\u001b[0m =\u001b[1;33m 20\u001b[0m\n",
      "\u001b[1;36mtrain_batch_size\u001b[0m =\u001b[1;33m 4096\u001b[0m\n",
      "\u001b[1;36mlearner\u001b[0m =\u001b[1;33m adam\u001b[0m\n",
      "\u001b[1;36mlearning_rate\u001b[0m =\u001b[1;33m 0.001\u001b[0m\n",
      "\u001b[1;36mtrain_neg_sample_args\u001b[0m =\u001b[1;33m {'distribution': 'uniform', 'sample_num': 1, 'alpha': 1.0, 'dynamic': False, 'candidate_num': 0}\u001b[0m\n",
      "\u001b[1;36meval_step\u001b[0m =\u001b[1;33m 1\u001b[0m\n",
      "\u001b[1;36mstopping_step\u001b[0m =\u001b[1;33m 3\u001b[0m\n",
      "\u001b[1;36mclip_grad_norm\u001b[0m =\u001b[1;33m None\u001b[0m\n",
      "\u001b[1;36mweight_decay\u001b[0m =\u001b[1;33m 0.0\u001b[0m\n",
      "\u001b[1;36mloss_decimal_place\u001b[0m =\u001b[1;33m 4\u001b[0m\n",
      "\n",
      "\u001b[1;35mEvaluation Hyper Parameters:\n",
      "\u001b[0m\u001b[1;36meval_args\u001b[0m =\u001b[1;33m {'split': {'CO': '976324045'}, 'order': 'TO', 'group_by': 'user_id', 'mode': {'valid': 'full', 'test': 'full'}}\u001b[0m\n",
      "\u001b[1;36mrepeatable\u001b[0m =\u001b[1;33m False\u001b[0m\n",
      "\u001b[1;36mmetrics\u001b[0m =\u001b[1;33m ['NDCG', 'Precision', 'Recall', 'MRR', 'Hit', 'MAP']\u001b[0m\n",
      "\u001b[1;36mtopk\u001b[0m =\u001b[1;33m [10]\u001b[0m\n",
      "\u001b[1;36mvalid_metric\u001b[0m =\u001b[1;33m NDCG@10\u001b[0m\n",
      "\u001b[1;36mvalid_metric_bigger\u001b[0m =\u001b[1;33m True\u001b[0m\n",
      "\u001b[1;36meval_batch_size\u001b[0m =\u001b[1;33m 4096\u001b[0m\n",
      "\u001b[1;36mmetric_decimal_place\u001b[0m =\u001b[1;33m 4\u001b[0m\n",
      "\n",
      "\u001b[1;35mDataset Hyper Parameters:\n",
      "\u001b[0m\u001b[1;36mfield_separator\u001b[0m =\u001b[1;33m \t\u001b[0m\n",
      "\u001b[1;36mseq_separator\u001b[0m =\u001b[1;33m  \u001b[0m\n",
      "\u001b[1;36mUSER_ID_FIELD\u001b[0m =\u001b[1;33m user_id\u001b[0m\n",
      "\u001b[1;36mITEM_ID_FIELD\u001b[0m =\u001b[1;33m item_id\u001b[0m\n",
      "\u001b[1;36mRATING_FIELD\u001b[0m =\u001b[1;33m rating\u001b[0m\n",
      "\u001b[1;36mTIME_FIELD\u001b[0m =\u001b[1;33m timestamp\u001b[0m\n",
      "\u001b[1;36mseq_len\u001b[0m =\u001b[1;33m None\u001b[0m\n",
      "\u001b[1;36mLABEL_FIELD\u001b[0m =\u001b[1;33m label\u001b[0m\n",
      "\u001b[1;36mthreshold\u001b[0m =\u001b[1;33m None\u001b[0m\n",
      "\u001b[1;36mNEG_PREFIX\u001b[0m =\u001b[1;33m neg_\u001b[0m\n",
      "\u001b[1;36mload_col\u001b[0m =\u001b[1;33m {'inter': ['user_id', 'item_id', 'timestamp']}\u001b[0m\n",
      "\u001b[1;36munload_col\u001b[0m =\u001b[1;33m None\u001b[0m\n",
      "\u001b[1;36munused_col\u001b[0m =\u001b[1;33m None\u001b[0m\n",
      "\u001b[1;36madditional_feat_suffix\u001b[0m =\u001b[1;33m None\u001b[0m\n",
      "\u001b[1;36mrm_dup_inter\u001b[0m =\u001b[1;33m None\u001b[0m\n",
      "\u001b[1;36mval_interval\u001b[0m =\u001b[1;33m None\u001b[0m\n",
      "\u001b[1;36mfilter_inter_by_user_or_item\u001b[0m =\u001b[1;33m True\u001b[0m\n",
      "\u001b[1;36muser_inter_num_interval\u001b[0m =\u001b[1;33m [0,inf)\u001b[0m\n",
      "\u001b[1;36mitem_inter_num_interval\u001b[0m =\u001b[1;33m [0,inf)\u001b[0m\n",
      "\u001b[1;36malias_of_user_id\u001b[0m =\u001b[1;33m None\u001b[0m\n",
      "\u001b[1;36malias_of_item_id\u001b[0m =\u001b[1;33m None\u001b[0m\n",
      "\u001b[1;36malias_of_entity_id\u001b[0m =\u001b[1;33m None\u001b[0m\n",
      "\u001b[1;36malias_of_relation_id\u001b[0m =\u001b[1;33m None\u001b[0m\n",
      "\u001b[1;36mpreload_weight\u001b[0m =\u001b[1;33m None\u001b[0m\n",
      "\u001b[1;36mnormalize_field\u001b[0m =\u001b[1;33m None\u001b[0m\n",
      "\u001b[1;36mnormalize_all\u001b[0m =\u001b[1;33m None\u001b[0m\n",
      "\u001b[1;36mITEM_LIST_LENGTH_FIELD\u001b[0m =\u001b[1;33m item_length\u001b[0m\n",
      "\u001b[1;36mLIST_SUFFIX\u001b[0m =\u001b[1;33m _list\u001b[0m\n",
      "\u001b[1;36mMAX_ITEM_LIST_LENGTH\u001b[0m =\u001b[1;33m 50\u001b[0m\n",
      "\u001b[1;36mPOSITION_FIELD\u001b[0m =\u001b[1;33m position_id\u001b[0m\n",
      "\u001b[1;36mHEAD_ENTITY_ID_FIELD\u001b[0m =\u001b[1;33m head_id\u001b[0m\n",
      "\u001b[1;36mTAIL_ENTITY_ID_FIELD\u001b[0m =\u001b[1;33m tail_id\u001b[0m\n",
      "\u001b[1;36mRELATION_ID_FIELD\u001b[0m =\u001b[1;33m relation_id\u001b[0m\n",
      "\u001b[1;36mENTITY_ID_FIELD\u001b[0m =\u001b[1;33m entity_id\u001b[0m\n",
      "\u001b[1;36mbenchmark_filename\u001b[0m =\u001b[1;33m None\u001b[0m\n",
      "\n",
      "\u001b[1;35mOther Hyper Parameters: \n",
      "\u001b[0m\u001b[1;36mworker\u001b[0m = \u001b[1;33m0\u001b[0m\n",
      "\u001b[1;36mwandb_project\u001b[0m = \u001b[1;33mrecbole\u001b[0m\n",
      "\u001b[1;36mshuffle\u001b[0m = \u001b[1;33mTrue\u001b[0m\n",
      "\u001b[1;36mrequire_pow\u001b[0m = \u001b[1;33mFalse\u001b[0m\n",
      "\u001b[1;36menable_amp\u001b[0m = \u001b[1;33mFalse\u001b[0m\n",
      "\u001b[1;36menable_scaler\u001b[0m = \u001b[1;33mFalse\u001b[0m\n",
      "\u001b[1;36mtransform\u001b[0m = \u001b[1;33mNone\u001b[0m\n",
      "\u001b[1;36membedding_size\u001b[0m = \u001b[1;33m64\u001b[0m\n",
      "\u001b[1;36mnumerical_features\u001b[0m = \u001b[1;33m[]\u001b[0m\n",
      "\u001b[1;36mdiscretization\u001b[0m = \u001b[1;33mNone\u001b[0m\n",
      "\u001b[1;36mkg_reverse_r\u001b[0m = \u001b[1;33mFalse\u001b[0m\n",
      "\u001b[1;36mentity_kg_num_interval\u001b[0m = \u001b[1;33m[0,inf)\u001b[0m\n",
      "\u001b[1;36mrelation_kg_num_interval\u001b[0m = \u001b[1;33m[0,inf)\u001b[0m\n",
      "\u001b[1;36mMODEL_TYPE\u001b[0m = \u001b[1;33mModelType.GENERAL\u001b[0m\n",
      "\u001b[1;36mloss_type\u001b[0m = \u001b[1;33mBPR\u001b[0m\n",
      "\u001b[1;36muse_cutoff\u001b[0m = \u001b[1;33mTrue\u001b[0m\n",
      "\u001b[1;36mdevice\u001b[0m = \u001b[1;33mcpu\u001b[0m\n",
      "\u001b[1;36mMODEL_INPUT_TYPE\u001b[0m = \u001b[1;33mInputType.PAIRWISE\u001b[0m\n",
      "\u001b[1;36meval_type\u001b[0m = \u001b[1;33mEvaluatorType.RANKING\u001b[0m\n",
      "\u001b[1;36msingle_spec\u001b[0m = \u001b[1;33mTrue\u001b[0m\n",
      "\u001b[1;36mlocal_rank\u001b[0m = \u001b[1;33m0\u001b[0m\n",
      "\u001b[1;36mvalid_neg_sample_args\u001b[0m = \u001b[1;33m{'distribution': 'uniform', 'sample_num': 'none'}\u001b[0m\n",
      "\u001b[1;36mtest_neg_sample_args\u001b[0m = \u001b[1;33m{'distribution': 'uniform', 'sample_num': 'none'}\u001b[0m\n",
      "\n",
      "\u001b[0m\n",
      "\u001b[32m2024-07-06 00:27:02.813\u001b[0m | \u001b[1mINFO    \u001b[0m | \u001b[36m__main__\u001b[0m:\u001b[36m<module>\u001b[0m:\u001b[36m2\u001b[0m - \u001b[1m\u001b[1;35mml-1m\u001b[0m\n",
      "\u001b[1;34mThe number of users\u001b[0m: 6041\n",
      "\u001b[1;34mAverage actions of users\u001b[0m: 164.5975165562914\n",
      "\u001b[1;34mThe number of items\u001b[0m: 3707\n",
      "\u001b[1;34mAverage actions of items\u001b[0m: 268.5491626148028\n",
      "\u001b[1;34mThe number of inters\u001b[0m: 994169\n",
      "\u001b[1;34mThe sparsity of the dataset\u001b[0m: 95.56055382188084%\n",
      "\u001b[1;34mRemain Fields\u001b[0m: ['user_id', 'item_id', 'timestamp', 'item_id_list', 'timestamp_list', 'item_length', 'neg_item_id']\u001b[0m\n",
      "\u001b[32m2024-07-06 00:27:02.954\u001b[0m | \u001b[1mINFO    \u001b[0m | \u001b[36m__main__\u001b[0m:\u001b[36m<module>\u001b[0m:\u001b[36m3\u001b[0m - \u001b[1mBPR(\n",
      "  (user_embedding): Embedding(6041, 64)\n",
      "  (item_embedding): Embedding(3707, 64)\n",
      "  (loss): BPRLoss()\n",
      ")\u001b[1;34m\n",
      "Trainable parameters\u001b[0m: 623872\u001b[0m\n"
     ]
    }
   ],
   "source": [
    "logger.info(config)\n",
    "logger.info(dataset)\n",
    "logger.info(model)"
   ]
  },
  {
   "cell_type": "markdown",
   "metadata": {},
   "source": [
    "## 2.2. Start training"
   ]
  },
  {
   "cell_type": "code",
   "execution_count": 8,
   "metadata": {},
   "outputs": [
    {
     "name": "stderr",
     "output_type": "stream",
     "text": [
      "\u001b[1;35mTrain     0\u001b[0m: 100%|████████████████████████████████████████████████| 204/204 [00:02<00:00, 83.39it/s]\u001b[0m\n",
      "\u001b[1;35mEvaluate   \u001b[0m: 100%|████████████████████████████████████████████| 5682/5682 [00:01<00:00, 4971.42it/s]\u001b[0m\n",
      "\u001b[1;35mTrain     1\u001b[0m: 100%|████████████████████████████████████████████████| 204/204 [00:02<00:00, 85.69it/s]\u001b[0m\n",
      "\u001b[1;35mEvaluate   \u001b[0m: 100%|████████████████████████████████████████████| 5682/5682 [00:01<00:00, 5279.05it/s]\u001b[0m\n",
      "\u001b[1;35mTrain     2\u001b[0m: 100%|████████████████████████████████████████████████| 204/204 [00:02<00:00, 85.40it/s]\u001b[0m\n",
      "\u001b[1;35mEvaluate   \u001b[0m: 100%|████████████████████████████████████████████| 5682/5682 [00:01<00:00, 5505.71it/s]\u001b[0m\n",
      "\u001b[1;35mTrain     3\u001b[0m: 100%|████████████████████████████████████████████████| 204/204 [00:02<00:00, 85.75it/s]\u001b[0m\n",
      "\u001b[1;35mEvaluate   \u001b[0m: 100%|████████████████████████████████████████████| 5682/5682 [00:01<00:00, 5145.04it/s]\u001b[0m\n",
      "\u001b[1;35mTrain     4\u001b[0m: 100%|████████████████████████████████████████████████| 204/204 [00:02<00:00, 85.12it/s]\u001b[0m\n",
      "\u001b[1;35mEvaluate   \u001b[0m: 100%|████████████████████████████████████████████| 5682/5682 [00:01<00:00, 5481.32it/s]\u001b[0m\n",
      "\u001b[1;35mTrain     5\u001b[0m: 100%|████████████████████████████████████████████████| 204/204 [00:02<00:00, 85.06it/s]\u001b[0m\n",
      "\u001b[1;35mEvaluate   \u001b[0m: 100%|████████████████████████████████████████████| 5682/5682 [00:01<00:00, 4908.30it/s]\u001b[0m\n",
      "\u001b[1;35mTrain     6\u001b[0m: 100%|████████████████████████████████████████████████| 204/204 [00:02<00:00, 87.91it/s]\u001b[0m\n",
      "\u001b[1;35mEvaluate   \u001b[0m: 100%|████████████████████████████████████████████| 5682/5682 [00:01<00:00, 5039.00it/s]\u001b[0m\n",
      "\u001b[1;35mTrain     7\u001b[0m: 100%|████████████████████████████████████████████████| 204/204 [00:02<00:00, 89.81it/s]\u001b[0m\n",
      "\u001b[1;35mEvaluate   \u001b[0m: 100%|████████████████████████████████████████████| 5682/5682 [00:01<00:00, 5230.27it/s]\u001b[0m\n",
      "\u001b[1;35mTrain     8\u001b[0m: 100%|████████████████████████████████████████████████| 204/204 [00:02<00:00, 86.02it/s]\u001b[0m\n",
      "\u001b[1;35mEvaluate   \u001b[0m: 100%|████████████████████████████████████████████| 5682/5682 [00:01<00:00, 5219.02it/s]\u001b[0m\n",
      "\u001b[1;35mTrain     9\u001b[0m: 100%|████████████████████████████████████████████████| 204/204 [00:02<00:00, 88.64it/s]\u001b[0m\n",
      "\u001b[1;35mEvaluate   \u001b[0m: 100%|████████████████████████████████████████████| 5682/5682 [00:01<00:00, 5253.10it/s]\u001b[0m\n",
      "\u001b[1;35mTrain    10\u001b[0m: 100%|████████████████████████████████████████████████| 204/204 [00:02<00:00, 87.74it/s]\u001b[0m\n",
      "\u001b[1;35mEvaluate   \u001b[0m: 100%|████████████████████████████████████████████| 5682/5682 [00:00<00:00, 5817.88it/s]\u001b[0m\n",
      "\u001b[1;35mTrain    11\u001b[0m: 100%|████████████████████████████████████████████████| 204/204 [00:02<00:00, 84.86it/s]\u001b[0m\n",
      "\u001b[1;35mEvaluate   \u001b[0m: 100%|████████████████████████████████████████████| 5682/5682 [00:01<00:00, 5281.30it/s]\u001b[0m\n",
      "\u001b[1;35mTrain    12\u001b[0m: 100%|████████████████████████████████████████████████| 204/204 [00:02<00:00, 89.88it/s]\u001b[0m\n",
      "\u001b[1;35mEvaluate   \u001b[0m: 100%|████████████████████████████████████████████| 5682/5682 [00:01<00:00, 5202.03it/s]\u001b[0m\n",
      "\u001b[1;35mTrain    13\u001b[0m: 100%|████████████████████████████████████████████████| 204/204 [00:02<00:00, 86.19it/s]\u001b[0m\n",
      "\u001b[1;35mEvaluate   \u001b[0m: 100%|████████████████████████████████████████████| 5682/5682 [00:01<00:00, 5550.15it/s]\u001b[0m\n",
      "\u001b[1;35mTrain    14\u001b[0m: 100%|████████████████████████████████████████████████| 204/204 [00:02<00:00, 82.18it/s]\u001b[0m\n",
      "\u001b[1;35mEvaluate   \u001b[0m: 100%|████████████████████████████████████████████| 5682/5682 [00:01<00:00, 5391.07it/s]\u001b[0m\n",
      "\u001b[1;35mTrain    15\u001b[0m: 100%|████████████████████████████████████████████████| 204/204 [00:02<00:00, 88.50it/s]\u001b[0m\n",
      "\u001b[1;35mEvaluate   \u001b[0m: 100%|████████████████████████████████████████████| 5682/5682 [00:01<00:00, 4747.91it/s]\u001b[0m\n",
      "\u001b[1;35mTrain    16\u001b[0m: 100%|████████████████████████████████████████████████| 204/204 [00:02<00:00, 86.41it/s]\u001b[0m\n",
      "\u001b[1;35mEvaluate   \u001b[0m: 100%|████████████████████████████████████████████| 5682/5682 [00:01<00:00, 5056.42it/s]\u001b[0m\n",
      "\u001b[1;35mTrain    17\u001b[0m: 100%|████████████████████████████████████████████████| 204/204 [00:02<00:00, 82.09it/s]\u001b[0m\n",
      "\u001b[1;35mEvaluate   \u001b[0m: 100%|████████████████████████████████████████████| 5682/5682 [00:01<00:00, 5374.66it/s]\u001b[0m\n",
      "\u001b[1;35mTrain    18\u001b[0m: 100%|████████████████████████████████████████████████| 204/204 [00:02<00:00, 86.22it/s]\u001b[0m\n",
      "\u001b[1;35mEvaluate   \u001b[0m: 100%|████████████████████████████████████████████| 5682/5682 [00:01<00:00, 5168.89it/s]\u001b[0m\n",
      "\u001b[1;35mTrain    19\u001b[0m: 100%|████████████████████████████████████████████████| 204/204 [00:02<00:00, 87.19it/s]\u001b[0m\n",
      "\u001b[1;35mEvaluate   \u001b[0m: 100%|████████████████████████████████████████████| 5682/5682 [00:01<00:00, 5300.81it/s]\u001b[0m\n",
      "\u001b[32m2024-07-06 00:28:12.725\u001b[0m | \u001b[1mINFO    \u001b[0m | \u001b[36m__main__\u001b[0m:\u001b[36m<module>\u001b[0m:\u001b[36m8\u001b[0m - \u001b[1m** Validation result\u001b[0m\n",
      "\u001b[32m2024-07-06 00:28:12.725\u001b[0m | \u001b[1mINFO    \u001b[0m | \u001b[36m__main__\u001b[0m:\u001b[36m<module>\u001b[0m:\u001b[36m9\u001b[0m - \u001b[1mbest_valid_score: 0.0360\u001b[0m\n",
      "\u001b[32m2024-07-06 00:28:12.726\u001b[0m | \u001b[1mINFO    \u001b[0m | \u001b[36m__main__\u001b[0m:\u001b[36m<module>\u001b[0m:\u001b[36m11\u001b[0m - \u001b[1mndcg@10        : 0.0360\u001b[0m\n",
      "\u001b[32m2024-07-06 00:28:12.726\u001b[0m | \u001b[1mINFO    \u001b[0m | \u001b[36m__main__\u001b[0m:\u001b[36m<module>\u001b[0m:\u001b[36m11\u001b[0m - \u001b[1mprecision@10   : 0.0073\u001b[0m\n",
      "\u001b[32m2024-07-06 00:28:12.727\u001b[0m | \u001b[1mINFO    \u001b[0m | \u001b[36m__main__\u001b[0m:\u001b[36m<module>\u001b[0m:\u001b[36m11\u001b[0m - \u001b[1mrecall@10      : 0.0725\u001b[0m\n",
      "\u001b[32m2024-07-06 00:28:12.728\u001b[0m | \u001b[1mINFO    \u001b[0m | \u001b[36m__main__\u001b[0m:\u001b[36m<module>\u001b[0m:\u001b[36m11\u001b[0m - \u001b[1mmrr@10         : 0.0251\u001b[0m\n",
      "\u001b[32m2024-07-06 00:28:12.728\u001b[0m | \u001b[1mINFO    \u001b[0m | \u001b[36m__main__\u001b[0m:\u001b[36m<module>\u001b[0m:\u001b[36m11\u001b[0m - \u001b[1mhit@10         : 0.0725\u001b[0m\n",
      "\u001b[32m2024-07-06 00:28:12.729\u001b[0m | \u001b[1mINFO    \u001b[0m | \u001b[36m__main__\u001b[0m:\u001b[36m<module>\u001b[0m:\u001b[36m11\u001b[0m - \u001b[1mmap@10         : 0.0251\u001b[0m\n"
     ]
    }
   ],
   "source": [
    "best_valid_score, best_valid_result = trainer.fit(\n",
    "    train_data, \n",
    "    valid_data,\n",
    "    verbose=True,\n",
    "    show_progress=config[\"show_progress\"]\n",
    ")\n",
    "\n",
    "logger.info(\"** Validation result\")\n",
    "logger.info(f\"best_valid_score: {best_valid_score:.4f}\")\n",
    "for metric, val in best_valid_result.items():\n",
    "    logger.info(f\"{metric:<15}: {val:.4f}\")"
   ]
  },
  {
   "cell_type": "markdown",
   "metadata": {},
   "source": [
    "## 3.3. Start testing"
   ]
  },
  {
   "cell_type": "code",
   "execution_count": 9,
   "metadata": {},
   "outputs": [
    {
     "name": "stderr",
     "output_type": "stream",
     "text": [
      "\u001b[32m2024-07-06 00:28:12.983\u001b[0m | \u001b[1mINFO    \u001b[0m | \u001b[36m__main__\u001b[0m:\u001b[36m<module>\u001b[0m:\u001b[36m3\u001b[0m - \u001b[1m** Test result\u001b[0m\n",
      "\u001b[32m2024-07-06 00:28:12.984\u001b[0m | \u001b[1mINFO    \u001b[0m | \u001b[36m__main__\u001b[0m:\u001b[36m<module>\u001b[0m:\u001b[36m5\u001b[0m - \u001b[1mndcg@10        : 0.0369\u001b[0m\n",
      "\u001b[32m2024-07-06 00:28:12.984\u001b[0m | \u001b[1mINFO    \u001b[0m | \u001b[36m__main__\u001b[0m:\u001b[36m<module>\u001b[0m:\u001b[36m5\u001b[0m - \u001b[1mprecision@10   : 0.0075\u001b[0m\n",
      "\u001b[32m2024-07-06 00:28:12.985\u001b[0m | \u001b[1mINFO    \u001b[0m | \u001b[36m__main__\u001b[0m:\u001b[36m<module>\u001b[0m:\u001b[36m5\u001b[0m - \u001b[1mrecall@10      : 0.0748\u001b[0m\n",
      "\u001b[32m2024-07-06 00:28:12.985\u001b[0m | \u001b[1mINFO    \u001b[0m | \u001b[36m__main__\u001b[0m:\u001b[36m<module>\u001b[0m:\u001b[36m5\u001b[0m - \u001b[1mmrr@10         : 0.0254\u001b[0m\n",
      "\u001b[32m2024-07-06 00:28:12.986\u001b[0m | \u001b[1mINFO    \u001b[0m | \u001b[36m__main__\u001b[0m:\u001b[36m<module>\u001b[0m:\u001b[36m5\u001b[0m - \u001b[1mhit@10         : 0.0748\u001b[0m\n",
      "\u001b[32m2024-07-06 00:28:12.987\u001b[0m | \u001b[1mINFO    \u001b[0m | \u001b[36m__main__\u001b[0m:\u001b[36m<module>\u001b[0m:\u001b[36m5\u001b[0m - \u001b[1mmap@10         : 0.0254\u001b[0m\n"
     ]
    }
   ],
   "source": [
    "test_result = trainer.evaluate(test_data)\n",
    "\n",
    "logger.info(\"** Test result\")\n",
    "for metric, val in test_result.items():\n",
    "    logger.info(f\"{metric:<15}: {val:.4f}\")"
   ]
  },
  {
   "cell_type": "markdown",
   "metadata": {},
   "source": [
    "# 4. Tune hyper params"
   ]
  },
  {
   "cell_type": "markdown",
   "metadata": {},
   "source": [
    "## 4.1. Define hyper params and object function"
   ]
  },
  {
   "cell_type": "code",
   "execution_count": 10,
   "metadata": {},
   "outputs": [],
   "source": [
    "def objective_function(config_dict=None, config_file_list=None):\n",
    "    config = Config(\n",
    "        config_dict=config_dict,\n",
    "        config_file_list=config_file_list,\n",
    "    )\n",
    "\n",
    "    init_seed(config[\"seed\"], config[\"reproducibility\"])\n",
    "\n",
    "    # Define data related things\n",
    "    if config['use_cutoff'] is True:\n",
    "        dataset = TimeCutoffDataset(config)\n",
    "    else:\n",
    "        dataset = create_dataset(config)\n",
    "    train_data, valid_data, test_data = data_preparation(config, dataset)\n",
    "\n",
    "    # Define model\n",
    "    model_name = config['model']\n",
    "    model = get_model(model_name)(config, train_data._dataset).to(config['device'])\n",
    "\n",
    "    # Define trainer\n",
    "    trainer = get_trainer(config['MODEL_TYPE'], config['model'])(config, model)\n",
    "\n",
    "    # Start training\n",
    "    best_valid_score, best_valid_result = trainer.fit(train_data, valid_data, verbose=False)\n",
    "\n",
    "    # Start evaluating\n",
    "    test_result = trainer.evaluate(test_data)\n",
    "\n",
    "    return {\n",
    "        'model': model_name,\n",
    "        'best_valid_score': best_valid_score,\n",
    "        'valid_score_bigger': config['valid_metric_bigger'],\n",
    "        'best_valid_result': best_valid_result,\n",
    "        'test_result': test_result\n",
    "    }"
   ]
  },
  {
   "cell_type": "markdown",
   "metadata": {},
   "source": [
    "## 4.2. Start tuning"
   ]
  },
  {
   "cell_type": "code",
   "execution_count": 11,
   "metadata": {},
   "outputs": [
    {
     "name": "stdout",
     "output_type": "stream",
     "text": [
      "running parameters:                                  \n",
      "{'learning_rate': 0.0005}                            \n",
      "current best valid score: 0.0274                     \n",
      "current best valid result:                           \n",
      "OrderedDict([('ndcg@10', 0.0274), ('precision@10', 0.0055), ('recall@10', 0.0547), ('mrr@10', 0.0191), ('hit@10', 0.0547), ('map@10', 0.0191)])\n",
      "current test result:                                 \n",
      "OrderedDict([('ndcg@10', 0.0368), ('precision@10', 0.0069), ('recall@10', 0.0689), ('mrr@10', 0.0271), ('hit@10', 0.0689), ('map@10', 0.0271)])\n",
      "running parameters:                                                 \n",
      "{'learning_rate': 0.0001}                                           \n",
      "running parameters:                                                 \n",
      "{'learning_rate': 0.005}                                            \n",
      "current best valid score: 0.0429                                    \n",
      "current best valid result:                                          \n",
      "OrderedDict([('ndcg@10', 0.0429), ('precision@10', 0.0088), ('recall@10', 0.0876), ('mrr@10', 0.0296), ('hit@10', 0.0876), ('map@10', 0.0296)])\n",
      "current test result:                                                \n",
      "OrderedDict([('ndcg@10', 0.0266), ('precision@10', 0.0053), ('recall@10', 0.0529), ('mrr@10', 0.0187), ('hit@10', 0.0529), ('map@10', 0.0187)])\n",
      "running parameters:                                                 \n",
      "{'learning_rate': 0.0001}                                           \n",
      "running parameters:                                                 \n",
      "{'learning_rate': 0.005}                                            \n",
      "100%|██████████| 5/5 [06:14<00:00, 74.93s/trial, best loss: -0.0429]\n"
     ]
    }
   ],
   "source": [
    "tuning_algo = \"bayes\"\n",
    "early_stop = 3\n",
    "max_evals = 5\n",
    "\n",
    "hp = HyperTuning(\n",
    "    objective_function=objective_function,\n",
    "    algo=tuning_algo,\n",
    "    early_stop=early_stop,\n",
    "    max_evals=max_evals,\n",
    "    fixed_config_file_list=[paths.get_path_conf()],\n",
    "    params_file=paths.get_path_tuning_conf(),\n",
    ")\n",
    "\n",
    "\n",
    "hp.run()"
   ]
  },
  {
   "cell_type": "markdown",
   "metadata": {},
   "source": [
    "## 4.3. Export tunning result"
   ]
  },
  {
   "cell_type": "code",
   "execution_count": 12,
   "metadata": {},
   "outputs": [
    {
     "name": "stderr",
     "output_type": "stream",
     "text": [
      "\u001b[32m2024-07-06 00:34:27.857\u001b[0m | \u001b[1mINFO    \u001b[0m | \u001b[36m__main__\u001b[0m:\u001b[36m<module>\u001b[0m:\u001b[36m2\u001b[0m - \u001b[1mbest params: \u001b[0m\n",
      "\u001b[32m2024-07-06 00:34:27.858\u001b[0m | \u001b[1mINFO    \u001b[0m | \u001b[36m__main__\u001b[0m:\u001b[36m<module>\u001b[0m:\u001b[36m5\u001b[0m - \u001b[1mbest result: \u001b[0m\n",
      "\u001b[32m2024-07-06 00:34:27.859\u001b[0m | \u001b[1mINFO    \u001b[0m | \u001b[36m__main__\u001b[0m:\u001b[36m<module>\u001b[0m:\u001b[36m6\u001b[0m - \u001b[1m{'model': 'BPR', 'best_valid_score': 0.0429, 'valid_score_bigger': True, 'best_valid_result': OrderedDict([('ndcg@10', 0.0429), ('precision@10', 0.0088), ('recall@10', 0.0876), ('mrr@10', 0.0296), ('hit@10', 0.0876), ('map@10', 0.0296)]), 'test_result': OrderedDict([('ndcg@10', 0.0266), ('precision@10', 0.0053), ('recall@10', 0.0529), ('mrr@10', 0.0187), ('hit@10', 0.0529), ('map@10', 0.0187)])}\u001b[0m\n"
     ]
    }
   ],
   "source": [
    "# print best parameters\n",
    "logger.info('best params: ', hp.best_params)\n",
    "\n",
    "# print best result\n",
    "logger.info('best result: ')\n",
    "logger.info(hp.params2result[hp.params2str(hp.best_params)])\n",
    "\n",
    "# export to JSON file\n",
    "tune_result = {\n",
    "    'best_params': hp.best_params,\n",
    "    'best_result': hp.params2result[hp.params2str(hp.best_params)]\n",
    "}\n",
    "with open(paths.get_path_tuning_log(), \"w+\") as f:\n",
    "    json.dump(tune_result, f, indent=2, ensure_ascii=False)"
   ]
  }
 ],
 "metadata": {
  "kernelspec": {
   "display_name": "py",
   "language": "python",
   "name": "python3"
  },
  "language_info": {
   "codemirror_mode": {
    "name": "ipython",
    "version": 3
   },
   "file_extension": ".py",
   "mimetype": "text/x-python",
   "name": "python",
   "nbconvert_exporter": "python",
   "pygments_lexer": "ipython3",
   "version": "3.10.14"
  }
 },
 "nbformat": 4,
 "nbformat_minor": 2
}
