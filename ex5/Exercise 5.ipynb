{
 "cells": [
  {
   "cell_type": "markdown",
   "id": "0907d463",
   "metadata": {},
   "source": [
    "## Student: Huy Hoang Le"
   ]
  },
  {
   "cell_type": "markdown",
   "id": "3611ce15",
   "metadata": {},
   "source": [
    "## Exercise 5.1."
   ]
  },
  {
   "cell_type": "markdown",
   "id": "71003880",
   "metadata": {},
   "source": [
    "### Answer"
   ]
  },
  {
   "cell_type": "markdown",
   "id": "f9feb82c",
   "metadata": {},
   "source": [
    "## Exercise 5.2."
   ]
  },
  {
   "cell_type": "markdown",
   "id": "8600a3ae",
   "metadata": {},
   "source": [
    "### Answer"
   ]
  },
  {
   "cell_type": "markdown",
   "id": "de28c170",
   "metadata": {},
   "source": [
    "## Exercise 5.3."
   ]
  },
  {
   "cell_type": "markdown",
   "id": "ba84a7dc",
   "metadata": {},
   "source": [
    "### Answer"
   ]
  },
  {
   "cell_type": "markdown",
   "id": "4a7b4c53",
   "metadata": {},
   "source": [
    "## Exercise 5.4."
   ]
  }
 ],
 "metadata": {
  "kernelspec": {
   "display_name": ".venv",
   "language": "python",
   "name": "python3"
  },
  "language_info": {
   "codemirror_mode": {
    "name": "ipython",
    "version": 3
   },
   "file_extension": ".py",
   "mimetype": "text/x-python",
   "name": "python",
   "nbconvert_exporter": "python",
   "pygments_lexer": "ipython3",
   "version": "3.11.9"
  }
 },
 "nbformat": 4,
 "nbformat_minor": 5
}
