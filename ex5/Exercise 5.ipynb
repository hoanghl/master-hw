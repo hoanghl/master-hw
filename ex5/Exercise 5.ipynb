{
 "cells": [
  {
   "cell_type": "markdown",
   "id": "0907d463",
   "metadata": {},
   "source": [
    "## Student: Huy Hoang Le"
   ]
  },
  {
   "cell_type": "code",
   "execution_count": 13,
   "id": "c1341b5a",
   "metadata": {},
   "outputs": [],
   "source": [
    "from pathlib import Path\n",
    "\n",
    "import numpy as np\n",
    "import cv2 as cv\n",
    "\n",
    "class Paths:\n",
    "    DIR_RESULT = Path(\"results\")\n",
    "\n",
    "    @staticmethod\n",
    "    def path_ex53(i: int):\n",
    "        path = Paths.DIR_RESULT / \"5_3\" / f\"{i:04}.jpg\"\n",
    "        path.parent.mkdir(exist_ok=True, parents=True)\n",
    "\n",
    "        return path\n",
    "    \n",
    "    @staticmethod\n",
    "    def path_ex54(i: int):\n",
    "        path1 = Paths.DIR_RESULT / \"5_4\" / f\"{i:04}.jpg\"\n",
    "        path2 = Paths.DIR_RESULT / \"5_4\" / f\"{i:04}_mask.jpg\"\n",
    "        path1.parent.mkdir(exist_ok=True, parents=True)\n",
    "\n",
    "        return path1, path2"
   ]
  },
  {
   "cell_type": "markdown",
   "id": "3611ce15",
   "metadata": {},
   "source": [
    "## Exercise 5.1."
   ]
  },
  {
   "cell_type": "markdown",
   "id": "71003880",
   "metadata": {},
   "source": [
    "### Answer\n",
    "\n",
    "(1)\n",
    "\n",
    "(2) Steps to rectify stereo images\n",
    "\n",
    "Requirement: 2 cameras are calibrated. I assume 2 cameras have the same calibration matrix $K$ for simplicity.\n",
    "\n",
    "Denote:\n",
    "- $K$: calibration matrix\n",
    "- $P_1$, $P_2: camera matrix of 2 cameras\n",
    "- $F$: fundamental matrix\n",
    "- $R$, $t$: rotation matrix and translation vector indicating displacement from camera 2 to the world origin (i.e. camera 1)\n",
    "\n",
    "\n",
    "Assume:\n",
    "- world origin is located at the 1st camera\n",
    "\n",
    "Steps:\n",
    "1. Find Fundamental matrix $F$ with 8-point algorithm, then determine $R$ and $t$\n",
    "2. Rotate right image with $R$\n",
    "3. Rotate both images with $R$ and $R_{rect}$\n",
    "   ($R_{rect}$ is defined such that after this step, the epipolar lines of both images are parallel with the baseline and coincided)\n",
    "4. Scale left image with $KR_{rect}$, scale right image with $KRR_{rect}$\n",
    "   (This scaling step helps minimizing horizontal distortion)"
   ]
  },
  {
   "cell_type": "markdown",
   "id": "f9feb82c",
   "metadata": {},
   "source": [
    "## Exercise 5.2."
   ]
  },
  {
   "cell_type": "markdown",
   "id": "8600a3ae",
   "metadata": {},
   "source": [
    "### Answer\n",
    "\n",
    "Lucas-Kanade algorithm is a patch-based solution to find the displacement. It works based on several assumptions:\n",
    "- The flow is locally smooth\n",
    "- The displacement is similar with all pixels withing a patch.\n",
    "\n"
   ]
  },
  {
   "cell_type": "markdown",
   "id": "de28c170",
   "metadata": {},
   "source": [
    "## Exercise 5.3."
   ]
  },
  {
   "cell_type": "code",
   "execution_count": 6,
   "id": "af3324cb",
   "metadata": {},
   "outputs": [
    {
     "name": "stdout",
     "output_type": "stream",
     "text": [
      "No frames grabbed!\n"
     ]
    }
   ],
   "source": [
    "\n",
    "\n",
    "path = \"OF_Single.mp4\"\n",
    "\n",
    "cap = cv.VideoCapture(path)\n",
    "\n",
    " \n",
    "# params for ShiTomasi corner detection\n",
    "feature_params = dict(\n",
    "    maxCorners = 100,\n",
    "    qualityLevel = 0.3,\n",
    "    minDistance = 7,\n",
    "    blockSize = 7\n",
    ")\n",
    "\n",
    "# Parameters for lucas kanade optical flow\n",
    "lk_params = dict(\n",
    "    winSize  = (15, 15),\n",
    "    maxLevel = 2,\n",
    "    criteria = (cv.TERM_CRITERIA_EPS | cv.TERM_CRITERIA_COUNT, 10, 0.03)\n",
    ")\n",
    " \n",
    "# Create some random colors\n",
    "color = np.random.randint(0, 255, (100, 3))\n",
    " \n",
    "# Take first frame and find corners in it\n",
    "ret, old_frame = cap.read()\n",
    "old_gray = cv.cvtColor(old_frame, cv.COLOR_BGR2GRAY)\n",
    "p0 = cv.goodFeaturesToTrack(old_gray, mask = None, **feature_params)\n",
    "\n",
    "width, height,_ = old_frame.shape\n",
    "vidwriter = cv.VideoWriter(\"output.mp4\", cv.VideoWriter_fourcc(*\"mp4v\"), 25, (width, height))\n",
    " \n",
    "# Create a mask image for drawing purposes\n",
    "mask = np.zeros_like(old_frame)\n",
    "i = 1\n",
    "while True:\n",
    "    ret, frame = cap.read()\n",
    "    if not ret:\n",
    "        print('here: No frames grabbed!')\n",
    "        break\n",
    " \n",
    "    frame_gray = cv.cvtColor(frame, cv.COLOR_BGR2GRAY)\n",
    " \n",
    "    # calculate optical flow\n",
    "    p1, st, err = cv.calcOpticalFlowPyrLK(old_gray, frame_gray, p0, None, **lk_params)\n",
    " \n",
    "    # Select good points\n",
    "    if p1 is not None:\n",
    "        good_new = p1[st==1]\n",
    "        good_old = p0[st==1]\n",
    " \n",
    "    # draw the tracks\n",
    "    for i, (new, old) in enumerate(zip(good_new, good_old)):\n",
    "        a, b = new.ravel()\n",
    "        c, d = old.ravel()\n",
    "        mask = cv.line(mask, (int(a), int(b)), (int(c), int(d)), color[i].tolist(), 2)\n",
    "        frame = cv.circle(frame, (int(a), int(b)), 5, color[i].tolist(), -1)\n",
    "    img = cv.add(frame, mask)\n",
    " \n",
    "    # cv.imshow('frame', img)\n",
    "    # k = cv.waitKey(30) & 0xff\n",
    "    # if k == 27:\n",
    "    #     break\n",
    "    cv.imwrite(Paths.path_ex53(i), img)\n",
    " \n",
    "    # Now update the previous frame and previous points\n",
    "    old_gray = frame_gray.copy()\n",
    "    p0 = good_new.reshape(-1, 1, 2)\n",
    "\n",
    "    i += 1\n"
   ]
  },
  {
   "cell_type": "markdown",
   "id": "ba84a7dc",
   "metadata": {},
   "source": [
    "### Answer\n",
    "\n",
    "(2)\n",
    "\n",
    "The reason why Lucas-Kande only chooses corners to track is to avoid aperture problem. Basically, if a point is in a line and the movement is across the line, it is very hard to determine the displacement. Therefore, by choosing corners, it allows the displacement can perform in any direction.\n",
    "\n",
    "[?] Moreover, some selected pixels are lost or changed in the tracking process. Please explain the reason.\n",
    "The\n"
   ]
  },
  {
   "cell_type": "markdown",
   "id": "4a7b4c53",
   "metadata": {},
   "source": [
    "## Exercise 5.4."
   ]
  },
  {
   "cell_type": "code",
   "execution_count": 14,
   "id": "51c5658c",
   "metadata": {},
   "outputs": [
    {
     "name": "stdout",
     "output_type": "stream",
     "text": [
      "No frames grabbed!\n"
     ]
    }
   ],
   "source": [
    "path = \"OF_Dense.mp4\"\n",
    "\n",
    "cap = cv.VideoCapture(path)\n",
    "\n",
    "ret, frame1 = cap.read()\n",
    "prvs = cv.cvtColor(frame1, cv.COLOR_BGR2GRAY)\n",
    "hsv = np.zeros_like(frame1)\n",
    "hsv[..., 1] = 255\n",
    "i = 1\n",
    "while(1):\n",
    "    ret, frame2 = cap.read()\n",
    "    if not ret:\n",
    "        print('No frames grabbed!')\n",
    "        break\n",
    " \n",
    "    next = cv.cvtColor(frame2, cv.COLOR_BGR2GRAY)\n",
    "    flow = cv.calcOpticalFlowFarneback(prvs, next, None, 0.5, 3, 15, 3, 5, 1.2, 0)\n",
    "    mag, ang = cv.cartToPolar(flow[..., 0], flow[..., 1])\n",
    "    hsv[..., 0] = ang*180/np.pi/2\n",
    "    hsv[..., 2] = cv.normalize(mag, None, 0, 255, cv.NORM_MINMAX)\n",
    "    bgr = cv.cvtColor(hsv, cv.COLOR_HSV2BGR)\n",
    "    # cv.imshow('frame2', bgr)\n",
    "    # cv.imwrite(, bgr)\n",
    "    path_img, path_msk = Paths.path_ex54(i)\n",
    "    cv.imwrite(path_img, frame2)\n",
    "    cv.imwrite(path_msk, bgr)\n",
    "\n",
    "    prvs = next\n",
    "\n",
    "    i += 1"
   ]
  }
 ],
 "metadata": {
  "kernelspec": {
   "display_name": ".venv",
   "language": "python",
   "name": "python3"
  },
  "language_info": {
   "codemirror_mode": {
    "name": "ipython",
    "version": 3
   },
   "file_extension": ".py",
   "mimetype": "text/x-python",
   "name": "python",
   "nbconvert_exporter": "python",
   "pygments_lexer": "ipython3",
   "version": "3.11.9"
  }
 },
 "nbformat": 4,
 "nbformat_minor": 5
}
