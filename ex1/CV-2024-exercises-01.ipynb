{
 "cells": [
  {
   "cell_type": "markdown",
   "id": "da7ea033",
   "metadata": {},
   "source": [
    "# Computer Vision, Fall 2024\n",
    "\n",
    "#### Name:\n",
    "\n",
    "#### <font color='red'>Exercise 1, return latest on Sunday 15.9.2024 at 23.50 via Moodle</font>\n",
    "\n",
    "Return the answer in PDF and Jupyter Notebook formats.\n",
    "\n",
    "**Exercise notes**:\n",
    "\n",
    "- For questions 1.1 you may answer by writing LaTex in Markdown cell, or by writing answer to the paper and then take photo from the paper."
   ]
  },
  {
   "cell_type": "markdown",
   "id": "25e2b730",
   "metadata": {},
   "source": [
    "## Exercise 1.1: Homogeneous Coordinates and Transformations (2 points)\n",
    "\n",
    "#### a) Translate $(t)$, scale $(s)$, and rotate $(r)$ a point $c=(c_x, c_y)$ on the xy-plane to a new location $(d_x, d_y)$ as illustrated below.\n",
    "\n",
    "![title](images/img01.png)\n",
    " \n",
    "Using the translation $(2, 5)$, scaling $(-4, 7)$, and rotation $(50^{\\circ})$, answer the following:\n",
    "\n",
    "(i) Provide the matrix representation for the translation using homogeneous coordinates.\n",
    "\n",
    "(ii) Provide the matrix representation for the scaling using homogeneous coordinates.\n",
    "\n",
    "(iii) Provide the matrix representation for the rotation using homogeneous coordinates.\n",
    "\n",
    "(iv) Transform the point $c=(1,2)$ on the xy-plane to a new location $(d_x, d_y)$ using given translation and scaling operations. Perform two separate tasks: first translation then scaling, and first scaling then translation. Compare the final locations and state if the order of transformations matters. You only need to provide the final locations.\n",
    "\n",
    "Hint:\n",
    "\n",
    " - We have provided empty matrices for you. Fill them with the correct values."
   ]
  },
  {
   "cell_type": "markdown",
   "id": "cec27421",
   "metadata": {},
   "source": [
    "#### 1.1.a i) Translation"
   ]
  },
  {
   "cell_type": "markdown",
   "id": "9056e9f0",
   "metadata": {},
   "source": [
    "    Answer:\n",
    "$$\n",
    "Translation:\n",
    "\\begin{bmatrix}\n",
    "   0 & 0 & 0 \\\\\n",
    "   0 & 0 & 0 \\\\\n",
    "   0 & 0 & 0 \\\\\n",
    "\\end{bmatrix}\n",
    "\\begin{bmatrix}\n",
    "   0 \\\\\n",
    "   0 \\\\\n",
    "   0 \\\\\n",
    "\\end{bmatrix}\n",
    "=\n",
    "\\begin{bmatrix}\n",
    "   0 \\\\\n",
    "   0 \\\\\n",
    "   0 \\\\\n",
    "\\end{bmatrix}\n",
    "$$"
   ]
  },
  {
   "cell_type": "markdown",
   "id": "bf95553e",
   "metadata": {},
   "source": [
    "#### 1.1.a ii) Scaling"
   ]
  },
  {
   "cell_type": "markdown",
   "id": "a8ca2014",
   "metadata": {},
   "source": [
    "    Answer:\n",
    "    \n",
    "$$\n",
    "Scale:\n",
    "\\begin{bmatrix}\n",
    "   0 & 0 & 0 \\\\\n",
    "   0 & 0 & 0 \\\\\n",
    "   0 & 0 & 0 \\\\\n",
    "\\end{bmatrix}\n",
    "\\begin{bmatrix}\n",
    "   0 \\\\\n",
    "   0 \\\\\n",
    "   0 \\\\\n",
    "\\end{bmatrix}\n",
    "=\n",
    "\\begin{bmatrix}\n",
    "   0 \\\\\n",
    "   0 \\\\\n",
    "   0 \\\\\n",
    "\\end{bmatrix}\n",
    "$$"
   ]
  },
  {
   "cell_type": "markdown",
   "id": "efd2a490",
   "metadata": {},
   "source": [
    "#### 1.1.a iii) Rotation"
   ]
  },
  {
   "cell_type": "markdown",
   "id": "5c147be0",
   "metadata": {},
   "source": [
    "    Answer:\n",
    "\n",
    "$$\n",
    "Rotation:\n",
    "\\begin{bmatrix}\n",
    "   0 & 0 & 0 \\\\\n",
    "   0 & 0 & 0 \\\\\n",
    "   0 & 0 & 0 \\\\\n",
    "\\end{bmatrix}\n",
    "\\begin{bmatrix}\n",
    "   0 \\\\\n",
    "   0 \\\\\n",
    "   0 \\\\\n",
    "\\end{bmatrix}\n",
    "=\n",
    "\\begin{bmatrix}\n",
    "   0 \\\\\n",
    "   0 \\\\\n",
    "   0 \\\\\n",
    "\\end{bmatrix}\n",
    "$$"
   ]
  },
  {
   "cell_type": "markdown",
   "id": "1459a32e",
   "metadata": {},
   "source": [
    "#### 1.1.a iv) Comparing the Outcomes: Translation Followed by Scaling vs. Scaling Followed by Translation"
   ]
  },
  {
   "cell_type": "markdown",
   "id": "87f82457",
   "metadata": {},
   "source": [
    "    Answer: "
   ]
  },
  {
   "cell_type": "markdown",
   "id": "24cf120c",
   "metadata": {},
   "source": [
    "#### b) Homogeneous line\n",
    "\n",
    "i) Give the formula for presenting a homogeneous coordinate as a line. Plot the homogeneous lines $l_1$ and $l_2$ in a 2D coordinate system where $l_1 = (1,0,1)$ and $l_2 = (6,0,2)$. Describe what the lines look like.\n",
    "\n",
    "ii) Calculate the point where the homogeneous lines $l_1$ and $l_2$ join. Give an explanation for the result.\n",
    "\n",
    "Hint:\n",
    "\n",
    " - the (3x1) homogenous point vector x must satisfy both $I_1^Tx = 0$ and $I_2^Tx = 0$. In other words, it should be orthogonal to both $I_1$ and $I_2$."
   ]
  },
  {
   "cell_type": "markdown",
   "id": "bb9c8c70",
   "metadata": {},
   "source": [
    "    Answer:\n",
    "    \n",
    "i)\n",
    "\n",
    "ii)"
   ]
  },
  {
   "cell_type": "markdown",
   "id": "94f0bfd7",
   "metadata": {},
   "source": [
    "## Exercise 1.2 OpenCV basics and image manipulation with Python. (3 points)\n",
    "\n",
    "In this exercise we’ll start learning how to use Python and OpenCV for computer vision tasks."
   ]
  },
  {
   "cell_type": "code",
   "execution_count": 1,
   "id": "86c92e71",
   "metadata": {},
   "outputs": [],
   "source": [
    "# Import Python packages needed in this week exercises. \n",
    "from matplotlib import pyplot as plt\n",
    "import numpy as np\n",
    "import cv2"
   ]
  },
  {
   "cell_type": "markdown",
   "id": "7b7933a1",
   "metadata": {},
   "source": [
    "#### 1.2 a)\n",
    "\n",
    "- Load the image located at 'images/lapland.jpeg'.\n",
    "- State the shape (dimensions) of the image.\n",
    "- Display the original image and each of its three color channels (Blue, Green, and Red) separately.\n",
    "\n",
    "Hint: \n",
    "\n",
    "- By default, OpenCV's `imread` function reads images in BGR format, while Matplotlib displays images in RGB format. \n",
    "    - You can use OpenCV's `cv2.cvtColor(img, cv2.COLOR_BGR2RGB)` to convert the image from BGR to RGB.\n",
    "- Images containing a single color channel are typically displayed using a grayscale colormap.\n",
    "    - In matplotlib, you can use the parameter `cmap='gray'` to achieve this."
   ]
  },
  {
   "cell_type": "code",
   "execution_count": 2,
   "id": "5d7f78bd",
   "metadata": {},
   "outputs": [],
   "source": [
    "# Answer here"
   ]
  },
  {
   "cell_type": "markdown",
   "id": "c3d59bbe",
   "metadata": {},
   "source": [
    "#### 1.2 b)\n",
    "\n",
    "- Load the grayscale image 'images/white_cross.png'.\n",
    "- Identify the point (x, y) where the white lines intersect. Assume the origin (0,0) is at the top-left corner.\n",
    "\n",
    "The image below illustrates the coordinate system employed in this exercise, which is also frequently utilized in computer vision.\n",
    "\n",
    "<img src=\"images/image_coordinates.png\" width=\"350\" align=\"center\">\n",
    "\n",
    "Hints:\n",
    "\n",
    "- The image contains only two color values: 0 and 255, indicating it's a 1-channel black and white image.\n",
    "- The intersecting lines are straight, parallel to the axis, and have a thickness of one pixel."
   ]
  },
  {
   "cell_type": "code",
   "execution_count": 3,
   "id": "45591eb3",
   "metadata": {},
   "outputs": [],
   "source": [
    "# Answer here"
   ]
  },
  {
   "cell_type": "markdown",
   "id": "134abe63",
   "metadata": {},
   "source": [
    "#### 1.2 c)\n",
    "\n",
    "- Load the color image 'images/red_and_blue.jpg'.\n",
    "- Determine the size of the red circle and blue rectangle in terms of pixel count.\n",
    "\n",
    "Hint:\n",
    "\n",
    "- The image only includes RGB color values: (0,0,0), (0,0,255), and (255,0,0)."
   ]
  },
  {
   "cell_type": "code",
   "execution_count": 4,
   "id": "9f55b102",
   "metadata": {},
   "outputs": [],
   "source": [
    "# Answer here"
   ]
  },
  {
   "cell_type": "markdown",
   "id": "c8f294cf",
   "metadata": {},
   "source": [
    "## Exercise 1.3 Singular Value Decomposition (SVD). (3 points)\n",
    "\n",
    "Singular Value Decomposition (SVD): Every $m \\times p$ matrix factors into $A_{n \\times p} = U_{n \\times n} \\Sigma_{n \\times p} V^T_{p \\times p}$\n",
    "\n",
    "Singular Value Decomposition can be used for image compression by first applying SVD to the image matrix and then recomposing it by using only some of the singular values contained in matrix $\\Sigma_{n \\times p}$ and dropping the respective columns and rows in matrices $U_{n \\times n}$ and $V^T_{p \\times p}$ in order to make the matrices compatible for recomposing the image matrix.\n",
    "\n",
    "Try this for yourself by decomposing images/lenna.png (open the image as grayscale) with SVD, and then recompose the image by using only the first 50 singular values (you can use the ready-made SVD function in numpy.linalg library, no need to implement it from scratch unless you want to). Also try using different number of singular values. How many singular values are needed before the image no longer appears blurry (Optional extra: how is the image size changed, i.e how much memory you save by compressing the image)?\n",
    "\n",
    "Explain why this method of image compression works, what is the role of singular values and what information they contain? Brief explanation is enough for this assignment."
   ]
  },
  {
   "cell_type": "code",
   "execution_count": null,
   "id": "d454600d",
   "metadata": {},
   "outputs": [],
   "source": [
    "# Answer here"
   ]
  }
 ],
 "metadata": {
  "kernelspec": {
   "display_name": "Python 3 (ipykernel)",
   "language": "python",
   "name": "python3"
  },
  "language_info": {
   "codemirror_mode": {
    "name": "ipython",
    "version": 3
   },
   "file_extension": ".py",
   "mimetype": "text/x-python",
   "name": "python",
   "nbconvert_exporter": "python",
   "pygments_lexer": "ipython3",
   "version": "3.10.12"
  }
 },
 "nbformat": 4,
 "nbformat_minor": 5
}
