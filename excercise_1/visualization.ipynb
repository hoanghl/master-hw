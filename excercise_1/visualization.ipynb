{
 "cells": [
  {
   "cell_type": "code",
   "execution_count": 1,
   "metadata": {},
   "outputs": [],
   "source": [
    "import matplotlib.pyplot as plt\n",
    "import numpy as np\n",
    "import pandas as pd\n",
    "import scipy\n",
    "import seaborn as sns"
   ]
  },
  {
   "cell_type": "code",
   "execution_count": 2,
   "metadata": {},
   "outputs": [],
   "source": [
    "plt.style.use('seaborn-v0_8')\n",
    "plt.rcParams.update({'font.size': 8})"
   ]
  },
  {
   "cell_type": "code",
   "execution_count": 3,
   "metadata": {},
   "outputs": [
    {
     "data": {
      "text/html": [
       "<div>\n",
       "<style scoped>\n",
       "    .dataframe tbody tr th:only-of-type {\n",
       "        vertical-align: middle;\n",
       "    }\n",
       "\n",
       "    .dataframe tbody tr th {\n",
       "        vertical-align: top;\n",
       "    }\n",
       "\n",
       "    .dataframe thead th {\n",
       "        text-align: right;\n",
       "    }\n",
       "</style>\n",
       "<table border=\"1\" class=\"dataframe\">\n",
       "  <thead>\n",
       "    <tr style=\"text-align: right;\">\n",
       "      <th></th>\n",
       "      <th>cpu0</th>\n",
       "      <th>cpu1</th>\n",
       "      <th>cpu2</th>\n",
       "      <th>cpu3</th>\n",
       "    </tr>\n",
       "  </thead>\n",
       "  <tbody>\n",
       "    <tr>\n",
       "      <th>0</th>\n",
       "      <td>2345.593</td>\n",
       "      <td>2345.593</td>\n",
       "      <td>2345.593</td>\n",
       "      <td>2345.593</td>\n",
       "    </tr>\n",
       "    <tr>\n",
       "      <th>1</th>\n",
       "      <td>2345.593</td>\n",
       "      <td>2345.593</td>\n",
       "      <td>2345.593</td>\n",
       "      <td>2345.593</td>\n",
       "    </tr>\n",
       "    <tr>\n",
       "      <th>2</th>\n",
       "      <td>2345.593</td>\n",
       "      <td>2345.593</td>\n",
       "      <td>2345.593</td>\n",
       "      <td>2345.593</td>\n",
       "    </tr>\n",
       "    <tr>\n",
       "      <th>3</th>\n",
       "      <td>2345.593</td>\n",
       "      <td>2345.593</td>\n",
       "      <td>2345.593</td>\n",
       "      <td>2345.593</td>\n",
       "    </tr>\n",
       "    <tr>\n",
       "      <th>4</th>\n",
       "      <td>2345.593</td>\n",
       "      <td>2345.593</td>\n",
       "      <td>2345.593</td>\n",
       "      <td>2345.593</td>\n",
       "    </tr>\n",
       "  </tbody>\n",
       "</table>\n",
       "</div>"
      ],
      "text/plain": [
       "       cpu0      cpu1      cpu2      cpu3\n",
       "0  2345.593  2345.593  2345.593  2345.593\n",
       "1  2345.593  2345.593  2345.593  2345.593\n",
       "2  2345.593  2345.593  2345.593  2345.593\n",
       "3  2345.593  2345.593  2345.593  2345.593\n",
       "4  2345.593  2345.593  2345.593  2345.593"
      ]
     },
     "execution_count": 3,
     "metadata": {},
     "output_type": "execute_result"
    }
   ],
   "source": [
    "path = \"result.txt\"\n",
    "\n",
    "columns = {0: 'cpu0', 1: 'cpu1', 2: 'cpu2', 3: 'cpu3'}\n",
    "df = pd.read_csv(path, sep=' ', header=None).rename(columns=columns)\n",
    "df.head()"
   ]
  },
  {
   "cell_type": "code",
   "execution_count": 4,
   "metadata": {},
   "outputs": [
    {
     "data": {
      "text/html": [
       "<div>\n",
       "<style scoped>\n",
       "    .dataframe tbody tr th:only-of-type {\n",
       "        vertical-align: middle;\n",
       "    }\n",
       "\n",
       "    .dataframe tbody tr th {\n",
       "        vertical-align: top;\n",
       "    }\n",
       "\n",
       "    .dataframe thead th {\n",
       "        text-align: right;\n",
       "    }\n",
       "</style>\n",
       "<table border=\"1\" class=\"dataframe\">\n",
       "  <thead>\n",
       "    <tr style=\"text-align: right;\">\n",
       "      <th></th>\n",
       "      <th>mean</th>\n",
       "      <th>std</th>\n",
       "    </tr>\n",
       "  </thead>\n",
       "  <tbody>\n",
       "    <tr>\n",
       "      <th>cpu0</th>\n",
       "      <td>2345.593</td>\n",
       "      <td>4.570383e-13</td>\n",
       "    </tr>\n",
       "    <tr>\n",
       "      <th>cpu1</th>\n",
       "      <td>2345.593</td>\n",
       "      <td>4.570383e-13</td>\n",
       "    </tr>\n",
       "    <tr>\n",
       "      <th>cpu2</th>\n",
       "      <td>2345.593</td>\n",
       "      <td>4.570383e-13</td>\n",
       "    </tr>\n",
       "    <tr>\n",
       "      <th>cpu3</th>\n",
       "      <td>2345.593</td>\n",
       "      <td>4.570383e-13</td>\n",
       "    </tr>\n",
       "  </tbody>\n",
       "</table>\n",
       "</div>"
      ],
      "text/plain": [
       "          mean           std\n",
       "cpu0  2345.593  4.570383e-13\n",
       "cpu1  2345.593  4.570383e-13\n",
       "cpu2  2345.593  4.570383e-13\n",
       "cpu3  2345.593  4.570383e-13"
      ]
     },
     "execution_count": 4,
     "metadata": {},
     "output_type": "execute_result"
    }
   ],
   "source": [
    "df_stats = pd.DataFrame({'mean': df.mean(), 'std': df.std()})\n",
    "\n",
    "df_stats.head()"
   ]
  },
  {
   "cell_type": "code",
   "execution_count": 8,
   "metadata": {},
   "outputs": [
    {
     "data": {
      "image/png": "[encoded data removed]",
      "text/plain": [
       "<Figure size 700x700 with 2 Axes>"
      ]
     },
     "metadata": {},
     "output_type": "display_data"
    }
   ],
   "source": [
    "fig = plt.figure(figsize=(7, 7))\n",
    "ax = fig.add_subplot(211)\n",
    "sns.barplot(df_stats['mean'], ax=ax)\n",
    "ax.set_title(\"Mean frequency of CPUs\")\n",
    "ax.set_ylabel(\"Mean frequency in MHz\")\n",
    "\n",
    "ax = fig.add_subplot(212)\n",
    "sns.barplot(df_stats['std'], ax=ax)\n",
    "ax.set_title(\"Std frequency of CPUs\")\n",
    "ax.set_ylabel(\"Std frequency\")\n",
    "\n",
    "fig.subplots_adjust(hspace=0.3)"
   ]
  }
 ],
 "metadata": {
  "kernelspec": {
   "display_name": "Python 3",
   "language": "python",
   "name": "python3"
  },
  "language_info": {
   "codemirror_mode": {
    "name": "ipython",
    "version": 3
   },
   "file_extension": ".py",
   "mimetype": "text/x-python",
   "name": "python",
   "nbconvert_exporter": "python",
   "pygments_lexer": "ipython3",
   "version": "3.9.18"
  }
 },
 "nbformat": 4,
 "nbformat_minor": 2
}
