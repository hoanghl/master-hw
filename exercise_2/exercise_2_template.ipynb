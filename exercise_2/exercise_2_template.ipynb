{
 "cells": [
  {
   "cell_type": "markdown",
   "id": "94cc029b-0d55-4891-afb4-05961f66d729",
   "metadata": {},
   "source": [
    "# Problem 1\n",
    "\n",
    "Empirical validation of double descent. Start with some imports."
   ]
  },
  {
   "cell_type": "code",
   "execution_count": null,
   "id": "bce6084d-0ac9-46e7-b74d-367ea80b5670",
   "metadata": {},
   "outputs": [],
   "source": [
    "import torch\n",
    "from torch import nn\n",
    "from torch.utils.data import TensorDataset, DataLoader\n",
    "import numpy as np\n",
    "import matplotlib.pyplot as plt"
   ]
  },
  {
   "cell_type": "markdown",
   "id": "361f9014-7dc5-406f-aa27-afbbe26b8f11",
   "metadata": {},
   "source": [
    "### Create data\n",
    "\n",
    "No need to change this block."
   ]
  },
  {
   "cell_type": "code",
   "execution_count": null,
   "id": "0dbd36f1-0ecc-49af-85e6-61631a2136e2",
   "metadata": {},
   "outputs": [],
   "source": [
    "# N samples with D inputs and O outputs\n",
    "N = 100\n",
    "D = 8\n",
    "O = 8\n",
    "\n",
    "# Training data\n",
    "x = torch.randn(N, D)\n",
    "noiselevel = 0.3\n",
    "y = (1-noiselevel)*x + noiselevel*torch.randn(N, O)\n",
    "\n",
    "# Test data\n",
    "N_test = 1000\n",
    "x_test = torch.randn(N_test, D)\n",
    "y_test = (1-noiselevel)*x_test + noiselevel*torch.randn(N_test, O)"
   ]
  },
  {
   "cell_type": "markdown",
   "id": "54ae6dff-fd03-4b3b-872b-6a3bc9d5d7f7",
   "metadata": {},
   "source": [
    "### Create model"
   ]
  },
  {
   "cell_type": "code",
   "execution_count": null,
   "id": "a7f9fba9-6817-43ea-86fc-c2b0a2f8a7fc",
   "metadata": {},
   "outputs": [],
   "source": [
    "class regression(nn.Module):\n",
    "  # Implement here the first part of (b)\n",
    "  raise NotImplementedError"
   ]
  },
  {
   "cell_type": "markdown",
   "id": "e9682148-ec80-4bf8-afc9-6e0eea3126ae",
   "metadata": {},
   "source": [
    "### Train model and validate double descent"
   ]
  },
  {
   "cell_type": "code",
   "execution_count": null,
   "id": "287db507-0292-47cd-8d83-773806614813",
   "metadata": {},
   "outputs": [],
   "source": [
    "#Implement here the rest of (b) and (c)\n",
    "raise NotImplementedError\n",
    "\n",
    "#Plotting hints for (b)\n",
    "plt.legend([10,53,103])\n",
    "ax = plt.gca(); ax.set_ylim([10**(-7),1])\n",
    "ax.set_ylabel(\"MSE\")\n",
    "ax.set_xlabel(\"Epoch\")\n",
    "plt.show()\n",
    "\n",
    "#Plotting hints for (c)\n",
    "plt.loglog(Kvalues, losses[:,0], 'b-')\n",
    "plt.loglog(Kvalues, losses[:,1], 'b:')\n",
    "plt.legend(['Training loss', 'Test loss'])\n",
    "ax = plt.gca(); ax.set_ylim([10**(-3),1])\n",
    "ax.set_ylabel(\"MSE\")\n",
    "ax.set_xlabel(\"Number of neurons\")\n",
    "plt.show()"
   ]
  },
  {
   "cell_type": "markdown",
   "id": "4f7de7b2-e7ce-4141-8bb5-eb5ce0b6a525",
   "metadata": {},
   "source": [
    "### Having more data can hurt\n",
    "\n",
    "Just repeat the same experiment with more data for two manually chosen K."
   ]
  },
  {
   "cell_type": "code",
   "execution_count": null,
   "id": "89c3f98d-ebd6-4c45-9d4a-7af66f4fb5f4",
   "metadata": {},
   "outputs": [],
   "source": [
    "N = 200\n",
    "x = torch.randn(N, D)\n",
    "y = (1-noiselevel)*x + noiselevel*torch.randn(N, O)\n",
    "\n",
    "#Implement here (d) \n",
    "raise NotImplementedError"
   ]
  },
  {
   "cell_type": "markdown",
   "id": "7ff259d2-dcb6-4734-b44b-60a95c9f9167",
   "metadata": {},
   "source": [
    "# Problem 2\n",
    "\n",
    "Implicit regularization of SGD."
   ]
  },
  {
   "cell_type": "code",
   "execution_count": null,
   "id": "8aa4a46a-e551-4e2e-8c8f-6e68bceb658e",
   "metadata": {},
   "outputs": [],
   "source": [
    "import torch\n",
    "from torch import nn\n",
    "from torch.utils.data import TensorDataset, DataLoader\n",
    "import numpy as np\n",
    "import matplotlib.pyplot as plt"
   ]
  },
  {
   "cell_type": "markdown",
   "id": "67a7ea94",
   "metadata": {},
   "source": [
    "### Create data"
   ]
  },
  {
   "cell_type": "code",
   "execution_count": null,
   "id": "5d111eb4",
   "metadata": {},
   "outputs": [],
   "source": [
    "# Training samples\n",
    "N = 200\n",
    "x = torch.rand(N,3)*2. - 1.\n",
    "y = ((0.4*torch.sin(x[:,0])*x[:,1]**2. - 0.7*x[:,2]**3.)* torch.exp(-torch.sum(x**2.,1)/15.)).resize(N,1)\n",
    "# Add some noise\n",
    "dist = torch.distributions.StudentT(4, 0, 1)\n",
    "y = y + 0.05*dist.rsample(torch.Size([N,1]))\n",
    "\n",
    "# Test samples\n",
    "# Storing also the non-noisy version for cleaner plotting\n",
    "M = 10000\n",
    "xtest = torch.rand(M,3)*2. - 1.\n",
    "ytest = ((0.4*torch.sin(xtest[:,0])*xtest[:,1]**2. - 0.7*xtest[:,2]**3.)* torch.exp(-torch.sum(xtest**2.,1)/15.)).resize(M,1) + 0.05*dist.rsample(torch.Size([M,1]))"
   ]
  },
  {
   "cell_type": "markdown",
   "id": "907119a5-0211-48fd-ba9f-b636c52faedc",
   "metadata": {},
   "source": [
    "### Model\n",
    "\n",
    "The same as in previous exercise."
   ]
  },
  {
   "cell_type": "code",
   "execution_count": null,
   "id": "ef28c47b-ad43-43d6-a20c-1d070d8fe05a",
   "metadata": {},
   "outputs": [],
   "source": [
    "class regression(nn.Module):\n",
    "   #Implement the part of (a)\n",
    "  raise NotImplementedError"
   ]
  },
  {
   "cell_type": "markdown",
   "id": "92a43d58-2ede-4dcb-9de1-43aa535678fa",
   "metadata": {},
   "source": [
    "### Computing the required norms"
   ]
  },
  {
   "cell_type": "code",
   "execution_count": null,
   "id": "da4f4ce8-aa00-41c1-bf6e-1c1bcc1cebed",
   "metadata": {},
   "outputs": [],
   "source": [
    "def gradient_norms(model, objective, x, y, data_loader):\n",
    "    #Implement the part of (c)\n",
    "    raise NotImplementedError\n",
    "    return grad_norm, grad_diff_norm"
   ]
  },
  {
   "cell_type": "markdown",
   "id": "a1eaccab-0c54-403d-a4e9-e9d1b84b20e1",
   "metadata": {},
   "source": [
    "### Main loop"
   ]
  },
  {
   "cell_type": "code",
   "execution_count": null,
   "id": "62ace5ef-e5fb-44af-af28-59743625547d",
   "metadata": {},
   "outputs": [],
   "source": [
    "#Implement (a) - (d)\n",
    "raise NotImplementedError"
   ]
  },
  {
   "cell_type": "markdown",
   "id": "93703cfe-6398-48a8-9249-a95b429dcb7f",
   "metadata": {},
   "source": [
    "### Reporting\n"
   ]
  },
  {
   "cell_type": "code",
   "execution_count": null,
   "id": "5f114711",
   "metadata": {},
   "outputs": [],
   "source": []
  }
 ],
 "metadata": {
  "kernelspec": {
   "display_name": "Python 3 (ipykernel)",
   "language": "python",
   "name": "python3"
  },
  "language_info": {
   "codemirror_mode": {
    "name": "ipython",
    "version": 3
   },
   "file_extension": ".py",
   "mimetype": "text/x-python",
   "name": "python",
   "nbconvert_exporter": "python",
   "pygments_lexer": "ipython3",
   "version": "3.11.5"
  }
 },
 "nbformat": 4,
 "nbformat_minor": 5
}
