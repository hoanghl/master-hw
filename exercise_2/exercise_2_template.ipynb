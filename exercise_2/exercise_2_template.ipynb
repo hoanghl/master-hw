{
 "cells": [
  {
   "cell_type": "markdown",
   "id": "94cc029b-0d55-4891-afb4-05961f66d729",
   "metadata": {},
   "source": [
    "# Problem 1\n",
    "\n",
    "Empirical validation of double descent. Start with some imports."
   ]
  },
  {
   "cell_type": "code",
   "execution_count": 1,
   "id": "bce6084d-0ac9-46e7-b74d-367ea80b5670",
   "metadata": {},
   "outputs": [],
   "source": [
    "import matplotlib.pyplot as plt\n",
    "import pandas as pd\n",
    "import seaborn as sns\n",
    "import torch\n",
    "from torch import nn\n",
    "from torch import Tensor\n",
    "from torch.optim import SGD, AdamW\n",
    "from torch.utils.data import TensorDataset, DataLoader\n",
    "from tqdm.notebook import tqdm"
   ]
  },
  {
   "cell_type": "code",
   "execution_count": 2,
   "id": "a9993578",
   "metadata": {},
   "outputs": [],
   "source": [
    "plt.style.use('seaborn-v0_8')\n",
    "plt.rcParams.update({'font.size': 8})\n",
    "\n",
    "device = \"cpu\"\n",
    "if torch.backends.mps.is_available():\n",
    "    device = \"mps\"\n",
    "elif torch.cuda.is_available():\n",
    "    device = \"cuda\""
   ]
  },
  {
   "cell_type": "markdown",
   "id": "361f9014-7dc5-406f-aa27-afbbe26b8f11",
   "metadata": {},
   "source": [
    "### Create data\n",
    "\n",
    "No need to change this block."
   ]
  },
  {
   "cell_type": "code",
   "execution_count": 3,
   "id": "0dbd36f1-0ecc-49af-85e6-61631a2136e2",
   "metadata": {},
   "outputs": [],
   "source": [
    "# N samples with D inputs and O outputs\n",
    "N = 100\n",
    "D = 8\n",
    "O = 8\n",
    "\n",
    "# Training data\n",
    "x = torch.randn(N, D)\n",
    "noiselevel = 0.3\n",
    "y = (1-noiselevel)*x + noiselevel*torch.randn(N, O)\n",
    "\n",
    "# Test data\n",
    "N_test = 1000\n",
    "x_test = torch.randn(N_test, D)\n",
    "y_test = (1-noiselevel)*x_test + noiselevel*torch.randn(N_test, O)"
   ]
  },
  {
   "cell_type": "markdown",
   "id": "54ae6dff-fd03-4b3b-872b-6a3bc9d5d7f7",
   "metadata": {},
   "source": [
    "### Create model"
   ]
  },
  {
   "cell_type": "code",
   "execution_count": 4,
   "id": "a7f9fba9-6817-43ea-86fc-c2b0a2f8a7fc",
   "metadata": {},
   "outputs": [],
   "source": [
    "class regression(nn.Module):\n",
    "    def __init__(self, m: int, d_in: int, d_out: int) -> None:\n",
    "        super().__init__()\n",
    "\n",
    "        self.layers = nn.Sequential(\n",
    "            nn.Linear(d_in, m),\n",
    "            nn.ReLU(),\n",
    "            nn.Linear(m, m),\n",
    "            nn.ReLU(),\n",
    "            nn.Linear(m, d_out),\n",
    "        )\n",
    "\n",
    "    def forward(self, X):\n",
    "        return self.layers(X)"
   ]
  },
  {
   "cell_type": "markdown",
   "id": "e9682148-ec80-4bf8-afc9-6e0eea3126ae",
   "metadata": {},
   "source": [
    "### Train model and validate double descent"
   ]
  },
  {
   "cell_type": "code",
   "execution_count": 8,
   "id": "acfc3da9",
   "metadata": {},
   "outputs": [],
   "source": [
    "def train(model, optimizer, criterion, loader_train):\n",
    "    list_loss = []\n",
    "\n",
    "    model.train()\n",
    "    for Xtrain, ytrain in loader_train:\n",
    "        optimizer.zero_grad()\n",
    "\n",
    "        out = model(Xtrain)\n",
    "        loss = criterion(ytrain, out)\n",
    "        loss.backward()\n",
    "        optimizer.step()\n",
    "\n",
    "        list_loss.append(loss.detach().cpu().item())\n",
    "\n",
    "    return list_loss\n",
    "\n",
    "def test(model, criterion, xtest, ytest):\n",
    "    model.eval()\n",
    "\n",
    "    with torch.no_grad():\n",
    "        out = model(xtest)\n",
    "        loss = criterion(ytest, out)\n",
    "\n",
    "    return loss.detach().cpu().item()"
   ]
  },
  {
   "cell_type": "markdown",
   "id": "a4d9084f",
   "metadata": {},
   "source": [
    "#### Problem 1.b."
   ]
  },
  {
   "cell_type": "code",
   "execution_count": 6,
   "id": "3a233ca3",
   "metadata": {},
   "outputs": [],
   "source": [
    "x_test, y_test = x_test.to(device), y_test.to(device)"
   ]
  },
  {
   "cell_type": "code",
   "execution_count": 7,
   "id": "bdc01910",
   "metadata": {},
   "outputs": [],
   "source": [
    "def trigger_train(\n",
    "    xtrain: Tensor,\n",
    "    ytrain: Tensor,\n",
    "    xtest: Tensor,\n",
    "    ytest: Tensor,\n",
    "    values_M: list,\n",
    "    batch_size: int,\n",
    "    lr: float=1e-3,\n",
    "    num_epchs: int = 1000,\n",
    "    device: str = \"cpu\"\n",
    "):\n",
    "    losses_train = {m: [] for m in values_M}\n",
    "    losses_val = {m: [] for m in values_M}\n",
    "\n",
    "    loader_train = DataLoader(\n",
    "        TensorDataset(xtrain.to(device), ytrain.to(device)),\n",
    "        batch_size=batch_size,\n",
    "        shuffle=True\n",
    "    )\n",
    "\n",
    "    for M in tqdm(values_M):\n",
    "        model = regression(M, d_in=D, d_out=O).to(device)\n",
    "        optimizer = AdamW(model.parameters(), lr=lr)\n",
    "        criterion = nn.MSELoss()\n",
    "\n",
    "        for _ in range(num_epchs):\n",
    "            list_loss_train = train(model, optimizer, criterion, loader_train)\n",
    "            losses_train[M].extend(list_loss_train)\n",
    "\n",
    "            losses_val[M].append(test(model, criterion, xtest, ytest))\n",
    "\n",
    "    return losses_train, losses_val"
   ]
  },
  {
   "cell_type": "code",
   "execution_count": 8,
   "id": "1537a504",
   "metadata": {},
   "outputs": [
    {
     "data": {
      "application/vnd.jupyter.widget-view+json": {
       "model_id": "fc39cb62ad6e41caa6798b7bd3a406ff",
       "version_major": 2,
       "version_minor": 0
      },
      "text/plain": [
       "  0%|          | 0/3 [00:00<?, ?it/s]"
      ]
     },
     "metadata": {},
     "output_type": "display_data"
    }
   ],
   "source": [
    "LR = 1e-3\n",
    "NUM_EPCHS = 1000\n",
    "batch_size = 10\n",
    "values_M = [10, 50, 100]\n",
    "\n",
    "losses_train, _ = trigger_train(x, y, x_test, y_test, values_M, batch_size, LR, NUM_EPCHS, device)"
   ]
  },
  {
   "cell_type": "code",
   "execution_count": 9,
   "id": "d6a7ee04",
   "metadata": {},
   "outputs": [
    {
     "data": {
      "image/png": "[encoded data removed]",
      "text/plain": [
       "<Figure size 1600x500 with 3 Axes>"
      ]
     },
     "metadata": {},
     "output_type": "display_data"
    }
   ],
   "source": [
    "#Plotting hints for (b)\n",
    "\n",
    "fig = plt.figure(figsize=(16, 5))\n",
    "\n",
    "for idx, M in enumerate(values_M):\n",
    "\n",
    "    ax = fig.add_subplot(1, 3, idx + 1)\n",
    "\n",
    "    ax.plot(losses_train[M])\n",
    "\n",
    "    ax.set_ylim([10**(-7),1])\n",
    "    ax.axhline(y=1e-3, color='r', linestyle='--', linewidth=2)\n",
    "    ax.set_yscale('log')\n",
    "    ax.set_xscale('log')\n",
    "    ax.set_ylabel(\"MSE\")\n",
    "    ax.set_xlabel(\"Epoch\")\n",
    "    ax.set_title(f\"M = {M}\")"
   ]
  },
  {
   "cell_type": "markdown",
   "id": "80777382",
   "metadata": {},
   "source": [
    "#### Problem 1.c."
   ]
  },
  {
   "cell_type": "code",
   "execution_count": 10,
   "id": "c8e10564",
   "metadata": {},
   "outputs": [
    {
     "data": {
      "application/vnd.jupyter.widget-view+json": {
       "model_id": "c505e9123e3340a5ac1bb1a441a3dc09",
       "version_major": 2,
       "version_minor": 0
      },
      "text/plain": [
       "  0%|          | 0/19 [00:00<?, ?it/s]"
      ]
     },
     "metadata": {},
     "output_type": "display_data"
    }
   ],
   "source": [
    "batch_size = N\n",
    "LR = 5e-3\n",
    "NUM_EPCHS = 1000\n",
    "values_M = range(10, 200, 10)\n",
    "\n",
    "losses_train, losses_val = trigger_train(x, y, x_test, y_test, values_M, batch_size, LR, NUM_EPCHS, device)"
   ]
  },
  {
   "cell_type": "code",
   "execution_count": 11,
   "id": "aaf5c359",
   "metadata": {},
   "outputs": [
    {
     "data": {
      "text/html": [
       "<div>\n",
       "<style scoped>\n",
       "    .dataframe tbody tr th:only-of-type {\n",
       "        vertical-align: middle;\n",
       "    }\n",
       "\n",
       "    .dataframe tbody tr th {\n",
       "        vertical-align: top;\n",
       "    }\n",
       "\n",
       "    .dataframe thead th {\n",
       "        text-align: right;\n",
       "    }\n",
       "</style>\n",
       "<table border=\"1\" class=\"dataframe\">\n",
       "  <thead>\n",
       "    <tr style=\"text-align: right;\">\n",
       "      <th></th>\n",
       "      <th>M</th>\n",
       "      <th>mse</th>\n",
       "      <th>loss_type</th>\n",
       "    </tr>\n",
       "  </thead>\n",
       "  <tbody>\n",
       "    <tr>\n",
       "      <th>0</th>\n",
       "      <td>10</td>\n",
       "      <td>0.056471</td>\n",
       "      <td>train</td>\n",
       "    </tr>\n",
       "    <tr>\n",
       "      <th>1</th>\n",
       "      <td>20</td>\n",
       "      <td>0.019583</td>\n",
       "      <td>train</td>\n",
       "    </tr>\n",
       "    <tr>\n",
       "      <th>2</th>\n",
       "      <td>30</td>\n",
       "      <td>0.001037</td>\n",
       "      <td>train</td>\n",
       "    </tr>\n",
       "    <tr>\n",
       "      <th>3</th>\n",
       "      <td>40</td>\n",
       "      <td>0.000105</td>\n",
       "      <td>train</td>\n",
       "    </tr>\n",
       "    <tr>\n",
       "      <th>4</th>\n",
       "      <td>50</td>\n",
       "      <td>0.000005</td>\n",
       "      <td>train</td>\n",
       "    </tr>\n",
       "  </tbody>\n",
       "</table>\n",
       "</div>"
      ],
      "text/plain": [
       "    M       mse loss_type\n",
       "0  10  0.056471     train\n",
       "1  20  0.019583     train\n",
       "2  30  0.001037     train\n",
       "3  40  0.000105     train\n",
       "4  50  0.000005     train"
      ]
     },
     "execution_count": 11,
     "metadata": {},
     "output_type": "execute_result"
    }
   ],
   "source": [
    "losses = []\n",
    "\n",
    "for k, loss in losses_train.items():\n",
    "    losses.append({\n",
    "        'M': k,\n",
    "        'mse': loss[-1],\n",
    "        'loss_type': 'train'\n",
    "    })\n",
    "\n",
    "for k, loss in losses_val.items():\n",
    "    losses.append({\n",
    "        'M': k,\n",
    "        'mse': loss[-1],\n",
    "        'loss_type': 'val'\n",
    "    })\n",
    "\n",
    "df_loss = pd.DataFrame.from_records(losses)\n",
    "df_loss.head()"
   ]
  },
  {
   "cell_type": "code",
   "execution_count": 12,
   "id": "287db507-0292-47cd-8d83-773806614813",
   "metadata": {},
   "outputs": [
    {
     "data": {
      "text/plain": [
       "Text(0.5, 0, 'Number of neurons')"
      ]
     },
     "execution_count": 12,
     "metadata": {},
     "output_type": "execute_result"
    },
    {
     "data": {
      "image/png": "[encoded data removed]",
      "text/plain": [
       "<Figure size 800x500 with 1 Axes>"
      ]
     },
     "metadata": {},
     "output_type": "display_data"
    }
   ],
   "source": [
    "#Plotting hints for (c)\n",
    "\n",
    "fig = plt.figure(figsize=(8, 5))\n",
    "ax = fig.add_subplot(111)\n",
    "\n",
    "sns.lineplot(data=df_loss, x='M', y='mse', hue='loss_type')\n",
    "\n",
    "ax.set_ylim([10**(-3),1])\n",
    "ax.set_ylabel(\"MSE\")\n",
    "ax.set_xlabel(\"Number of neurons\")"
   ]
  },
  {
   "cell_type": "code",
   "execution_count": 13,
   "id": "81f53008",
   "metadata": {},
   "outputs": [
    {
     "name": "stdout",
     "output_type": "stream",
     "text": [
      "Interpolation threshold: 30\n"
     ]
    }
   ],
   "source": [
    "df_loss_val = df_loss[df_loss['loss_type'] == 'val']\n",
    "interpolation_thres = df_loss_val[df_loss_val['mse'] == df_loss_val['mse'].max()]['M'].item()\n",
    "\n",
    "print(f\"Interpolation threshold: {interpolation_thres}\")"
   ]
  },
  {
   "cell_type": "markdown",
   "id": "4f7de7b2-e7ce-4141-8bb5-eb5ce0b6a525",
   "metadata": {},
   "source": [
    "### Having more data can hurt\n",
    "\n",
    "Just repeat the same experiment with more data for two manually chosen K."
   ]
  },
  {
   "cell_type": "code",
   "execution_count": 16,
   "id": "89c3f98d-ebd6-4c45-9d4a-7af66f4fb5f4",
   "metadata": {},
   "outputs": [
    {
     "data": {
      "application/vnd.jupyter.widget-view+json": {
       "model_id": "65f36469f7d141e49bf92586e878bde7",
       "version_major": 2,
       "version_minor": 0
      },
      "text/plain": [
       "  0%|          | 0/2 [00:00<?, ?it/s]"
      ]
     },
     "metadata": {},
     "output_type": "display_data"
    }
   ],
   "source": [
    "N = 200\n",
    "x = torch.randn(N, D)\n",
    "y = (1-noiselevel)*x + noiselevel*torch.randn(N, O)\n",
    "\n",
    "M_interpol = 30\n",
    "M_overparam = 180\n",
    "values_M = [M_interpol, M_overparam]\n",
    "\n",
    "batch_size = N\n",
    "\n",
    "_, losses_val = trigger_train(x, y, x_test, y_test, values_M, batch_size, LR, NUM_EPCHS, device)"
   ]
  },
  {
   "cell_type": "code",
   "execution_count": 17,
   "id": "45f5fd01",
   "metadata": {},
   "outputs": [
    {
     "data": {
      "text/html": [
       "<div>\n",
       "<style scoped>\n",
       "    .dataframe tbody tr th:only-of-type {\n",
       "        vertical-align: middle;\n",
       "    }\n",
       "\n",
       "    .dataframe tbody tr th {\n",
       "        vertical-align: top;\n",
       "    }\n",
       "\n",
       "    .dataframe thead th {\n",
       "        text-align: right;\n",
       "    }\n",
       "</style>\n",
       "<table border=\"1\" class=\"dataframe\">\n",
       "  <thead>\n",
       "    <tr style=\"text-align: right;\">\n",
       "      <th></th>\n",
       "      <th>M</th>\n",
       "      <th>mse</th>\n",
       "      <th>data</th>\n",
       "    </tr>\n",
       "  </thead>\n",
       "  <tbody>\n",
       "    <tr>\n",
       "      <th>0</th>\n",
       "      <td>30</td>\n",
       "      <td>0.205094</td>\n",
       "      <td>more</td>\n",
       "    </tr>\n",
       "    <tr>\n",
       "      <th>1</th>\n",
       "      <td>180</td>\n",
       "      <td>0.179645</td>\n",
       "      <td>more</td>\n",
       "    </tr>\n",
       "  </tbody>\n",
       "</table>\n",
       "</div>"
      ],
      "text/plain": [
       "     M       mse  data\n",
       "0   30  0.205094  more\n",
       "1  180  0.179645  more"
      ]
     },
     "execution_count": 17,
     "metadata": {},
     "output_type": "execute_result"
    }
   ],
   "source": [
    "losses = []\n",
    "\n",
    "for k, loss in losses_val.items():\n",
    "    losses.append({\n",
    "        'M': k,\n",
    "        'mse': loss[-1],\n",
    "    })\n",
    "\n",
    "df_loss_2 = pd.DataFrame.from_records(losses)\n",
    "df_loss_2['data'] = 'more'\n",
    "df_loss_2.head()"
   ]
  },
  {
   "cell_type": "code",
   "execution_count": 18,
   "id": "202e8bbc",
   "metadata": {},
   "outputs": [
    {
     "data": {
      "text/html": [
       "<div>\n",
       "<style scoped>\n",
       "    .dataframe tbody tr th:only-of-type {\n",
       "        vertical-align: middle;\n",
       "    }\n",
       "\n",
       "    .dataframe tbody tr th {\n",
       "        vertical-align: top;\n",
       "    }\n",
       "\n",
       "    .dataframe thead th {\n",
       "        text-align: right;\n",
       "    }\n",
       "</style>\n",
       "<table border=\"1\" class=\"dataframe\">\n",
       "  <thead>\n",
       "    <tr style=\"text-align: right;\">\n",
       "      <th></th>\n",
       "      <th>M</th>\n",
       "      <th>mse</th>\n",
       "      <th>data</th>\n",
       "    </tr>\n",
       "  </thead>\n",
       "  <tbody>\n",
       "    <tr>\n",
       "      <th>21</th>\n",
       "      <td>30</td>\n",
       "      <td>0.297619</td>\n",
       "      <td>less</td>\n",
       "    </tr>\n",
       "    <tr>\n",
       "      <th>36</th>\n",
       "      <td>180</td>\n",
       "      <td>0.172570</td>\n",
       "      <td>less</td>\n",
       "    </tr>\n",
       "    <tr>\n",
       "      <th>0</th>\n",
       "      <td>30</td>\n",
       "      <td>0.205094</td>\n",
       "      <td>more</td>\n",
       "    </tr>\n",
       "    <tr>\n",
       "      <th>1</th>\n",
       "      <td>180</td>\n",
       "      <td>0.179645</td>\n",
       "      <td>more</td>\n",
       "    </tr>\n",
       "  </tbody>\n",
       "</table>\n",
       "</div>"
      ],
      "text/plain": [
       "      M       mse  data\n",
       "21   30  0.297619  less\n",
       "36  180  0.172570  less\n",
       "0    30  0.205094  more\n",
       "1   180  0.179645  more"
      ]
     },
     "execution_count": 18,
     "metadata": {},
     "output_type": "execute_result"
    }
   ],
   "source": [
    "df_tmp = df_loss[(df_loss['M'].isin(values_M)) & (df_loss['loss_type'] == 'val')]\\\n",
    "    .copy()\\\n",
    "    .drop(columns=['loss_type'])\n",
    "df_tmp['data'] = 'less'\n",
    "\n",
    "df_final = pd.concat([df_tmp, df_loss_2])\n",
    "df_final.head()"
   ]
  },
  {
   "cell_type": "code",
   "execution_count": 19,
   "id": "622136f0",
   "metadata": {},
   "outputs": [
    {
     "data": {
      "text/plain": [
       "<Axes: xlabel='M', ylabel='mse'>"
      ]
     },
     "execution_count": 19,
     "metadata": {},
     "output_type": "execute_result"
    },
    {
     "data": {
      "image/png": "[encoded data removed]",
      "text/plain": [
       "<Figure size 800x600 with 1 Axes>"
      ]
     },
     "metadata": {},
     "output_type": "display_data"
    }
   ],
   "source": [
    "fig = plt.figure(figsize=(8, 6))\n",
    "\n",
    "ax = fig.add_subplot(111)\n",
    "sns.barplot(data=df_final, x='M', y='mse', hue='data')"
   ]
  },
  {
   "cell_type": "markdown",
   "id": "7ff259d2-dcb6-4734-b44b-60a95c9f9167",
   "metadata": {},
   "source": [
    "# Problem 2\n",
    "\n",
    "Implicit regularization of SGD."
   ]
  },
  {
   "cell_type": "markdown",
   "id": "67a7ea94",
   "metadata": {},
   "source": [
    "### Create data"
   ]
  },
  {
   "cell_type": "code",
   "execution_count": 12,
   "id": "5d111eb4",
   "metadata": {},
   "outputs": [
    {
     "name": "stderr",
     "output_type": "stream",
     "text": [
      "/Users/macos/miniforge3/envs/py/lib/python3.10/site-packages/torch/_tensor.py:836: UserWarning: non-inplace resize is deprecated\n",
      "  warnings.warn(\"non-inplace resize is deprecated\")\n"
     ]
    }
   ],
   "source": [
    "# Training samples\n",
    "N = 200\n",
    "x = torch.rand(N,3)*2. - 1.\n",
    "y = ((0.4*torch.sin(x[:,0])*x[:,1]**2. - 0.7*x[:,2]**3.)* torch.exp(-torch.sum(x**2.,1)/15.)).resize(N,1)\n",
    "# Add some noise\n",
    "dist = torch.distributions.StudentT(4, 0, 1)\n",
    "y = y + 0.05*dist.rsample(torch.Size([N,1]))\n",
    "\n",
    "# Test samples\n",
    "# Storing also the non-noisy version for cleaner plotting\n",
    "M = 10000\n",
    "x_test = torch.rand(M,3)*2. - 1.\n",
    "y_test = ((0.4*torch.sin(x_test[:,0])*x_test[:,1]**2. - 0.7*x_test[:,2]**3.)* torch.exp(-torch.sum(x_test**2.,1)/15.)).resize(M,1) + 0.05*dist.rsample(torch.Size([M,1]))"
   ]
  },
  {
   "cell_type": "code",
   "execution_count": 13,
   "id": "34cd4d18",
   "metadata": {},
   "outputs": [],
   "source": [
    "x, y = x.to(device), y.to(device)\n",
    "x_test, y_test = x_test.to(device), y_test.to(device)"
   ]
  },
  {
   "cell_type": "markdown",
   "id": "907119a5-0211-48fd-ba9f-b636c52faedc",
   "metadata": {},
   "source": [
    "### Model\n",
    "\n",
    "The same as in previous exercise."
   ]
  },
  {
   "cell_type": "code",
   "execution_count": 24,
   "id": "ef28c47b-ad43-43d6-a20c-1d070d8fe05a",
   "metadata": {},
   "outputs": [],
   "source": [
    "class regression(nn.Module):\n",
    "    def __init__(self, m: int, d_in: int, d_out: int) -> None:\n",
    "        super().__init__()\n",
    "\n",
    "        self.layers = nn.Sequential(\n",
    "            nn.Linear(d_in, m),\n",
    "            nn.ReLU(),\n",
    "            nn.Linear(m, m),\n",
    "            nn.ReLU(),\n",
    "            nn.Linear(m, m),\n",
    "            nn.ReLU(),\n",
    "            nn.Linear(m, m),\n",
    "            nn.ReLU(),\n",
    "            nn.Linear(m, m),\n",
    "            nn.ReLU(),\n",
    "            nn.Linear(m, d_out),\n",
    "        )\n",
    "\n",
    "    def forward(self, X):\n",
    "        return self.layers(X)"
   ]
  },
  {
   "cell_type": "markdown",
   "id": "92a43d58-2ede-4dcb-9de1-43aa535678fa",
   "metadata": {},
   "source": [
    "### Computing the required norms"
   ]
  },
  {
   "cell_type": "code",
   "execution_count": null,
   "id": "da4f4ce8-aa00-41c1-bf6e-1c1bcc1cebed",
   "metadata": {},
   "outputs": [],
   "source": [
    "\n",
    "def get_grad(model: nn.Module) -> Tensor:\n",
    "    grads = []\n",
    "    for param in model.parameters():\n",
    "        grads.append(param.grad.view(-1))\n",
    "    grads = torch.cat(grads)\n",
    "\n",
    "    return grads\n",
    "\n",
    "def gradient_norms(model, objective, x, y, data_loader, lr):\n",
    "    optimizer = SGD(model.parameters(), lr=lr)\n",
    "\n",
    "    # Calculate gradient w.r.t full data\n",
    "    optimizer.zero_grad()\n",
    "    out = model(x)\n",
    "    loss = objective(y, out)\n",
    "    loss.backward()\n",
    "\n",
    "    grads_full = get_grad(model) / x.shape[0]\n",
    "\n",
    "    # Calculate gradient at each mini-batch\n",
    "    total_grads_norm = 0\n",
    "    n = 0\n",
    "    for Xtrain, ytrain in data_loader:\n",
    "        optimizer.zero_grad()\n",
    "        out = model(Xtrain)\n",
    "        loss = objective(ytrain, out)\n",
    "        loss.backward()\n",
    "\n",
    "        grads_minibatch = get_grad(model) / Xtrain.shape[0]\n",
    "        total_grads_norm += torch.norm(grads_minibatch - grads_full)**2\n",
    "\n",
    "        n += 1\n",
    "\n",
    "    # Calculate the final\n",
    "    grad_diff_norm = total_grads_norm / n\n",
    "\n",
    "    return grad_norm, grad_diff_norm"
   ]
  },
  {
   "cell_type": "markdown",
   "id": "a1eaccab-0c54-403d-a4e9-e9d1b84b20e1",
   "metadata": {},
   "source": [
    "### Main loop"
   ]
  },
  {
   "cell_type": "code",
   "execution_count": null,
   "id": "62ace5ef-e5fb-44af-af28-59743625547d",
   "metadata": {},
   "outputs": [],
   "source": [
    "num_epchs = 800\n",
    "batch_size = 20\n",
    "M = 50\n",
    "values_lr = [0.02, 0.04, 0.08, 0.16]\n",
    "d_in, d_out = x.shape[-1], y.shape[-1]\n",
    "\n",
    "losses_train = {lr: [] for lr in values_lr}\n",
    "losses_test = {lr: [] for lr in values_lr}\n",
    "grads = {lr: [] for lr in values_lr}\n",
    "grads_final = {lr: [] for lr in values_lr}\n",
    "\n",
    "loader_train = DataLoader(\n",
    "    TensorDataset(x.to(device), y.to(device)),\n",
    "    batch_size=batch_size,\n",
    "    shuffle=True\n",
    ")\n",
    "\n",
    "for lr in tqdm(values_lr):\n",
    "    model = regression(M, d_in=d_in, d_out=d_out).to(device)\n",
    "    \n",
    "    criterion = nn.MSELoss()\n",
    "\n",
    "    for _ in range(num_epchs):\n",
    "        list_loss_train = train(model, optimizer, criterion, loader_train)\n",
    "\n",
    "        # Train\n",
    "        model.train()\n",
    "        for Xtrain, ytrain in loader_train:\n",
    "            optimizer.zero_grad()\n",
    "\n",
    "            out = model(Xtrain)\n",
    "            loss = criterion(ytrain, out)\n",
    "            loss.backward()\n",
    "            optimizer.step()\n",
    "\n",
    "            list_loss.append(loss.detach().cpu().item())\n",
    "\n",
    "        # Test\n",
    "        model.eval()\n",
    "\n",
    "        with torch.no_grad():\n",
    "            out = model(xtest)\n",
    "            loss = criterion(ytest, out)\n",
    "        losses_train[lr].extend(list_loss_train)"
   ]
  },
  {
   "cell_type": "code",
   "execution_count": null,
   "id": "e7539afe",
   "metadata": {},
   "outputs": [],
   "source": [
    "df_lr = pd.DataFrame(losses_train)\n",
    "df_lr['step'] = range(len(df_lr))\n",
    "\n",
    "df_lr = df_lr.melt(id_vars='step', value_vars=values_lr, value_name='mse', var_name='lr')\\\n",
    "\n",
    "df_lr.head()"
   ]
  },
  {
   "cell_type": "markdown",
   "id": "93703cfe-6398-48a8-9249-a95b429dcb7f",
   "metadata": {},
   "source": [
    "### Reporting\n"
   ]
  },
  {
   "cell_type": "code",
   "execution_count": null,
   "id": "5f114711",
   "metadata": {},
   "outputs": [],
   "source": [
    "fig = plt.figure(figsize=(8, 6))\n",
    "ax = fig.add_subplot(111)\n",
    "\n",
    "sns.lineplot(data=df_lr, x='step', y='mse', hue='lr', ax=ax)"
   ]
  }
 ],
 "metadata": {
  "kernelspec": {
   "display_name": "Python 3 (ipykernel)",
   "language": "python",
   "name": "python3"
  },
  "language_info": {
   "codemirror_mode": {
    "name": "ipython",
    "version": 3
   },
   "file_extension": ".py",
   "mimetype": "text/x-python",
   "name": "python",
   "nbconvert_exporter": "python",
   "pygments_lexer": "ipython3",
   "version": "3.10.13"
  }
 },
 "nbformat": 4,
 "nbformat_minor": 5
}
