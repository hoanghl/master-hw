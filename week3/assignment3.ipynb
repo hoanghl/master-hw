{
 "cells": [
  {
   "cell_type": "markdown",
   "metadata": {
    "collapsed": false,
    "pycharm": {
     "name": "#%% md\n"
    }
   },
   "source": [
    "### Acknowledgement\n",
    "This code is derived from the template made up from work of Xinyang Chen"
   ]
  },
  {
   "cell_type": "code",
   "execution_count": 1,
   "metadata": {},
   "outputs": [
    {
     "name": "stdout",
     "output_type": "stream",
     "text": [
      "/Users/macos/Uni/1st_year/period_2/RecSys/hw\n"
     ]
    }
   ],
   "source": [
    "%cd ../"
   ]
  },
  {
   "cell_type": "code",
   "execution_count": 2,
   "metadata": {
    "collapsed": false,
    "pycharm": {
     "name": "#%%\n"
    }
   },
   "outputs": [],
   "source": [
    "import pandas as pd\n",
    "import numpy as np\n",
    "from tqdm.notebook import trange"
   ]
  },
  {
   "cell_type": "markdown",
   "metadata": {},
   "source": [
    "# Load data"
   ]
  },
  {
   "cell_type": "code",
   "execution_count": 3,
   "metadata": {},
   "outputs": [],
   "source": [
    "path_train = \"data_split/train.csv\"\n",
    "path_val = \"data_split/validation.csv\"\n",
    "path_test = \"data_split/test.csv\""
   ]
  },
  {
   "cell_type": "code",
   "execution_count": 4,
   "metadata": {
    "pycharm": {
     "name": "#%%\n"
    }
   },
   "outputs": [],
   "source": [
    "# using the provided split\n",
    "df_trainval = pd.concat([\n",
    "    pd.read_csv(path_train),\n",
    "    pd.read_csv(path_val),\n",
    "])\n",
    "test = pd.read_csv(path_test)\n",
    "\n",
    "ratings = pd.concat([df_trainval, test])"
   ]
  },
  {
   "cell_type": "code",
   "execution_count": null,
   "metadata": {},
   "outputs": [],
   "source": [
    "df_train = pd.read_csv(path_train)\n",
    "df_val = pd.read_csv(path_val)\n",
    "df_test = pd.read_csv(path_test)"
   ]
  },
  {
   "cell_type": "code",
   "execution_count": 5,
   "metadata": {
    "pycharm": {
     "name": "#%%\n"
    }
   },
   "outputs": [
    {
     "name": "stdout",
     "output_type": "stream",
     "text": [
      "User id: 655, number of ratings: 60\n"
     ]
    }
   ],
   "source": [
    "# picking a user for testing\n",
    "user_sample_id = list(df_trainval['user_id'].unique())[0]\n",
    "user_sample_items = test[test['user_id'] == user_sample_id]\n",
    "print(f\"User id: {user_sample_id}, number of ratings: {len(user_sample_items)}\")"
   ]
  },
  {
   "cell_type": "markdown",
   "metadata": {},
   "source": [
    "# Define models"
   ]
  },
  {
   "cell_type": "code",
   "execution_count": 6,
   "metadata": {
    "pycharm": {
     "name": "#%%\n"
    }
   },
   "outputs": [
    {
     "data": {
      "text/html": [
       "<div>\n",
       "<style scoped>\n",
       "    .dataframe tbody tr th:only-of-type {\n",
       "        vertical-align: middle;\n",
       "    }\n",
       "\n",
       "    .dataframe tbody tr th {\n",
       "        vertical-align: top;\n",
       "    }\n",
       "\n",
       "    .dataframe thead th {\n",
       "        text-align: right;\n",
       "    }\n",
       "</style>\n",
       "<table border=\"1\" class=\"dataframe\">\n",
       "  <thead>\n",
       "    <tr style=\"text-align: right;\">\n",
       "      <th></th>\n",
       "      <th>item_id</th>\n",
       "      <th>user_id</th>\n",
       "      <th>rating</th>\n",
       "      <th>score</th>\n",
       "    </tr>\n",
       "  </thead>\n",
       "  <tbody>\n",
       "    <tr>\n",
       "      <th>52</th>\n",
       "      <td>356</td>\n",
       "      <td>655</td>\n",
       "      <td>4.5</td>\n",
       "      <td>232</td>\n",
       "    </tr>\n",
       "    <tr>\n",
       "      <th>55</th>\n",
       "      <td>608</td>\n",
       "      <td>655</td>\n",
       "      <td>4.5</td>\n",
       "      <td>156</td>\n",
       "    </tr>\n",
       "    <tr>\n",
       "      <th>6</th>\n",
       "      <td>4973</td>\n",
       "      <td>655</td>\n",
       "      <td>4.0</td>\n",
       "      <td>147</td>\n",
       "    </tr>\n",
       "    <tr>\n",
       "      <th>59</th>\n",
       "      <td>7361</td>\n",
       "      <td>655</td>\n",
       "      <td>4.5</td>\n",
       "      <td>146</td>\n",
       "    </tr>\n",
       "    <tr>\n",
       "      <th>34</th>\n",
       "      <td>4995</td>\n",
       "      <td>655</td>\n",
       "      <td>4.0</td>\n",
       "      <td>144</td>\n",
       "    </tr>\n",
       "  </tbody>\n",
       "</table>\n",
       "</div>"
      ],
      "text/plain": [
       "    item_id  user_id  rating  score\n",
       "52      356      655     4.5    232\n",
       "55      608      655     4.5    156\n",
       "6      4973      655     4.0    147\n",
       "59     7361      655     4.5    146\n",
       "34     4995      655     4.0    144"
      ]
     },
     "execution_count": 6,
     "metadata": {},
     "output_type": "execute_result"
    }
   ],
   "source": [
    "class POP:\n",
    "    def __init__(self, df):\n",
    "        pop = df.item_id.value_counts().reset_index()\n",
    "        pop.columns = [\"item_id\", \"score\"]\n",
    "        self.pop = pop\n",
    "\n",
    "    def getScores(self, items, user_id):\n",
    "        # if the item doesn't appear in the df_trainval set, the score of 0 is assigned to it\n",
    "        return pd.merge(items, self.pop, how='left', on='item_id').fillna(0)\n",
    "\n",
    "# testing the model with one user\n",
    "pop = POP(df_trainval)\n",
    "pop.getScores(user_sample_items, user_sample_id).sort_values('score', ascending=False).head()"
   ]
  },
  {
   "cell_type": "code",
   "execution_count": 7,
   "metadata": {
    "pycharm": {
     "name": "#%%\n"
    }
   },
   "outputs": [
    {
     "data": {
      "text/html": [
       "<div>\n",
       "<style scoped>\n",
       "    .dataframe tbody tr th:only-of-type {\n",
       "        vertical-align: middle;\n",
       "    }\n",
       "\n",
       "    .dataframe tbody tr th {\n",
       "        vertical-align: top;\n",
       "    }\n",
       "\n",
       "    .dataframe thead th {\n",
       "        text-align: right;\n",
       "    }\n",
       "</style>\n",
       "<table border=\"1\" class=\"dataframe\">\n",
       "  <thead>\n",
       "    <tr style=\"text-align: right;\">\n",
       "      <th></th>\n",
       "      <th>item_id</th>\n",
       "      <th>user_id</th>\n",
       "      <th>rating</th>\n",
       "      <th>score</th>\n",
       "    </tr>\n",
       "  </thead>\n",
       "  <tbody>\n",
       "    <tr>\n",
       "      <th>57</th>\n",
       "      <td>60069</td>\n",
       "      <td>655</td>\n",
       "      <td>4.0</td>\n",
       "      <td>8270</td>\n",
       "    </tr>\n",
       "    <tr>\n",
       "      <th>35</th>\n",
       "      <td>5617</td>\n",
       "      <td>655</td>\n",
       "      <td>3.5</td>\n",
       "      <td>8129</td>\n",
       "    </tr>\n",
       "    <tr>\n",
       "      <th>27</th>\n",
       "      <td>1208</td>\n",
       "      <td>655</td>\n",
       "      <td>4.5</td>\n",
       "      <td>8079</td>\n",
       "    </tr>\n",
       "    <tr>\n",
       "      <th>15</th>\n",
       "      <td>2395</td>\n",
       "      <td>655</td>\n",
       "      <td>3.5</td>\n",
       "      <td>8076</td>\n",
       "    </tr>\n",
       "    <tr>\n",
       "      <th>41</th>\n",
       "      <td>103772</td>\n",
       "      <td>655</td>\n",
       "      <td>3.0</td>\n",
       "      <td>8073</td>\n",
       "    </tr>\n",
       "  </tbody>\n",
       "</table>\n",
       "</div>"
      ],
      "text/plain": [
       "    item_id  user_id  rating  score\n",
       "57    60069      655     4.0   8270\n",
       "35     5617      655     3.5   8129\n",
       "27     1208      655     4.5   8079\n",
       "15     2395      655     3.5   8076\n",
       "41   103772      655     3.0   8073"
      ]
     },
     "execution_count": 7,
     "metadata": {},
     "output_type": "execute_result"
    }
   ],
   "source": [
    "class RND:\n",
    "    def __init__(self, df):\n",
    "        item_id_set = set(df.item_id.unique())\n",
    "        rnd = pd.DataFrame(item_id_set)\n",
    "        rnd.columns = [\"item_id\"]\n",
    "        rnd = rnd.sample(frac=1)\n",
    "        rnd[\"score\"] = range(len(rnd))\n",
    "        self.rnd = rnd\n",
    "\n",
    "    def getScores(self, items, user_id):\n",
    "        return pd.merge(items, self.rnd, how='left', on='item_id').fillna(0)\n",
    "\n",
    "# testing the model with one user\n",
    "rnd = RND(df_trainval)\n",
    "rnd.getScores(user_sample_items, user_sample_id).sort_values('score', ascending=False).head()"
   ]
  },
  {
   "cell_type": "code",
   "execution_count": 12,
   "metadata": {},
   "outputs": [
    {
     "data": {
      "application/vnd.jupyter.widget-view+json": {
       "model_id": "91fb9e0ca72840228fedeffebb7d270c",
       "version_major": 2,
       "version_minor": 0
      },
      "text/plain": [
       "  0%|          | 0/1 [00:00<?, ?it/s]"
      ]
     },
     "metadata": {},
     "output_type": "display_data"
    },
    {
     "name": "stdout",
     "output_type": "stream",
     "text": [
      "3801807924.3554463\n"
     ]
    },
    {
     "data": {
      "text/html": [
       "<div>\n",
       "<style scoped>\n",
       "    .dataframe tbody tr th:only-of-type {\n",
       "        vertical-align: middle;\n",
       "    }\n",
       "\n",
       "    .dataframe tbody tr th {\n",
       "        vertical-align: top;\n",
       "    }\n",
       "\n",
       "    .dataframe thead th {\n",
       "        text-align: right;\n",
       "    }\n",
       "</style>\n",
       "<table border=\"1\" class=\"dataframe\">\n",
       "  <thead>\n",
       "    <tr style=\"text-align: right;\">\n",
       "      <th></th>\n",
       "      <th>item_id</th>\n",
       "      <th>user_id</th>\n",
       "      <th>rating</th>\n",
       "      <th>score</th>\n",
       "    </tr>\n",
       "  </thead>\n",
       "  <tbody>\n",
       "    <tr>\n",
       "      <th>35</th>\n",
       "      <td>5617</td>\n",
       "      <td>655</td>\n",
       "      <td>3.5</td>\n",
       "      <td>38.544183</td>\n",
       "    </tr>\n",
       "    <tr>\n",
       "      <th>10</th>\n",
       "      <td>5377</td>\n",
       "      <td>655</td>\n",
       "      <td>4.0</td>\n",
       "      <td>36.633244</td>\n",
       "    </tr>\n",
       "    <tr>\n",
       "      <th>0</th>\n",
       "      <td>104841</td>\n",
       "      <td>655</td>\n",
       "      <td>4.0</td>\n",
       "      <td>36.632039</td>\n",
       "    </tr>\n",
       "    <tr>\n",
       "      <th>46</th>\n",
       "      <td>6586</td>\n",
       "      <td>655</td>\n",
       "      <td>3.0</td>\n",
       "      <td>35.864557</td>\n",
       "    </tr>\n",
       "    <tr>\n",
       "      <th>49</th>\n",
       "      <td>2</td>\n",
       "      <td>655</td>\n",
       "      <td>5.0</td>\n",
       "      <td>35.822123</td>\n",
       "    </tr>\n",
       "  </tbody>\n",
       "</table>\n",
       "</div>"
      ],
      "text/plain": [
       "    item_id  user_id  rating      score\n",
       "35     5617      655     3.5  38.544183\n",
       "10     5377      655     4.0  36.633244\n",
       "0    104841      655     4.0  36.632039\n",
       "46     6586      655     3.0  35.864557\n",
       "49        2      655     5.0  35.822123"
      ]
     },
     "execution_count": 12,
     "metadata": {},
     "output_type": "execute_result"
    }
   ],
   "source": [
    "class MatrixFac:\n",
    "    def __init__(\n",
    "        self,\n",
    "        df: pd.DataFrame,\n",
    "        lr: float = 1e-4,\n",
    "        k: int = 128,\n",
    "        beta: float = 1e-2,\n",
    "        num_epochs: int = 10\n",
    "    ) -> None:\n",
    "        self._lr = lr\n",
    "        self._k = k\n",
    "        self._beta = beta\n",
    "        self._num_epochs = num_epochs\n",
    "        self._df = df\n",
    "\n",
    "        self.rating = df.pivot(\n",
    "            index='user_id', \n",
    "            columns='item_id', \n",
    "            values='rating'\n",
    "        ).fillna(0)\n",
    "\n",
    "        self._find_matrix_user_item()\n",
    "\n",
    "    def _find_matrix_user_item(self):\n",
    "        # Initialize\n",
    "        num_users = len(self._df['user_id'].unique())\n",
    "        num_items = len(self._df['item_id'].unique())\n",
    "\n",
    "        R = self.rating.to_numpy()\n",
    "        P = np.random.random((num_users, self._k))\n",
    "        Qt = np.random.random((self._k, num_items))\n",
    "\n",
    "        for _ in trange(self._num_epochs):\n",
    "            E = R - P @ Qt\n",
    "            print(np.square(E).sum())\n",
    "\n",
    "            P_new, Qt_new = np.zeros_like(P), np.zeros_like(Qt)\n",
    "\n",
    "            for i in range(num_users):\n",
    "                for j in range(num_items):\n",
    "                    P_new[i, :] = P[i, :] + 2 * self._lr * E[i, j] * Qt[:, j] - 2 * self._beta * P[i, :]\n",
    "                    Qt_new[:, j] = Qt[:, j] + 2 * self._lr * E[i, j] * P[i, :] - 2 * self._beta * Qt[:, j]\n",
    "\n",
    "            P, Qt = P_new, Qt_new\n",
    "\n",
    "        self.rating = pd.DataFrame(\n",
    "            P @ Qt,\n",
    "            columns=self.rating.columns,\n",
    "            index=self.rating.index\n",
    "        )\n",
    "\n",
    "    def getScores(self, items, user_id):\n",
    "        items = items.copy()\n",
    "        items.loc[:, 'score'] = [\n",
    "            self.rating.loc[user_id, i]\n",
    "            if i in self.rating\n",
    "            else 0\n",
    "            for i in items['item_id']\n",
    "        ]\n",
    "\n",
    "        return items\n",
    "\n",
    "# testing the model with one user\n",
    "matrixfac = MatrixFac(df_trainval, num_epochs=1)\n",
    "matrixfac.getScores(user_sample_items, user_sample_id).sort_values('score', ascending=False).head()"
   ]
  },
  {
   "cell_type": "markdown",
   "metadata": {},
   "source": [
    "# Define metric"
   ]
  },
  {
   "cell_type": "code",
   "execution_count": 16,
   "metadata": {
    "pycharm": {
     "name": "#%%\n"
    }
   },
   "outputs": [
    {
     "data": {
      "text/plain": [
       "0.9314772023011874"
      ]
     },
     "execution_count": 16,
     "metadata": {},
     "output_type": "execute_result"
    }
   ],
   "source": [
    "def ncdg(df: pd.DataFrame, topn):\n",
    "    '''\n",
    "    len(predicted), len(truth) >= topn\n",
    "    '''\n",
    "    dcg = (\n",
    "        df\n",
    "        .sort_values('score', ascending=False)\n",
    "        .head(topn)['rating']\n",
    "        / np.log2(np.arange(2, topn + 2))       # Discount rate: 0 +1 -> rank +1 -> discount rate\n",
    "    ).cumsum().tail(1).values[0]\n",
    "    idcg = (\n",
    "        df\n",
    "        .sort_values('rating', ascending=False)\n",
    "        .head(topn)['rating']\n",
    "        / np.log2(np.arange(2, topn + 2))           # Discount rate\n",
    "    ).cumsum().tail(1).values[0]\n",
    "    return dcg / idcg\n",
    "\n",
    "# testing ndcg\n",
    "ncdg(pop.getScores(user_sample_items, user_sample_id), 5)"
   ]
  },
  {
   "cell_type": "code",
   "execution_count": 24,
   "metadata": {
    "pycharm": {
     "name": "#%%\n"
    }
   },
   "outputs": [
    {
     "data": {
      "application/vnd.jupyter.widget-view+json": {
       "model_id": "0a06ad5ee1894fa0be7f3e25d90b8b4c",
       "version_major": 2,
       "version_minor": 0
      },
      "text/plain": [
       "  0%|          | 0/25 [00:00<?, ?it/s]"
      ]
     },
     "metadata": {},
     "output_type": "display_data"
    },
    {
     "name": "stdout",
     "output_type": "stream",
     "text": [
      "6872907.053846599\n",
      "6088950.242753441\n",
      "5424221.4265326895\n",
      "4857468.384874876\n",
      "4371847.970946807\n",
      "3953881.055073077\n",
      "3592684.914574358\n",
      "3279401.966542993\n",
      "3006769.486442814\n",
      "2768791.923446622\n",
      "2560488.7993276087\n",
      "2377698.925420539\n",
      "2216927.0259626806\n",
      "2075222.6057047474\n",
      "1950083.5586780016\n",
      "1839378.9226264928\n",
      "1741286.567087606\n",
      "1654242.6166659207\n",
      "1576900.1606894948\n",
      "1508095.3598558619\n",
      "1446819.4814597333\n",
      "1392195.7141224435\n",
      "1343459.8569807676\n",
      "1299944.1661166644\n",
      "1261063.7865407635\n"
     ]
    },
    {
     "data": {
      "text/html": [
       "<div>\n",
       "<style scoped>\n",
       "    .dataframe tbody tr th:only-of-type {\n",
       "        vertical-align: middle;\n",
       "    }\n",
       "\n",
       "    .dataframe tbody tr th {\n",
       "        vertical-align: top;\n",
       "    }\n",
       "\n",
       "    .dataframe thead th {\n",
       "        text-align: right;\n",
       "    }\n",
       "</style>\n",
       "<table border=\"1\" class=\"dataframe\">\n",
       "  <thead>\n",
       "    <tr style=\"text-align: right;\">\n",
       "      <th></th>\n",
       "      <th>popular_ndcg5</th>\n",
       "      <th>random_ndcg5</th>\n",
       "      <th>matrixfac_ndcg5</th>\n",
       "    </tr>\n",
       "  </thead>\n",
       "  <tbody>\n",
       "    <tr>\n",
       "      <th>count</th>\n",
       "      <td>446.000000</td>\n",
       "      <td>446.000000</td>\n",
       "      <td>446.000000</td>\n",
       "    </tr>\n",
       "    <tr>\n",
       "      <th>mean</th>\n",
       "      <td>0.746192</td>\n",
       "      <td>0.144339</td>\n",
       "      <td>0.237530</td>\n",
       "    </tr>\n",
       "    <tr>\n",
       "      <th>std</th>\n",
       "      <td>0.193320</td>\n",
       "      <td>0.169303</td>\n",
       "      <td>0.215026</td>\n",
       "    </tr>\n",
       "    <tr>\n",
       "      <th>min</th>\n",
       "      <td>0.000000</td>\n",
       "      <td>0.000000</td>\n",
       "      <td>0.000000</td>\n",
       "    </tr>\n",
       "    <tr>\n",
       "      <th>25%</th>\n",
       "      <td>0.665696</td>\n",
       "      <td>0.000000</td>\n",
       "      <td>0.000000</td>\n",
       "    </tr>\n",
       "    <tr>\n",
       "      <th>50%</th>\n",
       "      <td>0.783680</td>\n",
       "      <td>0.106676</td>\n",
       "      <td>0.208610</td>\n",
       "    </tr>\n",
       "    <tr>\n",
       "      <th>75%</th>\n",
       "      <td>0.885767</td>\n",
       "      <td>0.242135</td>\n",
       "      <td>0.416459</td>\n",
       "    </tr>\n",
       "    <tr>\n",
       "      <th>max</th>\n",
       "      <td>1.000000</td>\n",
       "      <td>0.774362</td>\n",
       "      <td>0.788086</td>\n",
       "    </tr>\n",
       "  </tbody>\n",
       "</table>\n",
       "</div>"
      ],
      "text/plain": [
       "       popular_ndcg5  random_ndcg5  matrixfac_ndcg5\n",
       "count     446.000000    446.000000       446.000000\n",
       "mean        0.746192      0.144339         0.237530\n",
       "std         0.193320      0.169303         0.215026\n",
       "min         0.000000      0.000000         0.000000\n",
       "25%         0.665696      0.000000         0.000000\n",
       "50%         0.783680      0.106676         0.208610\n",
       "75%         0.885767      0.242135         0.416459\n",
       "max         1.000000      0.774362         0.788086"
      ]
     },
     "execution_count": 24,
     "metadata": {},
     "output_type": "execute_result"
    }
   ],
   "source": [
    "performance = []\n",
    "all_items = ratings['item_id'].unique()\n",
    "NEG_SAMPLES = 100\n",
    "AT = 5\n",
    "\n",
    "# training models\n",
    "pop = POP(df_trainval)\n",
    "rnd = RND(df_trainval)\n",
    "matrixfac = MatrixFac(df_trainval, num_epochs=25, k=5 ,lr=5e-3)\n",
    "\n",
    "# evaluating models\n",
    "for user in test['user_id'].unique():\n",
    "    pos_items = ratings[ratings['user_id'] == user]['item_id'].unique()\n",
    "    neg_samples = np.random.choice(all_items[~np.isin(all_items, pos_items)], NEG_SAMPLES, replace=False) #UPDATE\n",
    "    \n",
    "    user_test_samples = test[test['user_id'] == user][['item_id', 'rating']]\n",
    "    user_neg_samples = pd.DataFrame(\n",
    "        [(smp, 0.0) for smp in neg_samples],\n",
    "        columns=['item_id', 'rating']\n",
    "    )\n",
    "    items = pd.concat([user_test_samples, user_neg_samples])\n",
    "\n",
    "    pop_scores = pop.getScores(items, user)\n",
    "    rand_scores = rnd.getScores(items, user)\n",
    "    matrixfac_scores = matrixfac.getScores(items, user)\n",
    "\n",
    "    performance.append((user, ncdg(pop_scores, AT), ncdg(rand_scores, AT), ncdg(matrixfac_scores, AT)))\n",
    "\n",
    "performance = pd.DataFrame(performance, columns=['user_id', 'popular_ndcg5', 'random_ndcg5', 'matrixfac_ndcg5'])\n",
    "performance[['popular_ndcg5', 'random_ndcg5', 'matrixfac_ndcg5']].describe()"
   ]
  },
  {
   "cell_type": "code",
   "execution_count": 25,
   "metadata": {
    "pycharm": {
     "name": "#%%\n"
    }
   },
   "outputs": [
    {
     "name": "stdout",
     "output_type": "stream",
     "text": [
      "Popular            : \tNDCG@5= 0.7461922119063459\n",
      "Random             : \tNDCG@5= 0.1443388932438466\n",
      "MatrixFactorization: \tNDCG@5= 0.23752988242591436\n"
     ]
    }
   ],
   "source": [
    "print(\"Popular            : \\tNDCG@5=\", performance['popular_ndcg5'].mean())\n",
    "print(\"Random             : \\tNDCG@5=\", performance['random_ndcg5'].mean())\n",
    "print(\"MatrixFactorization: \\tNDCG@5=\", performance['matrixfac_ndcg5'].mean())"
   ]
  }
 ],
 "metadata": {
  "kernelspec": {
   "display_name": "seminar-recommender-systems-r0mKAWuO-py3.9",
   "language": "python",
   "name": "python3"
  },
  "language_info": {
   "codemirror_mode": {
    "name": "ipython",
    "version": 3
   },
   "file_extension": ".py",
   "mimetype": "text/x-python",
   "name": "python",
   "nbconvert_exporter": "python",
   "pygments_lexer": "ipython3",
   "version": "3.9.18"
  }
 },
 "nbformat": 4,
 "nbformat_minor": 2
}
